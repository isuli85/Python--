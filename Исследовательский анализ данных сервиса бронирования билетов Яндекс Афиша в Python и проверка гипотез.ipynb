{
 "cells": [
  {
   "cell_type": "markdown",
   "metadata": {
    "id": "LMuaGIE3lGcr"
   },
   "source": [
    "# Часть 2: Исследовательский анализ данных сервиса бронирования билетов Яндекс Афиша в Python и проверка гипотез."
   ]
  },
  {
   "cell_type": "markdown",
   "metadata": {},
   "source": [
    "Дата: 30.05.2025\n",
    "\n",
    "Автор: Ахметдинова Айсылу"
   ]
  },
  {
   "cell_type": "markdown",
   "metadata": {},
   "source": [
    "### Цель проекта\n",
    "Цель проекта - провести исследовательский анализ данных сервиса бронирования билетов Яндекс Афиша за период с 1.06.2024 по 31.10.224г, чтобы выяснить причины изменений в пользовательском спросе, определить ключевые факторы, влияющие на популярность мероприятий и проанализировать активность пользователей с разных типов устройств. Также проанализировать сезонные изменения, определить особенности поведения пользователей в зависимости от типа мероприятия, устройств, возрастного ограничения. "
   ]
  },
  {
   "cell_type": "markdown",
   "metadata": {},
   "source": [
    "### Задачи проекта\n",
    "\n",
    "1. Загрузка данных и знакомство с ними\n",
    "2. Предобработка данных и подготовка их к исследованию\n",
    "3. Исследовательский анализ данных\n",
    "4. Статистический анализ данных\n",
    "5. Общий вывод и рекомендации"
   ]
  },
  {
   "cell_type": "markdown",
   "metadata": {},
   "source": [
    "### Описание данных\n",
    "\n",
    "Первый датасет **final_tickets_orders_df.csv** включает информацию обо всех заказах билетов, совершённых с двух типов устройств — мобильных и стационарных\n",
    "\n",
    "- **order_id** — уникальный идентификатор заказа.\n",
    "- **user_id** — уникальный идентификатор пользователя.\n",
    "- **created_dt_msk** — дата создания заказа (московское время).\n",
    "- **created_ts_msk** — дата и время создания заказа (московское время).\n",
    "- **event_id** — идентификатор мероприятия из таблицы events.\n",
    "- **cinema_circuit** — сеть кинотеатров. Если не применимо, то здесь будет значение 'нет'.\n",
    "- **age_limit** — возрастное ограничение мероприятия.\n",
    "- **currency_code** — валюта оплаты, например rub для российских рублей.\n",
    "- **device_type_canonical** — тип устройства, с которого был оформлен заказ, например mobile для мобильных устройств, desktop для стационарных.\n",
    "- **revenue** — выручка от заказа.\n",
    "- **service_name** — название билетного оператора.\n",
    "- **tickets_count** — количество купленных билетов.\n",
    "- **total** — общая сумма заказа\n",
    "- **days_since_prev** - количество дней с предыдущей покупки для каждого пользователя. Если покупки не было, то данные содержат пропуск.\n",
    "\n",
    "Второй датасет **final_tickets_events_df.csv** содержит информацию о событиях, включая город и регион события, а также информацию о площадке проведения мероприятия.\n",
    "\n",
    "- **event_id** — уникальный идентификатор мероприятия.\n",
    "- **event_name** — название мероприятия. Аналог поля event_name_code из исходной базы данных.\n",
    "- **event_type_description** — описание типа мероприятия.\n",
    "- **event_type_main** — основной тип мероприятия: театральная постановка, концерт и так далее.\n",
    "- **organizers** — организаторы мероприятия.\n",
    "- **region_name** — название региона.\n",
    "- **city_name** — название города.\n",
    "- **venue_id** — уникальный идентификатор площадки.\n",
    "- **venue_name** — название площадки.\n",
    "- **venue_address** — адрес площадки.\n",
    "\n",
    "Третий датасет **final_tickets_tenge_df.csv** с информацией о курсе тенге к российскому рублю за 2024 год. Значения в рублях представлено для 100 тенге.\n",
    "\n",
    "- **nominal** — номинал (100 тенге).\n",
    "- **data** — дата.\n",
    "- **curs** — курс тенге к рублю.\n",
    "- **cdx** — обозначение валюты (kzt)."
   ]
  },
  {
   "cell_type": "markdown",
   "metadata": {},
   "source": [
    "## 1. Загрузка данных и знакомство с ними\n",
    "Загрузим данные и получим первую информацию о них. Оценим объём данных, их корректность и соответствие описанию."
   ]
  },
  {
   "cell_type": "code",
   "execution_count": 1,
   "metadata": {},
   "outputs": [],
   "source": [
    "# Импортируем библиотеки\n",
    "import warnings\n",
    "warnings.filterwarnings('ignore')\n",
    "import pandas as pd\n",
    "import numpy as np\n",
    "import matplotlib.pyplot as plt\n",
    "from scipy.stats import mannwhitneyu\n",
    "import seaborn as sns\n"
   ]
  },
  {
   "cell_type": "code",
   "execution_count": 2,
   "metadata": {},
   "outputs": [
    {
     "data": {
      "text/html": [
       "<div>\n",
       "<style scoped>\n",
       "    .dataframe tbody tr th:only-of-type {\n",
       "        vertical-align: middle;\n",
       "    }\n",
       "\n",
       "    .dataframe tbody tr th {\n",
       "        vertical-align: top;\n",
       "    }\n",
       "\n",
       "    .dataframe thead th {\n",
       "        text-align: right;\n",
       "    }\n",
       "</style>\n",
       "<table border=\"1\" class=\"dataframe\">\n",
       "  <thead>\n",
       "    <tr style=\"text-align: right;\">\n",
       "      <th></th>\n",
       "      <th>order_id</th>\n",
       "      <th>user_id</th>\n",
       "      <th>created_dt_msk</th>\n",
       "      <th>created_ts_msk</th>\n",
       "      <th>event_id</th>\n",
       "      <th>cinema_circuit</th>\n",
       "      <th>age_limit</th>\n",
       "      <th>currency_code</th>\n",
       "      <th>device_type_canonical</th>\n",
       "      <th>revenue</th>\n",
       "      <th>service_name</th>\n",
       "      <th>tickets_count</th>\n",
       "      <th>total</th>\n",
       "      <th>days_since_prev</th>\n",
       "    </tr>\n",
       "  </thead>\n",
       "  <tbody>\n",
       "    <tr>\n",
       "      <th>0</th>\n",
       "      <td>4359165</td>\n",
       "      <td>0002849b70a3ce2</td>\n",
       "      <td>2024-08-20</td>\n",
       "      <td>2024-08-20 16:08:03</td>\n",
       "      <td>169230</td>\n",
       "      <td>нет</td>\n",
       "      <td>16</td>\n",
       "      <td>rub</td>\n",
       "      <td>mobile</td>\n",
       "      <td>1521.94</td>\n",
       "      <td>Край билетов</td>\n",
       "      <td>4</td>\n",
       "      <td>10870.99</td>\n",
       "      <td>NaN</td>\n",
       "    </tr>\n",
       "    <tr>\n",
       "      <th>1</th>\n",
       "      <td>7965605</td>\n",
       "      <td>0005ca5e93f2cf4</td>\n",
       "      <td>2024-07-23</td>\n",
       "      <td>2024-07-23 18:36:24</td>\n",
       "      <td>237325</td>\n",
       "      <td>нет</td>\n",
       "      <td>0</td>\n",
       "      <td>rub</td>\n",
       "      <td>mobile</td>\n",
       "      <td>289.45</td>\n",
       "      <td>Мой билет</td>\n",
       "      <td>2</td>\n",
       "      <td>2067.51</td>\n",
       "      <td>NaN</td>\n",
       "    </tr>\n",
       "    <tr>\n",
       "      <th>2</th>\n",
       "      <td>7292370</td>\n",
       "      <td>0005ca5e93f2cf4</td>\n",
       "      <td>2024-10-06</td>\n",
       "      <td>2024-10-06 13:56:02</td>\n",
       "      <td>578454</td>\n",
       "      <td>нет</td>\n",
       "      <td>0</td>\n",
       "      <td>rub</td>\n",
       "      <td>mobile</td>\n",
       "      <td>1258.57</td>\n",
       "      <td>За билетом!</td>\n",
       "      <td>4</td>\n",
       "      <td>13984.16</td>\n",
       "      <td>75.0</td>\n",
       "    </tr>\n",
       "    <tr>\n",
       "      <th>3</th>\n",
       "      <td>1139875</td>\n",
       "      <td>000898990054619</td>\n",
       "      <td>2024-07-13</td>\n",
       "      <td>2024-07-13 19:40:48</td>\n",
       "      <td>387271</td>\n",
       "      <td>нет</td>\n",
       "      <td>0</td>\n",
       "      <td>rub</td>\n",
       "      <td>mobile</td>\n",
       "      <td>8.49</td>\n",
       "      <td>Лови билет!</td>\n",
       "      <td>2</td>\n",
       "      <td>212.28</td>\n",
       "      <td>NaN</td>\n",
       "    </tr>\n",
       "    <tr>\n",
       "      <th>4</th>\n",
       "      <td>972400</td>\n",
       "      <td>000898990054619</td>\n",
       "      <td>2024-10-04</td>\n",
       "      <td>2024-10-04 22:33:15</td>\n",
       "      <td>509453</td>\n",
       "      <td>нет</td>\n",
       "      <td>18</td>\n",
       "      <td>rub</td>\n",
       "      <td>mobile</td>\n",
       "      <td>1390.41</td>\n",
       "      <td>Билеты без проблем</td>\n",
       "      <td>3</td>\n",
       "      <td>10695.43</td>\n",
       "      <td>83.0</td>\n",
       "    </tr>\n",
       "  </tbody>\n",
       "</table>\n",
       "</div>"
      ],
      "text/plain": [
       "   order_id          user_id created_dt_msk       created_ts_msk  event_id  \\\n",
       "0   4359165  0002849b70a3ce2     2024-08-20  2024-08-20 16:08:03    169230   \n",
       "1   7965605  0005ca5e93f2cf4     2024-07-23  2024-07-23 18:36:24    237325   \n",
       "2   7292370  0005ca5e93f2cf4     2024-10-06  2024-10-06 13:56:02    578454   \n",
       "3   1139875  000898990054619     2024-07-13  2024-07-13 19:40:48    387271   \n",
       "4    972400  000898990054619     2024-10-04  2024-10-04 22:33:15    509453   \n",
       "\n",
       "  cinema_circuit  age_limit currency_code device_type_canonical  revenue  \\\n",
       "0            нет         16           rub                mobile  1521.94   \n",
       "1            нет          0           rub                mobile   289.45   \n",
       "2            нет          0           rub                mobile  1258.57   \n",
       "3            нет          0           rub                mobile     8.49   \n",
       "4            нет         18           rub                mobile  1390.41   \n",
       "\n",
       "         service_name  tickets_count     total  days_since_prev  \n",
       "0        Край билетов              4  10870.99              NaN  \n",
       "1           Мой билет              2   2067.51              NaN  \n",
       "2         За билетом!              4  13984.16             75.0  \n",
       "3         Лови билет!              2    212.28              NaN  \n",
       "4  Билеты без проблем              3  10695.43             83.0  "
      ]
     },
     "metadata": {},
     "output_type": "display_data"
    },
    {
     "data": {
      "text/html": [
       "<div>\n",
       "<style scoped>\n",
       "    .dataframe tbody tr th:only-of-type {\n",
       "        vertical-align: middle;\n",
       "    }\n",
       "\n",
       "    .dataframe tbody tr th {\n",
       "        vertical-align: top;\n",
       "    }\n",
       "\n",
       "    .dataframe thead th {\n",
       "        text-align: right;\n",
       "    }\n",
       "</style>\n",
       "<table border=\"1\" class=\"dataframe\">\n",
       "  <thead>\n",
       "    <tr style=\"text-align: right;\">\n",
       "      <th></th>\n",
       "      <th>event_id</th>\n",
       "      <th>event_name</th>\n",
       "      <th>event_type_description</th>\n",
       "      <th>event_type_main</th>\n",
       "      <th>organizers</th>\n",
       "      <th>region_name</th>\n",
       "      <th>city_name</th>\n",
       "      <th>city_id</th>\n",
       "      <th>venue_id</th>\n",
       "      <th>venue_name</th>\n",
       "      <th>venue_address</th>\n",
       "    </tr>\n",
       "  </thead>\n",
       "  <tbody>\n",
       "    <tr>\n",
       "      <th>0</th>\n",
       "      <td>4436</td>\n",
       "      <td>e4f26fba-da77-4c61-928a-6c3e434d793f</td>\n",
       "      <td>спектакль</td>\n",
       "      <td>театр</td>\n",
       "      <td>№4893</td>\n",
       "      <td>Североярская область</td>\n",
       "      <td>Озёрск</td>\n",
       "      <td>2</td>\n",
       "      <td>1600</td>\n",
       "      <td>Кладбище искусств \"Проблема\" и партнеры</td>\n",
       "      <td>наб. Загородная, д. 785</td>\n",
       "    </tr>\n",
       "    <tr>\n",
       "      <th>1</th>\n",
       "      <td>5785</td>\n",
       "      <td>5cc08a60-fdea-4186-9bb2-bffc3603fb77</td>\n",
       "      <td>спектакль</td>\n",
       "      <td>театр</td>\n",
       "      <td>№1931</td>\n",
       "      <td>Светополянский округ</td>\n",
       "      <td>Глиноград</td>\n",
       "      <td>54</td>\n",
       "      <td>2196</td>\n",
       "      <td>Лекции по искусству \"Свет\" Групп</td>\n",
       "      <td>ул. Ягодная, д. 942</td>\n",
       "    </tr>\n",
       "    <tr>\n",
       "      <th>2</th>\n",
       "      <td>8817</td>\n",
       "      <td>8e379a89-3a10-4811-ba06-ec22ebebe989</td>\n",
       "      <td>спектакль</td>\n",
       "      <td>театр</td>\n",
       "      <td>№4896</td>\n",
       "      <td>Североярская область</td>\n",
       "      <td>Озёрск</td>\n",
       "      <td>2</td>\n",
       "      <td>4043</td>\n",
       "      <td>Кинокомитет \"Золотая\" Инк</td>\n",
       "      <td>ш. Коммуны, д. 92 стр. 6</td>\n",
       "    </tr>\n",
       "    <tr>\n",
       "      <th>3</th>\n",
       "      <td>8849</td>\n",
       "      <td>682e3129-6a32-4952-9d8a-ef7f60d4c247</td>\n",
       "      <td>спектакль</td>\n",
       "      <td>театр</td>\n",
       "      <td>№4960</td>\n",
       "      <td>Каменевский регион</td>\n",
       "      <td>Глиногорск</td>\n",
       "      <td>213</td>\n",
       "      <td>1987</td>\n",
       "      <td>Выставка ремесел \"Свет\" Лтд</td>\n",
       "      <td>пер. Набережный, д. 35</td>\n",
       "    </tr>\n",
       "    <tr>\n",
       "      <th>4</th>\n",
       "      <td>8850</td>\n",
       "      <td>d6e99176-c77f-4af0-9222-07c571f6c624</td>\n",
       "      <td>спектакль</td>\n",
       "      <td>театр</td>\n",
       "      <td>№4770</td>\n",
       "      <td>Лесодальний край</td>\n",
       "      <td>Родниковец</td>\n",
       "      <td>55</td>\n",
       "      <td>4230</td>\n",
       "      <td>Фестивальный проект \"Листья\" Групп</td>\n",
       "      <td>пер. Проезжий, д. 9</td>\n",
       "    </tr>\n",
       "  </tbody>\n",
       "</table>\n",
       "</div>"
      ],
      "text/plain": [
       "   event_id                            event_name event_type_description  \\\n",
       "0      4436  e4f26fba-da77-4c61-928a-6c3e434d793f              спектакль   \n",
       "1      5785  5cc08a60-fdea-4186-9bb2-bffc3603fb77              спектакль   \n",
       "2      8817  8e379a89-3a10-4811-ba06-ec22ebebe989              спектакль   \n",
       "3      8849  682e3129-6a32-4952-9d8a-ef7f60d4c247              спектакль   \n",
       "4      8850  d6e99176-c77f-4af0-9222-07c571f6c624              спектакль   \n",
       "\n",
       "  event_type_main organizers           region_name   city_name  city_id  \\\n",
       "0           театр      №4893  Североярская область      Озёрск        2   \n",
       "1           театр      №1931  Светополянский округ   Глиноград       54   \n",
       "2           театр      №4896  Североярская область      Озёрск        2   \n",
       "3           театр      №4960    Каменевский регион  Глиногорск      213   \n",
       "4           театр      №4770      Лесодальний край  Родниковец       55   \n",
       "\n",
       "   venue_id                               venue_name             venue_address  \n",
       "0      1600  Кладбище искусств \"Проблема\" и партнеры   наб. Загородная, д. 785  \n",
       "1      2196         Лекции по искусству \"Свет\" Групп       ул. Ягодная, д. 942  \n",
       "2      4043                Кинокомитет \"Золотая\" Инк  ш. Коммуны, д. 92 стр. 6  \n",
       "3      1987              Выставка ремесел \"Свет\" Лтд    пер. Набережный, д. 35  \n",
       "4      4230       Фестивальный проект \"Листья\" Групп       пер. Проезжий, д. 9  "
      ]
     },
     "metadata": {},
     "output_type": "display_data"
    },
    {
     "data": {
      "text/html": [
       "<div>\n",
       "<style scoped>\n",
       "    .dataframe tbody tr th:only-of-type {\n",
       "        vertical-align: middle;\n",
       "    }\n",
       "\n",
       "    .dataframe tbody tr th {\n",
       "        vertical-align: top;\n",
       "    }\n",
       "\n",
       "    .dataframe thead th {\n",
       "        text-align: right;\n",
       "    }\n",
       "</style>\n",
       "<table border=\"1\" class=\"dataframe\">\n",
       "  <thead>\n",
       "    <tr style=\"text-align: right;\">\n",
       "      <th></th>\n",
       "      <th>data</th>\n",
       "      <th>nominal</th>\n",
       "      <th>curs</th>\n",
       "      <th>cdx</th>\n",
       "    </tr>\n",
       "  </thead>\n",
       "  <tbody>\n",
       "    <tr>\n",
       "      <th>0</th>\n",
       "      <td>2024-01-10</td>\n",
       "      <td>100</td>\n",
       "      <td>19.9391</td>\n",
       "      <td>kzt</td>\n",
       "    </tr>\n",
       "    <tr>\n",
       "      <th>1</th>\n",
       "      <td>2024-01-11</td>\n",
       "      <td>100</td>\n",
       "      <td>19.7255</td>\n",
       "      <td>kzt</td>\n",
       "    </tr>\n",
       "    <tr>\n",
       "      <th>2</th>\n",
       "      <td>2024-01-12</td>\n",
       "      <td>100</td>\n",
       "      <td>19.5839</td>\n",
       "      <td>kzt</td>\n",
       "    </tr>\n",
       "    <tr>\n",
       "      <th>3</th>\n",
       "      <td>2024-01-13</td>\n",
       "      <td>100</td>\n",
       "      <td>19.4501</td>\n",
       "      <td>kzt</td>\n",
       "    </tr>\n",
       "    <tr>\n",
       "      <th>4</th>\n",
       "      <td>2024-01-14</td>\n",
       "      <td>100</td>\n",
       "      <td>19.4501</td>\n",
       "      <td>kzt</td>\n",
       "    </tr>\n",
       "  </tbody>\n",
       "</table>\n",
       "</div>"
      ],
      "text/plain": [
       "         data  nominal     curs  cdx\n",
       "0  2024-01-10      100  19.9391  kzt\n",
       "1  2024-01-11      100  19.7255  kzt\n",
       "2  2024-01-12      100  19.5839  kzt\n",
       "3  2024-01-13      100  19.4501  kzt\n",
       "4  2024-01-14      100  19.4501  kzt"
      ]
     },
     "metadata": {},
     "output_type": "display_data"
    }
   ],
   "source": [
    "# Загрузим датасеты и посмотрим первые 5 строк\n",
    "orders_df = pd.read_csv('https://code.s3.yandex.net/datasets/final_tickets_orders_df.csv')\n",
    "events_df = pd.read_csv('https://code.s3.yandex.net/datasets/final_tickets_events_df.csv')\n",
    "tenge_df = pd.read_csv('https://code.s3.yandex.net/datasets/final_tickets_tenge_df.csv')\n",
    "display(orders_df.head())\n",
    "display(events_df.head())\n",
    "display(tenge_df.head())"
   ]
  },
  {
   "cell_type": "code",
   "execution_count": 3,
   "metadata": {},
   "outputs": [
    {
     "name": "stdout",
     "output_type": "stream",
     "text": [
      "<class 'pandas.core.frame.DataFrame'>\n",
      "RangeIndex: 290849 entries, 0 to 290848\n",
      "Data columns (total 14 columns):\n",
      " #   Column                 Non-Null Count   Dtype  \n",
      "---  ------                 --------------   -----  \n",
      " 0   order_id               290849 non-null  int64  \n",
      " 1   user_id                290849 non-null  object \n",
      " 2   created_dt_msk         290849 non-null  object \n",
      " 3   created_ts_msk         290849 non-null  object \n",
      " 4   event_id               290849 non-null  int64  \n",
      " 5   cinema_circuit         290849 non-null  object \n",
      " 6   age_limit              290849 non-null  int64  \n",
      " 7   currency_code          290849 non-null  object \n",
      " 8   device_type_canonical  290849 non-null  object \n",
      " 9   revenue                290849 non-null  float64\n",
      " 10  service_name           290849 non-null  object \n",
      " 11  tickets_count          290849 non-null  int64  \n",
      " 12  total                  290849 non-null  float64\n",
      " 13  days_since_prev        268909 non-null  float64\n",
      "dtypes: float64(3), int64(4), object(7)\n",
      "memory usage: 31.1+ MB\n"
     ]
    },
    {
     "data": {
      "text/plain": [
       "None"
      ]
     },
     "metadata": {},
     "output_type": "display_data"
    },
    {
     "name": "stdout",
     "output_type": "stream",
     "text": [
      "<class 'pandas.core.frame.DataFrame'>\n",
      "RangeIndex: 22427 entries, 0 to 22426\n",
      "Data columns (total 11 columns):\n",
      " #   Column                  Non-Null Count  Dtype \n",
      "---  ------                  --------------  ----- \n",
      " 0   event_id                22427 non-null  int64 \n",
      " 1   event_name              22427 non-null  object\n",
      " 2   event_type_description  22427 non-null  object\n",
      " 3   event_type_main         22427 non-null  object\n",
      " 4   organizers              22427 non-null  object\n",
      " 5   region_name             22427 non-null  object\n",
      " 6   city_name               22427 non-null  object\n",
      " 7   city_id                 22427 non-null  int64 \n",
      " 8   venue_id                22427 non-null  int64 \n",
      " 9   venue_name              22427 non-null  object\n",
      " 10  venue_address           22427 non-null  object\n",
      "dtypes: int64(3), object(8)\n",
      "memory usage: 1.9+ MB\n"
     ]
    },
    {
     "data": {
      "text/plain": [
       "None"
      ]
     },
     "metadata": {},
     "output_type": "display_data"
    },
    {
     "name": "stdout",
     "output_type": "stream",
     "text": [
      "<class 'pandas.core.frame.DataFrame'>\n",
      "RangeIndex: 357 entries, 0 to 356\n",
      "Data columns (total 4 columns):\n",
      " #   Column   Non-Null Count  Dtype  \n",
      "---  ------   --------------  -----  \n",
      " 0   data     357 non-null    object \n",
      " 1   nominal  357 non-null    int64  \n",
      " 2   curs     357 non-null    float64\n",
      " 3   cdx      357 non-null    object \n",
      "dtypes: float64(1), int64(1), object(2)\n",
      "memory usage: 11.3+ KB\n"
     ]
    },
    {
     "data": {
      "text/plain": [
       "None"
      ]
     },
     "metadata": {},
     "output_type": "display_data"
    }
   ],
   "source": [
    "# Выведем общую информацию о таблицах\n",
    "display(orders_df.info())\n",
    "display(events_df.info())\n",
    "display(tenge_df.info())"
   ]
  },
  {
   "cell_type": "markdown",
   "metadata": {},
   "source": [
    "В таблице с информацией о заказах orders_df представлены данные в 290849 строк и 14 столбцов. Названия столбцов в едином регистре, без лишних пробелов. Только в одном столбце days_since_prev есть пропуски и это нормально, они означают, что у этого покупателя не было покупок. В двух столбцах created_dt_msk и created_ts_msk не соответствут тип данных, нужно будет привести к типу даты.\n",
    "\n",
    "В таблице с информацией о событиях events_df представлены данные в 22427 строк и 11 столбцов. Названия столбцов в едином регистре, без лишних пробелов. Пропуски в данных отсутствуют, типы данных соответствуют описанию.\n",
    "\n",
    "В таблице с информацией о курсе тенге к рублю tenge_df представлены данные в 357 строк и 4 столбцов. Названия столбцов в едином регистре, без лишних пробелов. Пропуски в данных отсутствуют, тип данных в столбце с датой нужно будет перевести к временному."
   ]
  },
  {
   "cell_type": "markdown",
   "metadata": {},
   "source": [
    "## 2. Предобработка данных и подготовка их к исследованию\n"
   ]
  },
  {
   "cell_type": "code",
   "execution_count": 4,
   "metadata": {},
   "outputs": [],
   "source": [
    "# Приведем столбцы с датой и временем к соответствующему типу\n",
    "orders_df['created_dt_msk'] = pd.to_datetime(orders_df['created_dt_msk'])\n",
    "orders_df['created_ts_msk'] = pd.to_datetime(orders_df['created_ts_msk'])\n",
    "tenge_df ['data'] = pd.to_datetime(tenge_df['data'])"
   ]
  },
  {
   "cell_type": "code",
   "execution_count": 5,
   "metadata": {},
   "outputs": [
    {
     "data": {
      "text/html": [
       "<div>\n",
       "<style scoped>\n",
       "    .dataframe tbody tr th:only-of-type {\n",
       "        vertical-align: middle;\n",
       "    }\n",
       "\n",
       "    .dataframe tbody tr th {\n",
       "        vertical-align: top;\n",
       "    }\n",
       "\n",
       "    .dataframe thead th {\n",
       "        text-align: right;\n",
       "    }\n",
       "</style>\n",
       "<table border=\"1\" class=\"dataframe\">\n",
       "  <thead>\n",
       "    <tr style=\"text-align: right;\">\n",
       "      <th></th>\n",
       "      <th>order_id</th>\n",
       "      <th>user_id</th>\n",
       "      <th>created_dt_msk</th>\n",
       "      <th>created_ts_msk</th>\n",
       "      <th>event_id</th>\n",
       "      <th>cinema_circuit</th>\n",
       "      <th>age_limit</th>\n",
       "      <th>currency_code</th>\n",
       "      <th>device_type_canonical</th>\n",
       "      <th>revenue</th>\n",
       "      <th>...</th>\n",
       "      <th>event_name</th>\n",
       "      <th>event_type_description</th>\n",
       "      <th>event_type_main</th>\n",
       "      <th>organizers</th>\n",
       "      <th>region_name</th>\n",
       "      <th>city_name</th>\n",
       "      <th>city_id</th>\n",
       "      <th>venue_id</th>\n",
       "      <th>venue_name</th>\n",
       "      <th>venue_address</th>\n",
       "    </tr>\n",
       "  </thead>\n",
       "  <tbody>\n",
       "    <tr>\n",
       "      <th>0</th>\n",
       "      <td>4359165</td>\n",
       "      <td>0002849b70a3ce2</td>\n",
       "      <td>2024-08-20</td>\n",
       "      <td>2024-08-20 16:08:03</td>\n",
       "      <td>169230</td>\n",
       "      <td>нет</td>\n",
       "      <td>16</td>\n",
       "      <td>rub</td>\n",
       "      <td>mobile</td>\n",
       "      <td>1521.94</td>\n",
       "      <td>...</td>\n",
       "      <td>f0f7b271-04eb-4af6-bcb8-8f05cf46d6ad</td>\n",
       "      <td>спектакль</td>\n",
       "      <td>театр</td>\n",
       "      <td>№3322</td>\n",
       "      <td>Каменевский регион</td>\n",
       "      <td>Глиногорск</td>\n",
       "      <td>213</td>\n",
       "      <td>3972</td>\n",
       "      <td>Сценический центр \"Деталь\" Групп</td>\n",
       "      <td>алл. Машиностроителей, д. 19 стр. 6</td>\n",
       "    </tr>\n",
       "    <tr>\n",
       "      <th>1</th>\n",
       "      <td>7431164</td>\n",
       "      <td>024dc5236465850</td>\n",
       "      <td>2024-07-23</td>\n",
       "      <td>2024-07-23 20:52:02</td>\n",
       "      <td>169230</td>\n",
       "      <td>нет</td>\n",
       "      <td>16</td>\n",
       "      <td>rub</td>\n",
       "      <td>mobile</td>\n",
       "      <td>1902.42</td>\n",
       "      <td>...</td>\n",
       "      <td>f0f7b271-04eb-4af6-bcb8-8f05cf46d6ad</td>\n",
       "      <td>спектакль</td>\n",
       "      <td>театр</td>\n",
       "      <td>№3322</td>\n",
       "      <td>Каменевский регион</td>\n",
       "      <td>Глиногорск</td>\n",
       "      <td>213</td>\n",
       "      <td>3972</td>\n",
       "      <td>Сценический центр \"Деталь\" Групп</td>\n",
       "      <td>алл. Машиностроителей, д. 19 стр. 6</td>\n",
       "    </tr>\n",
       "    <tr>\n",
       "      <th>2</th>\n",
       "      <td>7431106</td>\n",
       "      <td>024dc5236465850</td>\n",
       "      <td>2024-07-23</td>\n",
       "      <td>2024-07-23 20:54:19</td>\n",
       "      <td>169230</td>\n",
       "      <td>нет</td>\n",
       "      <td>16</td>\n",
       "      <td>rub</td>\n",
       "      <td>mobile</td>\n",
       "      <td>1141.45</td>\n",
       "      <td>...</td>\n",
       "      <td>f0f7b271-04eb-4af6-bcb8-8f05cf46d6ad</td>\n",
       "      <td>спектакль</td>\n",
       "      <td>театр</td>\n",
       "      <td>№3322</td>\n",
       "      <td>Каменевский регион</td>\n",
       "      <td>Глиногорск</td>\n",
       "      <td>213</td>\n",
       "      <td>3972</td>\n",
       "      <td>Сценический центр \"Деталь\" Групп</td>\n",
       "      <td>алл. Машиностроителей, д. 19 стр. 6</td>\n",
       "    </tr>\n",
       "    <tr>\n",
       "      <th>3</th>\n",
       "      <td>7431135</td>\n",
       "      <td>024dc5236465850</td>\n",
       "      <td>2024-07-23</td>\n",
       "      <td>2024-07-23 20:59:44</td>\n",
       "      <td>169230</td>\n",
       "      <td>нет</td>\n",
       "      <td>16</td>\n",
       "      <td>rub</td>\n",
       "      <td>mobile</td>\n",
       "      <td>1902.42</td>\n",
       "      <td>...</td>\n",
       "      <td>f0f7b271-04eb-4af6-bcb8-8f05cf46d6ad</td>\n",
       "      <td>спектакль</td>\n",
       "      <td>театр</td>\n",
       "      <td>№3322</td>\n",
       "      <td>Каменевский регион</td>\n",
       "      <td>Глиногорск</td>\n",
       "      <td>213</td>\n",
       "      <td>3972</td>\n",
       "      <td>Сценический центр \"Деталь\" Групп</td>\n",
       "      <td>алл. Машиностроителей, д. 19 стр. 6</td>\n",
       "    </tr>\n",
       "    <tr>\n",
       "      <th>4</th>\n",
       "      <td>7431048</td>\n",
       "      <td>024dc5236465850</td>\n",
       "      <td>2024-07-23</td>\n",
       "      <td>2024-07-23 21:02:08</td>\n",
       "      <td>169230</td>\n",
       "      <td>нет</td>\n",
       "      <td>16</td>\n",
       "      <td>rub</td>\n",
       "      <td>mobile</td>\n",
       "      <td>1521.94</td>\n",
       "      <td>...</td>\n",
       "      <td>f0f7b271-04eb-4af6-bcb8-8f05cf46d6ad</td>\n",
       "      <td>спектакль</td>\n",
       "      <td>театр</td>\n",
       "      <td>№3322</td>\n",
       "      <td>Каменевский регион</td>\n",
       "      <td>Глиногорск</td>\n",
       "      <td>213</td>\n",
       "      <td>3972</td>\n",
       "      <td>Сценический центр \"Деталь\" Групп</td>\n",
       "      <td>алл. Машиностроителей, д. 19 стр. 6</td>\n",
       "    </tr>\n",
       "  </tbody>\n",
       "</table>\n",
       "<p>5 rows × 24 columns</p>\n",
       "</div>"
      ],
      "text/plain": [
       "   order_id          user_id created_dt_msk      created_ts_msk  event_id  \\\n",
       "0   4359165  0002849b70a3ce2     2024-08-20 2024-08-20 16:08:03    169230   \n",
       "1   7431164  024dc5236465850     2024-07-23 2024-07-23 20:52:02    169230   \n",
       "2   7431106  024dc5236465850     2024-07-23 2024-07-23 20:54:19    169230   \n",
       "3   7431135  024dc5236465850     2024-07-23 2024-07-23 20:59:44    169230   \n",
       "4   7431048  024dc5236465850     2024-07-23 2024-07-23 21:02:08    169230   \n",
       "\n",
       "  cinema_circuit  age_limit currency_code device_type_canonical  revenue  ...  \\\n",
       "0            нет         16           rub                mobile  1521.94  ...   \n",
       "1            нет         16           rub                mobile  1902.42  ...   \n",
       "2            нет         16           rub                mobile  1141.45  ...   \n",
       "3            нет         16           rub                mobile  1902.42  ...   \n",
       "4            нет         16           rub                mobile  1521.94  ...   \n",
       "\n",
       "                             event_name  event_type_description  \\\n",
       "0  f0f7b271-04eb-4af6-bcb8-8f05cf46d6ad               спектакль   \n",
       "1  f0f7b271-04eb-4af6-bcb8-8f05cf46d6ad               спектакль   \n",
       "2  f0f7b271-04eb-4af6-bcb8-8f05cf46d6ad               спектакль   \n",
       "3  f0f7b271-04eb-4af6-bcb8-8f05cf46d6ad               спектакль   \n",
       "4  f0f7b271-04eb-4af6-bcb8-8f05cf46d6ad               спектакль   \n",
       "\n",
       "   event_type_main  organizers         region_name   city_name city_id  \\\n",
       "0            театр       №3322  Каменевский регион  Глиногорск     213   \n",
       "1            театр       №3322  Каменевский регион  Глиногорск     213   \n",
       "2            театр       №3322  Каменевский регион  Глиногорск     213   \n",
       "3            театр       №3322  Каменевский регион  Глиногорск     213   \n",
       "4            театр       №3322  Каменевский регион  Глиногорск     213   \n",
       "\n",
       "  venue_id                        venue_name  \\\n",
       "0     3972  Сценический центр \"Деталь\" Групп   \n",
       "1     3972  Сценический центр \"Деталь\" Групп   \n",
       "2     3972  Сценический центр \"Деталь\" Групп   \n",
       "3     3972  Сценический центр \"Деталь\" Групп   \n",
       "4     3972  Сценический центр \"Деталь\" Групп   \n",
       "\n",
       "                         venue_address  \n",
       "0  алл. Машиностроителей, д. 19 стр. 6  \n",
       "1  алл. Машиностроителей, д. 19 стр. 6  \n",
       "2  алл. Машиностроителей, д. 19 стр. 6  \n",
       "3  алл. Машиностроителей, д. 19 стр. 6  \n",
       "4  алл. Машиностроителей, д. 19 стр. 6  \n",
       "\n",
       "[5 rows x 24 columns]"
      ]
     },
     "execution_count": 5,
     "metadata": {},
     "output_type": "execute_result"
    }
   ],
   "source": [
    "# Объединим данные о заказах и событиях в один датафрейм\n",
    "df_merged = pd.merge(orders_df, events_df, on='event_id', how='inner')\n",
    "df_merged.head()"
   ]
  },
  {
   "cell_type": "code",
   "execution_count": 6,
   "metadata": {},
   "outputs": [
    {
     "data": {
      "text/plain": [
       "'Столбец: cinema_circuit'"
      ]
     },
     "metadata": {},
     "output_type": "display_data"
    },
    {
     "data": {
      "text/plain": [
       "нет           289213\n",
       "Другое          1261\n",
       "КиноСити         122\n",
       "Москино            7\n",
       "Киномакс           7\n",
       "ЦентрФильм         1\n",
       "Name: cinema_circuit, dtype: int64"
      ]
     },
     "metadata": {},
     "output_type": "display_data"
    },
    {
     "data": {
      "text/plain": [
       "'------------------------------------------------------------'"
      ]
     },
     "metadata": {},
     "output_type": "display_data"
    },
    {
     "data": {
      "text/plain": [
       "'Столбец: currency_code'"
      ]
     },
     "metadata": {},
     "output_type": "display_data"
    },
    {
     "data": {
      "text/plain": [
       "rub    285542\n",
       "kzt      5069\n",
       "Name: currency_code, dtype: int64"
      ]
     },
     "metadata": {},
     "output_type": "display_data"
    },
    {
     "data": {
      "text/plain": [
       "'------------------------------------------------------------'"
      ]
     },
     "metadata": {},
     "output_type": "display_data"
    },
    {
     "data": {
      "text/plain": [
       "'Столбец: device_type_canonical'"
      ]
     },
     "metadata": {},
     "output_type": "display_data"
    },
    {
     "data": {
      "text/plain": [
       "mobile     232490\n",
       "desktop     58121\n",
       "Name: device_type_canonical, dtype: int64"
      ]
     },
     "metadata": {},
     "output_type": "display_data"
    },
    {
     "data": {
      "text/plain": [
       "'------------------------------------------------------------'"
      ]
     },
     "metadata": {},
     "output_type": "display_data"
    },
    {
     "data": {
      "text/plain": [
       "'Столбец: service_name'"
      ]
     },
     "metadata": {},
     "output_type": "display_data"
    },
    {
     "data": {
      "text/plain": [
       "Билеты без проблем        63519\n",
       "Лови билет!               41124\n",
       "Билеты в руки             40343\n",
       "Мой билет                 34839\n",
       "Облачко                   26642\n",
       "Лучшие билеты             17774\n",
       "Весь в билетах            16849\n",
       "Прачечная                 10273\n",
       "Край билетов               6207\n",
       "Тебе билет!                5228\n",
       "Яблоко                     5039\n",
       "Дом культуры               4502\n",
       "За билетом!                2865\n",
       "Городской дом культуры     2733\n",
       "Show_ticket                2200\n",
       "Мир касс                   2167\n",
       "Быстробилет                2003\n",
       "Выступления.ру             1616\n",
       "Восьмёрка                  1118\n",
       "Crazy ticket!               790\n",
       "Росбилет                    539\n",
       "Шоу начинается!             499\n",
       "Быстрый кассир              381\n",
       "Радио ticket                376\n",
       "Телебилет                   321\n",
       "КарандашРУ                  133\n",
       "Реестр                      125\n",
       "Билет по телефону            85\n",
       "Вперёд!                      80\n",
       "Дырокол                      74\n",
       "Кино билет                   67\n",
       "Цвет и билет                 61\n",
       "Тех билет                    22\n",
       "Лимоны                        8\n",
       "Зе Бест!                      5\n",
       "Билеты в интернете            4\n",
       "Name: service_name, dtype: int64"
      ]
     },
     "metadata": {},
     "output_type": "display_data"
    },
    {
     "data": {
      "text/plain": [
       "'------------------------------------------------------------'"
      ]
     },
     "metadata": {},
     "output_type": "display_data"
    },
    {
     "data": {
      "text/plain": [
       "'Столбец: event_type_description'"
      ]
     },
     "metadata": {},
     "output_type": "display_data"
    },
    {
     "data": {
      "text/plain": [
       "концерт                   112049\n",
       "событие                    58605\n",
       "спектакль                  50592\n",
       "шоу                        13626\n",
       "спорт                      12837\n",
       "мюзикл                      9919\n",
       "спортивное мероприятие      9074\n",
       "балет                       5998\n",
       "выставка                    5876\n",
       "цирковое шоу                5327\n",
       "фестиваль                   4273\n",
       "опера                       1314\n",
       "ёлка                         945\n",
       "музыкальный спектакль        140\n",
       "кукольный спектакль           13\n",
       "экскурсия                      8\n",
       "оперетта                       7\n",
       "подарок                        4\n",
       "снегурочка                     3\n",
       "рок-мюзикл                     1\n",
       "Name: event_type_description, dtype: int64"
      ]
     },
     "metadata": {},
     "output_type": "display_data"
    },
    {
     "data": {
      "text/plain": [
       "'------------------------------------------------------------'"
      ]
     },
     "metadata": {},
     "output_type": "display_data"
    },
    {
     "data": {
      "text/plain": [
       "'Столбец: event_type_main'"
      ]
     },
     "metadata": {},
     "output_type": "display_data"
    },
    {
     "data": {
      "text/plain": [
       "концерты    115276\n",
       "театр        67321\n",
       "другое       65867\n",
       "спорт        21911\n",
       "стендап      13393\n",
       "выставки      4854\n",
       "ёлки          1989\n",
       "Name: event_type_main, dtype: int64"
      ]
     },
     "metadata": {},
     "output_type": "display_data"
    },
    {
     "data": {
      "text/plain": [
       "'------------------------------------------------------------'"
      ]
     },
     "metadata": {},
     "output_type": "display_data"
    },
    {
     "data": {
      "text/plain": [
       "'Столбец: region_name'"
      ]
     },
     "metadata": {},
     "output_type": "display_data"
    },
    {
     "data": {
      "text/plain": [
       "Каменевский регион          91058\n",
       "Североярская область        44049\n",
       "Широковская область         16457\n",
       "Медовская область           13901\n",
       "Озернинский край            10476\n",
       "                            ...  \n",
       "Лесноярский край               19\n",
       "Крутоводский регион            18\n",
       "Верхозёрский край              11\n",
       "Сосноводолинская область       10\n",
       "Теплоозёрский округ             7\n",
       "Name: region_name, Length: 81, dtype: int64"
      ]
     },
     "metadata": {},
     "output_type": "display_data"
    },
    {
     "data": {
      "text/plain": [
       "'------------------------------------------------------------'"
      ]
     },
     "metadata": {},
     "output_type": "display_data"
    },
    {
     "data": {
      "text/plain": [
       "'Столбец: city_name'"
      ]
     },
     "metadata": {},
     "output_type": "display_data"
    },
    {
     "data": {
      "text/plain": [
       "Глиногорск       89446\n",
       "Озёрск           43910\n",
       "Радужсвет        13711\n",
       "Радужнополье      8741\n",
       "Верховино         6579\n",
       "                 ...  \n",
       "Верхозорье           1\n",
       "Поляноречинск        1\n",
       "Сосновогорск         1\n",
       "Берёзовка            1\n",
       "Полянск              1\n",
       "Name: city_name, Length: 352, dtype: int64"
      ]
     },
     "metadata": {},
     "output_type": "display_data"
    },
    {
     "data": {
      "text/plain": [
       "'------------------------------------------------------------'"
      ]
     },
     "metadata": {},
     "output_type": "display_data"
    },
    {
     "data": {
      "text/plain": [
       "'Столбец: venue_name'"
      ]
     },
     "metadata": {},
     "output_type": "display_data"
    },
    {
     "data": {
      "text/plain": [
       "Студия дизайна \"Платформа\" Инкорпорэйтед         9910\n",
       "Картинная галерея \"Светлячок\" Лтд                4406\n",
       "Креативное пространство \"Вдох\" Лимитед           4257\n",
       "Центр культурного наследия \"Заряд\" и партнеры    4099\n",
       "Студия дизайна \"Лестница\" Лимитед                4025\n",
       "                                                 ... \n",
       "Исторический центр \"Ремесло\" Инк                    1\n",
       "Дом культуры \"Образ\" Лимитед                        1\n",
       "Народный театр \"Ремесло\" Лимитед                    1\n",
       "Музей \"Магнит\" Групп                                1\n",
       "Театр для детей \"Эпоха\" и партнеры                  1\n",
       "Name: venue_name, Length: 3217, dtype: int64"
      ]
     },
     "metadata": {},
     "output_type": "display_data"
    },
    {
     "data": {
      "text/plain": [
       "'------------------------------------------------------------'"
      ]
     },
     "metadata": {},
     "output_type": "display_data"
    }
   ],
   "source": [
    "# Изучим категориальные данные\n",
    "categorical_cols = ['cinema_circuit', 'currency_code', 'device_type_canonical', \n",
    "                    'service_name', 'event_type_description', 'event_type_main',\n",
    "                    'region_name', 'city_name', 'venue_name']\n",
    "\n",
    "for col in categorical_cols:\n",
    "    display(f'Столбец: {col}')\n",
    "    display(df_merged[col].value_counts(dropna=False)) \n",
    "    display('-'*60)"
   ]
  },
  {
   "cell_type": "code",
   "execution_count": 7,
   "metadata": {},
   "outputs": [
    {
     "data": {
      "text/plain": [
       "\"В датафрейме встречаются строки из списка ['na', 'null', 'none', 'unknown']: False\""
      ]
     },
     "metadata": {},
     "output_type": "display_data"
    }
   ],
   "source": [
    "# Проверим датафрейм на пропуски и обозначения отсутствия данных\n",
    "# Список значений\n",
    "check_values = ['na', 'null', 'none', 'unknown']\n",
    "\n",
    "# Приведём все значения датафрейма к строковому типу и к нижнему регистру для корректного поиска\n",
    "df_merged_str = df_merged.astype(str).apply(lambda x: x.str.lower())\n",
    "\n",
    "# Создадим маску для каждого значения и суммируем по всем столбцам\n",
    "mask = pd.DataFrame(False, index=df_merged.index, columns=df_merged.columns)\n",
    "for val in check_values:\n",
    "    mask = mask | (df_merged_str == val)\n",
    "\n",
    "# Проверим, есть ли такие значения в датафрейме\n",
    "has_values = mask.any().any()\n",
    "\n",
    "display(f'В датафрейме встречаются строки из списка {check_values}: {has_values}')"
   ]
  },
  {
   "cell_type": "markdown",
   "metadata": {},
   "source": [
    "В категориальных данных нет никаких ненормальностей, названия категорий в едином стиле, без лишних пробелов. Пропуски и обозначения данных на отсутствие данных не обнаружили."
   ]
  },
  {
   "cell_type": "code",
   "execution_count": 8,
   "metadata": {},
   "outputs": [],
   "source": [
    "# Отделяем данные по валютам с созданием копий\n",
    "df_rub = df_merged[df_merged['currency_code'] == 'rub'].copy()\n",
    "df_kzt = df_merged[df_merged['currency_code'] == 'kzt'].copy()"
   ]
  },
  {
   "cell_type": "code",
   "execution_count": 9,
   "metadata": {},
   "outputs": [
    {
     "data": {
      "text/plain": [
       "'Статистика по рублям (rub):'"
      ]
     },
     "metadata": {},
     "output_type": "display_data"
    },
    {
     "data": {
      "text/html": [
       "<div>\n",
       "<style scoped>\n",
       "    .dataframe tbody tr th:only-of-type {\n",
       "        vertical-align: middle;\n",
       "    }\n",
       "\n",
       "    .dataframe tbody tr th {\n",
       "        vertical-align: top;\n",
       "    }\n",
       "\n",
       "    .dataframe thead th {\n",
       "        text-align: right;\n",
       "    }\n",
       "</style>\n",
       "<table border=\"1\" class=\"dataframe\">\n",
       "  <thead>\n",
       "    <tr style=\"text-align: right;\">\n",
       "      <th></th>\n",
       "      <th>revenue</th>\n",
       "      <th>tickets_count</th>\n",
       "    </tr>\n",
       "  </thead>\n",
       "  <tbody>\n",
       "    <tr>\n",
       "      <th>count</th>\n",
       "      <td>285542.000000</td>\n",
       "      <td>285542.000000</td>\n",
       "    </tr>\n",
       "    <tr>\n",
       "      <th>mean</th>\n",
       "      <td>548.013929</td>\n",
       "      <td>2.754159</td>\n",
       "    </tr>\n",
       "    <tr>\n",
       "      <th>std</th>\n",
       "      <td>871.750181</td>\n",
       "      <td>1.171575</td>\n",
       "    </tr>\n",
       "    <tr>\n",
       "      <th>min</th>\n",
       "      <td>-90.760000</td>\n",
       "      <td>1.000000</td>\n",
       "    </tr>\n",
       "    <tr>\n",
       "      <th>25%</th>\n",
       "      <td>114.170000</td>\n",
       "      <td>2.000000</td>\n",
       "    </tr>\n",
       "    <tr>\n",
       "      <th>50%</th>\n",
       "      <td>346.630000</td>\n",
       "      <td>3.000000</td>\n",
       "    </tr>\n",
       "    <tr>\n",
       "      <th>75%</th>\n",
       "      <td>793.320000</td>\n",
       "      <td>4.000000</td>\n",
       "    </tr>\n",
       "    <tr>\n",
       "      <th>max</th>\n",
       "      <td>81174.540000</td>\n",
       "      <td>57.000000</td>\n",
       "    </tr>\n",
       "  </tbody>\n",
       "</table>\n",
       "</div>"
      ],
      "text/plain": [
       "             revenue  tickets_count\n",
       "count  285542.000000  285542.000000\n",
       "mean      548.013929       2.754159\n",
       "std       871.750181       1.171575\n",
       "min       -90.760000       1.000000\n",
       "25%       114.170000       2.000000\n",
       "50%       346.630000       3.000000\n",
       "75%       793.320000       4.000000\n",
       "max     81174.540000      57.000000"
      ]
     },
     "metadata": {},
     "output_type": "display_data"
    },
    {
     "data": {
      "text/plain": [
       "'Статистика по тенге (kzt):'"
      ]
     },
     "metadata": {},
     "output_type": "display_data"
    },
    {
     "data": {
      "text/html": [
       "<div>\n",
       "<style scoped>\n",
       "    .dataframe tbody tr th:only-of-type {\n",
       "        vertical-align: middle;\n",
       "    }\n",
       "\n",
       "    .dataframe tbody tr th {\n",
       "        vertical-align: top;\n",
       "    }\n",
       "\n",
       "    .dataframe thead th {\n",
       "        text-align: right;\n",
       "    }\n",
       "</style>\n",
       "<table border=\"1\" class=\"dataframe\">\n",
       "  <thead>\n",
       "    <tr style=\"text-align: right;\">\n",
       "      <th></th>\n",
       "      <th>revenue</th>\n",
       "      <th>tickets_count</th>\n",
       "    </tr>\n",
       "  </thead>\n",
       "  <tbody>\n",
       "    <tr>\n",
       "      <th>count</th>\n",
       "      <td>5069.000000</td>\n",
       "      <td>5069.000000</td>\n",
       "    </tr>\n",
       "    <tr>\n",
       "      <th>mean</th>\n",
       "      <td>4995.206767</td>\n",
       "      <td>2.762872</td>\n",
       "    </tr>\n",
       "    <tr>\n",
       "      <th>std</th>\n",
       "      <td>4916.752776</td>\n",
       "      <td>1.115558</td>\n",
       "    </tr>\n",
       "    <tr>\n",
       "      <th>min</th>\n",
       "      <td>0.000000</td>\n",
       "      <td>1.000000</td>\n",
       "    </tr>\n",
       "    <tr>\n",
       "      <th>25%</th>\n",
       "      <td>518.100000</td>\n",
       "      <td>2.000000</td>\n",
       "    </tr>\n",
       "    <tr>\n",
       "      <th>50%</th>\n",
       "      <td>3698.830000</td>\n",
       "      <td>3.000000</td>\n",
       "    </tr>\n",
       "    <tr>\n",
       "      <th>75%</th>\n",
       "      <td>7397.660000</td>\n",
       "      <td>4.000000</td>\n",
       "    </tr>\n",
       "    <tr>\n",
       "      <th>max</th>\n",
       "      <td>26425.860000</td>\n",
       "      <td>6.000000</td>\n",
       "    </tr>\n",
       "  </tbody>\n",
       "</table>\n",
       "</div>"
      ],
      "text/plain": [
       "            revenue  tickets_count\n",
       "count   5069.000000    5069.000000\n",
       "mean    4995.206767       2.762872\n",
       "std     4916.752776       1.115558\n",
       "min        0.000000       1.000000\n",
       "25%      518.100000       2.000000\n",
       "50%     3698.830000       3.000000\n",
       "75%     7397.660000       4.000000\n",
       "max    26425.860000       6.000000"
      ]
     },
     "metadata": {},
     "output_type": "display_data"
    }
   ],
   "source": [
    "display(\"Статистика по рублям (rub):\")\n",
    "display(df_rub[['revenue', 'tickets_count']].describe())\n",
    "\n",
    "display(\"Статистика по тенге (kzt):\")\n",
    "display(df_kzt[['revenue', 'tickets_count']].describe())"
   ]
  },
  {
   "cell_type": "markdown",
   "metadata": {},
   "source": [
    "Что мы видим: \n",
    "- Средняя выручка — около 548 рублей, но стандартное отклонение очень большое (871.75), что говорит о высокой вариативности и вероятных выбросах.  \n",
    "- Среднее количество билетов — около 2.75, стандартное отклонение 1.17 — относительно небольшая вариативность.\n",
    "- Минимальная выручка: -90.76 рублей — отрицательное значение выручки. Возможно, ошибка в данных или возврат/отмена заказа.  \n",
    "- Минимальное количество билетов: минимум — 1, что логично, ведь минимум билетов — это хотя бы один билет. \n",
    "- 75% заказов имеют выручку до 793.32 руб. Это говорит о скошенном распределении в сторону больших значений \n",
    "- Максимальная ыручка: 81 174.54 руб. — очень большое значение, скорее всего выброс.  \n",
    "- Максимальное количество билетов: 57 — тоже достаточно большое количество билетов в одном заказе, но может быть реалистично для групповых заказов."
   ]
  },
  {
   "cell_type": "markdown",
   "metadata": {},
   "source": [
    "Для наглядности построим графики."
   ]
  },
  {
   "cell_type": "code",
   "execution_count": 10,
   "metadata": {},
   "outputs": [
    {
     "data": {
      "image/png": "[encoded data removed]",
      "text/plain": [
       "<Figure size 864x360 with 2 Axes>"
      ]
     },
     "metadata": {
      "needs_background": "light"
     },
     "output_type": "display_data"
    },
    {
     "data": {
      "image/png": "[encoded data removed]",
      "text/plain": [
       "<Figure size 864x360 with 2 Axes>"
      ]
     },
     "metadata": {
      "needs_background": "light"
     },
     "output_type": "display_data"
    },
    {
     "data": {
      "image/png": "[encoded data removed]",
      "text/plain": [
       "<Figure size 864x360 with 2 Axes>"
      ]
     },
     "metadata": {
      "needs_background": "light"
     },
     "output_type": "display_data"
    },
    {
     "data": {
      "image/png": "[encoded data removed]",
      "text/plain": [
       "<Figure size 864x360 with 2 Axes>"
      ]
     },
     "metadata": {
      "needs_background": "light"
     },
     "output_type": "display_data"
    }
   ],
   "source": [
    "# Функция для построения графиков\n",
    "def plot_distribution(data, column, currency):\n",
    "    plt.figure(figsize=(12,5))\n",
    "\n",
    "    plt.subplot(1, 2, 1)\n",
    "    sns.histplot(data[column], bins=50, kde=True)\n",
    "    plt.title(f'Гистограмма {column} ({currency})')\n",
    "\n",
    "    plt.subplot(1, 2, 2)\n",
    "    sns.boxplot(x=data[column])\n",
    "    plt.title(f'Диаграмма размаха {column} ({currency})')\n",
    "\n",
    "    plt.show()\n",
    "\n",
    "# Для rub\n",
    "plot_distribution(df_rub, 'revenue', 'rub')\n",
    "plot_distribution(df_rub, 'tickets_count', 'rub')\n",
    "\n",
    "# Для kzt\n",
    "plot_distribution(df_kzt, 'revenue', 'kzt')\n",
    "plot_distribution(df_kzt, 'tickets_count', 'kzt')"
   ]
  },
  {
   "cell_type": "markdown",
   "metadata": {},
   "source": [
    "По графикам убедились, что присутствуют выбросы во всех валютах. По количеству билетов ситуация не критичная. Далее отберем значения по 99-му процентилю."
   ]
  },
  {
   "cell_type": "code",
   "execution_count": 11,
   "metadata": {},
   "outputs": [
    {
     "data": {
      "text/plain": [
       "'99-й процентиль revenue в rub: 2570.8'"
      ]
     },
     "metadata": {},
     "output_type": "display_data"
    },
    {
     "data": {
      "text/plain": [
       "'99-й процентиль revenue в kzt: 17617.24'"
      ]
     },
     "metadata": {},
     "output_type": "display_data"
    },
    {
     "data": {
      "image/png": "[encoded data removed]",
      "text/plain": [
       "<Figure size 864x360 with 2 Axes>"
      ]
     },
     "metadata": {
      "needs_background": "light"
     },
     "output_type": "display_data"
    },
    {
     "data": {
      "image/png": "[encoded data removed]",
      "text/plain": [
       "<Figure size 864x360 with 2 Axes>"
      ]
     },
     "metadata": {
      "needs_background": "light"
     },
     "output_type": "display_data"
    }
   ],
   "source": [
    "# Находим 99-й процентиль для рубля и тенге\n",
    "revenue_99_rub = df_rub['revenue'].quantile(0.99)\n",
    "revenue_99_kzt = df_kzt['revenue'].quantile(0.99)\n",
    "\n",
    "display(f'99-й процентиль revenue в rub: {revenue_99_rub}')\n",
    "display(f'99-й процентиль revenue в kzt: {revenue_99_kzt}')\n",
    "\n",
    "# Фильтруем данные по этому порогу\n",
    "df_rub_filtered = df_rub[df_rub['revenue'] <= revenue_99_rub]\n",
    "df_kzt_filtered = df_kzt[df_kzt['revenue'] <= revenue_99_kzt]\n",
    "\n",
    "# Проверяем после фильтрации\n",
    "plot_distribution(df_rub_filtered, 'revenue', 'rub (filtered)')\n",
    "plot_distribution(df_kzt_filtered, 'revenue', 'kzt (filtered)')\n"
   ]
  },
  {
   "cell_type": "markdown",
   "metadata": {},
   "source": [
    "После фильтрации по 99-му процентилю важно оценить, сколько данных мы потеряли, чтобы понять, насколько сильно срезали хвост распределения и как это может повлиять на дальнейший анализ."
   ]
  },
  {
   "cell_type": "code",
   "execution_count": 12,
   "metadata": {},
   "outputs": [
    {
     "data": {
      "text/plain": [
       "'Рубль: всего строк 285542, после фильтрации 282742, потеряно 2800 (0.98%)'"
      ]
     },
     "metadata": {},
     "output_type": "display_data"
    },
    {
     "data": {
      "text/plain": [
       "'Тенге: всего строк 5069, после фильтрации 5040, потеряно 29 (0.57%)'"
      ]
     },
     "metadata": {},
     "output_type": "display_data"
    }
   ],
   "source": [
    "# Оценим потери\n",
    "# Для рублёвых данных\n",
    "total_rub = len(df_rub)\n",
    "filtered_rub = len(df_rub_filtered)\n",
    "lost_rub = total_rub - filtered_rub\n",
    "lost_rub_ratio = lost_rub / total_rub * 100\n",
    "\n",
    "display(f'Рубль: всего строк {total_rub}, после фильтрации {filtered_rub}, потеряно {lost_rub} ({lost_rub_ratio:.2f}%)')\n",
    "\n",
    "# Для тенге\n",
    "total_kzt = len(df_kzt)\n",
    "filtered_kzt = len(df_kzt_filtered)\n",
    "lost_kzt = total_kzt - filtered_kzt\n",
    "lost_kzt_ratio = lost_kzt / total_kzt * 100\n",
    "\n",
    "display(f'Тенге: всего строк {total_kzt}, после фильтрации {filtered_kzt}, потеряно {lost_kzt} ({lost_kzt_ratio:.2f}%)')\n"
   ]
  },
  {
   "cell_type": "markdown",
   "metadata": {},
   "source": [
    "Для обеих валют мы потеряли менее 1% данных, это некритично и не повлияет на дальнейший анализ.\n",
    "Проверим данные на наличие явных и неявных дубликатов."
   ]
  },
  {
   "cell_type": "code",
   "execution_count": 13,
   "metadata": {},
   "outputs": [
    {
     "data": {
      "text/plain": [
       "'Общее количество строк: 287782'"
      ]
     },
     "metadata": {},
     "output_type": "display_data"
    }
   ],
   "source": [
    "# Обьединим датафреймы обратно и посчитаем количество строк\n",
    "df_full = pd.concat([df_rub_filtered, df_kzt_filtered], ignore_index=True)\n",
    "display(f'Общее количество строк: {df_full.shape[0]}')"
   ]
  },
  {
   "cell_type": "code",
   "execution_count": 14,
   "metadata": {},
   "outputs": [
    {
     "data": {
      "text/plain": [
       "'Явных дубликатов: 0'"
      ]
     },
     "metadata": {},
     "output_type": "display_data"
    }
   ],
   "source": [
    "# Количество явных дубликатов\n",
    "num_duplicates = df_full.duplicated().sum()\n",
    "display(f'Явных дубликатов: {num_duplicates}')\n"
   ]
  },
  {
   "cell_type": "code",
   "execution_count": 15,
   "metadata": {},
   "outputs": [
    {
     "data": {
      "text/plain": [
       "'Количество неявных дубликатов по выбранным столбцам: 30'"
      ]
     },
     "metadata": {},
     "output_type": "display_data"
    }
   ],
   "source": [
    "# Выбираем столбцы, по которым считаем дубликатами (без order_id)\n",
    "cols_for_dup = ['user_id', 'created_dt_msk', 'created_ts_msk', 'event_id',\n",
    "       'cinema_circuit', 'age_limit', 'currency_code', 'device_type_canonical',\n",
    "       'revenue', 'service_name', 'tickets_count', 'total', 'days_since_prev',\n",
    "       'event_name', 'event_type_description', 'event_type_main', 'organizers',\n",
    "       'region_name', 'city_name', 'city_id', 'venue_id', 'venue_name',\n",
    "       'venue_address']\n",
    "\n",
    "dup_mask = df_full.duplicated(subset=cols_for_dup) \n",
    "\n",
    "display(f'Количество неявных дубликатов по выбранным столбцам: {dup_mask.sum()}')\n",
    "\n"
   ]
  },
  {
   "cell_type": "code",
   "execution_count": 16,
   "metadata": {},
   "outputs": [
    {
     "data": {
      "text/plain": [
       "'Количество неявных дубликатов по выбранным столбцам: 30'"
      ]
     },
     "metadata": {},
     "output_type": "display_data"
    },
    {
     "data": {
      "text/plain": [
       "'Доля дубликатов: 0.0001 (0.01%)'"
      ]
     },
     "metadata": {},
     "output_type": "display_data"
    }
   ],
   "source": [
    "# Количество дубликатов\n",
    "num_duplicates = dup_mask.sum()\n",
    "\n",
    "# Общее количество строк в датафрейме\n",
    "total_rows = len(df_full)\n",
    "\n",
    "# Доля дубликатов (в виде числа от 0 до 1)\n",
    "dup_ratio = num_duplicates / total_rows\n",
    "\n",
    "# Или в процентах\n",
    "dup_percent = dup_ratio * 100\n",
    "\n",
    "display(f'Количество неявных дубликатов по выбранным столбцам: {num_duplicates}')\n",
    "display(f'Доля дубликатов: {dup_ratio:.4f} ({dup_percent:.2f}%)')"
   ]
  },
  {
   "cell_type": "code",
   "execution_count": 17,
   "metadata": {},
   "outputs": [
    {
     "data": {
      "text/plain": [
       "'Количество строк после очистки от дубликатов: 287752'"
      ]
     },
     "metadata": {},
     "output_type": "display_data"
    }
   ],
   "source": [
    "# Удаляем дубликаты из DataFrame по выбранным столбцам\n",
    "df_cleaned = df_full.drop_duplicates(subset=cols_for_dup)\n",
    "\n",
    "display(f'Количество строк после очистки от дубликатов: {df_cleaned.shape[0]}')"
   ]
  },
  {
   "cell_type": "markdown",
   "metadata": {},
   "source": [
    "Явные дубликаты в данных отсутствуют. Неявные дубликаты обнаружены в количестве 31 шт и удалены, так как занимают всего 0.01%  от общих данных. Количество строк до обработки 287782, после очистки от дубликатов составило 287751."
   ]
  },
  {
   "cell_type": "markdown",
   "metadata": {},
   "source": [
    "Далее создаем несколько новых столбцов:\n",
    "- revenue_rub — приведем выручку с заказа к единой валюте — российскому рублю. Для этого используем датасет с информацией о курсе казахстанского тенге по отношению к российскому рублю tenge_df за 2024 год.\n",
    "- one_ticket_revenue_rub — рассчитаем выручку с продажи одного билета на мероприятие.\n",
    "- month — выделим месяц оформления заказа в отдельный столбец.\n",
    "- season — создаем столбец с информацией о сезонности, включая такие категории, как: 'лето', 'осень', 'зима', 'весна'."
   ]
  },
  {
   "cell_type": "code",
   "execution_count": 18,
   "metadata": {},
   "outputs": [
    {
     "data": {
      "text/html": [
       "<div>\n",
       "<style scoped>\n",
       "    .dataframe tbody tr th:only-of-type {\n",
       "        vertical-align: middle;\n",
       "    }\n",
       "\n",
       "    .dataframe tbody tr th {\n",
       "        vertical-align: top;\n",
       "    }\n",
       "\n",
       "    .dataframe thead th {\n",
       "        text-align: right;\n",
       "    }\n",
       "</style>\n",
       "<table border=\"1\" class=\"dataframe\">\n",
       "  <thead>\n",
       "    <tr style=\"text-align: right;\">\n",
       "      <th></th>\n",
       "      <th>order_id</th>\n",
       "      <th>user_id</th>\n",
       "      <th>created_dt_msk</th>\n",
       "      <th>created_ts_msk</th>\n",
       "      <th>event_id</th>\n",
       "      <th>cinema_circuit</th>\n",
       "      <th>age_limit</th>\n",
       "      <th>currency_code</th>\n",
       "      <th>device_type_canonical</th>\n",
       "      <th>revenue</th>\n",
       "      <th>...</th>\n",
       "      <th>city_name</th>\n",
       "      <th>city_id</th>\n",
       "      <th>venue_id</th>\n",
       "      <th>venue_name</th>\n",
       "      <th>venue_address</th>\n",
       "      <th>data</th>\n",
       "      <th>nominal</th>\n",
       "      <th>curs</th>\n",
       "      <th>cdx</th>\n",
       "      <th>revenue_rub</th>\n",
       "    </tr>\n",
       "  </thead>\n",
       "  <tbody>\n",
       "    <tr>\n",
       "      <th>0</th>\n",
       "      <td>4359165</td>\n",
       "      <td>0002849b70a3ce2</td>\n",
       "      <td>2024-08-20</td>\n",
       "      <td>2024-08-20 16:08:03</td>\n",
       "      <td>169230</td>\n",
       "      <td>нет</td>\n",
       "      <td>16</td>\n",
       "      <td>rub</td>\n",
       "      <td>mobile</td>\n",
       "      <td>1521.94</td>\n",
       "      <td>...</td>\n",
       "      <td>Глиногорск</td>\n",
       "      <td>213</td>\n",
       "      <td>3972</td>\n",
       "      <td>Сценический центр \"Деталь\" Групп</td>\n",
       "      <td>алл. Машиностроителей, д. 19 стр. 6</td>\n",
       "      <td>2024-08-20</td>\n",
       "      <td>100</td>\n",
       "      <td>18.6972</td>\n",
       "      <td>kzt</td>\n",
       "      <td>1521.94</td>\n",
       "    </tr>\n",
       "    <tr>\n",
       "      <th>1</th>\n",
       "      <td>7431164</td>\n",
       "      <td>024dc5236465850</td>\n",
       "      <td>2024-07-23</td>\n",
       "      <td>2024-07-23 20:52:02</td>\n",
       "      <td>169230</td>\n",
       "      <td>нет</td>\n",
       "      <td>16</td>\n",
       "      <td>rub</td>\n",
       "      <td>mobile</td>\n",
       "      <td>1902.42</td>\n",
       "      <td>...</td>\n",
       "      <td>Глиногорск</td>\n",
       "      <td>213</td>\n",
       "      <td>3972</td>\n",
       "      <td>Сценический центр \"Деталь\" Групп</td>\n",
       "      <td>алл. Машиностроителей, д. 19 стр. 6</td>\n",
       "      <td>2024-07-23</td>\n",
       "      <td>100</td>\n",
       "      <td>18.3419</td>\n",
       "      <td>kzt</td>\n",
       "      <td>1902.42</td>\n",
       "    </tr>\n",
       "    <tr>\n",
       "      <th>2</th>\n",
       "      <td>7431106</td>\n",
       "      <td>024dc5236465850</td>\n",
       "      <td>2024-07-23</td>\n",
       "      <td>2024-07-23 20:54:19</td>\n",
       "      <td>169230</td>\n",
       "      <td>нет</td>\n",
       "      <td>16</td>\n",
       "      <td>rub</td>\n",
       "      <td>mobile</td>\n",
       "      <td>1141.45</td>\n",
       "      <td>...</td>\n",
       "      <td>Глиногорск</td>\n",
       "      <td>213</td>\n",
       "      <td>3972</td>\n",
       "      <td>Сценический центр \"Деталь\" Групп</td>\n",
       "      <td>алл. Машиностроителей, д. 19 стр. 6</td>\n",
       "      <td>2024-07-23</td>\n",
       "      <td>100</td>\n",
       "      <td>18.3419</td>\n",
       "      <td>kzt</td>\n",
       "      <td>1141.45</td>\n",
       "    </tr>\n",
       "    <tr>\n",
       "      <th>3</th>\n",
       "      <td>7431135</td>\n",
       "      <td>024dc5236465850</td>\n",
       "      <td>2024-07-23</td>\n",
       "      <td>2024-07-23 20:59:44</td>\n",
       "      <td>169230</td>\n",
       "      <td>нет</td>\n",
       "      <td>16</td>\n",
       "      <td>rub</td>\n",
       "      <td>mobile</td>\n",
       "      <td>1902.42</td>\n",
       "      <td>...</td>\n",
       "      <td>Глиногорск</td>\n",
       "      <td>213</td>\n",
       "      <td>3972</td>\n",
       "      <td>Сценический центр \"Деталь\" Групп</td>\n",
       "      <td>алл. Машиностроителей, д. 19 стр. 6</td>\n",
       "      <td>2024-07-23</td>\n",
       "      <td>100</td>\n",
       "      <td>18.3419</td>\n",
       "      <td>kzt</td>\n",
       "      <td>1902.42</td>\n",
       "    </tr>\n",
       "    <tr>\n",
       "      <th>4</th>\n",
       "      <td>7431048</td>\n",
       "      <td>024dc5236465850</td>\n",
       "      <td>2024-07-23</td>\n",
       "      <td>2024-07-23 21:02:08</td>\n",
       "      <td>169230</td>\n",
       "      <td>нет</td>\n",
       "      <td>16</td>\n",
       "      <td>rub</td>\n",
       "      <td>mobile</td>\n",
       "      <td>1521.94</td>\n",
       "      <td>...</td>\n",
       "      <td>Глиногорск</td>\n",
       "      <td>213</td>\n",
       "      <td>3972</td>\n",
       "      <td>Сценический центр \"Деталь\" Групп</td>\n",
       "      <td>алл. Машиностроителей, д. 19 стр. 6</td>\n",
       "      <td>2024-07-23</td>\n",
       "      <td>100</td>\n",
       "      <td>18.3419</td>\n",
       "      <td>kzt</td>\n",
       "      <td>1521.94</td>\n",
       "    </tr>\n",
       "  </tbody>\n",
       "</table>\n",
       "<p>5 rows × 29 columns</p>\n",
       "</div>"
      ],
      "text/plain": [
       "   order_id          user_id created_dt_msk      created_ts_msk  event_id  \\\n",
       "0   4359165  0002849b70a3ce2     2024-08-20 2024-08-20 16:08:03    169230   \n",
       "1   7431164  024dc5236465850     2024-07-23 2024-07-23 20:52:02    169230   \n",
       "2   7431106  024dc5236465850     2024-07-23 2024-07-23 20:54:19    169230   \n",
       "3   7431135  024dc5236465850     2024-07-23 2024-07-23 20:59:44    169230   \n",
       "4   7431048  024dc5236465850     2024-07-23 2024-07-23 21:02:08    169230   \n",
       "\n",
       "  cinema_circuit  age_limit currency_code device_type_canonical  revenue  ...  \\\n",
       "0            нет         16           rub                mobile  1521.94  ...   \n",
       "1            нет         16           rub                mobile  1902.42  ...   \n",
       "2            нет         16           rub                mobile  1141.45  ...   \n",
       "3            нет         16           rub                mobile  1902.42  ...   \n",
       "4            нет         16           rub                mobile  1521.94  ...   \n",
       "\n",
       "    city_name  city_id  venue_id                        venue_name  \\\n",
       "0  Глиногорск      213      3972  Сценический центр \"Деталь\" Групп   \n",
       "1  Глиногорск      213      3972  Сценический центр \"Деталь\" Групп   \n",
       "2  Глиногорск      213      3972  Сценический центр \"Деталь\" Групп   \n",
       "3  Глиногорск      213      3972  Сценический центр \"Деталь\" Групп   \n",
       "4  Глиногорск      213      3972  Сценический центр \"Деталь\" Групп   \n",
       "\n",
       "                         venue_address       data nominal     curs  cdx  \\\n",
       "0  алл. Машиностроителей, д. 19 стр. 6 2024-08-20     100  18.6972  kzt   \n",
       "1  алл. Машиностроителей, д. 19 стр. 6 2024-07-23     100  18.3419  kzt   \n",
       "2  алл. Машиностроителей, д. 19 стр. 6 2024-07-23     100  18.3419  kzt   \n",
       "3  алл. Машиностроителей, д. 19 стр. 6 2024-07-23     100  18.3419  kzt   \n",
       "4  алл. Машиностроителей, д. 19 стр. 6 2024-07-23     100  18.3419  kzt   \n",
       "\n",
       "  revenue_rub  \n",
       "0     1521.94  \n",
       "1     1902.42  \n",
       "2     1141.45  \n",
       "3     1902.42  \n",
       "4     1521.94  \n",
       "\n",
       "[5 rows x 29 columns]"
      ]
     },
     "execution_count": 18,
     "metadata": {},
     "output_type": "execute_result"
    }
   ],
   "source": [
    "# Объединяем датафрейм\n",
    "df = df_cleaned.merge(tenge_df, left_on='created_dt_msk', right_on='data', how='left')\n",
    "\n",
    "# Изначально присваиваем выручку\n",
    "df['revenue_rub'] = df['revenue']\n",
    "\n",
    "# Пересчитываем выручку для тенге\n",
    "df.loc[df['currency_code'] == 'kzt', 'revenue_rub'] = (\n",
    "    df['revenue'] * df['curs'] / df['nominal']\n",
    ")\n",
    "# Округляем значения в столбце revenue_rub до двух знаков после запятой\n",
    "df['revenue_rub'] = df['revenue_rub'].round(2)\n",
    "df.head()"
   ]
  },
  {
   "cell_type": "code",
   "execution_count": 19,
   "metadata": {},
   "outputs": [],
   "source": [
    "# Рассчитаем выручку с продажи одного билета на мероприятие\n",
    "df['one_ticket_revenue_rub'] = df['revenue_rub'] / df['tickets_count']\n",
    "df['one_ticket_revenue_rub'] = df['one_ticket_revenue_rub'].round(2)"
   ]
  },
  {
   "cell_type": "code",
   "execution_count": 20,
   "metadata": {},
   "outputs": [],
   "source": [
    "# Выделяем месяц оформления заказа\n",
    "df['month'] = pd.to_datetime(df['created_dt_msk']).dt.month"
   ]
  },
  {
   "cell_type": "code",
   "execution_count": 21,
   "metadata": {},
   "outputs": [],
   "source": [
    "# Создадим функцию для присвоения сезона\n",
    "def get_season(month):\n",
    "    if month in [6, 7, 8]:\n",
    "        return 'лето'\n",
    "    elif month in [9, 10, 11]:\n",
    "        return 'осень'\n",
    "    else:\n",
    "        return None\n",
    "\n",
    "df['season'] = df['month'].apply(get_season)"
   ]
  },
  {
   "cell_type": "code",
   "execution_count": 22,
   "metadata": {},
   "outputs": [
    {
     "data": {
      "text/plain": [
       "array(['лето', 'осень'], dtype=object)"
      ]
     },
     "execution_count": 22,
     "metadata": {},
     "output_type": "execute_result"
    }
   ],
   "source": [
    "# Убедимся, что категории присвоены корректно.\n",
    "df['season'].unique()"
   ]
  },
  {
   "cell_type": "code",
   "execution_count": 23,
   "metadata": {},
   "outputs": [
    {
     "data": {
      "text/html": [
       "<div>\n",
       "<style scoped>\n",
       "    .dataframe tbody tr th:only-of-type {\n",
       "        vertical-align: middle;\n",
       "    }\n",
       "\n",
       "    .dataframe tbody tr th {\n",
       "        vertical-align: top;\n",
       "    }\n",
       "\n",
       "    .dataframe thead th {\n",
       "        text-align: right;\n",
       "    }\n",
       "</style>\n",
       "<table border=\"1\" class=\"dataframe\">\n",
       "  <thead>\n",
       "    <tr style=\"text-align: right;\">\n",
       "      <th></th>\n",
       "      <th>order_id</th>\n",
       "      <th>user_id</th>\n",
       "      <th>created_dt_msk</th>\n",
       "      <th>created_ts_msk</th>\n",
       "      <th>event_id</th>\n",
       "      <th>cinema_circuit</th>\n",
       "      <th>age_limit</th>\n",
       "      <th>currency_code</th>\n",
       "      <th>device_type_canonical</th>\n",
       "      <th>revenue</th>\n",
       "      <th>...</th>\n",
       "      <th>venue_name</th>\n",
       "      <th>venue_address</th>\n",
       "      <th>data</th>\n",
       "      <th>nominal</th>\n",
       "      <th>curs</th>\n",
       "      <th>cdx</th>\n",
       "      <th>revenue_rub</th>\n",
       "      <th>one_ticket_revenue_rub</th>\n",
       "      <th>month</th>\n",
       "      <th>season</th>\n",
       "    </tr>\n",
       "  </thead>\n",
       "  <tbody>\n",
       "    <tr>\n",
       "      <th>0</th>\n",
       "      <td>4359165</td>\n",
       "      <td>0002849b70a3ce2</td>\n",
       "      <td>2024-08-20</td>\n",
       "      <td>2024-08-20 16:08:03</td>\n",
       "      <td>169230</td>\n",
       "      <td>нет</td>\n",
       "      <td>16</td>\n",
       "      <td>rub</td>\n",
       "      <td>mobile</td>\n",
       "      <td>1521.94</td>\n",
       "      <td>...</td>\n",
       "      <td>Сценический центр \"Деталь\" Групп</td>\n",
       "      <td>алл. Машиностроителей, д. 19 стр. 6</td>\n",
       "      <td>2024-08-20</td>\n",
       "      <td>100</td>\n",
       "      <td>18.6972</td>\n",
       "      <td>kzt</td>\n",
       "      <td>1521.94</td>\n",
       "      <td>380.48</td>\n",
       "      <td>8</td>\n",
       "      <td>лето</td>\n",
       "    </tr>\n",
       "    <tr>\n",
       "      <th>1</th>\n",
       "      <td>7431164</td>\n",
       "      <td>024dc5236465850</td>\n",
       "      <td>2024-07-23</td>\n",
       "      <td>2024-07-23 20:52:02</td>\n",
       "      <td>169230</td>\n",
       "      <td>нет</td>\n",
       "      <td>16</td>\n",
       "      <td>rub</td>\n",
       "      <td>mobile</td>\n",
       "      <td>1902.42</td>\n",
       "      <td>...</td>\n",
       "      <td>Сценический центр \"Деталь\" Групп</td>\n",
       "      <td>алл. Машиностроителей, д. 19 стр. 6</td>\n",
       "      <td>2024-07-23</td>\n",
       "      <td>100</td>\n",
       "      <td>18.3419</td>\n",
       "      <td>kzt</td>\n",
       "      <td>1902.42</td>\n",
       "      <td>380.48</td>\n",
       "      <td>7</td>\n",
       "      <td>лето</td>\n",
       "    </tr>\n",
       "    <tr>\n",
       "      <th>2</th>\n",
       "      <td>7431106</td>\n",
       "      <td>024dc5236465850</td>\n",
       "      <td>2024-07-23</td>\n",
       "      <td>2024-07-23 20:54:19</td>\n",
       "      <td>169230</td>\n",
       "      <td>нет</td>\n",
       "      <td>16</td>\n",
       "      <td>rub</td>\n",
       "      <td>mobile</td>\n",
       "      <td>1141.45</td>\n",
       "      <td>...</td>\n",
       "      <td>Сценический центр \"Деталь\" Групп</td>\n",
       "      <td>алл. Машиностроителей, д. 19 стр. 6</td>\n",
       "      <td>2024-07-23</td>\n",
       "      <td>100</td>\n",
       "      <td>18.3419</td>\n",
       "      <td>kzt</td>\n",
       "      <td>1141.45</td>\n",
       "      <td>380.48</td>\n",
       "      <td>7</td>\n",
       "      <td>лето</td>\n",
       "    </tr>\n",
       "    <tr>\n",
       "      <th>3</th>\n",
       "      <td>7431135</td>\n",
       "      <td>024dc5236465850</td>\n",
       "      <td>2024-07-23</td>\n",
       "      <td>2024-07-23 20:59:44</td>\n",
       "      <td>169230</td>\n",
       "      <td>нет</td>\n",
       "      <td>16</td>\n",
       "      <td>rub</td>\n",
       "      <td>mobile</td>\n",
       "      <td>1902.42</td>\n",
       "      <td>...</td>\n",
       "      <td>Сценический центр \"Деталь\" Групп</td>\n",
       "      <td>алл. Машиностроителей, д. 19 стр. 6</td>\n",
       "      <td>2024-07-23</td>\n",
       "      <td>100</td>\n",
       "      <td>18.3419</td>\n",
       "      <td>kzt</td>\n",
       "      <td>1902.42</td>\n",
       "      <td>380.48</td>\n",
       "      <td>7</td>\n",
       "      <td>лето</td>\n",
       "    </tr>\n",
       "    <tr>\n",
       "      <th>4</th>\n",
       "      <td>7431048</td>\n",
       "      <td>024dc5236465850</td>\n",
       "      <td>2024-07-23</td>\n",
       "      <td>2024-07-23 21:02:08</td>\n",
       "      <td>169230</td>\n",
       "      <td>нет</td>\n",
       "      <td>16</td>\n",
       "      <td>rub</td>\n",
       "      <td>mobile</td>\n",
       "      <td>1521.94</td>\n",
       "      <td>...</td>\n",
       "      <td>Сценический центр \"Деталь\" Групп</td>\n",
       "      <td>алл. Машиностроителей, д. 19 стр. 6</td>\n",
       "      <td>2024-07-23</td>\n",
       "      <td>100</td>\n",
       "      <td>18.3419</td>\n",
       "      <td>kzt</td>\n",
       "      <td>1521.94</td>\n",
       "      <td>380.48</td>\n",
       "      <td>7</td>\n",
       "      <td>лето</td>\n",
       "    </tr>\n",
       "  </tbody>\n",
       "</table>\n",
       "<p>5 rows × 32 columns</p>\n",
       "</div>"
      ],
      "text/plain": [
       "   order_id          user_id created_dt_msk      created_ts_msk  event_id  \\\n",
       "0   4359165  0002849b70a3ce2     2024-08-20 2024-08-20 16:08:03    169230   \n",
       "1   7431164  024dc5236465850     2024-07-23 2024-07-23 20:52:02    169230   \n",
       "2   7431106  024dc5236465850     2024-07-23 2024-07-23 20:54:19    169230   \n",
       "3   7431135  024dc5236465850     2024-07-23 2024-07-23 20:59:44    169230   \n",
       "4   7431048  024dc5236465850     2024-07-23 2024-07-23 21:02:08    169230   \n",
       "\n",
       "  cinema_circuit  age_limit currency_code device_type_canonical  revenue  ...  \\\n",
       "0            нет         16           rub                mobile  1521.94  ...   \n",
       "1            нет         16           rub                mobile  1902.42  ...   \n",
       "2            нет         16           rub                mobile  1141.45  ...   \n",
       "3            нет         16           rub                mobile  1902.42  ...   \n",
       "4            нет         16           rub                mobile  1521.94  ...   \n",
       "\n",
       "                         venue_name                        venue_address  \\\n",
       "0  Сценический центр \"Деталь\" Групп  алл. Машиностроителей, д. 19 стр. 6   \n",
       "1  Сценический центр \"Деталь\" Групп  алл. Машиностроителей, д. 19 стр. 6   \n",
       "2  Сценический центр \"Деталь\" Групп  алл. Машиностроителей, д. 19 стр. 6   \n",
       "3  Сценический центр \"Деталь\" Групп  алл. Машиностроителей, д. 19 стр. 6   \n",
       "4  Сценический центр \"Деталь\" Групп  алл. Машиностроителей, д. 19 стр. 6   \n",
       "\n",
       "        data  nominal     curs  cdx revenue_rub one_ticket_revenue_rub month  \\\n",
       "0 2024-08-20      100  18.6972  kzt     1521.94                 380.48     8   \n",
       "1 2024-07-23      100  18.3419  kzt     1902.42                 380.48     7   \n",
       "2 2024-07-23      100  18.3419  kzt     1141.45                 380.48     7   \n",
       "3 2024-07-23      100  18.3419  kzt     1902.42                 380.48     7   \n",
       "4 2024-07-23      100  18.3419  kzt     1521.94                 380.48     7   \n",
       "\n",
       "  season  \n",
       "0   лето  \n",
       "1   лето  \n",
       "2   лето  \n",
       "3   лето  \n",
       "4   лето  \n",
       "\n",
       "[5 rows x 32 columns]"
      ]
     },
     "execution_count": 23,
     "metadata": {},
     "output_type": "execute_result"
    }
   ],
   "source": [
    "df.head()"
   ]
  },
  {
   "cell_type": "markdown",
   "metadata": {},
   "source": [
    "Предобработка данных закончена. \n",
    "- Проверили данные на пропуски. Проверили, что выгрузка данных из SQL была успешной. Кроме столбца days_since_prev, данные не содержат пропусков.\n",
    "- Изучили значения в ключевых столбцах и не обнаружили ошибок.\n",
    "- Для категориальных значений изучили, какие категории присутствуют в данных. \n",
    "- Для количественных значений посмотрели на распределение и наличие выбросов. Отобрали значения по 99-му процентилю. Для обеих валют мы потеряли менее 1% дааных, это некритично и не повлияет на дальнейший анализ.\n",
    "- Проверили явные и неявные дубликаты. Явных не обнаружили, удалили 31 неявных.\n",
    "- Провели преобразования типов данных в столбцах с датой и временем.\n",
    "- Создали несколько новых столбцов:\n",
    "  - revenue_rub — выручка с заказов в единой валюте (руб).\n",
    "  - one_ticket_revenue_rub — выручка с продажи одного билета на мероприятие.\n",
    "  - month — месяц оформления заказа.\n",
    "  - season — информация о сезонности (лето,осень)."
   ]
  },
  {
   "cell_type": "markdown",
   "metadata": {},
   "source": [
    " ##  Исследовательский анализ данных"
   ]
  },
  {
   "cell_type": "markdown",
   "metadata": {},
   "source": [
    "### Анализ распределения заказов по сегментам и их сезонные изменения"
   ]
  },
  {
   "cell_type": "markdown",
   "metadata": {},
   "source": [
    "- Для каждого месяца найдем количество заказов и визуализируем результаты. Проверим, фиксируется ли увеличение заказов от июня к ноябрю 2024 года."
   ]
  },
  {
   "cell_type": "code",
   "execution_count": 24,
   "metadata": {},
   "outputs": [
    {
     "data": {
      "text/html": [
       "<div>\n",
       "<style scoped>\n",
       "    .dataframe tbody tr th:only-of-type {\n",
       "        vertical-align: middle;\n",
       "    }\n",
       "\n",
       "    .dataframe tbody tr th {\n",
       "        vertical-align: top;\n",
       "    }\n",
       "\n",
       "    .dataframe thead th {\n",
       "        text-align: right;\n",
       "    }\n",
       "</style>\n",
       "<table border=\"1\" class=\"dataframe\">\n",
       "  <thead>\n",
       "    <tr style=\"text-align: right;\">\n",
       "      <th></th>\n",
       "      <th>month</th>\n",
       "      <th>order_count</th>\n",
       "    </tr>\n",
       "  </thead>\n",
       "  <tbody>\n",
       "    <tr>\n",
       "      <th>0</th>\n",
       "      <td>6</td>\n",
       "      <td>34164</td>\n",
       "    </tr>\n",
       "    <tr>\n",
       "      <th>1</th>\n",
       "      <td>7</td>\n",
       "      <td>40407</td>\n",
       "    </tr>\n",
       "    <tr>\n",
       "      <th>2</th>\n",
       "      <td>8</td>\n",
       "      <td>44550</td>\n",
       "    </tr>\n",
       "    <tr>\n",
       "      <th>3</th>\n",
       "      <td>9</td>\n",
       "      <td>69352</td>\n",
       "    </tr>\n",
       "    <tr>\n",
       "      <th>4</th>\n",
       "      <td>10</td>\n",
       "      <td>99279</td>\n",
       "    </tr>\n",
       "  </tbody>\n",
       "</table>\n",
       "</div>"
      ],
      "text/plain": [
       "   month  order_count\n",
       "0      6        34164\n",
       "1      7        40407\n",
       "2      8        44550\n",
       "3      9        69352\n",
       "4     10        99279"
      ]
     },
     "metadata": {},
     "output_type": "display_data"
    }
   ],
   "source": [
    "# Подсчёт количества заказов по месяцам\n",
    "orders_per_month = df.groupby('month')['order_id'].nunique().reset_index()\n",
    "\n",
    "# Переименуем столбцы для удобства\n",
    "orders_per_month.columns = ['month', 'order_count']\n",
    "\n",
    "display(orders_per_month)"
   ]
  },
  {
   "cell_type": "code",
   "execution_count": 25,
   "metadata": {},
   "outputs": [
    {
     "data": {
      "image/png": "[encoded data removed]",
      "text/plain": [
       "<Figure size 720x432 with 1 Axes>"
      ]
     },
     "metadata": {
      "needs_background": "light"
     },
     "output_type": "display_data"
    }
   ],
   "source": [
    "plt.figure(figsize=(10,6))\n",
    "sns.lineplot(data=orders_per_month, x='month', y='order_count', marker='o')\n",
    "\n",
    "plt.title('Динамика количества заказов с июня по ноябрь 2024')\n",
    "plt.xlabel('Месяц')\n",
    "plt.ylabel('Количество заказов')\n",
    "plt.xticks(ticks=orders_per_month['month'], labels=orders_per_month['month'])\n",
    "\n",
    "plt.show()"
   ]
  },
  {
   "cell_type": "markdown",
   "metadata": {},
   "source": [
    "И по графику и по таблице убедились, что действительно наблюдается рост заказов к осени почти в 3 раза. Значит, сезонность имеет место быть."
   ]
  },
  {
   "cell_type": "markdown",
   "metadata": {},
   "source": [
    "- Для осеннего и летнего периодов сравним распределение заказов билетов по разным категориям: тип мероприятия, тип устройства, категория мероприятия по возрастному рейтингу. Результаты визуализируем подходящим графиком, который поможет сопоставить значения для летнего и осеннего сезонов."
   ]
  },
  {
   "cell_type": "code",
   "execution_count": 26,
   "metadata": {},
   "outputs": [],
   "source": [
    "# Создадим функцию, которая для заданного столбца считает доли заказов в каждом сезоне\n",
    "def get_relative_distribution(df, category_col):\n",
    "    # Считаем количество заказов по сезону и категории\n",
    "    counts = df.groupby(['season', category_col])['order_id'].count().reset_index()\n",
    "    counts.rename(columns={'order_id': 'count'}, inplace=True)\n",
    "    \n",
    "    # Считаем общее количество заказов в сезоне\n",
    "    total_per_season = counts.groupby('season')['count'].transform('sum')\n",
    "    \n",
    "    # Считаем долю\n",
    "    counts['share'] = counts['count'] / total_per_season\n",
    "    \n",
    "    return counts"
   ]
  },
  {
   "cell_type": "code",
   "execution_count": 27,
   "metadata": {},
   "outputs": [],
   "source": [
    "# Получим распределение для нужных категорий\n",
    "dist_event_type = get_relative_distribution(df, 'event_type_main')\n",
    "dist_device_type = get_relative_distribution(df, 'device_type_canonical')\n",
    "dist_age_limit = get_relative_distribution(df, 'age_limit')"
   ]
  },
  {
   "cell_type": "code",
   "execution_count": 28,
   "metadata": {},
   "outputs": [
    {
     "data": {
      "image/png": "[encoded data removed]",
      "text/plain": [
       "<Figure size 864x432 with 1 Axes>"
      ]
     },
     "metadata": {
      "needs_background": "light"
     },
     "output_type": "display_data"
    },
    {
     "data": {
      "image/png": "[encoded data removed]",
      "text/plain": [
       "<Figure size 864x432 with 1 Axes>"
      ]
     },
     "metadata": {
      "needs_background": "light"
     },
     "output_type": "display_data"
    },
    {
     "data": {
      "image/png": "[encoded data removed]",
      "text/plain": [
       "<Figure size 864x432 with 1 Axes>"
      ]
     },
     "metadata": {
      "needs_background": "light"
     },
     "output_type": "display_data"
    }
   ],
   "source": [
    "# Для сравнения долей по двум сезонам удобно использовать группированные столбчатые диаграммы\n",
    "def plot_comparison(data, category_col, title):\n",
    "    plt.figure(figsize=(12,6))\n",
    "    sns.barplot(data=data, x=category_col, y='share', hue='season')\n",
    "    plt.title(title)\n",
    "    plt.ylabel('Доля заказов')\n",
    "    plt.xlabel(category_col)\n",
    "    plt.xticks(rotation=45)\n",
    "    plt.legend(title='Сезон')\n",
    "    plt.tight_layout()\n",
    "    plt.show()\n",
    "\n",
    "plot_comparison(dist_event_type, 'event_type_main', 'Распределение заказов по типу мероприятия (лето/осень)')\n",
    "plot_comparison(dist_device_type, 'device_type_canonical', 'Распределение заказов по типу устройства (лето/осень)')\n",
    "plot_comparison(dist_age_limit, 'age_limit', 'Распределение заказов по возрастному рейтингу (лето/осень)')\n"
   ]
  },
  {
   "cell_type": "markdown",
   "metadata": {},
   "source": [
    "Летом концерты чаще посещают, чем осенью. Категория другое тоже лидирует летом. А вот к осени более популярно посещать театры и спортивные мероприятия. Все это обьясняется тем, что на летнее время театры уходят в отпуска, поэтому важно заполнить данный пробел и развивать в этот период концертную деятельность и другое. К осени мы наблюдали рост активности пользователей, поэтому большую прибыль мы можем получить именно в данный сезон и стоит акцентировать внимание на театры, спортивные мероприятия, елки.\n",
    "\n",
    "По распределению заказов по типам устройств можно сказать, что сильного различия нет. Мобильные устройства лидируют и летом и осенью, летом чуть больше, т к многие в отпусках и больше времени проводят вне помещений, где могут быть использованы стационарные устройства. А вот осенью наоборот,больше заказов со стационарных устройств, т к больше времени проводят на работе, в помещениях.\n",
    "\n",
    "Самый популярный возраст, который посещают мероприятия это 16+, 12+ и 0+. В летний период более активны 16+, 12+,6+. Думаю, что это связано с наступлением каникул. А осенью лидируют 16+,0+,12+. Думаю, это также связано с наступлением учебного сезона, где активируются театральные постановки, спортивные мероприятия, предновогодние утренники."
   ]
  },
  {
   "cell_type": "markdown",
   "metadata": {},
   "source": [
    "- Далее изучим изменение выручки с продажи одного билета в зависимости от типа мероприятия летом и осенью. "
   ]
  },
  {
   "cell_type": "code",
   "execution_count": 29,
   "metadata": {},
   "outputs": [],
   "source": [
    "# Расcчитаем среднюю выручку с одного билета по типу мероприятия и сезону\n",
    "# Группируем по season и event_type_main, считаем среднее\n",
    "mean_revenue = df.groupby(['event_type_main', 'season'])['one_ticket_revenue_rub'].mean().reset_index()\n",
    "mean_revenue.rename(columns={'one_ticket_revenue_rub': 'mean_ticket_revenue'}, inplace=True)   "
   ]
  },
  {
   "cell_type": "code",
   "execution_count": 30,
   "metadata": {},
   "outputs": [],
   "source": [
    "# Преобразуем данные для удобства сравнения\n",
    "pivot_revenue = mean_revenue.pivot(index='event_type_main', columns='season', values='mean_ticket_revenue').reset_index()\n",
    "pivot_revenue.columns.name = None  # убираем имя столбцов для удобства"
   ]
  },
  {
   "cell_type": "code",
   "execution_count": 31,
   "metadata": {},
   "outputs": [],
   "source": [
    "# Изменения в относительном значении\n",
    "pivot_revenue['relative_change_%'] = ((pivot_revenue['осень'] - pivot_revenue['лето']) / pivot_revenue['лето']) * 100"
   ]
  },
  {
   "cell_type": "code",
   "execution_count": 32,
   "metadata": {},
   "outputs": [
    {
     "data": {
      "image/png": "[encoded data removed]",
      "text/plain": [
       "<Figure size 1008x720 with 2 Axes>"
      ]
     },
     "metadata": {
      "needs_background": "light"
     },
     "output_type": "display_data"
    }
   ],
   "source": [
    "# Построим графики\n",
    "plt.figure(figsize=(14, 10))\n",
    "\n",
    "# График средних значений\n",
    "plt.subplot(2, 1, 1)\n",
    "mean_melted = mean_revenue.copy()\n",
    "sns.barplot(data=mean_melted, x='event_type_main', y='mean_ticket_revenue', hue='season')\n",
    "plt.title('Средняя выручка с одного билета по типу мероприятия и сезону')\n",
    "plt.ylabel('Средняя выручка, руб.')\n",
    "plt.xlabel('')\n",
    "plt.xticks(rotation=45, ha='right')\n",
    "\n",
    "# График относительного изменения\n",
    "plt.subplot(2, 1, 2)\n",
    "# Создаем список цветов: синий для положительных, красный для отрицательных значений\n",
    "colors = ['tab:blue' if x >= 0 else 'tab:red' for x in pivot_revenue['relative_change_%']]\n",
    "sns.barplot(data=pivot_revenue, x='event_type_main', y='relative_change_%', palette=colors)\n",
    "plt.axhline(0, color='black', linewidth=0.8)\n",
    "plt.title('Относительное изменение осенних значений средней выручки по сравнению с летними')\n",
    "plt.ylabel('Изменение, %')\n",
    "plt.xlabel('')\n",
    "plt.xticks(rotation=45, ha='right')\n",
    "\n",
    "plt.tight_layout()\n",
    "plt.show()"
   ]
  },
  {
   "cell_type": "markdown",
   "metadata": {},
   "source": [
    "На графиках наглядно видим относительное изменение осенних значений по сравнению с летними. Средняя выручка с одного билета по выставкам и стендапам выросла примерно на 5%, по категории спорт и другое снизилась на 2%, концерты, елки и театры подешевели  более 10%.  "
   ]
  },
  {
   "cell_type": "markdown",
   "metadata": {},
   "source": [
    "### Осенняя активность пользователей"
   ]
  },
  {
   "cell_type": "markdown",
   "metadata": {},
   "source": [
    "- Проанализируем динамику изменений по дням для:\n",
    "  - общего числа заказов;\n",
    "  - количества активных пользователей DAU;\n",
    "  - среднего числа заказов на одного пользователя;\n",
    "  - средней стоимости одного билета."
   ]
  },
  {
   "cell_type": "code",
   "execution_count": 33,
   "metadata": {},
   "outputs": [],
   "source": [
    "# Отфильтруем данные за осень\n",
    "df_autumn = df[df['season'] == 'осень'].copy()"
   ]
  },
  {
   "cell_type": "code",
   "execution_count": 34,
   "metadata": {},
   "outputs": [],
   "source": [
    "# Группируем данные по дате\n",
    "daily_stats = df_autumn.groupby('created_dt_msk').agg(\n",
    "    total_orders = ('order_id', 'count'),          # общее число заказов\n",
    "    unique_users = ('user_id', 'nunique'),         # число уникальных пользователей (DAU)\n",
    "    avg_ticket_price = ('one_ticket_revenue_rub', 'mean')    # средняя стоимость билета\n",
    ").reset_index()\n",
    "\n",
    "# Рассчитаем среднее число заказов на одного пользователя\n",
    "daily_stats['orders_per_user'] = daily_stats['total_orders'] / daily_stats['unique_users']"
   ]
  },
  {
   "cell_type": "code",
   "execution_count": 35,
   "metadata": {},
   "outputs": [
    {
     "data": {
      "image/png": "[encoded data removed]",
      "text/plain": [
       "<Figure size 1008x576 with 4 Axes>"
      ]
     },
     "metadata": {
      "needs_background": "light"
     },
     "output_type": "display_data"
    }
   ],
   "source": [
    "# Визуализация динамики по дням\n",
    "plt.figure(figsize=(14, 8))\n",
    "\n",
    "# График общего числа заказов\n",
    "plt.subplot(2, 2, 1)\n",
    "sns.lineplot(data=daily_stats, x='created_dt_msk', y='total_orders')\n",
    "plt.title('Общее число заказов по дням')\n",
    "plt.xlabel('Дата')\n",
    "plt.ylabel('Число заказов')\n",
    "plt.xticks(rotation=45, ha='right')\n",
    "\n",
    "# График DAU\n",
    "plt.subplot(2, 2, 2)\n",
    "sns.lineplot(data=daily_stats, x='created_dt_msk', y='unique_users')\n",
    "plt.title('Число активных пользователей (DAU) по дням')\n",
    "plt.xlabel('Дата')\n",
    "plt.ylabel('Активные пользователи')\n",
    "plt.xticks(rotation=45, ha='right')\n",
    "\n",
    "# График среднего числа заказов на пользователя\n",
    "plt.subplot(2, 2, 3)\n",
    "sns.lineplot(data=daily_stats, x='created_dt_msk', y='orders_per_user')\n",
    "plt.title('Среднее число заказов на одного пользователя')\n",
    "plt.xlabel('Дата')\n",
    "plt.ylabel('Заказы на пользователя')\n",
    "plt.xticks(rotation=45, ha='right')\n",
    "\n",
    "# График средней стоимости билета\n",
    "plt.subplot(2, 2, 4)\n",
    "sns.lineplot(data=daily_stats, x='created_dt_msk', y='avg_ticket_price')\n",
    "plt.title('Средняя стоимость одного билета')\n",
    "plt.xlabel('Дата')\n",
    "plt.ylabel('Средняя стоимость')\n",
    "plt.xticks(rotation=45, ha='right')\n",
    "\n",
    "plt.tight_layout()\n",
    "plt.show()"
   ]
  },
  {
   "cell_type": "code",
   "execution_count": 36,
   "metadata": {},
   "outputs": [],
   "source": [
    "# Анализ недельной цикличности\n",
    "# Добавим столбец с днем недели (0 — понедельник, 6 — воскресенье)\n",
    "daily_stats['weekday'] = daily_stats['created_dt_msk'].dt.dayofweek\n",
    "\n",
    "# Добавим признак выходного дня (суббота и воскресенье)\n",
    "daily_stats['is_weekend'] = daily_stats['weekday'].isin([5, 6])\n",
    "\n",
    "# Сравнение активности в будни и выходные\n",
    "# Средние значения по каждому дню недели\n",
    "weekday_stats = daily_stats.groupby('weekday').agg({\n",
    "    'total_orders': 'mean',\n",
    "    'unique_users': 'mean',\n",
    "    'orders_per_user': 'mean',\n",
    "    'avg_ticket_price': 'mean'\n",
    "}).reset_index()\n",
    "\n"
   ]
  },
  {
   "cell_type": "code",
   "execution_count": 37,
   "metadata": {},
   "outputs": [
    {
     "data": {
      "image/png": "[encoded data removed]",
      "text/plain": [
       "<Figure size 864x432 with 1 Axes>"
      ]
     },
     "metadata": {
      "needs_background": "light"
     },
     "output_type": "display_data"
    }
   ],
   "source": [
    "# График активности по дням недели\n",
    "plt.figure(figsize=(12, 6))\n",
    "sns.barplot(data=weekday_stats, x='weekday', y='total_orders')\n",
    "plt.title('Среднее число заказов по дням недели')\n",
    "plt.xlabel('День недели (0=Пн, ..., 6=Вс)')\n",
    "plt.ylabel('Среднее число заказов')\n",
    "plt.show()\n",
    "\n"
   ]
  },
  {
   "cell_type": "markdown",
   "metadata": {},
   "source": [
    "Число заказов по дням имеет положительную динамику, наблюдаются пики 1.09.2024 и 1.10.2024, видимо связанные с праздничным днем. \n",
    "\n",
    "Число активных пользователей также показывает рост.\n",
    "Среднее число заказов на пользователя стабильна, за исключением также  1.09.2024 и 1.10.2024, предполагаем, что из-за праздников.\n",
    "\n",
    "Средняя стоимость одного билета также более-менее стабильна, к концу осени наблюдается спад. Также видим резкое снижение  1.09.2024 и 1.10.2024, возможно из-за праздников проводились различные акции, что удешевило стоимость билета.\n",
    "\n",
    "По дням недели среднее количество заказов распределяется более-менее стабильно, резких скачков не наблюдается. Во вторник видим увеличение заказов, в воскресенье и понедельник меньше заказов, чем в другие дни недели."
   ]
  },
  {
   "cell_type": "markdown",
   "metadata": {},
   "source": [
    "### Популярные события и партнёры"
   ]
  },
  {
   "cell_type": "markdown",
   "metadata": {},
   "source": [
    "- Для каждого региона посчитаем уникальное количество мероприятий и общее число заказов и выведем топ-10 регионов по количеству проведенных уникальных мероприятий."
   ]
  },
  {
   "cell_type": "code",
   "execution_count": 38,
   "metadata": {},
   "outputs": [
    {
     "data": {
      "text/plain": [
       "'Топ-10 регионов по количеству уникальных мероприятий:'"
      ]
     },
     "metadata": {},
     "output_type": "display_data"
    },
    {
     "data": {
      "text/html": [
       "<div>\n",
       "<style scoped>\n",
       "    .dataframe tbody tr th:only-of-type {\n",
       "        vertical-align: middle;\n",
       "    }\n",
       "\n",
       "    .dataframe tbody tr th {\n",
       "        vertical-align: top;\n",
       "    }\n",
       "\n",
       "    .dataframe thead th {\n",
       "        text-align: right;\n",
       "    }\n",
       "</style>\n",
       "<table border=\"1\" class=\"dataframe\">\n",
       "  <thead>\n",
       "    <tr style=\"text-align: right;\">\n",
       "      <th></th>\n",
       "      <th>region_name</th>\n",
       "      <th>unique_events</th>\n",
       "      <th>total_orders</th>\n",
       "      <th>events_share</th>\n",
       "      <th>orders_share</th>\n",
       "    </tr>\n",
       "  </thead>\n",
       "  <tbody>\n",
       "    <tr>\n",
       "      <th>23</th>\n",
       "      <td>Каменевский регион</td>\n",
       "      <td>5935</td>\n",
       "      <td>89665</td>\n",
       "      <td>0.265441</td>\n",
       "      <td>0.311605</td>\n",
       "    </tr>\n",
       "    <tr>\n",
       "      <th>60</th>\n",
       "      <td>Североярская область</td>\n",
       "      <td>3800</td>\n",
       "      <td>43739</td>\n",
       "      <td>0.169954</td>\n",
       "      <td>0.152002</td>\n",
       "    </tr>\n",
       "    <tr>\n",
       "      <th>77</th>\n",
       "      <td>Широковская область</td>\n",
       "      <td>1232</td>\n",
       "      <td>16169</td>\n",
       "      <td>0.055101</td>\n",
       "      <td>0.056191</td>\n",
       "    </tr>\n",
       "    <tr>\n",
       "      <th>57</th>\n",
       "      <td>Светополянский округ</td>\n",
       "      <td>1075</td>\n",
       "      <td>7502</td>\n",
       "      <td>0.048079</td>\n",
       "      <td>0.026071</td>\n",
       "    </tr>\n",
       "    <tr>\n",
       "      <th>52</th>\n",
       "      <td>Речиновская область</td>\n",
       "      <td>702</td>\n",
       "      <td>6267</td>\n",
       "      <td>0.031397</td>\n",
       "      <td>0.021779</td>\n",
       "    </tr>\n",
       "    <tr>\n",
       "      <th>74</th>\n",
       "      <td>Травяная область</td>\n",
       "      <td>683</td>\n",
       "      <td>5036</td>\n",
       "      <td>0.030547</td>\n",
       "      <td>0.017501</td>\n",
       "    </tr>\n",
       "    <tr>\n",
       "      <th>11</th>\n",
       "      <td>Горицветская область</td>\n",
       "      <td>551</td>\n",
       "      <td>5153</td>\n",
       "      <td>0.024643</td>\n",
       "      <td>0.017908</td>\n",
       "    </tr>\n",
       "    <tr>\n",
       "      <th>61</th>\n",
       "      <td>Серебринская область</td>\n",
       "      <td>541</td>\n",
       "      <td>5586</td>\n",
       "      <td>0.024196</td>\n",
       "      <td>0.019413</td>\n",
       "    </tr>\n",
       "    <tr>\n",
       "      <th>78</th>\n",
       "      <td>Яблоневская область</td>\n",
       "      <td>535</td>\n",
       "      <td>6123</td>\n",
       "      <td>0.023928</td>\n",
       "      <td>0.021279</td>\n",
       "    </tr>\n",
       "    <tr>\n",
       "      <th>69</th>\n",
       "      <td>Тепляковская область</td>\n",
       "      <td>528</td>\n",
       "      <td>4384</td>\n",
       "      <td>0.023615</td>\n",
       "      <td>0.015235</td>\n",
       "    </tr>\n",
       "  </tbody>\n",
       "</table>\n",
       "</div>"
      ],
      "text/plain": [
       "             region_name  unique_events  total_orders  events_share  \\\n",
       "23    Каменевский регион           5935         89665      0.265441   \n",
       "60  Североярская область           3800         43739      0.169954   \n",
       "77   Широковская область           1232         16169      0.055101   \n",
       "57  Светополянский округ           1075          7502      0.048079   \n",
       "52   Речиновская область            702          6267      0.031397   \n",
       "74      Травяная область            683          5036      0.030547   \n",
       "11  Горицветская область            551          5153      0.024643   \n",
       "61  Серебринская область            541          5586      0.024196   \n",
       "78   Яблоневская область            535          6123      0.023928   \n",
       "69  Тепляковская область            528          4384      0.023615   \n",
       "\n",
       "    orders_share  \n",
       "23      0.311605  \n",
       "60      0.152002  \n",
       "77      0.056191  \n",
       "57      0.026071  \n",
       "52      0.021779  \n",
       "74      0.017501  \n",
       "11      0.017908  \n",
       "61      0.019413  \n",
       "78      0.021279  \n",
       "69      0.015235  "
      ]
     },
     "metadata": {},
     "output_type": "display_data"
    }
   ],
   "source": [
    "# Анализ по регионам\n",
    "region_stats = df.groupby('region_name').agg(\n",
    "    unique_events=('event_id', 'nunique'),\n",
    "    total_orders=('order_id', 'count')\n",
    ").reset_index()\n",
    "\n",
    "# Общие значения для подсчёта долей\n",
    "total_unique_events = df['event_id'].nunique()\n",
    "total_orders = df['order_id'].count()\n",
    "\n",
    "# Добавляем доли\n",
    "region_stats['events_share'] = region_stats['unique_events'] / total_unique_events\n",
    "region_stats['orders_share'] = region_stats['total_orders'] / total_orders\n",
    "\n",
    "# Сортируем по количеству уникальных мероприятий, чтобы увидеть регионы с наибольшим разнообразием\n",
    "region_stats = region_stats.sort_values(by='unique_events', ascending=False)\n",
    "\n",
    "display('Топ-10 регионов по количеству уникальных мероприятий:')\n",
    "display(region_stats.head(10))\n",
    "\n",
    "\n"
   ]
  },
  {
   "cell_type": "markdown",
   "metadata": {},
   "source": [
    "Явным лидером по количеству уникальных мероприятий является Каменевский регион (5935), он занимает 27% из проводимых мероприятий и 31% по обработанным заказам. На второй позиции Североярская область (3800), он занимает 17% из проводимых мероприятий и 15% по заказам.За ними существенно отстает Широковская область (1232), он занимает 6% из проводимых мероприятий и 7% по заказам. Эти регионы вносят наибольший вклад в выручку, поэтому на них стоит обратить особое внимание.\t"
   ]
  },
  {
   "cell_type": "markdown",
   "metadata": {},
   "source": [
    "- Для каждого билетного партнёра посчитаем общее число уникальных мероприятий, обработанных заказов и суммарную выручку с заказов билетов. Выведем топ-10 организаторов по количеству заказов."
   ]
  },
  {
   "cell_type": "code",
   "execution_count": 39,
   "metadata": {},
   "outputs": [],
   "source": [
    "# Анализ по билетным партнёрам\n",
    "partner_stats = df.groupby('service_name').agg(\n",
    "    unique_events=('event_id', 'nunique'),\n",
    "    total_orders=('order_id', 'count'),\n",
    "    total_revenue=('revenue_rub', 'sum')\n",
    ").reset_index()"
   ]
  },
  {
   "cell_type": "code",
   "execution_count": 40,
   "metadata": {},
   "outputs": [
    {
     "data": {
      "text/plain": [
       "'Топ-10 самых активных партнёров по количеству заказов:'"
      ]
     },
     "metadata": {},
     "output_type": "display_data"
    },
    {
     "data": {
      "text/html": [
       "<div>\n",
       "<style scoped>\n",
       "    .dataframe tbody tr th:only-of-type {\n",
       "        vertical-align: middle;\n",
       "    }\n",
       "\n",
       "    .dataframe tbody tr th {\n",
       "        vertical-align: top;\n",
       "    }\n",
       "\n",
       "    .dataframe thead th {\n",
       "        text-align: right;\n",
       "    }\n",
       "</style>\n",
       "<table border=\"1\" class=\"dataframe\">\n",
       "  <thead>\n",
       "    <tr style=\"text-align: right;\">\n",
       "      <th></th>\n",
       "      <th>service_name</th>\n",
       "      <th>unique_events</th>\n",
       "      <th>total_orders</th>\n",
       "      <th>total_revenue</th>\n",
       "      <th>events_share</th>\n",
       "      <th>orders_share</th>\n",
       "      <th>revenue_share</th>\n",
       "    </tr>\n",
       "  </thead>\n",
       "  <tbody>\n",
       "    <tr>\n",
       "      <th>3</th>\n",
       "      <td>Билеты без проблем</td>\n",
       "      <td>4247</td>\n",
       "      <td>62858</td>\n",
       "      <td>2.432219e+07</td>\n",
       "      <td>0.189946</td>\n",
       "      <td>0.218445</td>\n",
       "      <td>0.162951</td>\n",
       "    </tr>\n",
       "    <tr>\n",
       "      <th>21</th>\n",
       "      <td>Лови билет!</td>\n",
       "      <td>4867</td>\n",
       "      <td>40802</td>\n",
       "      <td>1.667548e+07</td>\n",
       "      <td>0.217675</td>\n",
       "      <td>0.141796</td>\n",
       "      <td>0.111720</td>\n",
       "    </tr>\n",
       "    <tr>\n",
       "      <th>5</th>\n",
       "      <td>Билеты в руки</td>\n",
       "      <td>3530</td>\n",
       "      <td>40281</td>\n",
       "      <td>1.319433e+07</td>\n",
       "      <td>0.157878</td>\n",
       "      <td>0.139985</td>\n",
       "      <td>0.088398</td>\n",
       "    </tr>\n",
       "    <tr>\n",
       "      <th>24</th>\n",
       "      <td>Мой билет</td>\n",
       "      <td>1300</td>\n",
       "      <td>34440</td>\n",
       "      <td>2.204237e+07</td>\n",
       "      <td>0.058142</td>\n",
       "      <td>0.119686</td>\n",
       "      <td>0.147677</td>\n",
       "    </tr>\n",
       "    <tr>\n",
       "      <th>25</th>\n",
       "      <td>Облачко</td>\n",
       "      <td>2335</td>\n",
       "      <td>26402</td>\n",
       "      <td>1.858861e+07</td>\n",
       "      <td>0.104432</td>\n",
       "      <td>0.091753</td>\n",
       "      <td>0.124538</td>\n",
       "    </tr>\n",
       "    <tr>\n",
       "      <th>22</th>\n",
       "      <td>Лучшие билеты</td>\n",
       "      <td>1762</td>\n",
       "      <td>17741</td>\n",
       "      <td>2.724061e+06</td>\n",
       "      <td>0.078805</td>\n",
       "      <td>0.061654</td>\n",
       "      <td>0.018250</td>\n",
       "    </tr>\n",
       "    <tr>\n",
       "      <th>8</th>\n",
       "      <td>Весь в билетах</td>\n",
       "      <td>855</td>\n",
       "      <td>16425</td>\n",
       "      <td>1.653323e+07</td>\n",
       "      <td>0.038240</td>\n",
       "      <td>0.057080</td>\n",
       "      <td>0.110767</td>\n",
       "    </tr>\n",
       "    <tr>\n",
       "      <th>26</th>\n",
       "      <td>Прачечная</td>\n",
       "      <td>1026</td>\n",
       "      <td>10222</td>\n",
       "      <td>4.746811e+06</td>\n",
       "      <td>0.045888</td>\n",
       "      <td>0.035524</td>\n",
       "      <td>0.031802</td>\n",
       "    </tr>\n",
       "    <tr>\n",
       "      <th>19</th>\n",
       "      <td>Край билетов</td>\n",
       "      <td>252</td>\n",
       "      <td>6109</td>\n",
       "      <td>6.405689e+06</td>\n",
       "      <td>0.011271</td>\n",
       "      <td>0.021230</td>\n",
       "      <td>0.042916</td>\n",
       "    </tr>\n",
       "    <tr>\n",
       "      <th>30</th>\n",
       "      <td>Тебе билет!</td>\n",
       "      <td>1062</td>\n",
       "      <td>5190</td>\n",
       "      <td>2.962303e+06</td>\n",
       "      <td>0.047498</td>\n",
       "      <td>0.018036</td>\n",
       "      <td>0.019846</td>\n",
       "    </tr>\n",
       "  </tbody>\n",
       "</table>\n",
       "</div>"
      ],
      "text/plain": [
       "          service_name  unique_events  total_orders  total_revenue  \\\n",
       "3   Билеты без проблем           4247         62858   2.432219e+07   \n",
       "21         Лови билет!           4867         40802   1.667548e+07   \n",
       "5        Билеты в руки           3530         40281   1.319433e+07   \n",
       "24           Мой билет           1300         34440   2.204237e+07   \n",
       "25             Облачко           2335         26402   1.858861e+07   \n",
       "22       Лучшие билеты           1762         17741   2.724061e+06   \n",
       "8       Весь в билетах            855         16425   1.653323e+07   \n",
       "26           Прачечная           1026         10222   4.746811e+06   \n",
       "19        Край билетов            252          6109   6.405689e+06   \n",
       "30         Тебе билет!           1062          5190   2.962303e+06   \n",
       "\n",
       "    events_share  orders_share  revenue_share  \n",
       "3       0.189946      0.218445       0.162951  \n",
       "21      0.217675      0.141796       0.111720  \n",
       "5       0.157878      0.139985       0.088398  \n",
       "24      0.058142      0.119686       0.147677  \n",
       "25      0.104432      0.091753       0.124538  \n",
       "22      0.078805      0.061654       0.018250  \n",
       "8       0.038240      0.057080       0.110767  \n",
       "26      0.045888      0.035524       0.031802  \n",
       "19      0.011271      0.021230       0.042916  \n",
       "30      0.047498      0.018036       0.019846  "
      ]
     },
     "metadata": {},
     "output_type": "display_data"
    }
   ],
   "source": [
    "# Общие значения для долей\n",
    "total_partner_events = df['event_id'].nunique()\n",
    "total_partner_orders = df['order_id'].count()\n",
    "total_partner_revenue = df['revenue_rub'].sum()\n",
    "\n",
    "# Добавляем доли\n",
    "partner_stats['events_share'] = partner_stats['unique_events'] / total_partner_events\n",
    "partner_stats['orders_share'] = partner_stats['total_orders'] / total_partner_orders\n",
    "partner_stats['revenue_share'] = partner_stats['total_revenue'] / total_partner_revenue\n",
    "\n",
    "# Сортируем по активности партнёров по количеству заказов\n",
    "partner_stats = partner_stats.sort_values(by='total_orders', ascending=False)\n",
    "\n",
    "display('Топ-10 самых активных партнёров по количеству заказов:')\n",
    "display(partner_stats.head(10))  "
   ]
  },
  {
   "cell_type": "markdown",
   "metadata": {},
   "source": [
    "Явным лидером по количеству заказов является организатор \"Билеты без проблем\"\t(62858), что составляет 2% от числа всех заказов, а по доле выручки от общей он составляет 1.6%. Вторую строчку занимает партнер \"Лови билет!\"\t(40802), что составляет 1.4% от числа всех заказов, а по доле выручки от общей он составляет 1.1%. Третью позицию занимает организатор \"Билеты в руки\" (40281)\t,что составляет 1.3% от числа всех заказов, а по доле выручки от общей он составляет уже 0.8%. К данным партнерам также нужно быть более внимательными.\t \t"
   ]
  },
  {
   "cell_type": "markdown",
   "metadata": {},
   "source": [
    "## Статистический анализ данных"
   ]
  },
  {
   "cell_type": "markdown",
   "metadata": {},
   "source": [
    "Проверим две гипотезы, которые предполагают большую активность пользователей мобильных устройств:\n",
    "- Среднее количество заказов на одного пользователя мобильного приложения выше по сравнению с пользователями стационарных устройств.\n",
    "- Среднее время между заказами пользователей мобильных приложений выше по сравнению с пользователями стационарных устройств.\n",
    " \n",
    "Проверим размеры выборок."
   ]
  },
  {
   "cell_type": "code",
   "execution_count": 41,
   "metadata": {},
   "outputs": [
    {
     "data": {
      "text/plain": [
       "device_type_canonical\n",
       "desktop     4868\n",
       "mobile     14192\n",
       "Name: user_id, dtype: int64"
      ]
     },
     "metadata": {},
     "output_type": "display_data"
    },
    {
     "data": {
      "image/png": "[encoded data removed]",
      "text/plain": [
       "<Figure size 504x504 with 1 Axes>"
      ]
     },
     "metadata": {},
     "output_type": "display_data"
    }
   ],
   "source": [
    "# Подсчитаем уникальных пользователей по типу устройства\n",
    "unique_users =df_autumn.groupby('device_type_canonical')['user_id'].nunique()\n",
    "\n",
    "display(unique_users)\n",
    "\n",
    "# Визуализируем круговой диаграммой\n",
    "plt.figure(figsize=(7, 7))\n",
    "plt.pie(unique_users, labels=unique_users.index, autopct='%1.1f%%', startangle=140)\n",
    "plt.title('Доля уникальных пользователей по типу устройства')\n",
    "plt.axis('equal') \n",
    "plt.show()"
   ]
  },
  {
   "cell_type": "markdown",
   "metadata": {},
   "source": [
    "Уникальные пользователи по типам устройств распределены неравномерно: стационарные - 4868, мобильные - 14192. Проверим пересечение пользователей в группах."
   ]
  },
  {
   "cell_type": "code",
   "execution_count": 42,
   "metadata": {},
   "outputs": [
    {
     "data": {
      "text/plain": [
       "'Количество пользователей, использующих и мобильные, и стационарные устройства: 3249'"
      ]
     },
     "metadata": {},
     "output_type": "display_data"
    }
   ],
   "source": [
    "# Уникальные пользователи по типу устройства\n",
    "mobile_users = set(df_autumn[df_autumn['device_type_canonical'] == 'mobile']['user_id'].unique())\n",
    "desktop_users = set(df_autumn[df_autumn['device_type_canonical'] == 'desktop']['user_id'].unique())\n",
    "\n",
    "# Пересечение пользователей\n",
    "common_users = mobile_users.intersection(desktop_users)\n",
    "\n",
    "display(f'Количество пользователей, использующих и мобильные, и стационарные устройства: {len(common_users)}')\n"
   ]
  },
  {
   "cell_type": "markdown",
   "metadata": {},
   "source": [
    "Количество пользователей, использующих и мобильные, и стационарные устройства: 3249. Это довольно таки большое число по сравнению с группой пользователей стационарными устройствами (4868). Пока оставим как есть, удалять не будем."
   ]
  },
  {
   "cell_type": "markdown",
   "metadata": {},
   "source": [
    "Далее нужно посмотреть на распределение двух ключевых показателей:\n",
    "\n",
    "- Количество заказов на пользователя\n",
    "- Время между заказами пользователей\n",
    "\n",
    "Для этого:\n",
    "\n",
    "- Посчитаем количество заказов на пользователя по типу устройства\n",
    "- Визуализируем распределения с помощью boxplot (ящик с усами) для выявления выбросов"
   ]
  },
  {
   "cell_type": "code",
   "execution_count": 43,
   "metadata": {},
   "outputs": [],
   "source": [
    "# Посчитаем количество заказов на пользователя\n",
    "orders_per_user = df_autumn.groupby(['user_id', 'device_type_canonical']).agg(order_count=('order_id', 'count')).reset_index()"
   ]
  },
  {
   "cell_type": "code",
   "execution_count": 44,
   "metadata": {},
   "outputs": [
    {
     "data": {
      "text/plain": [
       "Text(0.5, 0, 'Тип устройства')"
      ]
     },
     "execution_count": 44,
     "metadata": {},
     "output_type": "execute_result"
    },
    {
     "data": {
      "image/png": "[encoded data removed]",
      "text/plain": [
       "<Figure size 864x360 with 1 Axes>"
      ]
     },
     "metadata": {
      "needs_background": "light"
     },
     "output_type": "display_data"
    }
   ],
   "source": [
    "# Посчитаем количество заказов на пользователя\n",
    "orders_per_user = df_autumn.groupby(['user_id', 'device_type_canonical']).agg(order_count=('order_id', 'count')).reset_index()\n",
    "\n",
    "# Визуализируем распределение для количества заказов\n",
    "plt.figure(figsize=(12, 5))\n",
    "plt.subplot(1, 2, 1)\n",
    "sns.boxplot(x='device_type_canonical', y='order_count', data=orders_per_user)\n",
    "plt.title('Распределение количества заказов на пользователя')\n",
    "plt.yscale('log')  # Логарифмическая шкала для удобства восприятия выбросов\n",
    "plt.ylabel('Количество заказов (лог шкала)')\n",
    "plt.xlabel('Тип устройства')"
   ]
  },
  {
   "cell_type": "code",
   "execution_count": 45,
   "metadata": {},
   "outputs": [
    {
     "data": {
      "image/png": "[encoded data removed]",
      "text/plain": [
       "<Figure size 720x360 with 1 Axes>"
      ]
     },
     "metadata": {
      "needs_background": "light"
     },
     "output_type": "display_data"
    }
   ],
   "source": [
    "# Фильтруем данные, чтобы убрать нулевые или отрицательные значения по количеству дней между покупками пользователей\n",
    "df_filtered = df_autumn[df_autumn['days_since_prev'] > 0]\n",
    "\n",
    "# Визуализируем распрелеление для времени между заказами по типу устройства\n",
    "plt.figure(figsize=(10, 5))\n",
    "sns.boxplot(x='device_type_canonical', y='days_since_prev', data=df_autumn)\n",
    "plt.title('Время между заказами по типу устройства (days_since_prev)')\n",
    "plt.yscale('log')  # Логарифмическая шкала для лучшего отображения выбросов\n",
    "plt.xlabel('Тип устройства')\n",
    "plt.ylabel('Дни между заказами (лог шкала)')\n",
    "plt.show()"
   ]
  },
  {
   "cell_type": "markdown",
   "metadata": {},
   "source": [
    "Распределение двух ключевых показателей показывают, что в данных есть выбросы. Для проверки гипотез мы будем использовать непараметрический тест Манна-Уитни, так как данные распределены ненормально, в них имеются выбросы и разные размеры выборок в группах. "
   ]
  },
  {
   "cell_type": "markdown",
   "metadata": {},
   "source": [
    "Сформулируем гипотезы:\n",
    "\n",
    "- 1.Среднее количество заказов на одного пользователя мобильного приложения выше по сравнению с пользователями стационарных устройств.\n",
    "  - Нулевая гипотеза H₀: Среднее количество заказов на одного пользователя мобильного приложения не выше по сравнению с пользователями стационарных устройств.\n",
    "\n",
    "  - Альтернативная гипотеза H₁:Среднее количество заказов на одного пользователя мобильного приложения выше по сравнению с пользователями стационарных устройств.\n",
    "  \n",
    "- 2.Среднее время между заказами пользователей мобильных приложений выше по сравнению с пользователями стационарных устройств.\n",
    "  - Нулевая гипотеза H₀: Среднее время между заказами пользователей мобильных приложений не выше по сравнению с пользователями стационарных устройств.\n",
    "\n",
    "  - Альтернативная гипотеза H₁: Среднее время между заказами пользователей мобильных приложений выше по сравнению с пользователями стационарных устройств.\n",
    "  \n",
    "Проверяем односторонние альтернативы, так как интересует именно \"мобильные > стационарные\"."
   ]
  },
  {
   "cell_type": "code",
   "execution_count": 46,
   "metadata": {},
   "outputs": [
    {
     "data": {
      "text/plain": [
       "'Гипотеза 1 (количество заказов): статистика=36111903.000, p-value=0.00000'"
      ]
     },
     "metadata": {},
     "output_type": "display_data"
    },
    {
     "data": {
      "text/plain": [
       "'Отвергаем нулевую гипотезу: у мобильных пользователей больше заказов.'"
      ]
     },
     "metadata": {},
     "output_type": "display_data"
    }
   ],
   "source": [
    "# Гипотеза 1: сравнение количества заказов\n",
    "mobile_orders = orders_per_user[orders_per_user['device_type_canonical'] == 'mobile']['order_count']\n",
    "desktop_orders = orders_per_user[orders_per_user['device_type_canonical'] == 'desktop']['order_count']\n",
    "\n",
    "# Тест Манна-Уитни (односторонний: mobile > desktop)\n",
    "stat1, p_value1 = mannwhitneyu(mobile_orders, desktop_orders, alternative='greater')\n",
    "\n",
    "display(f'Гипотеза 1 (количество заказов): статистика={stat1:.3f}, p-value={p_value1:.5f}')\n",
    "if p_value1 < 0.05:\n",
    "    display('Отвергаем нулевую гипотезу: у мобильных пользователей больше заказов.')\n",
    "else:\n",
    "    display('Нет оснований отвергать нулевую гипотезу: у мобильных пользователей не больше заказов.')"
   ]
  },
  {
   "cell_type": "code",
   "execution_count": 47,
   "metadata": {},
   "outputs": [
    {
     "data": {
      "text/plain": [
       "'Гипотеза 2 (время между заказами): статистика=165018955.500, p-value=0.18474'"
      ]
     },
     "metadata": {},
     "output_type": "display_data"
    },
    {
     "data": {
      "text/plain": [
       "'Нет оснований отвергать нулевую гипотезу: время между заказами у мобильных пользователей не больше'"
      ]
     },
     "metadata": {},
     "output_type": "display_data"
    }
   ],
   "source": [
    "# Гипотеза 2: сравнение времени между заказами\n",
    "# Подготовка выборок для теста Манна-Уитни\n",
    "mobile_times = df_filtered[df_filtered['device_type_canonical'] == 'mobile']['days_since_prev']\n",
    "desktop_times = df_filtered[df_filtered['device_type_canonical'] == 'desktop']['days_since_prev']\n",
    "\n",
    "# Тест Манна-Уитни (односторонний: mobile > desktop)\n",
    "stat, p_value = mannwhitneyu(mobile_times, desktop_times, alternative='greater')\n",
    "\n",
    "display(f'Гипотеза 2 (время между заказами): статистика={stat:.3f}, p-value={p_value:.5f}')\n",
    "if p_value < 0.05:\n",
    "    display('Отвергаем нулевую гипотезу: время между заказами у мобильных пользователей больше.')\n",
    "else:\n",
    "    display('Нет оснований отвергать нулевую гипотезу: время между заказами у мобильных пользователей не больше')\n"
   ]
  },
  {
   "cell_type": "markdown",
   "metadata": {},
   "source": [
    "\n",
    "\n",
    "**Выводы по исследованию активности пользователей мобильных и стационарных устройств**\n",
    "\n",
    "Гипотеза 1: Среднее количество заказов на пользователя\n",
    "\n",
    "- Результат: \n",
    " - Статистика теста Манна-Уитни = 36111658.500 \n",
    " - p-value ≈ 0.00000 (очень маленькое значение) \n",
    " \n",
    " Поскольку p-value значительно меньше уровня значимости 0.05, мы отвергаем нулевую гипотезу. Пользователи мобильных устройств в среднем делают больше заказов, что может свидетельствовать о большей активности или удобстве использования мобильного приложения.\n",
    "\n",
    "---\n",
    "\n",
    "2. Гипотеза 2: Среднее время между заказами\n",
    "\n",
    "- Результат: \n",
    " - Статистика теста = 165018955.500 \n",
    " - p-value = 0.18474 (больше 0.05) \n",
    "\n",
    " Поскольку p-value больше 0.05, у нас нет статистических оснований отвергать нулевую гипотезу. Время между заказами у пользователей мобильных и стационарных устройств не отличается статистически значимо, то есть частота повторных заказов у обеих групп примерно сопоставима.\n"
   ]
  },
  {
   "cell_type": "markdown",
   "metadata": {},
   "source": [
    "## Общий вывод и рекомендации"
   ]
  },
  {
   "cell_type": "markdown",
   "metadata": {},
   "source": [
    "В данной исследовательской работе были сделаны следующие задачи и выводы:\n",
    "\n",
    "**1. Загрузка данных и знакомство с ними** \n",
    "\n",
    "Нам предоставили для исследовани три датасета.Первый датасет **final_tickets_orders_df.csv** включает информацию обо всех заказах билетов, совершённых с двух типов устройств — мобильных и стационарных. В таблице представлены данные в 290849 строк и 14 столбцов. Названия столбцов в едином регистре, без лишних пробелов. Только в одном столбце days_since_prev есть пропуски и это нормально, они означают, что у этого покупателя не было покупок. В двух столбцах created_dt_msk и created_ts_msk не соответствут тип данных.\n",
    "\n",
    "Второй датасет **final_tickets_events_df.csv** содержит информацию о событиях, включая город и регион события, а также информацию о площадке проведения мероприятия. В таблице представлены данные в 22427 строк и 11 столбцов. Названия столбцов в едином регистре, без лишних пробелов. Пропуски в данных отсутствуют, типы данных соответствуют описанию.\n",
    "\n",
    "Третий датасет **final_tickets_tenge_df.csv** с информацией о курсе тенге к российскому рублю за 2024 год. Значения в рублях представлено для 100 тенге.В таблице представлены данные в 357 строк и 4 столбцов. Названия столбцов в едином регистре, без лишних пробелов. Пропуски в данных отсутствуют\n",
    "\n",
    "**2. Предобработка данных и подготовка их к исследованию**\n",
    "- Проверили данные на пропуски. Проверили, что выгрузка данных из SQL была успешной. Кроме столбца days_since_prev, данные не содержат пропусков.\n",
    "- Изучили значения в ключевых столбцах и не обнаружили ошибок.\n",
    "- Для категориальных значений изучили, какие категории присутствуют в данных.\n",
    "- Для количественных значений посмотрели на распределение и наличие выбросов. Отобрали значения по 99-му процентилю.\n",
    "- Проверили явные и неявные дубликаты. Явных не обнаружили, удалили 31 неявных.\n",
    "- Провели преобразования типов данных в столбцах с датой и временем.\n",
    "- Создали несколько новых столбцов:\n",
    "  - revenue_rub — выручка с заказов в единой валюте (руб).\n",
    "  - one_ticket_revenue_rub — выручка с продажи одного билета на мероприятие.\n",
    "  - month — месяц оформления заказа.\n",
    "  - season — информация о сезонности (лето,осень).  И по графику и по таблице убедились, что действительно наблюдается рост заказов к осени почти в 3 раза. Значит, сезонность имеет место быть.\n",
    "\n",
    "**3. Исследовательский анализ данных**\n",
    "- Провели анализ распределения заказов по сегментам и их сезонные изменения. Летом концерты чаще посещают, чем осенью. А вот к осени более популярно посещать театры и спортивные мероприятия. \n",
    "- По распределению заказов по типам устройств можно сказать, что сильного различия нет. Мобильные устройства лидируют и летом и осенью, летом чуть больше, т к многие в отпусках и больше времени проводят вне помещений, где могут быть использованы стационарные устройства. А вот осенью наоборот,больше заказов со стационарных устройств, т к больше времени проводят на работе, в помещениях.\n",
    "- Самый популярный возраст, который посещают мероприятия это 16+, 12+ и 0+. В летний период более активны 16+, 12+,6+.  А осенью лидируют 16+,0+,12+. \n",
    "- Средняя выручка с одного билета по выставкам и стендапам выросла примерно на 5%, по категории спорт и другое снизилась на 2%, концерты, елки и театры подешевели более 10%. Число заказов по дням имеет положительную динамику, наблюдаются пики 1.09.2024 и 1.10.2024, видимо связанные с праздничным днем.\n",
    "- Число активных пользователей также показывает рост. Среднее число заказов на пользователя стабильна, за исключением также 1.09.2024 и 1.10.2024, предполагаем, что из-за праздников.\n",
    "- Средняя стоимость одного билета также более-менее стабильна, к концу осени наблюдается спад. Также видим резкое снижение 1.09.2024 и 1.10.2024, возможно из-за праздников проводились различные акции, что удешевило стоимость билета.\n",
    "- По дням недели среднее количество заказов распределяется более-менее стабильно, резких скачков не наблюдается. Во вторник видим увеличение заказов, в воскресенье и понедельник меньше заказов, чем в другие дни недели.  \n",
    "- Явным лидером по количеству уникальных мероприятий является Каменевский регион (5935), он занимает 27% из проводимых мероприятий и 31% по обработанным заказам. На второй позиции Североярская область (3800), он занимает 17% из проводимых мероприятий и 15% по заказам.За ними существенно отстает Широковская область (1232), он занимает 6% из проводимых мероприятий и 7% по заказам. \n",
    "- Явным лидером по количеству заказов является организатор \"Билеты без проблем\"\t(62858), что составляет 2% от числа всех заказов, а по доле выручки от общей он составляет 1.6%. Вторую строчку занимает партнер \"Лови билет!\"\t(40802), что составляет 1.4% от числа всех заказов, а по доле выручки от общей он составляет 1.1%. Третью позицию занимает организатор \"Билеты в руки\" (40281)\t,что составляет 1.3% от числа всех заказов, а по доле выручки от общей он составляет уже 0.8%.\n",
    "**4. Статистический анализ данных**\n",
    "По исследованию активности пользователей мобильных и стационарных устройств сделали следующие выводы:\n",
    "- Гипотеза 1: Среднее количество заказов на пользователя\n",
    "\n",
    "Результат:\n",
    "\n",
    "Статистика теста Манна-Уитни = 36111658.500\n",
    "p-value ≈ 0.00000 (очень маленькое значение)\n",
    "Поскольку p-value значительно меньше уровня значимости 0.05, мы отвергаем нулевую гипотезу. Пользователи мобильных устройств в среднем делают больше заказов, что может свидетельствовать о большей активности или удобстве использования мобильного приложения.\n",
    "\n",
    "- Гипотеза 2: Среднее время между заказами\n",
    "Результат:\n",
    "\n",
    "Статистика теста = 165018955.500\n",
    "p-value = 0.18474 (больше 0.05)\n",
    "Поскольку p-value больше 0.05, у нас нет статистических оснований отвергать нулевую гипотезу. Время между заказами у пользователей мобильных и стационарных устройств не отличается статистически значимо, то есть частота повторных заказов у обеих групп примерно сопоставима.\n",
    "\n",
    "\n",
    "**Общий итог**\n",
    "\n",
    "По поставленной задаче выяснить причину почему к осени наблюдается спад средней выручки при росте заказов был сделан вывод, что осенью больше проводятся мероприятий посвященных праздникам и возможно из-за проведенных акций снизилась и выручка. Также одной из причин может быть то, что летом более популярны концерты, а стоимость билета на концерты существенно дороже, чем на остальные мероприятия. \n",
    "\n",
    "По проверке гипотез мы выяснили, что мобильные пользователи более активны в плане общего количества заказов. Однако периодичность или интервал между заказами не различается между мобильными и стационарными пользователями. Это может говорить о том, что мобильные пользователи совершают больше заказов, но с примерно такой же частотой, как и стационарные пользователи.\n",
    "\n",
    "**Рекомендации**\n",
    "\n",
    "Сезонная оптимизация ценовой политики:\n",
    "- Внедрить динамическое ценообразование в зависимости от типа мероприятия и сезона\n",
    "- Разработать премиальные пакеты билетов для праздничных мероприятий осенью\n",
    "- Создать специальные предложения для концертов в низкий сезон\n",
    "\n",
    "Работа с мобильными пользователями:\n",
    "- Разработать специальные акции для мобильных пользователей\n",
    "- Внедрить push-уведомления о премиальных мероприятиях и высоких ценах\n",
    "\n",
    "Продуктовые рекомендации:\n",
    "- Увеличить долю концертов и других высокомаржинальных мероприятий осенью\n",
    "- Разработать гибридные форматы мероприятий, сочетающие разные типы развлечений\n",
    "- Внедрить систему персонализированных рекомендаций на основе предпочтений пользователя\n",
    "\n",
    "Маркетинговые активности:\n",
    "- Проводить точечные акции на высокомаржинальные мероприятия\n",
    "- Разработать стратегию продвижения концертов и других дорогих мероприятий\n",
    "- Внедрить \"допродажи\" сопутствующих услуг\n",
    "\n"
   ]
  }
 ],
 "metadata": {
  "ExecuteTimeLog": [
   {
    "duration": 63,
    "start_time": "2025-05-28T10:19:09.704Z"
   },
   {
    "duration": 6,
    "start_time": "2025-05-28T10:20:11.932Z"
   },
   {
    "duration": 6,
    "start_time": "2025-05-28T10:20:23.106Z"
   },
   {
    "duration": 1501,
    "start_time": "2025-05-28T10:21:14.635Z"
   },
   {
    "duration": 124,
    "start_time": "2025-05-28T10:21:16.926Z"
   },
   {
    "duration": 1115,
    "start_time": "2025-05-28T10:22:02.065Z"
   },
   {
    "duration": 208,
    "start_time": "2025-05-28T10:22:03.182Z"
   },
   {
    "duration": 1556,
    "start_time": "2025-05-28T10:23:27.415Z"
   },
   {
    "duration": 2050,
    "start_time": "2025-05-28T10:27:44.426Z"
   },
   {
    "duration": 2156,
    "start_time": "2025-05-28T10:28:14.925Z"
   },
   {
    "duration": 119,
    "start_time": "2025-05-28T10:33:10.639Z"
   },
   {
    "duration": 1463,
    "start_time": "2025-05-28T13:19:05.380Z"
   },
   {
    "duration": 171,
    "start_time": "2025-05-28T13:19:44.226Z"
   },
   {
    "duration": 25,
    "start_time": "2025-05-28T13:28:48.397Z"
   },
   {
    "duration": 98,
    "start_time": "2025-05-28T13:33:30.009Z"
   },
   {
    "duration": 28,
    "start_time": "2025-05-28T13:33:45.847Z"
   },
   {
    "duration": 14,
    "start_time": "2025-05-28T13:39:57.857Z"
   },
   {
    "duration": 30,
    "start_time": "2025-05-28T13:40:35.178Z"
   },
   {
    "duration": 692,
    "start_time": "2025-05-28T13:41:38.327Z"
   },
   {
    "duration": 219,
    "start_time": "2025-05-28T13:42:44.337Z"
   },
   {
    "duration": 371,
    "start_time": "2025-05-28T13:51:09.437Z"
   },
   {
    "duration": 11,
    "start_time": "2025-05-28T13:55:02.118Z"
   },
   {
    "duration": 365,
    "start_time": "2025-05-28T13:55:31.550Z"
   },
   {
    "duration": 274,
    "start_time": "2025-05-28T13:58:14.365Z"
   },
   {
    "duration": 69,
    "start_time": "2025-05-28T13:58:56.845Z"
   },
   {
    "duration": 281,
    "start_time": "2025-05-28T13:59:50.041Z"
   },
   {
    "duration": 310,
    "start_time": "2025-05-28T14:02:20.137Z"
   },
   {
    "duration": 296,
    "start_time": "2025-05-28T14:02:24.771Z"
   },
   {
    "duration": 250,
    "start_time": "2025-05-28T14:06:47.078Z"
   },
   {
    "duration": 221,
    "start_time": "2025-05-28T14:21:54.975Z"
   },
   {
    "duration": 224,
    "start_time": "2025-05-28T14:22:45.285Z"
   },
   {
    "duration": 378,
    "start_time": "2025-05-28T14:26:53.698Z"
   },
   {
    "duration": 519,
    "start_time": "2025-05-28T14:29:18.871Z"
   },
   {
    "duration": 383,
    "start_time": "2025-05-28T14:29:46.733Z"
   },
   {
    "duration": 282,
    "start_time": "2025-05-28T14:52:15.561Z"
   },
   {
    "duration": 271,
    "start_time": "2025-05-28T14:52:20.469Z"
   },
   {
    "duration": 215,
    "start_time": "2025-05-28T15:02:04.581Z"
   },
   {
    "duration": 41,
    "start_time": "2025-05-28T15:02:07.327Z"
   },
   {
    "duration": 3630,
    "start_time": "2025-05-28T15:02:21.137Z"
   },
   {
    "duration": 1932,
    "start_time": "2025-05-28T15:04:25.447Z"
   },
   {
    "duration": 50,
    "start_time": "2025-05-28T15:10:08.600Z"
   },
   {
    "duration": 49,
    "start_time": "2025-05-28T15:10:34.005Z"
   },
   {
    "duration": 1776,
    "start_time": "2025-05-28T15:26:31.849Z"
   },
   {
    "duration": 10,
    "start_time": "2025-05-28T15:41:19.128Z"
   },
   {
    "duration": 574,
    "start_time": "2025-05-28T15:52:35.617Z"
   },
   {
    "duration": 363,
    "start_time": "2025-05-28T15:53:50.853Z"
   },
   {
    "duration": 501,
    "start_time": "2025-05-28T15:55:05.146Z"
   },
   {
    "duration": 272,
    "start_time": "2025-05-28T15:58:06.892Z"
   },
   {
    "duration": 95,
    "start_time": "2025-05-28T16:00:39.738Z"
   },
   {
    "duration": 424,
    "start_time": "2025-05-28T16:01:19.618Z"
   },
   {
    "duration": 243,
    "start_time": "2025-05-28T16:02:17.609Z"
   },
   {
    "duration": 138,
    "start_time": "2025-05-28T16:02:57.969Z"
   },
   {
    "duration": 379,
    "start_time": "2025-05-28T16:04:37.106Z"
   },
   {
    "duration": 96,
    "start_time": "2025-05-28T16:06:06.579Z"
   },
   {
    "duration": 124,
    "start_time": "2025-05-28T16:07:11.509Z"
   },
   {
    "duration": 159,
    "start_time": "2025-05-28T16:37:32.457Z"
   },
   {
    "duration": 8,
    "start_time": "2025-05-28T16:40:29.688Z"
   },
   {
    "duration": 4,
    "start_time": "2025-05-28T16:41:34.705Z"
   },
   {
    "duration": 391,
    "start_time": "2025-05-28T16:42:05.671Z"
   },
   {
    "duration": 373,
    "start_time": "2025-05-28T16:43:33.997Z"
   },
   {
    "duration": 295,
    "start_time": "2025-05-28T16:47:40.026Z"
   },
   {
    "duration": 9,
    "start_time": "2025-05-28T16:52:45.860Z"
   },
   {
    "duration": 385,
    "start_time": "2025-05-28T16:56:48.679Z"
   },
   {
    "duration": 12,
    "start_time": "2025-05-28T16:58:31.178Z"
   },
   {
    "duration": 537,
    "start_time": "2025-05-28T17:01:27.289Z"
   },
   {
    "duration": 13,
    "start_time": "2025-05-28T17:28:47.436Z"
   },
   {
    "duration": 690,
    "start_time": "2025-05-28T17:29:22.004Z"
   },
   {
    "duration": 356,
    "start_time": "2025-05-28T17:36:55.465Z"
   },
   {
    "duration": 362,
    "start_time": "2025-05-28T17:37:27.212Z"
   },
   {
    "duration": 584,
    "start_time": "2025-05-28T17:37:48.156Z"
   },
   {
    "duration": 674,
    "start_time": "2025-05-28T17:41:18.337Z"
   },
   {
    "duration": 383,
    "start_time": "2025-05-28T17:41:53.616Z"
   },
   {
    "duration": 4,
    "start_time": "2025-05-28T17:44:11.486Z"
   },
   {
    "duration": 36,
    "start_time": "2025-05-28T17:45:13.364Z"
   },
   {
    "duration": 69,
    "start_time": "2025-05-28T17:46:25.397Z"
   },
   {
    "duration": 18,
    "start_time": "2025-05-28T17:47:22.429Z"
   },
   {
    "duration": 47,
    "start_time": "2025-05-28T17:48:10.759Z"
   },
   {
    "duration": 17,
    "start_time": "2025-05-28T17:48:14.158Z"
   },
   {
    "duration": 17,
    "start_time": "2025-05-28T17:49:59.128Z"
   },
   {
    "duration": 26,
    "start_time": "2025-05-28T17:51:32.148Z"
   },
   {
    "duration": 12,
    "start_time": "2025-05-28T17:53:21.423Z"
   },
   {
    "duration": 7,
    "start_time": "2025-05-28T17:53:40.067Z"
   },
   {
    "duration": 47,
    "start_time": "2025-05-28T17:53:46.761Z"
   },
   {
    "duration": 18,
    "start_time": "2025-05-28T17:53:47.675Z"
   },
   {
    "duration": 23,
    "start_time": "2025-05-28T17:53:48.911Z"
   },
   {
    "duration": 1308,
    "start_time": "2025-05-29T04:30:29.683Z"
   },
   {
    "duration": 1908,
    "start_time": "2025-05-29T04:30:30.993Z"
   },
   {
    "duration": 121,
    "start_time": "2025-05-29T04:30:32.902Z"
   },
   {
    "duration": 170,
    "start_time": "2025-05-29T04:30:33.025Z"
   },
   {
    "duration": 310,
    "start_time": "2025-05-29T04:30:33.197Z"
   },
   {
    "duration": 287,
    "start_time": "2025-05-29T04:30:33.508Z"
   },
   {
    "duration": 388,
    "start_time": "2025-05-29T04:30:33.796Z"
   },
   {
    "duration": 210,
    "start_time": "2025-05-29T04:30:34.185Z"
   },
   {
    "duration": 62,
    "start_time": "2025-05-29T04:30:34.397Z"
   },
   {
    "duration": 3491,
    "start_time": "2025-05-29T04:30:34.460Z"
   },
   {
    "duration": 1857,
    "start_time": "2025-05-29T04:30:37.957Z"
   },
   {
    "duration": 122,
    "start_time": "2025-05-29T04:30:39.816Z"
   },
   {
    "duration": 462,
    "start_time": "2025-05-29T04:30:39.940Z"
   },
   {
    "duration": 427,
    "start_time": "2025-05-29T04:30:40.405Z"
   },
   {
    "duration": 596,
    "start_time": "2025-05-29T04:30:40.834Z"
   },
   {
    "duration": 394,
    "start_time": "2025-05-29T04:30:41.432Z"
   },
   {
    "duration": 7,
    "start_time": "2025-05-29T04:30:41.827Z"
   },
   {
    "duration": 56,
    "start_time": "2025-05-29T04:30:41.835Z"
   },
   {
    "duration": 48,
    "start_time": "2025-05-29T04:30:41.892Z"
   },
   {
    "duration": 37,
    "start_time": "2025-05-29T04:30:41.941Z"
   },
   {
    "duration": 27,
    "start_time": "2025-05-29T04:30:41.979Z"
   },
   {
    "duration": 200,
    "start_time": "2025-05-29T04:46:23.775Z"
   },
   {
    "duration": 25,
    "start_time": "2025-05-29T04:47:14.528Z"
   },
   {
    "duration": 53,
    "start_time": "2025-05-29T04:51:42.710Z"
   },
   {
    "duration": 52,
    "start_time": "2025-05-29T04:52:02.568Z"
   },
   {
    "duration": 186,
    "start_time": "2025-05-29T04:53:34.749Z"
   },
   {
    "duration": 104,
    "start_time": "2025-05-29T04:55:29.865Z"
   },
   {
    "duration": 183,
    "start_time": "2025-05-29T04:56:23.333Z"
   },
   {
    "duration": 163,
    "start_time": "2025-05-29T04:56:50.742Z"
   },
   {
    "duration": 4,
    "start_time": "2025-05-29T05:04:04.376Z"
   },
   {
    "duration": 9,
    "start_time": "2025-05-29T05:05:32.770Z"
   },
   {
    "duration": 110,
    "start_time": "2025-05-29T05:05:53.922Z"
   },
   {
    "duration": 999,
    "start_time": "2025-05-29T05:06:39.733Z"
   },
   {
    "duration": 934,
    "start_time": "2025-05-29T05:08:18.903Z"
   },
   {
    "duration": 560,
    "start_time": "2025-05-29T05:12:45.027Z"
   },
   {
    "duration": 9,
    "start_time": "2025-05-29T06:25:30.463Z"
   },
   {
    "duration": 49,
    "start_time": "2025-05-29T06:25:44.721Z"
   },
   {
    "duration": 7,
    "start_time": "2025-05-29T06:27:14.627Z"
   },
   {
    "duration": 4,
    "start_time": "2025-05-29T06:27:59.254Z"
   },
   {
    "duration": 543,
    "start_time": "2025-05-29T06:28:32.728Z"
   },
   {
    "duration": 687,
    "start_time": "2025-05-29T06:29:31.818Z"
   },
   {
    "duration": 259,
    "start_time": "2025-05-29T06:35:47.805Z"
   },
   {
    "duration": 380,
    "start_time": "2025-05-29T06:37:59.297Z"
   },
   {
    "duration": 115,
    "start_time": "2025-05-29T06:38:50.766Z"
   },
   {
    "duration": 130,
    "start_time": "2025-05-29T06:39:50.487Z"
   },
   {
    "duration": 120,
    "start_time": "2025-05-29T06:43:08.307Z"
   },
   {
    "duration": 103,
    "start_time": "2025-05-29T06:43:56.907Z"
   },
   {
    "duration": 264,
    "start_time": "2025-05-29T06:44:49.911Z"
   },
   {
    "duration": 115,
    "start_time": "2025-05-29T06:47:34.353Z"
   },
   {
    "duration": 304,
    "start_time": "2025-05-29T06:48:08.166Z"
   },
   {
    "duration": 561,
    "start_time": "2025-05-29T06:49:32.114Z"
   },
   {
    "duration": 352,
    "start_time": "2025-05-29T06:50:48.153Z"
   },
   {
    "duration": 648,
    "start_time": "2025-05-29T06:51:30.373Z"
   },
   {
    "duration": 538,
    "start_time": "2025-05-29T06:52:50.661Z"
   },
   {
    "duration": 567,
    "start_time": "2025-05-29T06:54:37.462Z"
   },
   {
    "duration": 572,
    "start_time": "2025-05-29T06:56:34.301Z"
   },
   {
    "duration": 334,
    "start_time": "2025-05-29T06:58:16.074Z"
   },
   {
    "duration": 697,
    "start_time": "2025-05-29T06:58:45.613Z"
   },
   {
    "duration": 590,
    "start_time": "2025-05-29T07:01:32.873Z"
   },
   {
    "duration": 559,
    "start_time": "2025-05-29T07:01:57.240Z"
   },
   {
    "duration": 517,
    "start_time": "2025-05-29T07:04:04.623Z"
   },
   {
    "duration": 598,
    "start_time": "2025-05-29T07:05:18.386Z"
   },
   {
    "duration": 586,
    "start_time": "2025-05-29T07:06:05.461Z"
   },
   {
    "duration": 655,
    "start_time": "2025-05-29T07:06:18.550Z"
   },
   {
    "duration": 465,
    "start_time": "2025-05-29T07:07:49.670Z"
   },
   {
    "duration": 562,
    "start_time": "2025-05-29T07:09:07.428Z"
   },
   {
    "duration": 581,
    "start_time": "2025-05-29T07:20:37.342Z"
   },
   {
    "duration": 1315,
    "start_time": "2025-05-29T10:53:26.178Z"
   },
   {
    "duration": 5104,
    "start_time": "2025-05-29T10:53:27.495Z"
   },
   {
    "duration": 127,
    "start_time": "2025-05-29T10:53:32.601Z"
   },
   {
    "duration": 177,
    "start_time": "2025-05-29T10:53:32.736Z"
   },
   {
    "duration": 309,
    "start_time": "2025-05-29T10:53:32.916Z"
   },
   {
    "duration": 315,
    "start_time": "2025-05-29T10:53:33.226Z"
   },
   {
    "duration": 388,
    "start_time": "2025-05-29T10:53:33.542Z"
   },
   {
    "duration": 225,
    "start_time": "2025-05-29T10:53:33.931Z"
   },
   {
    "duration": 57,
    "start_time": "2025-05-29T10:53:34.158Z"
   },
   {
    "duration": 3635,
    "start_time": "2025-05-29T10:53:34.216Z"
   },
   {
    "duration": 1851,
    "start_time": "2025-05-29T10:53:37.853Z"
   },
   {
    "duration": 129,
    "start_time": "2025-05-29T10:53:39.706Z"
   },
   {
    "duration": 473,
    "start_time": "2025-05-29T10:53:39.837Z"
   },
   {
    "duration": 434,
    "start_time": "2025-05-29T10:53:40.313Z"
   },
   {
    "duration": 590,
    "start_time": "2025-05-29T10:53:40.749Z"
   },
   {
    "duration": 371,
    "start_time": "2025-05-29T10:53:41.340Z"
   },
   {
    "duration": 6,
    "start_time": "2025-05-29T10:53:41.713Z"
   },
   {
    "duration": 106,
    "start_time": "2025-05-29T10:53:41.721Z"
   },
   {
    "duration": 49,
    "start_time": "2025-05-29T10:53:41.829Z"
   },
   {
    "duration": 20,
    "start_time": "2025-05-29T10:53:41.880Z"
   },
   {
    "duration": 38,
    "start_time": "2025-05-29T10:53:41.902Z"
   },
   {
    "duration": 41,
    "start_time": "2025-05-29T10:53:41.942Z"
   },
   {
    "duration": 203,
    "start_time": "2025-05-29T10:53:41.984Z"
   },
   {
    "duration": 4,
    "start_time": "2025-05-29T10:53:42.189Z"
   },
   {
    "duration": 122,
    "start_time": "2025-05-29T10:53:42.195Z"
   },
   {
    "duration": 1007,
    "start_time": "2025-05-29T10:53:42.319Z"
   },
   {
    "duration": 43,
    "start_time": "2025-05-29T10:53:43.335Z"
   },
   {
    "duration": 7,
    "start_time": "2025-05-29T10:53:43.380Z"
   },
   {
    "duration": 4,
    "start_time": "2025-05-29T10:53:43.388Z"
   },
   {
    "duration": 568,
    "start_time": "2025-05-29T10:53:43.394Z"
   },
   {
    "duration": 194,
    "start_time": "2025-05-29T11:10:27.843Z"
   },
   {
    "duration": 82,
    "start_time": "2025-05-29T11:15:15.640Z"
   },
   {
    "duration": 289,
    "start_time": "2025-05-29T11:16:09.057Z"
   },
   {
    "duration": 839,
    "start_time": "2025-05-29T11:16:49.681Z"
   },
   {
    "duration": 14,
    "start_time": "2025-05-29T11:21:15.556Z"
   },
   {
    "duration": 1366,
    "start_time": "2025-05-29T11:21:35.988Z"
   },
   {
    "duration": 14,
    "start_time": "2025-05-29T11:22:22.615Z"
   },
   {
    "duration": 14,
    "start_time": "2025-05-29T11:22:30.467Z"
   },
   {
    "duration": 14,
    "start_time": "2025-05-29T11:22:39.992Z"
   },
   {
    "duration": 262,
    "start_time": "2025-05-29T11:22:41.940Z"
   },
   {
    "duration": 10,
    "start_time": "2025-05-29T11:23:46.700Z"
   },
   {
    "duration": 141,
    "start_time": "2025-05-29T11:23:50.072Z"
   },
   {
    "duration": 16,
    "start_time": "2025-05-29T11:30:04.366Z"
   },
   {
    "duration": 67,
    "start_time": "2025-05-29T11:30:50.905Z"
   },
   {
    "duration": 232,
    "start_time": "2025-05-29T11:33:35.211Z"
   },
   {
    "duration": 742,
    "start_time": "2025-05-29T11:33:43.401Z"
   },
   {
    "duration": 11,
    "start_time": "2025-05-29T11:33:46.956Z"
   },
   {
    "duration": 146,
    "start_time": "2025-05-29T11:33:48.215Z"
   },
   {
    "duration": 16,
    "start_time": "2025-05-29T11:34:49.694Z"
   },
   {
    "duration": 620,
    "start_time": "2025-05-29T11:34:53.555Z"
   },
   {
    "duration": 10,
    "start_time": "2025-05-29T11:34:54.896Z"
   },
   {
    "duration": 17,
    "start_time": "2025-05-29T11:34:59.586Z"
   },
   {
    "duration": 20,
    "start_time": "2025-05-29T11:35:56.529Z"
   },
   {
    "duration": 161,
    "start_time": "2025-05-29T11:36:18.940Z"
   },
   {
    "duration": 146,
    "start_time": "2025-05-29T11:37:27.573Z"
   },
   {
    "duration": 101,
    "start_time": "2025-05-29T11:37:34.936Z"
   },
   {
    "duration": 798,
    "start_time": "2025-05-29T11:37:37.149Z"
   },
   {
    "duration": 10,
    "start_time": "2025-05-29T11:37:38.795Z"
   },
   {
    "duration": 161,
    "start_time": "2025-05-29T11:37:43.046Z"
   },
   {
    "duration": 118,
    "start_time": "2025-05-29T11:39:04.200Z"
   },
   {
    "duration": 825,
    "start_time": "2025-05-29T11:39:11.746Z"
   },
   {
    "duration": 11,
    "start_time": "2025-05-29T11:39:15.796Z"
   },
   {
    "duration": 161,
    "start_time": "2025-05-29T11:39:19.464Z"
   },
   {
    "duration": 951,
    "start_time": "2025-05-29T11:51:11.209Z"
   },
   {
    "duration": 929,
    "start_time": "2025-05-29T11:51:35.687Z"
   },
   {
    "duration": 1473,
    "start_time": "2025-05-29T17:18:00.347Z"
   },
   {
    "duration": 2148,
    "start_time": "2025-05-29T17:18:01.822Z"
   },
   {
    "duration": 130,
    "start_time": "2025-05-29T17:18:03.972Z"
   },
   {
    "duration": 198,
    "start_time": "2025-05-29T17:18:04.104Z"
   },
   {
    "duration": 322,
    "start_time": "2025-05-29T17:18:04.305Z"
   },
   {
    "duration": 334,
    "start_time": "2025-05-29T17:18:04.629Z"
   },
   {
    "duration": 420,
    "start_time": "2025-05-29T17:18:04.965Z"
   },
   {
    "duration": 220,
    "start_time": "2025-05-29T17:18:05.386Z"
   },
   {
    "duration": 59,
    "start_time": "2025-05-29T17:18:05.608Z"
   },
   {
    "duration": 3544,
    "start_time": "2025-05-29T17:18:05.668Z"
   },
   {
    "duration": 1954,
    "start_time": "2025-05-29T17:18:09.214Z"
   },
   {
    "duration": 127,
    "start_time": "2025-05-29T17:18:11.170Z"
   },
   {
    "duration": 522,
    "start_time": "2025-05-29T17:18:11.298Z"
   },
   {
    "duration": 446,
    "start_time": "2025-05-29T17:18:11.823Z"
   },
   {
    "duration": 611,
    "start_time": "2025-05-29T17:18:12.270Z"
   },
   {
    "duration": 390,
    "start_time": "2025-05-29T17:18:12.883Z"
   },
   {
    "duration": 6,
    "start_time": "2025-05-29T17:18:13.275Z"
   },
   {
    "duration": 38,
    "start_time": "2025-05-29T17:18:13.283Z"
   },
   {
    "duration": 68,
    "start_time": "2025-05-29T17:18:13.323Z"
   },
   {
    "duration": 19,
    "start_time": "2025-05-29T17:18:13.392Z"
   },
   {
    "duration": 26,
    "start_time": "2025-05-29T17:18:13.412Z"
   },
   {
    "duration": 57,
    "start_time": "2025-05-29T17:18:13.439Z"
   },
   {
    "duration": 227,
    "start_time": "2025-05-29T17:18:13.498Z"
   },
   {
    "duration": 4,
    "start_time": "2025-05-29T17:18:13.726Z"
   },
   {
    "duration": 147,
    "start_time": "2025-05-29T17:18:13.731Z"
   },
   {
    "duration": 963,
    "start_time": "2025-05-29T17:18:13.880Z"
   },
   {
    "duration": 49,
    "start_time": "2025-05-29T17:18:14.844Z"
   },
   {
    "duration": 6,
    "start_time": "2025-05-29T17:18:14.895Z"
   },
   {
    "duration": 91,
    "start_time": "2025-05-29T17:18:14.903Z"
   },
   {
    "duration": 596,
    "start_time": "2025-05-29T17:18:14.996Z"
   },
   {
    "duration": 268,
    "start_time": "2025-05-29T17:18:15.594Z"
   },
   {
    "duration": 994,
    "start_time": "2025-05-29T17:18:15.864Z"
   },
   {
    "duration": 12,
    "start_time": "2025-05-29T17:18:16.860Z"
   },
   {
    "duration": 177,
    "start_time": "2025-05-29T17:18:16.874Z"
   },
   {
    "duration": 1370,
    "start_time": "2025-05-30T04:06:00.031Z"
   },
   {
    "duration": 1936,
    "start_time": "2025-05-30T04:06:01.403Z"
   },
   {
    "duration": 125,
    "start_time": "2025-05-30T04:06:03.341Z"
   },
   {
    "duration": 168,
    "start_time": "2025-05-30T04:06:03.467Z"
   },
   {
    "duration": 301,
    "start_time": "2025-05-30T04:06:03.637Z"
   },
   {
    "duration": 295,
    "start_time": "2025-05-30T04:06:03.939Z"
   },
   {
    "duration": 398,
    "start_time": "2025-05-30T04:06:04.235Z"
   },
   {
    "duration": 222,
    "start_time": "2025-05-30T04:06:04.635Z"
   },
   {
    "duration": 46,
    "start_time": "2025-05-30T04:06:04.859Z"
   },
   {
    "duration": 3442,
    "start_time": "2025-05-30T04:06:04.907Z"
   },
   {
    "duration": 1876,
    "start_time": "2025-05-30T04:06:08.351Z"
   },
   {
    "duration": 125,
    "start_time": "2025-05-30T04:06:10.228Z"
   },
   {
    "duration": 469,
    "start_time": "2025-05-30T04:06:10.358Z"
   },
   {
    "duration": 441,
    "start_time": "2025-05-30T04:06:10.830Z"
   },
   {
    "duration": 623,
    "start_time": "2025-05-30T04:06:11.273Z"
   },
   {
    "duration": 377,
    "start_time": "2025-05-30T04:06:11.898Z"
   },
   {
    "duration": 7,
    "start_time": "2025-05-30T04:06:12.276Z"
   },
   {
    "duration": 174,
    "start_time": "2025-05-30T04:06:12.284Z"
   },
   {
    "duration": 50,
    "start_time": "2025-05-30T04:06:12.460Z"
   },
   {
    "duration": 19,
    "start_time": "2025-05-30T04:06:12.512Z"
   },
   {
    "duration": 93,
    "start_time": "2025-05-30T04:06:12.532Z"
   },
   {
    "duration": 40,
    "start_time": "2025-05-30T04:06:12.626Z"
   },
   {
    "duration": 258,
    "start_time": "2025-05-30T04:06:12.668Z"
   },
   {
    "duration": 4,
    "start_time": "2025-05-30T04:06:12.927Z"
   },
   {
    "duration": 120,
    "start_time": "2025-05-30T04:06:12.933Z"
   },
   {
    "duration": 976,
    "start_time": "2025-05-30T04:06:13.055Z"
   },
   {
    "duration": 50,
    "start_time": "2025-05-30T04:06:14.032Z"
   },
   {
    "duration": 40,
    "start_time": "2025-05-30T04:06:14.084Z"
   },
   {
    "duration": 12,
    "start_time": "2025-05-30T04:06:14.126Z"
   },
   {
    "duration": 549,
    "start_time": "2025-05-30T04:06:14.139Z"
   },
   {
    "duration": 273,
    "start_time": "2025-05-30T04:06:14.689Z"
   },
   {
    "duration": 1062,
    "start_time": "2025-05-30T04:06:14.964Z"
   },
   {
    "duration": 10,
    "start_time": "2025-05-30T04:06:16.028Z"
   },
   {
    "duration": 235,
    "start_time": "2025-05-30T04:06:16.040Z"
   },
   {
    "duration": 2,
    "start_time": "2025-05-30T04:06:16.277Z"
   },
   {
    "duration": 133,
    "start_time": "2025-05-30T04:13:52.903Z"
   },
   {
    "duration": 120,
    "start_time": "2025-05-30T04:15:14.854Z"
   },
   {
    "duration": 64,
    "start_time": "2025-05-30T04:25:24.083Z"
   },
   {
    "duration": 63,
    "start_time": "2025-05-30T04:28:09.500Z"
   },
   {
    "duration": 62,
    "start_time": "2025-05-30T04:28:55.620Z"
   },
   {
    "duration": 66,
    "start_time": "2025-05-30T04:32:15.939Z"
   },
   {
    "duration": 78,
    "start_time": "2025-05-30T04:33:09.248Z"
   },
   {
    "duration": 1371,
    "start_time": "2025-05-30T06:55:28.404Z"
   },
   {
    "duration": 1808,
    "start_time": "2025-05-30T06:55:29.778Z"
   },
   {
    "duration": 132,
    "start_time": "2025-05-30T06:55:31.588Z"
   },
   {
    "duration": 184,
    "start_time": "2025-05-30T06:55:31.722Z"
   },
   {
    "duration": 346,
    "start_time": "2025-05-30T06:55:31.908Z"
   },
   {
    "duration": 326,
    "start_time": "2025-05-30T06:55:32.255Z"
   },
   {
    "duration": 400,
    "start_time": "2025-05-30T06:55:32.583Z"
   },
   {
    "duration": 220,
    "start_time": "2025-05-30T06:55:32.985Z"
   },
   {
    "duration": 63,
    "start_time": "2025-05-30T06:55:33.207Z"
   },
   {
    "duration": 3668,
    "start_time": "2025-05-30T06:55:33.272Z"
   },
   {
    "duration": 1802,
    "start_time": "2025-05-30T06:55:36.942Z"
   },
   {
    "duration": 132,
    "start_time": "2025-05-30T06:55:38.745Z"
   },
   {
    "duration": 485,
    "start_time": "2025-05-30T06:55:38.879Z"
   },
   {
    "duration": 447,
    "start_time": "2025-05-30T06:55:39.368Z"
   },
   {
    "duration": 630,
    "start_time": "2025-05-30T06:55:39.817Z"
   },
   {
    "duration": 383,
    "start_time": "2025-05-30T06:55:40.449Z"
   },
   {
    "duration": 7,
    "start_time": "2025-05-30T06:55:40.834Z"
   },
   {
    "duration": 40,
    "start_time": "2025-05-30T06:55:40.843Z"
   },
   {
    "duration": 74,
    "start_time": "2025-05-30T06:55:40.885Z"
   },
   {
    "duration": 22,
    "start_time": "2025-05-30T06:55:40.961Z"
   },
   {
    "duration": 27,
    "start_time": "2025-05-30T06:55:40.984Z"
   },
   {
    "duration": 61,
    "start_time": "2025-05-30T06:55:41.013Z"
   },
   {
    "duration": 159,
    "start_time": "2025-05-30T06:55:41.076Z"
   },
   {
    "duration": 4,
    "start_time": "2025-05-30T06:55:41.237Z"
   },
   {
    "duration": 118,
    "start_time": "2025-05-30T06:55:41.242Z"
   },
   {
    "duration": 965,
    "start_time": "2025-05-30T06:55:41.361Z"
   },
   {
    "duration": 49,
    "start_time": "2025-05-30T06:55:42.327Z"
   },
   {
    "duration": 6,
    "start_time": "2025-05-30T06:55:42.378Z"
   },
   {
    "duration": 9,
    "start_time": "2025-05-30T06:55:42.386Z"
   },
   {
    "duration": 674,
    "start_time": "2025-05-30T06:55:42.397Z"
   },
   {
    "duration": 270,
    "start_time": "2025-05-30T06:55:43.073Z"
   },
   {
    "duration": 981,
    "start_time": "2025-05-30T06:55:43.345Z"
   },
   {
    "duration": 11,
    "start_time": "2025-05-30T06:55:44.328Z"
   },
   {
    "duration": 169,
    "start_time": "2025-05-30T06:55:44.341Z"
   },
   {
    "duration": 67,
    "start_time": "2025-05-30T06:55:44.512Z"
   },
   {
    "duration": 86,
    "start_time": "2025-05-30T06:55:44.581Z"
   },
   {
    "duration": 35,
    "start_time": "2025-05-30T06:55:44.668Z"
   },
   {
    "duration": 126,
    "start_time": "2025-05-30T06:57:14.107Z"
   },
   {
    "duration": 102,
    "start_time": "2025-05-30T06:57:37.708Z"
   },
   {
    "duration": 26,
    "start_time": "2025-05-30T07:00:24.367Z"
   },
   {
    "duration": 23,
    "start_time": "2025-05-30T07:00:37.075Z"
   },
   {
    "duration": 114,
    "start_time": "2025-05-30T07:04:32.566Z"
   },
   {
    "duration": 59,
    "start_time": "2025-05-30T07:10:56.055Z"
   },
   {
    "duration": 6,
    "start_time": "2025-05-30T07:11:08.726Z"
   },
   {
    "duration": 6,
    "start_time": "2025-05-30T07:11:44.415Z"
   },
   {
    "duration": 5,
    "start_time": "2025-05-30T07:11:47.153Z"
   },
   {
    "duration": 5,
    "start_time": "2025-05-30T07:12:13.254Z"
   },
   {
    "duration": 1573,
    "start_time": "2025-05-30T07:43:02.493Z"
   },
   {
    "duration": 313,
    "start_time": "2025-05-30T07:43:23.575Z"
   },
   {
    "duration": 123,
    "start_time": "2025-05-30T07:50:58.734Z"
   },
   {
    "duration": 121,
    "start_time": "2025-05-30T07:51:38.564Z"
   },
   {
    "duration": 482,
    "start_time": "2025-05-30T07:57:09.326Z"
   },
   {
    "duration": 96,
    "start_time": "2025-05-30T07:59:01.982Z"
   },
   {
    "duration": 396,
    "start_time": "2025-05-30T08:09:02.165Z"
   },
   {
    "duration": 54,
    "start_time": "2025-05-30T08:09:12.135Z"
   },
   {
    "duration": 351,
    "start_time": "2025-05-30T08:09:14.055Z"
   },
   {
    "duration": 1188,
    "start_time": "2025-05-30T08:10:02.263Z"
   },
   {
    "duration": 1911,
    "start_time": "2025-05-30T08:10:03.453Z"
   },
   {
    "duration": 131,
    "start_time": "2025-05-30T08:10:05.365Z"
   },
   {
    "duration": 171,
    "start_time": "2025-05-30T08:10:05.498Z"
   },
   {
    "duration": 303,
    "start_time": "2025-05-30T08:10:05.672Z"
   },
   {
    "duration": 300,
    "start_time": "2025-05-30T08:10:05.977Z"
   },
   {
    "duration": 383,
    "start_time": "2025-05-30T08:10:06.278Z"
   },
   {
    "duration": 215,
    "start_time": "2025-05-30T08:10:06.662Z"
   },
   {
    "duration": 59,
    "start_time": "2025-05-30T08:10:06.879Z"
   },
   {
    "duration": 3404,
    "start_time": "2025-05-30T08:10:06.940Z"
   },
   {
    "duration": 1856,
    "start_time": "2025-05-30T08:10:10.346Z"
   },
   {
    "duration": 128,
    "start_time": "2025-05-30T08:10:12.204Z"
   },
   {
    "duration": 480,
    "start_time": "2025-05-30T08:10:12.336Z"
   },
   {
    "duration": 470,
    "start_time": "2025-05-30T08:10:12.819Z"
   },
   {
    "duration": 620,
    "start_time": "2025-05-30T08:10:13.291Z"
   },
   {
    "duration": 425,
    "start_time": "2025-05-30T08:10:13.913Z"
   },
   {
    "duration": 6,
    "start_time": "2025-05-30T08:10:14.340Z"
   },
   {
    "duration": 39,
    "start_time": "2025-05-30T08:10:14.348Z"
   },
   {
    "duration": 72,
    "start_time": "2025-05-30T08:10:14.389Z"
   },
   {
    "duration": 18,
    "start_time": "2025-05-30T08:10:14.463Z"
   },
   {
    "duration": 26,
    "start_time": "2025-05-30T08:10:14.482Z"
   },
   {
    "duration": 67,
    "start_time": "2025-05-30T08:10:14.509Z"
   },
   {
    "duration": 176,
    "start_time": "2025-05-30T08:10:14.578Z"
   },
   {
    "duration": 3,
    "start_time": "2025-05-30T08:10:14.756Z"
   },
   {
    "duration": 126,
    "start_time": "2025-05-30T08:10:14.761Z"
   },
   {
    "duration": 932,
    "start_time": "2025-05-30T08:10:14.888Z"
   },
   {
    "duration": 53,
    "start_time": "2025-05-30T08:10:15.821Z"
   },
   {
    "duration": 6,
    "start_time": "2025-05-30T08:10:15.876Z"
   },
   {
    "duration": 6,
    "start_time": "2025-05-30T08:10:15.884Z"
   },
   {
    "duration": 573,
    "start_time": "2025-05-30T08:10:15.891Z"
   },
   {
    "duration": 262,
    "start_time": "2025-05-30T08:10:16.466Z"
   },
   {
    "duration": 974,
    "start_time": "2025-05-30T08:10:16.730Z"
   },
   {
    "duration": 10,
    "start_time": "2025-05-30T08:10:17.706Z"
   },
   {
    "duration": 174,
    "start_time": "2025-05-30T08:10:17.718Z"
   },
   {
    "duration": 70,
    "start_time": "2025-05-30T08:10:17.894Z"
   },
   {
    "duration": 80,
    "start_time": "2025-05-30T08:10:17.966Z"
   },
   {
    "duration": 124,
    "start_time": "2025-05-30T08:10:18.048Z"
   },
   {
    "duration": 3,
    "start_time": "2025-05-30T08:10:18.174Z"
   },
   {
    "duration": 236,
    "start_time": "2025-05-30T08:10:18.178Z"
   },
   {
    "duration": 58,
    "start_time": "2025-05-30T08:10:18.415Z"
   },
   {
    "duration": 415,
    "start_time": "2025-05-30T08:10:18.476Z"
   },
   {
    "duration": 485,
    "start_time": "2025-05-30T08:10:18.893Z"
   },
   {
    "duration": 114,
    "start_time": "2025-05-30T08:10:19.380Z"
   },
   {
    "duration": 0,
    "start_time": "2025-05-30T08:10:19.496Z"
   },
   {
    "duration": 20,
    "start_time": "2025-05-30T08:16:26.218Z"
   },
   {
    "duration": 10,
    "start_time": "2025-05-30T08:16:37.379Z"
   },
   {
    "duration": 54,
    "start_time": "2025-05-30T08:17:40.258Z"
   },
   {
    "duration": 89,
    "start_time": "2025-05-30T08:21:35.647Z"
   },
   {
    "duration": 1171,
    "start_time": "2025-05-30T08:23:02.085Z"
   },
   {
    "duration": 1991,
    "start_time": "2025-05-30T08:23:03.257Z"
   },
   {
    "duration": 137,
    "start_time": "2025-05-30T08:23:05.249Z"
   },
   {
    "duration": 167,
    "start_time": "2025-05-30T08:23:05.388Z"
   },
   {
    "duration": 310,
    "start_time": "2025-05-30T08:23:05.557Z"
   },
   {
    "duration": 314,
    "start_time": "2025-05-30T08:23:05.869Z"
   },
   {
    "duration": 395,
    "start_time": "2025-05-30T08:23:06.185Z"
   },
   {
    "duration": 217,
    "start_time": "2025-05-30T08:23:06.582Z"
   },
   {
    "duration": 72,
    "start_time": "2025-05-30T08:23:06.800Z"
   },
   {
    "duration": 3407,
    "start_time": "2025-05-30T08:23:06.874Z"
   },
   {
    "duration": 1849,
    "start_time": "2025-05-30T08:23:10.283Z"
   },
   {
    "duration": 124,
    "start_time": "2025-05-30T08:23:12.137Z"
   },
   {
    "duration": 476,
    "start_time": "2025-05-30T08:23:12.262Z"
   },
   {
    "duration": 452,
    "start_time": "2025-05-30T08:23:12.741Z"
   },
   {
    "duration": 610,
    "start_time": "2025-05-30T08:23:13.195Z"
   },
   {
    "duration": 402,
    "start_time": "2025-05-30T08:23:13.807Z"
   },
   {
    "duration": 7,
    "start_time": "2025-05-30T08:23:14.211Z"
   },
   {
    "duration": 48,
    "start_time": "2025-05-30T08:23:14.219Z"
   },
   {
    "duration": 48,
    "start_time": "2025-05-30T08:23:14.269Z"
   },
   {
    "duration": 43,
    "start_time": "2025-05-30T08:23:14.319Z"
   },
   {
    "duration": 27,
    "start_time": "2025-05-30T08:23:14.364Z"
   },
   {
    "duration": 51,
    "start_time": "2025-05-30T08:23:14.393Z"
   },
   {
    "duration": 161,
    "start_time": "2025-05-30T08:23:14.446Z"
   },
   {
    "duration": 4,
    "start_time": "2025-05-30T08:23:14.608Z"
   },
   {
    "duration": 153,
    "start_time": "2025-05-30T08:23:14.613Z"
   },
   {
    "duration": 957,
    "start_time": "2025-05-30T08:23:14.768Z"
   },
   {
    "duration": 51,
    "start_time": "2025-05-30T08:23:15.727Z"
   },
   {
    "duration": 7,
    "start_time": "2025-05-30T08:23:15.780Z"
   },
   {
    "duration": 6,
    "start_time": "2025-05-30T08:23:15.788Z"
   },
   {
    "duration": 568,
    "start_time": "2025-05-30T08:23:15.795Z"
   },
   {
    "duration": 263,
    "start_time": "2025-05-30T08:23:16.365Z"
   },
   {
    "duration": 999,
    "start_time": "2025-05-30T08:23:16.629Z"
   },
   {
    "duration": 10,
    "start_time": "2025-05-30T08:23:17.637Z"
   },
   {
    "duration": 182,
    "start_time": "2025-05-30T08:23:17.649Z"
   },
   {
    "duration": 64,
    "start_time": "2025-05-30T08:23:17.832Z"
   },
   {
    "duration": 79,
    "start_time": "2025-05-30T08:23:17.898Z"
   },
   {
    "duration": 139,
    "start_time": "2025-05-30T08:23:17.978Z"
   },
   {
    "duration": 89,
    "start_time": "2025-05-30T08:23:18.118Z"
   },
   {
    "duration": 67,
    "start_time": "2025-05-30T08:23:18.208Z"
   },
   {
    "duration": 436,
    "start_time": "2025-05-30T08:23:18.276Z"
   },
   {
    "duration": 525,
    "start_time": "2025-05-30T08:23:18.715Z"
   },
   {
    "duration": 21,
    "start_time": "2025-05-30T08:23:19.242Z"
   },
   {
    "duration": 59,
    "start_time": "2025-05-30T08:23:19.265Z"
   },
   {
    "duration": 149,
    "start_time": "2025-05-30T08:24:45.118Z"
   },
   {
    "duration": 77,
    "start_time": "2025-05-30T08:28:51.347Z"
   },
   {
    "duration": 381,
    "start_time": "2025-05-30T08:37:36.758Z"
   },
   {
    "duration": 22,
    "start_time": "2025-05-30T08:57:39.847Z"
   },
   {
    "duration": 21,
    "start_time": "2025-05-30T09:04:27.996Z"
   },
   {
    "duration": 51,
    "start_time": "2025-05-30T09:04:28.896Z"
   },
   {
    "duration": 1430,
    "start_time": "2025-05-30T10:35:23.581Z"
   },
   {
    "duration": 2047,
    "start_time": "2025-05-30T10:35:25.013Z"
   },
   {
    "duration": 132,
    "start_time": "2025-05-30T10:35:27.062Z"
   },
   {
    "duration": 167,
    "start_time": "2025-05-30T10:35:27.196Z"
   },
   {
    "duration": 311,
    "start_time": "2025-05-30T10:35:27.364Z"
   },
   {
    "duration": 287,
    "start_time": "2025-05-30T10:35:27.676Z"
   },
   {
    "duration": 379,
    "start_time": "2025-05-30T10:35:27.964Z"
   },
   {
    "duration": 215,
    "start_time": "2025-05-30T10:35:28.344Z"
   },
   {
    "duration": 47,
    "start_time": "2025-05-30T10:35:28.560Z"
   },
   {
    "duration": 3450,
    "start_time": "2025-05-30T10:35:28.610Z"
   },
   {
    "duration": 1830,
    "start_time": "2025-05-30T10:35:32.062Z"
   },
   {
    "duration": 128,
    "start_time": "2025-05-30T10:35:33.894Z"
   },
   {
    "duration": 487,
    "start_time": "2025-05-30T10:35:34.023Z"
   },
   {
    "duration": 466,
    "start_time": "2025-05-30T10:35:34.511Z"
   },
   {
    "duration": 618,
    "start_time": "2025-05-30T10:35:34.978Z"
   },
   {
    "duration": 380,
    "start_time": "2025-05-30T10:35:35.598Z"
   },
   {
    "duration": 7,
    "start_time": "2025-05-30T10:35:35.979Z"
   },
   {
    "duration": 53,
    "start_time": "2025-05-30T10:35:35.988Z"
   },
   {
    "duration": 48,
    "start_time": "2025-05-30T10:35:36.042Z"
   },
   {
    "duration": 19,
    "start_time": "2025-05-30T10:35:36.092Z"
   },
   {
    "duration": 42,
    "start_time": "2025-05-30T10:35:36.113Z"
   },
   {
    "duration": 41,
    "start_time": "2025-05-30T10:35:36.157Z"
   },
   {
    "duration": 164,
    "start_time": "2025-05-30T10:35:36.200Z"
   },
   {
    "duration": 4,
    "start_time": "2025-05-30T10:35:36.365Z"
   },
   {
    "duration": 125,
    "start_time": "2025-05-30T10:35:36.371Z"
   },
   {
    "duration": 920,
    "start_time": "2025-05-30T10:35:36.497Z"
   },
   {
    "duration": 49,
    "start_time": "2025-05-30T10:35:37.419Z"
   },
   {
    "duration": 11,
    "start_time": "2025-05-30T10:35:37.472Z"
   },
   {
    "duration": 5,
    "start_time": "2025-05-30T10:35:37.485Z"
   },
   {
    "duration": 609,
    "start_time": "2025-05-30T10:35:37.491Z"
   },
   {
    "duration": 260,
    "start_time": "2025-05-30T10:35:38.102Z"
   },
   {
    "duration": 994,
    "start_time": "2025-05-30T10:35:38.364Z"
   },
   {
    "duration": 13,
    "start_time": "2025-05-30T10:35:39.361Z"
   },
   {
    "duration": 248,
    "start_time": "2025-05-30T10:35:39.376Z"
   },
   {
    "duration": 70,
    "start_time": "2025-05-30T10:35:39.627Z"
   },
   {
    "duration": 83,
    "start_time": "2025-05-30T10:35:39.700Z"
   },
   {
    "duration": 144,
    "start_time": "2025-05-30T10:35:39.785Z"
   },
   {
    "duration": 86,
    "start_time": "2025-05-30T10:35:39.931Z"
   },
   {
    "duration": 70,
    "start_time": "2025-05-30T10:35:40.019Z"
   },
   {
    "duration": 471,
    "start_time": "2025-05-30T10:35:40.091Z"
   },
   {
    "duration": 481,
    "start_time": "2025-05-30T10:35:40.564Z"
   },
   {
    "duration": 22,
    "start_time": "2025-05-30T10:35:41.046Z"
   },
   {
    "duration": 49,
    "start_time": "2025-05-30T10:35:41.069Z"
   },
   {
    "duration": 22,
    "start_time": "2025-05-30T10:38:39.001Z"
   },
   {
    "duration": 49,
    "start_time": "2025-05-30T10:38:40.401Z"
   },
   {
    "duration": 1388,
    "start_time": "2025-06-01T09:39:07.901Z"
   },
   {
    "duration": 1842,
    "start_time": "2025-06-01T09:39:09.291Z"
   },
   {
    "duration": 129,
    "start_time": "2025-06-01T09:39:11.135Z"
   },
   {
    "duration": 175,
    "start_time": "2025-06-01T09:39:11.266Z"
   },
   {
    "duration": 334,
    "start_time": "2025-06-01T09:39:11.443Z"
   },
   {
    "duration": 315,
    "start_time": "2025-06-01T09:39:11.778Z"
   },
   {
    "duration": 2,
    "start_time": "2025-06-01T09:39:12.095Z"
   },
   {
    "duration": 397,
    "start_time": "2025-06-01T09:39:12.099Z"
   },
   {
    "duration": 233,
    "start_time": "2025-06-01T09:39:12.497Z"
   },
   {
    "duration": 51,
    "start_time": "2025-06-01T09:39:12.731Z"
   },
   {
    "duration": 3581,
    "start_time": "2025-06-01T09:39:12.783Z"
   },
   {
    "duration": 2060,
    "start_time": "2025-06-01T09:39:16.367Z"
   },
   {
    "duration": 137,
    "start_time": "2025-06-01T09:39:18.435Z"
   },
   {
    "duration": 524,
    "start_time": "2025-06-01T09:39:18.575Z"
   },
   {
    "duration": 477,
    "start_time": "2025-06-01T09:39:19.101Z"
   },
   {
    "duration": 659,
    "start_time": "2025-06-01T09:39:19.580Z"
   },
   {
    "duration": 409,
    "start_time": "2025-06-01T09:39:20.241Z"
   },
   {
    "duration": 7,
    "start_time": "2025-06-01T09:39:20.652Z"
   },
   {
    "duration": 100,
    "start_time": "2025-06-01T09:39:20.661Z"
   },
   {
    "duration": 53,
    "start_time": "2025-06-01T09:39:20.762Z"
   },
   {
    "duration": 27,
    "start_time": "2025-06-01T09:39:20.817Z"
   },
   {
    "duration": 40,
    "start_time": "2025-06-01T09:39:20.846Z"
   },
   {
    "duration": 56,
    "start_time": "2025-06-01T09:39:20.888Z"
   },
   {
    "duration": 169,
    "start_time": "2025-06-01T09:39:20.946Z"
   },
   {
    "duration": 5,
    "start_time": "2025-06-01T09:39:21.117Z"
   },
   {
    "duration": 127,
    "start_time": "2025-06-01T09:39:21.124Z"
   },
   {
    "duration": 1023,
    "start_time": "2025-06-01T09:39:21.253Z"
   },
   {
    "duration": 57,
    "start_time": "2025-06-01T09:39:22.278Z"
   },
   {
    "duration": 47,
    "start_time": "2025-06-01T09:39:22.337Z"
   },
   {
    "duration": 5,
    "start_time": "2025-06-01T09:39:22.386Z"
   },
   {
    "duration": 676,
    "start_time": "2025-06-01T09:39:22.393Z"
   },
   {
    "duration": 241,
    "start_time": "2025-06-01T09:39:23.071Z"
   },
   {
    "duration": 66,
    "start_time": "2025-06-01T09:39:23.314Z"
   },
   {
    "duration": 1114,
    "start_time": "2025-06-01T09:39:23.382Z"
   },
   {
    "duration": 13,
    "start_time": "2025-06-01T09:39:24.499Z"
   },
   {
    "duration": 178,
    "start_time": "2025-06-01T09:39:24.514Z"
   },
   {
    "duration": 80,
    "start_time": "2025-06-01T09:39:24.694Z"
   },
   {
    "duration": 64,
    "start_time": "2025-06-01T09:39:24.776Z"
   },
   {
    "duration": 26,
    "start_time": "2025-06-01T09:39:24.842Z"
   },
   {
    "duration": 151,
    "start_time": "2025-06-01T09:39:24.870Z"
   },
   {
    "duration": 93,
    "start_time": "2025-06-01T09:39:25.025Z"
   },
   {
    "duration": 67,
    "start_time": "2025-06-01T09:39:25.120Z"
   },
   {
    "duration": 496,
    "start_time": "2025-06-01T09:39:25.189Z"
   },
   {
    "duration": 515,
    "start_time": "2025-06-01T09:39:25.687Z"
   },
   {
    "duration": 3,
    "start_time": "2025-06-01T09:39:26.203Z"
   },
   {
    "duration": 34,
    "start_time": "2025-06-01T09:39:26.207Z"
   },
   {
    "duration": 53,
    "start_time": "2025-06-01T09:39:26.243Z"
   },
   {
    "duration": 62,
    "start_time": "2025-06-01T09:42:58.768Z"
   },
   {
    "duration": 23,
    "start_time": "2025-06-01T09:44:30.372Z"
   },
   {
    "duration": 3,
    "start_time": "2025-06-01T09:46:38.632Z"
   },
   {
    "duration": 4838,
    "start_time": "2025-06-01T09:50:54.781Z"
   },
   {
    "duration": 8214,
    "start_time": "2025-06-01T09:51:32.992Z"
   },
   {
    "duration": 7717,
    "start_time": "2025-06-01T09:53:14.264Z"
   },
   {
    "duration": 7477,
    "start_time": "2025-06-01T09:53:34.949Z"
   },
   {
    "duration": 66,
    "start_time": "2025-06-01T09:57:52.711Z"
   },
   {
    "duration": 65,
    "start_time": "2025-06-01T10:02:56.102Z"
   },
   {
    "duration": 156,
    "start_time": "2025-06-01T10:03:04.250Z"
   },
   {
    "duration": 5,
    "start_time": "2025-06-01T10:06:35.771Z"
   },
   {
    "duration": 7,
    "start_time": "2025-06-01T10:07:25.251Z"
   },
   {
    "duration": 477,
    "start_time": "2025-06-01T10:07:28.019Z"
   },
   {
    "duration": 63,
    "start_time": "2025-06-01T10:10:48.149Z"
   },
   {
    "duration": 14,
    "start_time": "2025-06-01T10:17:09.869Z"
   },
   {
    "duration": 392,
    "start_time": "2025-06-01T10:18:41.629Z"
   },
   {
    "duration": 67,
    "start_time": "2025-06-01T10:19:20.059Z"
   },
   {
    "duration": 4,
    "start_time": "2025-06-01T10:27:47.769Z"
   },
   {
    "duration": 5,
    "start_time": "2025-06-01T10:31:43.662Z"
   },
   {
    "duration": 1444,
    "start_time": "2025-06-01T10:35:02.989Z"
   },
   {
    "duration": 1686,
    "start_time": "2025-06-01T10:38:42.618Z"
   },
   {
    "duration": 1483,
    "start_time": "2025-06-01T10:38:51.268Z"
   },
   {
    "duration": 1113,
    "start_time": "2025-06-01T10:39:40.958Z"
   },
   {
    "duration": 1940,
    "start_time": "2025-06-01T10:39:42.073Z"
   },
   {
    "duration": 136,
    "start_time": "2025-06-01T10:39:44.015Z"
   },
   {
    "duration": 166,
    "start_time": "2025-06-01T10:39:44.153Z"
   },
   {
    "duration": 298,
    "start_time": "2025-06-01T10:39:44.321Z"
   },
   {
    "duration": 280,
    "start_time": "2025-06-01T10:39:44.621Z"
   },
   {
    "duration": 5069,
    "start_time": "2025-06-01T10:39:44.902Z"
   },
   {
    "duration": 0,
    "start_time": "2025-06-01T10:39:49.973Z"
   },
   {
    "duration": 0,
    "start_time": "2025-06-01T10:39:49.974Z"
   },
   {
    "duration": 0,
    "start_time": "2025-06-01T10:39:49.976Z"
   },
   {
    "duration": 0,
    "start_time": "2025-06-01T10:39:49.977Z"
   },
   {
    "duration": 0,
    "start_time": "2025-06-01T10:39:49.978Z"
   },
   {
    "duration": 0,
    "start_time": "2025-06-01T10:39:49.991Z"
   },
   {
    "duration": 0,
    "start_time": "2025-06-01T10:39:49.992Z"
   },
   {
    "duration": 0,
    "start_time": "2025-06-01T10:39:49.993Z"
   },
   {
    "duration": 0,
    "start_time": "2025-06-01T10:39:49.994Z"
   },
   {
    "duration": 0,
    "start_time": "2025-06-01T10:39:49.995Z"
   },
   {
    "duration": 0,
    "start_time": "2025-06-01T10:39:49.996Z"
   },
   {
    "duration": 0,
    "start_time": "2025-06-01T10:39:49.997Z"
   },
   {
    "duration": 0,
    "start_time": "2025-06-01T10:39:49.998Z"
   },
   {
    "duration": 0,
    "start_time": "2025-06-01T10:39:49.999Z"
   },
   {
    "duration": 0,
    "start_time": "2025-06-01T10:39:50.000Z"
   },
   {
    "duration": 0,
    "start_time": "2025-06-01T10:39:50.000Z"
   },
   {
    "duration": 0,
    "start_time": "2025-06-01T10:39:50.001Z"
   },
   {
    "duration": 0,
    "start_time": "2025-06-01T10:39:50.002Z"
   },
   {
    "duration": 0,
    "start_time": "2025-06-01T10:39:50.035Z"
   },
   {
    "duration": 0,
    "start_time": "2025-06-01T10:39:50.036Z"
   },
   {
    "duration": 0,
    "start_time": "2025-06-01T10:39:50.037Z"
   },
   {
    "duration": 0,
    "start_time": "2025-06-01T10:39:50.038Z"
   },
   {
    "duration": 0,
    "start_time": "2025-06-01T10:39:50.039Z"
   },
   {
    "duration": 0,
    "start_time": "2025-06-01T10:39:50.040Z"
   },
   {
    "duration": 0,
    "start_time": "2025-06-01T10:39:50.041Z"
   },
   {
    "duration": 0,
    "start_time": "2025-06-01T10:39:50.042Z"
   },
   {
    "duration": 0,
    "start_time": "2025-06-01T10:39:50.043Z"
   },
   {
    "duration": 0,
    "start_time": "2025-06-01T10:39:50.044Z"
   },
   {
    "duration": 0,
    "start_time": "2025-06-01T10:39:50.046Z"
   },
   {
    "duration": 0,
    "start_time": "2025-06-01T10:39:50.046Z"
   },
   {
    "duration": 0,
    "start_time": "2025-06-01T10:39:50.047Z"
   },
   {
    "duration": 0,
    "start_time": "2025-06-01T10:39:50.048Z"
   },
   {
    "duration": 0,
    "start_time": "2025-06-01T10:39:50.049Z"
   },
   {
    "duration": 0,
    "start_time": "2025-06-01T10:39:50.050Z"
   },
   {
    "duration": 0,
    "start_time": "2025-06-01T10:39:50.051Z"
   },
   {
    "duration": 0,
    "start_time": "2025-06-01T10:39:50.052Z"
   },
   {
    "duration": 0,
    "start_time": "2025-06-01T10:39:50.053Z"
   },
   {
    "duration": 0,
    "start_time": "2025-06-01T10:39:50.054Z"
   },
   {
    "duration": 0,
    "start_time": "2025-06-01T10:39:50.055Z"
   },
   {
    "duration": 0,
    "start_time": "2025-06-01T10:39:50.056Z"
   },
   {
    "duration": 0,
    "start_time": "2025-06-01T10:39:50.057Z"
   },
   {
    "duration": 9,
    "start_time": "2025-06-01T10:41:29.130Z"
   },
   {
    "duration": 9,
    "start_time": "2025-06-01T10:41:45.239Z"
   },
   {
    "duration": 9,
    "start_time": "2025-06-01T10:41:48.499Z"
   },
   {
    "duration": 11,
    "start_time": "2025-06-01T10:41:55.189Z"
   },
   {
    "duration": 9,
    "start_time": "2025-06-01T10:44:14.688Z"
   },
   {
    "duration": 1117,
    "start_time": "2025-06-01T10:44:30.409Z"
   },
   {
    "duration": 1720,
    "start_time": "2025-06-01T10:44:31.528Z"
   },
   {
    "duration": 123,
    "start_time": "2025-06-01T10:44:33.250Z"
   },
   {
    "duration": 156,
    "start_time": "2025-06-01T10:44:33.375Z"
   },
   {
    "duration": 318,
    "start_time": "2025-06-01T10:44:33.535Z"
   },
   {
    "duration": 303,
    "start_time": "2025-06-01T10:44:33.855Z"
   },
   {
    "duration": 4998,
    "start_time": "2025-06-01T10:44:34.160Z"
   },
   {
    "duration": 0,
    "start_time": "2025-06-01T10:44:39.160Z"
   },
   {
    "duration": 0,
    "start_time": "2025-06-01T10:44:39.162Z"
   },
   {
    "duration": 0,
    "start_time": "2025-06-01T10:44:39.163Z"
   },
   {
    "duration": 0,
    "start_time": "2025-06-01T10:44:39.165Z"
   },
   {
    "duration": 0,
    "start_time": "2025-06-01T10:44:39.167Z"
   },
   {
    "duration": 0,
    "start_time": "2025-06-01T10:44:39.168Z"
   },
   {
    "duration": 0,
    "start_time": "2025-06-01T10:44:39.188Z"
   },
   {
    "duration": 0,
    "start_time": "2025-06-01T10:44:39.189Z"
   },
   {
    "duration": 0,
    "start_time": "2025-06-01T10:44:39.190Z"
   },
   {
    "duration": 0,
    "start_time": "2025-06-01T10:44:39.192Z"
   },
   {
    "duration": 0,
    "start_time": "2025-06-01T10:44:39.193Z"
   },
   {
    "duration": 0,
    "start_time": "2025-06-01T10:44:39.195Z"
   },
   {
    "duration": 0,
    "start_time": "2025-06-01T10:44:39.196Z"
   },
   {
    "duration": 0,
    "start_time": "2025-06-01T10:44:39.197Z"
   },
   {
    "duration": 0,
    "start_time": "2025-06-01T10:44:39.199Z"
   },
   {
    "duration": 0,
    "start_time": "2025-06-01T10:44:39.236Z"
   },
   {
    "duration": 0,
    "start_time": "2025-06-01T10:44:39.238Z"
   },
   {
    "duration": 0,
    "start_time": "2025-06-01T10:44:39.239Z"
   },
   {
    "duration": 0,
    "start_time": "2025-06-01T10:44:39.241Z"
   },
   {
    "duration": 0,
    "start_time": "2025-06-01T10:44:39.242Z"
   },
   {
    "duration": 0,
    "start_time": "2025-06-01T10:44:39.243Z"
   },
   {
    "duration": 0,
    "start_time": "2025-06-01T10:44:39.245Z"
   },
   {
    "duration": 0,
    "start_time": "2025-06-01T10:44:39.246Z"
   },
   {
    "duration": 0,
    "start_time": "2025-06-01T10:44:39.248Z"
   },
   {
    "duration": 0,
    "start_time": "2025-06-01T10:44:39.249Z"
   },
   {
    "duration": 0,
    "start_time": "2025-06-01T10:44:39.251Z"
   },
   {
    "duration": 0,
    "start_time": "2025-06-01T10:44:39.252Z"
   },
   {
    "duration": 0,
    "start_time": "2025-06-01T10:44:39.254Z"
   },
   {
    "duration": 0,
    "start_time": "2025-06-01T10:44:39.255Z"
   },
   {
    "duration": 0,
    "start_time": "2025-06-01T10:44:39.256Z"
   },
   {
    "duration": 0,
    "start_time": "2025-06-01T10:44:39.258Z"
   },
   {
    "duration": 0,
    "start_time": "2025-06-01T10:44:39.260Z"
   },
   {
    "duration": 0,
    "start_time": "2025-06-01T10:44:39.261Z"
   },
   {
    "duration": 0,
    "start_time": "2025-06-01T10:44:39.263Z"
   },
   {
    "duration": 0,
    "start_time": "2025-06-01T10:44:39.264Z"
   },
   {
    "duration": 0,
    "start_time": "2025-06-01T10:44:39.266Z"
   },
   {
    "duration": 0,
    "start_time": "2025-06-01T10:44:39.267Z"
   },
   {
    "duration": 0,
    "start_time": "2025-06-01T10:44:39.269Z"
   },
   {
    "duration": 0,
    "start_time": "2025-06-01T10:44:39.270Z"
   },
   {
    "duration": 0,
    "start_time": "2025-06-01T10:44:39.272Z"
   },
   {
    "duration": 0,
    "start_time": "2025-06-01T10:44:39.335Z"
   },
   {
    "duration": 62,
    "start_time": "2025-06-01T10:45:37.667Z"
   },
   {
    "duration": 8,
    "start_time": "2025-06-01T10:46:01.668Z"
   },
   {
    "duration": 3,
    "start_time": "2025-06-01T10:49:03.827Z"
   },
   {
    "duration": 1065,
    "start_time": "2025-06-01T10:49:15.679Z"
   },
   {
    "duration": 1539,
    "start_time": "2025-06-01T10:49:16.746Z"
   },
   {
    "duration": 118,
    "start_time": "2025-06-01T10:49:18.286Z"
   },
   {
    "duration": 166,
    "start_time": "2025-06-01T10:49:18.406Z"
   },
   {
    "duration": 299,
    "start_time": "2025-06-01T10:49:18.574Z"
   },
   {
    "duration": 285,
    "start_time": "2025-06-01T10:49:18.875Z"
   },
   {
    "duration": 4918,
    "start_time": "2025-06-01T10:49:19.162Z"
   },
   {
    "duration": 0,
    "start_time": "2025-06-01T10:49:24.083Z"
   },
   {
    "duration": 0,
    "start_time": "2025-06-01T10:49:24.084Z"
   },
   {
    "duration": 1,
    "start_time": "2025-06-01T10:49:24.085Z"
   },
   {
    "duration": 0,
    "start_time": "2025-06-01T10:49:24.087Z"
   },
   {
    "duration": 0,
    "start_time": "2025-06-01T10:49:24.088Z"
   },
   {
    "duration": 0,
    "start_time": "2025-06-01T10:49:24.090Z"
   },
   {
    "duration": 0,
    "start_time": "2025-06-01T10:49:24.091Z"
   },
   {
    "duration": 0,
    "start_time": "2025-06-01T10:49:24.092Z"
   },
   {
    "duration": 0,
    "start_time": "2025-06-01T10:49:24.169Z"
   },
   {
    "duration": 0,
    "start_time": "2025-06-01T10:49:24.171Z"
   },
   {
    "duration": 0,
    "start_time": "2025-06-01T10:49:24.172Z"
   },
   {
    "duration": 0,
    "start_time": "2025-06-01T10:49:24.174Z"
   },
   {
    "duration": 0,
    "start_time": "2025-06-01T10:49:24.175Z"
   },
   {
    "duration": 0,
    "start_time": "2025-06-01T10:49:24.176Z"
   },
   {
    "duration": 0,
    "start_time": "2025-06-01T10:49:24.178Z"
   },
   {
    "duration": 0,
    "start_time": "2025-06-01T10:49:24.179Z"
   },
   {
    "duration": 0,
    "start_time": "2025-06-01T10:49:24.180Z"
   },
   {
    "duration": 0,
    "start_time": "2025-06-01T10:49:24.181Z"
   },
   {
    "duration": 0,
    "start_time": "2025-06-01T10:49:24.183Z"
   },
   {
    "duration": 0,
    "start_time": "2025-06-01T10:49:24.184Z"
   },
   {
    "duration": 0,
    "start_time": "2025-06-01T10:49:24.185Z"
   },
   {
    "duration": 0,
    "start_time": "2025-06-01T10:49:24.187Z"
   },
   {
    "duration": 0,
    "start_time": "2025-06-01T10:49:24.188Z"
   },
   {
    "duration": 0,
    "start_time": "2025-06-01T10:49:24.190Z"
   },
   {
    "duration": 0,
    "start_time": "2025-06-01T10:49:24.191Z"
   },
   {
    "duration": 0,
    "start_time": "2025-06-01T10:49:24.192Z"
   },
   {
    "duration": 0,
    "start_time": "2025-06-01T10:49:24.193Z"
   },
   {
    "duration": 0,
    "start_time": "2025-06-01T10:49:24.195Z"
   },
   {
    "duration": 0,
    "start_time": "2025-06-01T10:49:24.195Z"
   },
   {
    "duration": 0,
    "start_time": "2025-06-01T10:49:24.236Z"
   },
   {
    "duration": 0,
    "start_time": "2025-06-01T10:49:24.237Z"
   },
   {
    "duration": 0,
    "start_time": "2025-06-01T10:49:24.238Z"
   },
   {
    "duration": 0,
    "start_time": "2025-06-01T10:49:24.239Z"
   },
   {
    "duration": 0,
    "start_time": "2025-06-01T10:49:24.240Z"
   },
   {
    "duration": 0,
    "start_time": "2025-06-01T10:49:24.241Z"
   },
   {
    "duration": 0,
    "start_time": "2025-06-01T10:49:24.242Z"
   },
   {
    "duration": 0,
    "start_time": "2025-06-01T10:49:24.243Z"
   },
   {
    "duration": 0,
    "start_time": "2025-06-01T10:49:24.244Z"
   },
   {
    "duration": 0,
    "start_time": "2025-06-01T10:49:24.245Z"
   },
   {
    "duration": 0,
    "start_time": "2025-06-01T10:49:24.246Z"
   },
   {
    "duration": 10,
    "start_time": "2025-06-01T11:04:49.471Z"
   },
   {
    "duration": 1107,
    "start_time": "2025-06-01T11:05:01.538Z"
   },
   {
    "duration": 1845,
    "start_time": "2025-06-01T11:05:02.647Z"
   },
   {
    "duration": 119,
    "start_time": "2025-06-01T11:05:04.493Z"
   },
   {
    "duration": 164,
    "start_time": "2025-06-01T11:05:04.614Z"
   },
   {
    "duration": 314,
    "start_time": "2025-06-01T11:05:04.780Z"
   },
   {
    "duration": 295,
    "start_time": "2025-06-01T11:05:05.095Z"
   },
   {
    "duration": 5031,
    "start_time": "2025-06-01T11:05:05.392Z"
   },
   {
    "duration": 0,
    "start_time": "2025-06-01T11:05:10.425Z"
   },
   {
    "duration": 0,
    "start_time": "2025-06-01T11:05:10.426Z"
   },
   {
    "duration": 0,
    "start_time": "2025-06-01T11:05:10.435Z"
   },
   {
    "duration": 0,
    "start_time": "2025-06-01T11:05:10.436Z"
   },
   {
    "duration": 0,
    "start_time": "2025-06-01T11:05:10.437Z"
   },
   {
    "duration": 0,
    "start_time": "2025-06-01T11:05:10.438Z"
   },
   {
    "duration": 0,
    "start_time": "2025-06-01T11:05:10.451Z"
   },
   {
    "duration": 0,
    "start_time": "2025-06-01T11:05:10.452Z"
   },
   {
    "duration": 0,
    "start_time": "2025-06-01T11:05:10.453Z"
   },
   {
    "duration": 0,
    "start_time": "2025-06-01T11:05:10.455Z"
   },
   {
    "duration": 0,
    "start_time": "2025-06-01T11:05:10.456Z"
   },
   {
    "duration": 0,
    "start_time": "2025-06-01T11:05:10.457Z"
   },
   {
    "duration": 0,
    "start_time": "2025-06-01T11:05:10.458Z"
   },
   {
    "duration": 0,
    "start_time": "2025-06-01T11:05:10.459Z"
   },
   {
    "duration": 0,
    "start_time": "2025-06-01T11:05:10.461Z"
   },
   {
    "duration": 0,
    "start_time": "2025-06-01T11:05:10.462Z"
   },
   {
    "duration": 0,
    "start_time": "2025-06-01T11:05:10.463Z"
   },
   {
    "duration": 0,
    "start_time": "2025-06-01T11:05:10.464Z"
   },
   {
    "duration": 0,
    "start_time": "2025-06-01T11:05:10.465Z"
   },
   {
    "duration": 0,
    "start_time": "2025-06-01T11:05:10.466Z"
   },
   {
    "duration": 0,
    "start_time": "2025-06-01T11:05:10.467Z"
   },
   {
    "duration": 0,
    "start_time": "2025-06-01T11:05:10.468Z"
   },
   {
    "duration": 0,
    "start_time": "2025-06-01T11:05:10.469Z"
   },
   {
    "duration": 0,
    "start_time": "2025-06-01T11:05:10.469Z"
   },
   {
    "duration": 0,
    "start_time": "2025-06-01T11:05:10.470Z"
   },
   {
    "duration": 0,
    "start_time": "2025-06-01T11:05:10.471Z"
   },
   {
    "duration": 0,
    "start_time": "2025-06-01T11:05:10.472Z"
   },
   {
    "duration": 0,
    "start_time": "2025-06-01T11:05:10.473Z"
   },
   {
    "duration": 0,
    "start_time": "2025-06-01T11:05:10.474Z"
   },
   {
    "duration": 0,
    "start_time": "2025-06-01T11:05:10.475Z"
   },
   {
    "duration": 0,
    "start_time": "2025-06-01T11:05:10.476Z"
   },
   {
    "duration": 0,
    "start_time": "2025-06-01T11:05:10.477Z"
   },
   {
    "duration": 0,
    "start_time": "2025-06-01T11:05:10.478Z"
   },
   {
    "duration": 0,
    "start_time": "2025-06-01T11:05:10.479Z"
   },
   {
    "duration": 0,
    "start_time": "2025-06-01T11:05:10.480Z"
   },
   {
    "duration": 0,
    "start_time": "2025-06-01T11:05:10.481Z"
   },
   {
    "duration": 0,
    "start_time": "2025-06-01T11:05:10.535Z"
   },
   {
    "duration": 0,
    "start_time": "2025-06-01T11:05:10.537Z"
   },
   {
    "duration": 0,
    "start_time": "2025-06-01T11:05:10.537Z"
   },
   {
    "duration": 0,
    "start_time": "2025-06-01T11:05:10.538Z"
   },
   {
    "duration": 14,
    "start_time": "2025-06-01T11:05:25.520Z"
   },
   {
    "duration": 3,
    "start_time": "2025-06-01T11:06:26.768Z"
   },
   {
    "duration": 1672,
    "start_time": "2025-06-01T11:06:31.538Z"
   },
   {
    "duration": 129,
    "start_time": "2025-06-01T11:06:39.815Z"
   },
   {
    "duration": 113,
    "start_time": "2025-06-01T11:06:53.499Z"
   },
   {
    "duration": 276,
    "start_time": "2025-06-01T11:07:01.598Z"
   },
   {
    "duration": 273,
    "start_time": "2025-06-01T11:07:12.418Z"
   },
   {
    "duration": 4,
    "start_time": "2025-06-01T11:08:54.288Z"
   },
   {
    "duration": 1201,
    "start_time": "2025-06-01T11:09:14.237Z"
   },
   {
    "duration": 1586,
    "start_time": "2025-06-01T11:09:15.440Z"
   },
   {
    "duration": 122,
    "start_time": "2025-06-01T11:09:17.028Z"
   },
   {
    "duration": 189,
    "start_time": "2025-06-01T11:09:17.152Z"
   },
   {
    "duration": 315,
    "start_time": "2025-06-01T11:09:17.343Z"
   },
   {
    "duration": 299,
    "start_time": "2025-06-01T11:09:17.660Z"
   },
   {
    "duration": 5085,
    "start_time": "2025-06-01T11:09:17.960Z"
   },
   {
    "duration": 0,
    "start_time": "2025-06-01T11:09:23.048Z"
   },
   {
    "duration": 0,
    "start_time": "2025-06-01T11:09:23.049Z"
   },
   {
    "duration": 0,
    "start_time": "2025-06-01T11:09:23.051Z"
   },
   {
    "duration": 0,
    "start_time": "2025-06-01T11:09:23.052Z"
   },
   {
    "duration": 0,
    "start_time": "2025-06-01T11:09:23.053Z"
   },
   {
    "duration": 0,
    "start_time": "2025-06-01T11:09:23.055Z"
   },
   {
    "duration": 0,
    "start_time": "2025-06-01T11:09:23.057Z"
   },
   {
    "duration": 0,
    "start_time": "2025-06-01T11:09:23.058Z"
   },
   {
    "duration": 0,
    "start_time": "2025-06-01T11:09:23.091Z"
   },
   {
    "duration": 0,
    "start_time": "2025-06-01T11:09:23.093Z"
   },
   {
    "duration": 0,
    "start_time": "2025-06-01T11:09:23.094Z"
   },
   {
    "duration": 0,
    "start_time": "2025-06-01T11:09:23.135Z"
   },
   {
    "duration": 0,
    "start_time": "2025-06-01T11:09:23.136Z"
   },
   {
    "duration": 0,
    "start_time": "2025-06-01T11:09:23.138Z"
   },
   {
    "duration": 0,
    "start_time": "2025-06-01T11:09:23.139Z"
   },
   {
    "duration": 0,
    "start_time": "2025-06-01T11:09:23.141Z"
   },
   {
    "duration": 0,
    "start_time": "2025-06-01T11:09:23.142Z"
   },
   {
    "duration": 0,
    "start_time": "2025-06-01T11:09:23.144Z"
   },
   {
    "duration": 0,
    "start_time": "2025-06-01T11:09:23.145Z"
   },
   {
    "duration": 0,
    "start_time": "2025-06-01T11:09:23.147Z"
   },
   {
    "duration": 0,
    "start_time": "2025-06-01T11:09:23.148Z"
   },
   {
    "duration": 0,
    "start_time": "2025-06-01T11:09:23.149Z"
   },
   {
    "duration": 0,
    "start_time": "2025-06-01T11:09:23.150Z"
   },
   {
    "duration": 0,
    "start_time": "2025-06-01T11:09:23.152Z"
   },
   {
    "duration": 0,
    "start_time": "2025-06-01T11:09:23.153Z"
   },
   {
    "duration": 0,
    "start_time": "2025-06-01T11:09:23.155Z"
   },
   {
    "duration": 0,
    "start_time": "2025-06-01T11:09:23.156Z"
   },
   {
    "duration": 0,
    "start_time": "2025-06-01T11:09:23.158Z"
   },
   {
    "duration": 0,
    "start_time": "2025-06-01T11:09:23.159Z"
   },
   {
    "duration": 0,
    "start_time": "2025-06-01T11:09:23.161Z"
   },
   {
    "duration": 0,
    "start_time": "2025-06-01T11:09:23.162Z"
   },
   {
    "duration": 0,
    "start_time": "2025-06-01T11:09:23.163Z"
   },
   {
    "duration": 0,
    "start_time": "2025-06-01T11:09:23.165Z"
   },
   {
    "duration": 0,
    "start_time": "2025-06-01T11:09:23.166Z"
   },
   {
    "duration": 0,
    "start_time": "2025-06-01T11:09:23.168Z"
   },
   {
    "duration": 0,
    "start_time": "2025-06-01T11:09:23.169Z"
   },
   {
    "duration": 0,
    "start_time": "2025-06-01T11:09:23.170Z"
   },
   {
    "duration": 0,
    "start_time": "2025-06-01T11:09:23.172Z"
   },
   {
    "duration": 0,
    "start_time": "2025-06-01T11:09:23.235Z"
   },
   {
    "duration": 0,
    "start_time": "2025-06-01T11:09:23.237Z"
   },
   {
    "duration": 1182,
    "start_time": "2025-06-01T11:16:17.578Z"
   },
   {
    "duration": 1679,
    "start_time": "2025-06-01T11:16:18.762Z"
   },
   {
    "duration": 125,
    "start_time": "2025-06-01T11:16:20.443Z"
   },
   {
    "duration": 162,
    "start_time": "2025-06-01T11:16:20.569Z"
   },
   {
    "duration": 306,
    "start_time": "2025-06-01T11:16:20.735Z"
   },
   {
    "duration": 318,
    "start_time": "2025-06-01T11:16:21.043Z"
   },
   {
    "duration": 4973,
    "start_time": "2025-06-01T11:16:21.362Z"
   },
   {
    "duration": 0,
    "start_time": "2025-06-01T11:16:26.337Z"
   },
   {
    "duration": 0,
    "start_time": "2025-06-01T11:16:26.338Z"
   },
   {
    "duration": 0,
    "start_time": "2025-06-01T11:16:26.339Z"
   },
   {
    "duration": 0,
    "start_time": "2025-06-01T11:16:26.340Z"
   },
   {
    "duration": 0,
    "start_time": "2025-06-01T11:16:26.341Z"
   },
   {
    "duration": 0,
    "start_time": "2025-06-01T11:16:26.342Z"
   },
   {
    "duration": 0,
    "start_time": "2025-06-01T11:16:26.372Z"
   },
   {
    "duration": 1,
    "start_time": "2025-06-01T11:16:26.373Z"
   },
   {
    "duration": 0,
    "start_time": "2025-06-01T11:16:26.374Z"
   },
   {
    "duration": 0,
    "start_time": "2025-06-01T11:16:26.375Z"
   },
   {
    "duration": 0,
    "start_time": "2025-06-01T11:16:26.377Z"
   },
   {
    "duration": 0,
    "start_time": "2025-06-01T11:16:26.378Z"
   },
   {
    "duration": 0,
    "start_time": "2025-06-01T11:16:26.379Z"
   },
   {
    "duration": 0,
    "start_time": "2025-06-01T11:16:26.380Z"
   },
   {
    "duration": 0,
    "start_time": "2025-06-01T11:16:26.381Z"
   },
   {
    "duration": 0,
    "start_time": "2025-06-01T11:16:26.382Z"
   },
   {
    "duration": 0,
    "start_time": "2025-06-01T11:16:26.383Z"
   },
   {
    "duration": 0,
    "start_time": "2025-06-01T11:16:26.384Z"
   },
   {
    "duration": 0,
    "start_time": "2025-06-01T11:16:26.385Z"
   },
   {
    "duration": 0,
    "start_time": "2025-06-01T11:16:26.386Z"
   },
   {
    "duration": 0,
    "start_time": "2025-06-01T11:16:26.387Z"
   },
   {
    "duration": 0,
    "start_time": "2025-06-01T11:16:26.388Z"
   },
   {
    "duration": 0,
    "start_time": "2025-06-01T11:16:26.389Z"
   },
   {
    "duration": 0,
    "start_time": "2025-06-01T11:16:26.390Z"
   },
   {
    "duration": 0,
    "start_time": "2025-06-01T11:16:26.435Z"
   },
   {
    "duration": 0,
    "start_time": "2025-06-01T11:16:26.437Z"
   },
   {
    "duration": 0,
    "start_time": "2025-06-01T11:16:26.438Z"
   },
   {
    "duration": 0,
    "start_time": "2025-06-01T11:16:26.439Z"
   },
   {
    "duration": 0,
    "start_time": "2025-06-01T11:16:26.440Z"
   },
   {
    "duration": 0,
    "start_time": "2025-06-01T11:16:26.441Z"
   },
   {
    "duration": 0,
    "start_time": "2025-06-01T11:16:26.443Z"
   },
   {
    "duration": 0,
    "start_time": "2025-06-01T11:16:26.444Z"
   },
   {
    "duration": 0,
    "start_time": "2025-06-01T11:16:26.445Z"
   },
   {
    "duration": 0,
    "start_time": "2025-06-01T11:16:26.446Z"
   },
   {
    "duration": 0,
    "start_time": "2025-06-01T11:16:26.447Z"
   },
   {
    "duration": 0,
    "start_time": "2025-06-01T11:16:26.448Z"
   },
   {
    "duration": 0,
    "start_time": "2025-06-01T11:16:26.450Z"
   },
   {
    "duration": 0,
    "start_time": "2025-06-01T11:16:26.450Z"
   },
   {
    "duration": 0,
    "start_time": "2025-06-01T11:16:26.451Z"
   },
   {
    "duration": 0,
    "start_time": "2025-06-01T11:16:26.453Z"
   },
   {
    "duration": 1144,
    "start_time": "2025-06-01T11:17:43.383Z"
   },
   {
    "duration": 1605,
    "start_time": "2025-06-01T11:17:44.529Z"
   },
   {
    "duration": 124,
    "start_time": "2025-06-01T11:17:46.135Z"
   },
   {
    "duration": 158,
    "start_time": "2025-06-01T11:17:46.260Z"
   },
   {
    "duration": 360,
    "start_time": "2025-06-01T11:17:46.420Z"
   },
   {
    "duration": 331,
    "start_time": "2025-06-01T11:17:46.782Z"
   },
   {
    "duration": 287,
    "start_time": "2025-06-01T11:17:47.116Z"
   },
   {
    "duration": 53,
    "start_time": "2025-06-01T11:17:47.405Z"
   },
   {
    "duration": 3357,
    "start_time": "2025-06-01T11:17:47.459Z"
   },
   {
    "duration": 2034,
    "start_time": "2025-06-01T11:17:50.818Z"
   },
   {
    "duration": 7,
    "start_time": "2025-06-01T11:17:52.854Z"
   },
   {
    "duration": 254,
    "start_time": "2025-06-01T11:17:52.864Z"
   },
   {
    "duration": 499,
    "start_time": "2025-06-01T11:17:53.120Z"
   },
   {
    "duration": 492,
    "start_time": "2025-06-01T11:17:53.622Z"
   },
   {
    "duration": 8,
    "start_time": "2025-06-01T11:17:54.118Z"
   },
   {
    "duration": 734,
    "start_time": "2025-06-01T11:17:54.134Z"
   },
   {
    "duration": 434,
    "start_time": "2025-06-01T11:17:54.870Z"
   },
   {
    "duration": 7,
    "start_time": "2025-06-01T11:17:55.306Z"
   },
   {
    "duration": 62,
    "start_time": "2025-06-01T11:17:55.315Z"
   },
   {
    "duration": 60,
    "start_time": "2025-06-01T11:17:55.378Z"
   },
   {
    "duration": 32,
    "start_time": "2025-06-01T11:17:55.440Z"
   },
   {
    "duration": 33,
    "start_time": "2025-06-01T11:17:55.474Z"
   },
   {
    "duration": 84,
    "start_time": "2025-06-01T11:17:55.509Z"
   },
   {
    "duration": 175,
    "start_time": "2025-06-01T11:17:55.595Z"
   },
   {
    "duration": 4,
    "start_time": "2025-06-01T11:17:55.772Z"
   },
   {
    "duration": 140,
    "start_time": "2025-06-01T11:17:55.778Z"
   },
   {
    "duration": 1009,
    "start_time": "2025-06-01T11:17:55.920Z"
   },
   {
    "duration": 44,
    "start_time": "2025-06-01T11:17:56.930Z"
   },
   {
    "duration": 22,
    "start_time": "2025-06-01T11:17:56.975Z"
   },
   {
    "duration": 6,
    "start_time": "2025-06-01T11:17:56.999Z"
   },
   {
    "duration": 888,
    "start_time": "2025-06-01T11:17:57.007Z"
   },
   {
    "duration": 283,
    "start_time": "2025-06-01T11:17:57.897Z"
   },
   {
    "duration": 63,
    "start_time": "2025-06-01T11:17:58.181Z"
   },
   {
    "duration": 966,
    "start_time": "2025-06-01T11:17:58.246Z"
   },
   {
    "duration": 10,
    "start_time": "2025-06-01T11:17:59.214Z"
   },
   {
    "duration": 173,
    "start_time": "2025-06-01T11:17:59.226Z"
   },
   {
    "duration": 83,
    "start_time": "2025-06-01T11:17:59.402Z"
   },
   {
    "duration": 61,
    "start_time": "2025-06-01T11:17:59.487Z"
   },
   {
    "duration": 119,
    "start_time": "2025-06-01T11:17:59.550Z"
   },
   {
    "duration": 128,
    "start_time": "2025-06-01T11:17:59.670Z"
   },
   {
    "duration": 109,
    "start_time": "2025-06-01T11:17:59.804Z"
   },
   {
    "duration": 62,
    "start_time": "2025-06-01T11:17:59.915Z"
   },
   {
    "duration": 479,
    "start_time": "2025-06-01T11:17:59.979Z"
   },
   {
    "duration": 532,
    "start_time": "2025-06-01T11:18:00.461Z"
   },
   {
    "duration": 22,
    "start_time": "2025-06-01T11:18:00.994Z"
   },
   {
    "duration": 68,
    "start_time": "2025-06-01T11:18:01.017Z"
   },
   {
    "duration": 5425,
    "start_time": "2025-06-01T11:28:19.604Z"
   },
   {
    "duration": 1108,
    "start_time": "2025-06-01T11:28:43.243Z"
   },
   {
    "duration": 2449,
    "start_time": "2025-06-01T11:28:44.353Z"
   },
   {
    "duration": 113,
    "start_time": "2025-06-01T11:28:46.803Z"
   },
   {
    "duration": 160,
    "start_time": "2025-06-01T11:28:46.918Z"
   },
   {
    "duration": 296,
    "start_time": "2025-06-01T11:28:47.080Z"
   },
   {
    "duration": 289,
    "start_time": "2025-06-01T11:28:47.378Z"
   },
   {
    "duration": 6110,
    "start_time": "2025-06-01T11:28:47.668Z"
   },
   {
    "duration": 267,
    "start_time": "2025-06-01T11:28:53.780Z"
   },
   {
    "duration": 44,
    "start_time": "2025-06-01T11:28:54.049Z"
   },
   {
    "duration": 3302,
    "start_time": "2025-06-01T11:28:54.094Z"
   },
   {
    "duration": 1743,
    "start_time": "2025-06-01T11:28:57.398Z"
   },
   {
    "duration": 6,
    "start_time": "2025-06-01T11:28:59.143Z"
   },
   {
    "duration": 116,
    "start_time": "2025-06-01T11:28:59.151Z"
   },
   {
    "duration": 452,
    "start_time": "2025-06-01T11:28:59.270Z"
   },
   {
    "duration": 432,
    "start_time": "2025-06-01T11:28:59.724Z"
   },
   {
    "duration": 5,
    "start_time": "2025-06-01T11:29:00.158Z"
   },
   {
    "duration": 603,
    "start_time": "2025-06-01T11:29:00.165Z"
   },
   {
    "duration": 355,
    "start_time": "2025-06-01T11:29:00.770Z"
   },
   {
    "duration": 10,
    "start_time": "2025-06-01T11:29:01.127Z"
   },
   {
    "duration": 41,
    "start_time": "2025-06-01T11:29:01.139Z"
   },
   {
    "duration": 55,
    "start_time": "2025-06-01T11:29:01.182Z"
   },
   {
    "duration": 17,
    "start_time": "2025-06-01T11:29:01.239Z"
   },
   {
    "duration": 25,
    "start_time": "2025-06-01T11:29:01.258Z"
   },
   {
    "duration": 55,
    "start_time": "2025-06-01T11:29:01.285Z"
   },
   {
    "duration": 141,
    "start_time": "2025-06-01T11:29:01.342Z"
   },
   {
    "duration": 4,
    "start_time": "2025-06-01T11:29:01.484Z"
   },
   {
    "duration": 124,
    "start_time": "2025-06-01T11:29:01.489Z"
   },
   {
    "duration": 889,
    "start_time": "2025-06-01T11:29:01.615Z"
   },
   {
    "duration": 48,
    "start_time": "2025-06-01T11:29:02.506Z"
   },
   {
    "duration": 6,
    "start_time": "2025-06-01T11:29:02.555Z"
   },
   {
    "duration": 8,
    "start_time": "2025-06-01T11:29:02.562Z"
   },
   {
    "duration": 640,
    "start_time": "2025-06-01T11:29:02.571Z"
   },
   {
    "duration": 245,
    "start_time": "2025-06-01T11:29:03.212Z"
   },
   {
    "duration": 54,
    "start_time": "2025-06-01T11:29:03.459Z"
   },
   {
    "duration": 982,
    "start_time": "2025-06-01T11:29:03.514Z"
   },
   {
    "duration": 10,
    "start_time": "2025-06-01T11:29:04.497Z"
   },
   {
    "duration": 179,
    "start_time": "2025-06-01T11:29:04.509Z"
   },
   {
    "duration": 61,
    "start_time": "2025-06-01T11:29:04.690Z"
   },
   {
    "duration": 49,
    "start_time": "2025-06-01T11:29:04.753Z"
   },
   {
    "duration": 43,
    "start_time": "2025-06-01T11:29:04.803Z"
   },
   {
    "duration": 137,
    "start_time": "2025-06-01T11:29:04.851Z"
   },
   {
    "duration": 106,
    "start_time": "2025-06-01T11:29:04.990Z"
   },
   {
    "duration": 59,
    "start_time": "2025-06-01T11:29:05.098Z"
   },
   {
    "duration": 433,
    "start_time": "2025-06-01T11:29:05.159Z"
   },
   {
    "duration": 454,
    "start_time": "2025-06-01T11:29:05.593Z"
   },
   {
    "duration": 21,
    "start_time": "2025-06-01T11:29:06.049Z"
   },
   {
    "duration": 47,
    "start_time": "2025-06-01T11:29:06.071Z"
   }
  ],
  "colab": {
   "provenance": []
  },
  "kernelspec": {
   "display_name": "Python 3 (ipykernel)",
   "language": "python",
   "name": "python3"
  },
  "language_info": {
   "codemirror_mode": {
    "name": "ipython",
    "version": 3
   },
   "file_extension": ".py",
   "mimetype": "text/x-python",
   "name": "python",
   "nbconvert_exporter": "python",
   "pygments_lexer": "ipython3",
   "version": "3.9.5"
  },
  "toc": {
   "base_numbering": 1,
   "nav_menu": {
    "height": "158px",
    "width": "203px"
   },
   "number_sections": true,
   "sideBar": true,
   "skip_h1_title": true,
   "title_cell": "Table of Contents",
   "title_sidebar": "Contents",
   "toc_cell": false,
   "toc_position": {},
   "toc_section_display": true,
   "toc_window_display": false
  }
 },
 "nbformat": 4,
 "nbformat_minor": 1
}
