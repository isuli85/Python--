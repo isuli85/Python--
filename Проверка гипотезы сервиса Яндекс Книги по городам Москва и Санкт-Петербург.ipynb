{
 "cells": [
  {
   "cell_type": "markdown",
   "id": "_E41Wr5fqnFT",
   "metadata": {
    "id": "_E41Wr5fqnFT"
   },
   "source": [
    "# Часть 1. Проверка гипотезы в Python и составление аналитической записки"
   ]
  },
  {
   "cell_type": "markdown",
   "id": "e06910dd",
   "metadata": {
    "id": "e06910dd"
   },
   "source": [
    "## Проверка гипотезы сервиса Яндекс Книги по городам Москва и Санкт-Петербург\n",
    "\n",
    "- Автор:Ахметдинова Айсылу Газинуровна\n",
    "- Дата:14.05.2025"
   ]
  },
  {
   "cell_type": "markdown",
   "id": "4149134c",
   "metadata": {
    "id": "4149134c"
   },
   "source": [
    "## Цели и задачи проекта\n",
    "\n",
    "Цель проекта проверить: действительно ли пользователи из Москвы проводят в среднем больше времени за чтением и прослушиванием книг в приложении, чем пользователи из Санкт-Петербурга. Для этого нам нужно будет проверить данные, провести анализ и по результатам анализа данных подготовить аналитическую записку.\n"
   ]
  },
  {
   "cell_type": "markdown",
   "id": "728986ea",
   "metadata": {
    "id": "728986ea"
   },
   "source": [
    "## Описание данных\n",
    "\n",
    "Таблицы этого проекта содержат данные о чтении и прослушивании контента в сервисе Яндекс Книги, которые включают информацию о пользователях, платформах, времени, длительности сессий и типах контента. Данные представлены за период с 1 сентября по 11 декабря 2024 года. В нашем распоряжении будет несколько таблиц.\n",
    "\n",
    "**Таблица bookmate.audition** содержит данные об активности пользователей и состоит из следующих полей:\n",
    "- audition_id — уникальный идентификатор сессии чтения или прослушивания;\n",
    "- puid — идентификатор пользователя;\n",
    "- usage_platform_ru — название платформы, с помощью которой пользователь слушал контент;\n",
    "- msk_business_dt_str — дата события в формате строки (московское время);\n",
    "- app_version — версия приложения, которая использовалась для чтения или прослушивания;\n",
    "- adult_content_flg — был ли это контент для взрослых: True или False;\n",
    "- hours — длительность чтения или прослушивания в часах;\n",
    "- hours_sessions_long — продолжительность длинных сессий чтения или прослушивания в часах;\n",
    "- kids_content_flg — был ли это детский контент: True или False;\n",
    "- main_content_id — идентификатор основного контента;\n",
    "- usage_geo_id — идентификатор географического местоположения.\n",
    "\n",
    "**Таблица bookmate.content**содержит данные о контенте и состоит из следующих полей:\n",
    "- main_content_id — идентификатор основного контента;\n",
    "- main_author_id — идентификатор основного автора контента;\n",
    "- main_content_type — тип контента;\n",
    "- main_content_name— название контента;\n",
    "- main_content_duration_hours — длительность контента в часах;\n",
    "- published_topic_title_list — список жанров контента.\n",
    "\n",
    "**Таблица bookmate.author** содержит данные об авторах контента и состоит из следующих полей:\n",
    "- main_author_id — идентификатор основного автора контента;\n",
    "- main_author_name — имя основного автора контента.\n",
    "\n",
    "**Таблица bookmate.geo** содержит данные о местоположении и состоит из следующих полей:\n",
    "- usage_geo_id — идентификатор географического положения;\n",
    "- usage_geo_id_name — город или регион географического положения;\n",
    "- usage_country_name — страна географического положения."
   ]
  },
  {
   "cell_type": "markdown",
   "id": "4fecaf95",
   "metadata": {
    "id": "4fecaf95"
   },
   "source": [
    "## Содержимое проекта\n",
    "\n",
    "**1. Загрузка данных и знакомство с ними.** Проверка на наличие дубликатов в идентификаторах пользователей. Сравнение размера групп, их статистики и распределения.\n",
    "\n",
    "**2. Проверка гипотезы в Python.**\n",
    "\n",
    "Нулевая гипотеза  𝐻0:𝜇СПб≤𝜇Москва\n",
    " \n",
    "Среднее время активности пользователей в Санкт-Петербурге не больше, чем в Москве.\n",
    "\n",
    "Альтернативная гипотеза  𝐻1:𝜇СПб>𝜇Москва\n",
    " \n",
    "Среднее время активности пользователей в Санкт-Петербурге больше, и это различие статистически значимо.\n",
    "\n",
    "**3. Аналитическая записка.** Интерпретация результатов."
   ]
  },
  {
   "cell_type": "markdown",
   "id": "6f7d21d6",
   "metadata": {
    "id": "6f7d21d6"
   },
   "source": [
    "## 1. Загрузка данных и знакомство с ними\n",
    "\n",
    "Загрузим данные пользователей из Москвы и Санкт-Петербурга c их активностью (суммой часов чтения и прослушивания) из файла `/datasets/yandex_knigi_data.csv`."
   ]
  },
  {
   "cell_type": "code",
   "execution_count": 1,
   "id": "05faf34b",
   "metadata": {
    "id": "05faf34b",
    "scrolled": true
   },
   "outputs": [
    {
     "data": {
      "text/html": [
       "<div>\n",
       "<style scoped>\n",
       "    .dataframe tbody tr th:only-of-type {\n",
       "        vertical-align: middle;\n",
       "    }\n",
       "\n",
       "    .dataframe tbody tr th {\n",
       "        vertical-align: top;\n",
       "    }\n",
       "\n",
       "    .dataframe thead th {\n",
       "        text-align: right;\n",
       "    }\n",
       "</style>\n",
       "<table border=\"1\" class=\"dataframe\">\n",
       "  <thead>\n",
       "    <tr style=\"text-align: right;\">\n",
       "      <th></th>\n",
       "      <th>Unnamed: 0</th>\n",
       "      <th>city</th>\n",
       "      <th>puid</th>\n",
       "      <th>hours</th>\n",
       "    </tr>\n",
       "  </thead>\n",
       "  <tbody>\n",
       "    <tr>\n",
       "      <th>0</th>\n",
       "      <td>0</td>\n",
       "      <td>Москва</td>\n",
       "      <td>9668</td>\n",
       "      <td>26.167776</td>\n",
       "    </tr>\n",
       "    <tr>\n",
       "      <th>1</th>\n",
       "      <td>1</td>\n",
       "      <td>Москва</td>\n",
       "      <td>16598</td>\n",
       "      <td>82.111217</td>\n",
       "    </tr>\n",
       "    <tr>\n",
       "      <th>2</th>\n",
       "      <td>2</td>\n",
       "      <td>Москва</td>\n",
       "      <td>80401</td>\n",
       "      <td>4.656906</td>\n",
       "    </tr>\n",
       "    <tr>\n",
       "      <th>3</th>\n",
       "      <td>3</td>\n",
       "      <td>Москва</td>\n",
       "      <td>140205</td>\n",
       "      <td>1.840556</td>\n",
       "    </tr>\n",
       "    <tr>\n",
       "      <th>4</th>\n",
       "      <td>4</td>\n",
       "      <td>Москва</td>\n",
       "      <td>248755</td>\n",
       "      <td>151.326434</td>\n",
       "    </tr>\n",
       "  </tbody>\n",
       "</table>\n",
       "</div>"
      ],
      "text/plain": [
       "   Unnamed: 0    city    puid       hours\n",
       "0           0  Москва    9668   26.167776\n",
       "1           1  Москва   16598   82.111217\n",
       "2           2  Москва   80401    4.656906\n",
       "3           3  Москва  140205    1.840556\n",
       "4           4  Москва  248755  151.326434"
      ]
     },
     "metadata": {},
     "output_type": "display_data"
    },
    {
     "name": "stdout",
     "output_type": "stream",
     "text": [
      "<class 'pandas.core.frame.DataFrame'>\n",
      "RangeIndex: 8784 entries, 0 to 8783\n",
      "Data columns (total 4 columns):\n",
      " #   Column      Non-Null Count  Dtype  \n",
      "---  ------      --------------  -----  \n",
      " 0   Unnamed: 0  8784 non-null   int64  \n",
      " 1   city        8784 non-null   object \n",
      " 2   puid        8784 non-null   int64  \n",
      " 3   hours       8784 non-null   float64\n",
      "dtypes: float64(1), int64(2), object(1)\n",
      "memory usage: 274.6+ KB\n"
     ]
    },
    {
     "data": {
      "text/plain": [
       "None"
      ]
     },
     "metadata": {},
     "output_type": "display_data"
    }
   ],
   "source": [
    "# Загрузим данные и выведем основную информацию по датафрейму\n",
    "import pandas as pd\n",
    "df = pd.read_csv('/datasets/yandex_knigi_data.csv')\n",
    "display(df.head())\n",
    "display(df.info())"
   ]
  },
  {
   "cell_type": "markdown",
   "id": "fb591af3",
   "metadata": {},
   "source": [
    "В датафрейме 8784 строк, пропусков нет, типы данных соответствуют данным, названия столбцов в одном регистре и понятны по описанию."
   ]
  },
  {
   "cell_type": "code",
   "execution_count": 2,
   "id": "f68a7419",
   "metadata": {
    "id": "f68a7419"
   },
   "outputs": [
    {
     "name": "stdout",
     "output_type": "stream",
     "text": [
      "Количество дубликатов в puid: 244\n"
     ]
    }
   ],
   "source": [
    "# Проверим наличие дубликатов в идентификаторах пользователей\n",
    "duplicates = df['puid'].duplicated().sum()\n",
    "print(f\"Количество дубликатов в puid: {duplicates}\")\n"
   ]
  },
  {
   "cell_type": "code",
   "execution_count": 3,
   "id": "21b9b661",
   "metadata": {},
   "outputs": [
    {
     "name": "stdout",
     "output_type": "stream",
     "text": [
      "Количество дубликатов в puid после удаления: 0\n"
     ]
    }
   ],
   "source": [
    "# Удалим дубликаты \n",
    "df = df.drop_duplicates(subset='puid', keep='first')\n",
    "# Проверим на дубликаты после удаления\n",
    "duplicates = df['puid'].duplicated().sum()\n",
    "print(f\"Количество дубликатов в puid после удаления: {duplicates}\")"
   ]
  },
  {
   "cell_type": "markdown",
   "id": "890df70e",
   "metadata": {},
   "source": [
    "В данном этапе мы проверили данные на наличие дубликатов в идентификаторах пользователей. Было обнаружено 244 дубликата, их мы удалили."
   ]
  },
  {
   "cell_type": "code",
   "execution_count": 4,
   "id": "e7fba000",
   "metadata": {},
   "outputs": [
    {
     "name": "stdout",
     "output_type": "stream",
     "text": [
      "Размер группы Москва: 6234\n",
      "Размер группы Санкт-Петербург: 2306\n",
      "\n",
      "Статистики для группы Москва:\n",
      "count    6234.000000\n",
      "mean       10.881092\n",
      "std        36.851683\n",
      "min         0.000018\n",
      "25%         0.059903\n",
      "50%         0.924498\n",
      "75%         5.939972\n",
      "max       857.209373\n",
      "Name: hours, dtype: float64\n",
      "\n",
      "Статистики для группы Санкт-Петербург:\n",
      "count    2306.000000\n",
      "mean       11.264433\n",
      "std        39.831755\n",
      "min         0.000025\n",
      "25%         0.060173\n",
      "50%         0.875355\n",
      "75%         6.138424\n",
      "max       978.764775\n",
      "Name: hours, dtype: float64\n"
     ]
    }
   ],
   "source": [
    "# Сравним размеры групп по городам\n",
    "group_moscow = df[df['city'] == 'Москва']['hours']\n",
    "group_spb = df[df['city'] == 'Санкт-Петербург']['hours']\n",
    "\n",
    "print(f\"Размер группы Москва: {len(group_moscow)}\")\n",
    "print(f\"Размер группы Санкт-Петербург: {len(group_spb)}\")\n",
    "\n",
    "# Вычислим и сравним основные статистики\n",
    "print(\"\\nСтатистики для группы Москва:\")\n",
    "print(group_moscow.describe())\n",
    "\n",
    "print(\"\\nСтатистики для группы Санкт-Петербург:\")\n",
    "print(group_spb.describe())\n",
    " \n",
    "    \n"
   ]
  },
  {
   "cell_type": "markdown",
   "id": "6bb9564f",
   "metadata": {},
   "source": [
    "  Группа пользователей из Москвы(6234) значительно больше группы пользователей из Санкт-Петербурга(2306). Большая разница в размерах групп может повлиять на мощность статистического теста.  Среднее время активности немного выше в Санкт-Петербурге, но разница небольшая.  В обеих группах наблюдается большой разброс данных (высокое стандартное отклонение) и наличие выбросов (очень высокие максимальные значения). Это означает, что поведение пользователей сильно варьируется. Построим гистограмму, чтобы лучше понять распределение данных и выявить выбросы."
   ]
  },
  {
   "cell_type": "code",
   "execution_count": 5,
   "id": "42e05461",
   "metadata": {},
   "outputs": [
    {
     "data": {
      "image/png": "[encoded data removed]",
      "text/plain": [
       "<Figure size 864x432 with 1 Axes>"
      ]
     },
     "metadata": {},
     "output_type": "display_data"
    }
   ],
   "source": [
    "import matplotlib.pyplot as plt\n",
    "import seaborn as sns\n",
    "\n",
    "# Настроим стиль графиков\n",
    "sns.set(style=\"whitegrid\")\n",
    "\n",
    "# Создаем гистограмму\n",
    "plt.figure(figsize=(12, 6))\n",
    "\n",
    "# Гистограмма для Москвы\n",
    "sns.histplot(df[df['city'] == 'Москва']['hours'],\n",
    "             kde=True, \n",
    "             label='Москва',\n",
    "             color='skyblue',\n",
    "             bins=30)  \n",
    "\n",
    "# Гистограмма для Санкт-Петербурга\n",
    "sns.histplot(df[df['city'] == 'Санкт-Петербург']['hours'],\n",
    "             kde=True, \n",
    "             label='Санкт-Петербург',\n",
    "             color='salmon',\n",
    "             bins=30) \n",
    "\n",
    "# Настроим график\n",
    "plt.xlabel('Время активности (часы)')\n",
    "plt.ylabel('Количество пользователей')\n",
    "plt.title('Распределение времени активности по городам')\n",
    "plt.legend()\n",
    "plt.xlim(0,200)\n",
    "plt.show()"
   ]
  },
  {
   "cell_type": "markdown",
   "id": "18b3eb1a",
   "metadata": {},
   "source": [
    "По гистограмме видим, что действительно в данных присутствуют выбросы. "
   ]
  },
  {
   "cell_type": "markdown",
   "id": "956e82e2",
   "metadata": {
    "id": "956e82e2"
   },
   "source": [
    "## 2. Проверка гипотезы в Python\n",
    "\n",
    "Гипотеза звучит так: пользователи из Санкт-Петербурга проводят в среднем больше времени за чтением и прослушиванием книг в приложении, чем пользователи из Москвы. Попробуем статистически это доказать, используя одностороннюю проверку гипотезы с двумя выборками:\n",
    "\n",
    "- Нулевая гипотеза H₀: Средняя активность пользователей в часах в двух группах (Москва и Санкт-Петербург) не различается.\n",
    "\n",
    "- Альтернативная гипотеза H₁: Средняя активность пользователей в Санкт-Петербурге больше, и это различие статистически значимо."
   ]
  },
  {
   "cell_type": "markdown",
   "id": "57bd26e4",
   "metadata": {},
   "source": [
    " Проведем стстистический т-тест Уэлча. Этот тест более устойчив к различиям в размерах групп и дисперсиях."
   ]
  },
  {
   "cell_type": "code",
   "execution_count": 6,
   "id": "67956690",
   "metadata": {
    "id": "67956690"
   },
   "outputs": [
    {
     "name": "stdout",
     "output_type": "stream",
     "text": [
      "p-value: 0.3435708118766314\n",
      "Не можем отвергнуть нулевую гипотезу: нет статистически значимого различия в средней активности пользователей между Санкт-Петербургом и Москвой.\n"
     ]
    }
   ],
   "source": [
    "import pandas as pd\n",
    "from scipy import stats\n",
    "\n",
    "\n",
    "# Фильтруем данные по городам\n",
    "moscow_data = df[df['city'] == 'Москва']['hours']\n",
    "spb_data = df[df['city'] == 'Санкт-Петербург']['hours']\n",
    "\n",
    "# Проведем односторонний t-теста\n",
    "alpha = 0.05\n",
    "result = stats.ttest_ind(spb_data, moscow_data, alternative='greater', equal_var=False) \n",
    "\n",
    "p_value = result.pvalue\n",
    "\n",
    "print(f\"p-value: {p_value}\")\n",
    "\n",
    "if p_value < alpha:\n",
    "    print(\"Отвергаем нулевую гипотезу: средняя активность пользователей в Санкт-Петербурге статистически значимо больше, чем в Москве.\")\n",
    "else:\n",
    "    print(\"Не можем отвергнуть нулевую гипотезу: нет статистически значимого различия в средней активности пользователей между Санкт-Петербургом и Москвой.\")\n"
   ]
  },
  {
   "cell_type": "markdown",
   "id": "6953e84c",
   "metadata": {
    "id": "6953e84c"
   },
   "source": [
    "## 3. Аналитическая записка\n"
   ]
  },
  {
   "cell_type": "markdown",
   "id": "5c573053",
   "metadata": {},
   "source": [
    "Подведем итоги. В данной работе была выполнена очистка данных от дубликатов пользователей, были сформированы выборки по городам Москва и Санкт-Петербург.\n",
    "- Для проверки гипотезы был выбран односторонний t-тест Уэлча. Обоснование выбора: t-тест Уэлча был выбран, поскольку он не предполагает равенство дисперсий между группами и устойчив к различиям в размерах выборок, что важно, учитывая существенную разницу в количестве пользователей в Москве и Санкт-Петербурге. Уровень статистической значимости (alpha) был установлен на 0.05.\n",
    "- По результатам теста p-value = 0.3435708118766314\n",
    "- Поскольку p-value (0.3436) превышает установленный уровень значимости (0.05), мы не можем отвергнуть нулевую гипотезу.На основе проведенного t-теста Уэлча, нет статистически значимых доказательств того, что средняя активность пользователей в Санкт-Петербурге больше, чем в Москве. Следовательно, гипотеза о том, что пользователи из Санкт-Петербурга в среднем проводят больше времени за чтением и прослушиванием книг в приложении, не находит статистического подтверждения.\n",
    "- Возможные причины полученных результатов: недостаточная мощность теста, выбросы в данных,либо неучтенные данные, как сезонность."
   ]
  },
  {
   "cell_type": "markdown",
   "id": "hc1d6jVISegz",
   "metadata": {
    "id": "hc1d6jVISegz"
   },
   "source": [
    "----"
   ]
  },
  {
   "cell_type": "markdown",
   "id": "NqOUIYhbrIfC",
   "metadata": {
    "id": "NqOUIYhbrIfC"
   },
   "source": [
    "# Часть 2. Анализ результатов A/B-тестирования"
   ]
  },
  {
   "cell_type": "markdown",
   "id": "UNXAAyF5r9Rk",
   "metadata": {
    "id": "UNXAAyF5r9Rk"
   },
   "source": [
    "## 1. Цель исследования.\n",
    "\n"
   ]
  },
  {
   "cell_type": "markdown",
   "id": "kHx-51yES8bd",
   "metadata": {
    "id": "kHx-51yES8bd"
   },
   "source": []
  },
  {
   "cell_type": "markdown",
   "id": "234c4b04",
   "metadata": {},
   "source": [
    "Цель исследования — провести оценку результатов A/B-теста и убедиться(либо опровергнуть), что упрощение интерфейса интернет-магазина BitMotion Kit приведёт к тому, что в течение семи дней после регистрации в системе конверсия зарегистрированных пользователей в покупателей увеличится как минимум на три процентных пункта. Оцените корректность проведения теста и проанализируйте его результаты.\n",
    "Задачи:\n",
    "\n",
    "- загрузить данные теста;\n",
    "- проверить корректность его проведения;\n",
    "- проанализировать полученные результаты."
   ]
  },
  {
   "cell_type": "markdown",
   "id": "_CZryx2OsH-s",
   "metadata": {
    "id": "_CZryx2OsH-s"
   },
   "source": [
    "## 2. Загрузка данных, оценка их целостности.\n"
   ]
  },
  {
   "cell_type": "code",
   "execution_count": 7,
   "id": "DjFcJbeGsTIg",
   "metadata": {
    "id": "DjFcJbeGsTIg"
   },
   "outputs": [
    {
     "data": {
      "text/plain": [
       "'Первые 5 строк таблицы participants:'"
      ]
     },
     "metadata": {},
     "output_type": "display_data"
    },
    {
     "data": {
      "text/html": [
       "<div>\n",
       "<style scoped>\n",
       "    .dataframe tbody tr th:only-of-type {\n",
       "        vertical-align: middle;\n",
       "    }\n",
       "\n",
       "    .dataframe tbody tr th {\n",
       "        vertical-align: top;\n",
       "    }\n",
       "\n",
       "    .dataframe thead th {\n",
       "        text-align: right;\n",
       "    }\n",
       "</style>\n",
       "<table border=\"1\" class=\"dataframe\">\n",
       "  <thead>\n",
       "    <tr style=\"text-align: right;\">\n",
       "      <th></th>\n",
       "      <th>user_id</th>\n",
       "      <th>group</th>\n",
       "      <th>ab_test</th>\n",
       "      <th>device</th>\n",
       "    </tr>\n",
       "  </thead>\n",
       "  <tbody>\n",
       "    <tr>\n",
       "      <th>0</th>\n",
       "      <td>0002CE61FF2C4011</td>\n",
       "      <td>B</td>\n",
       "      <td>interface_eu_test</td>\n",
       "      <td>Mac</td>\n",
       "    </tr>\n",
       "    <tr>\n",
       "      <th>1</th>\n",
       "      <td>001064FEAAB631A1</td>\n",
       "      <td>B</td>\n",
       "      <td>recommender_system_test</td>\n",
       "      <td>Android</td>\n",
       "    </tr>\n",
       "    <tr>\n",
       "      <th>2</th>\n",
       "      <td>001064FEAAB631A1</td>\n",
       "      <td>A</td>\n",
       "      <td>interface_eu_test</td>\n",
       "      <td>Android</td>\n",
       "    </tr>\n",
       "    <tr>\n",
       "      <th>3</th>\n",
       "      <td>0010A1C096941592</td>\n",
       "      <td>A</td>\n",
       "      <td>recommender_system_test</td>\n",
       "      <td>Android</td>\n",
       "    </tr>\n",
       "    <tr>\n",
       "      <th>4</th>\n",
       "      <td>001E72F50D1C48FA</td>\n",
       "      <td>A</td>\n",
       "      <td>interface_eu_test</td>\n",
       "      <td>Mac</td>\n",
       "    </tr>\n",
       "  </tbody>\n",
       "</table>\n",
       "</div>"
      ],
      "text/plain": [
       "            user_id group                  ab_test   device\n",
       "0  0002CE61FF2C4011     B        interface_eu_test      Mac\n",
       "1  001064FEAAB631A1     B  recommender_system_test  Android\n",
       "2  001064FEAAB631A1     A        interface_eu_test  Android\n",
       "3  0010A1C096941592     A  recommender_system_test  Android\n",
       "4  001E72F50D1C48FA     A        interface_eu_test      Mac"
      ]
     },
     "metadata": {},
     "output_type": "display_data"
    },
    {
     "data": {
      "text/plain": [
       "'Информация о таблице participants:'"
      ]
     },
     "metadata": {},
     "output_type": "display_data"
    },
    {
     "name": "stdout",
     "output_type": "stream",
     "text": [
      "<class 'pandas.core.frame.DataFrame'>\n",
      "RangeIndex: 14525 entries, 0 to 14524\n",
      "Data columns (total 4 columns):\n",
      " #   Column   Non-Null Count  Dtype \n",
      "---  ------   --------------  ----- \n",
      " 0   user_id  14525 non-null  object\n",
      " 1   group    14525 non-null  object\n",
      " 2   ab_test  14525 non-null  object\n",
      " 3   device   14525 non-null  object\n",
      "dtypes: object(4)\n",
      "memory usage: 454.0+ KB\n"
     ]
    },
    {
     "data": {
      "text/plain": [
       "None"
      ]
     },
     "metadata": {},
     "output_type": "display_data"
    },
    {
     "data": {
      "text/plain": [
       "'Проверка на наличие пропусков в таблице participants:'"
      ]
     },
     "metadata": {},
     "output_type": "display_data"
    },
    {
     "data": {
      "text/plain": [
       "user_id    0\n",
       "group      0\n",
       "ab_test    0\n",
       "device     0\n",
       "dtype: int64"
      ]
     },
     "metadata": {},
     "output_type": "display_data"
    },
    {
     "data": {
      "text/plain": [
       "'Проверка на наличие дубликатов в таблице participants:'"
      ]
     },
     "metadata": {},
     "output_type": "display_data"
    },
    {
     "data": {
      "text/plain": [
       "0"
      ]
     },
     "metadata": {},
     "output_type": "display_data"
    },
    {
     "data": {
      "text/plain": [
       "'Первые 5 строк таблицы events:'"
      ]
     },
     "metadata": {},
     "output_type": "display_data"
    },
    {
     "data": {
      "text/html": [
       "<div>\n",
       "<style scoped>\n",
       "    .dataframe tbody tr th:only-of-type {\n",
       "        vertical-align: middle;\n",
       "    }\n",
       "\n",
       "    .dataframe tbody tr th {\n",
       "        vertical-align: top;\n",
       "    }\n",
       "\n",
       "    .dataframe thead th {\n",
       "        text-align: right;\n",
       "    }\n",
       "</style>\n",
       "<table border=\"1\" class=\"dataframe\">\n",
       "  <thead>\n",
       "    <tr style=\"text-align: right;\">\n",
       "      <th></th>\n",
       "      <th>user_id</th>\n",
       "      <th>event_dt</th>\n",
       "      <th>event_name</th>\n",
       "      <th>details</th>\n",
       "    </tr>\n",
       "  </thead>\n",
       "  <tbody>\n",
       "    <tr>\n",
       "      <th>0</th>\n",
       "      <td>GLOBAL</td>\n",
       "      <td>2020-12-01 00:00:00</td>\n",
       "      <td>End of Black Friday Ads Campaign</td>\n",
       "      <td>ZONE_CODE15</td>\n",
       "    </tr>\n",
       "    <tr>\n",
       "      <th>1</th>\n",
       "      <td>CCBE9E7E99F94A08</td>\n",
       "      <td>2020-12-01 00:00:11</td>\n",
       "      <td>registration</td>\n",
       "      <td>0.0</td>\n",
       "    </tr>\n",
       "    <tr>\n",
       "      <th>2</th>\n",
       "      <td>GLOBAL</td>\n",
       "      <td>2020-12-01 00:00:25</td>\n",
       "      <td>product_page</td>\n",
       "      <td>NaN</td>\n",
       "    </tr>\n",
       "    <tr>\n",
       "      <th>3</th>\n",
       "      <td>CCBE9E7E99F94A08</td>\n",
       "      <td>2020-12-01 00:00:33</td>\n",
       "      <td>login</td>\n",
       "      <td>NaN</td>\n",
       "    </tr>\n",
       "    <tr>\n",
       "      <th>4</th>\n",
       "      <td>CCBE9E7E99F94A08</td>\n",
       "      <td>2020-12-01 00:00:52</td>\n",
       "      <td>product_page</td>\n",
       "      <td>NaN</td>\n",
       "    </tr>\n",
       "  </tbody>\n",
       "</table>\n",
       "</div>"
      ],
      "text/plain": [
       "            user_id            event_dt                        event_name  \\\n",
       "0            GLOBAL 2020-12-01 00:00:00  End of Black Friday Ads Campaign   \n",
       "1  CCBE9E7E99F94A08 2020-12-01 00:00:11                      registration   \n",
       "2            GLOBAL 2020-12-01 00:00:25                      product_page   \n",
       "3  CCBE9E7E99F94A08 2020-12-01 00:00:33                             login   \n",
       "4  CCBE9E7E99F94A08 2020-12-01 00:00:52                      product_page   \n",
       "\n",
       "       details  \n",
       "0  ZONE_CODE15  \n",
       "1          0.0  \n",
       "2          NaN  \n",
       "3          NaN  \n",
       "4          NaN  "
      ]
     },
     "metadata": {},
     "output_type": "display_data"
    },
    {
     "data": {
      "text/plain": [
       "'Информация о таблице events:'"
      ]
     },
     "metadata": {},
     "output_type": "display_data"
    },
    {
     "name": "stdout",
     "output_type": "stream",
     "text": [
      "<class 'pandas.core.frame.DataFrame'>\n",
      "RangeIndex: 787286 entries, 0 to 787285\n",
      "Data columns (total 4 columns):\n",
      " #   Column      Non-Null Count   Dtype         \n",
      "---  ------      --------------   -----         \n",
      " 0   user_id     787286 non-null  object        \n",
      " 1   event_dt    787286 non-null  datetime64[ns]\n",
      " 2   event_name  787286 non-null  object        \n",
      " 3   details     249022 non-null  object        \n",
      "dtypes: datetime64[ns](1), object(3)\n",
      "memory usage: 24.0+ MB\n"
     ]
    },
    {
     "data": {
      "text/plain": [
       "None"
      ]
     },
     "metadata": {},
     "output_type": "display_data"
    },
    {
     "data": {
      "text/plain": [
       "'Проверка на наличие пропусков в таблице events:'"
      ]
     },
     "metadata": {},
     "output_type": "display_data"
    },
    {
     "data": {
      "text/plain": [
       "user_id            0\n",
       "event_dt           0\n",
       "event_name         0\n",
       "details       538264\n",
       "dtype: int64"
      ]
     },
     "metadata": {},
     "output_type": "display_data"
    },
    {
     "data": {
      "text/plain": [
       "'Проверка на наличие дубликатов в таблице events:'"
      ]
     },
     "metadata": {},
     "output_type": "display_data"
    },
    {
     "data": {
      "text/plain": [
       "36318"
      ]
     },
     "metadata": {},
     "output_type": "display_data"
    }
   ],
   "source": [
    "participants = pd.read_csv('https://code.s3.yandex.net/datasets/ab_test_participants.csv')\n",
    "events = pd.read_csv('https://code.s3.yandex.net/datasets/ab_test_events.zip',\n",
    "                     parse_dates=['event_dt'], low_memory=False)\n",
    "display(\"Первые 5 строк таблицы participants:\")\n",
    "display(participants.head())\n",
    "display(\"Информация о таблице participants:\")\n",
    "display(participants.info())\n",
    "display(\"Проверка на наличие пропусков в таблице participants:\")\n",
    "display(participants.isnull().sum())\n",
    "display(\"Проверка на наличие дубликатов в таблице participants:\")\n",
    "display(participants.duplicated().sum())\n",
    "\n",
    "display(\"Первые 5 строк таблицы events:\")\n",
    "display(events.head())\n",
    "display(\"Информация о таблице events:\")\n",
    "display(events.info())\n",
    "display(\"Проверка на наличие пропусков в таблице events:\")\n",
    "display(events.isnull().sum())\n",
    "display(\"Проверка на наличие дубликатов в таблице events:\")\n",
    "display(events.duplicated().sum())\n"
   ]
  },
  {
   "cell_type": "markdown",
   "id": "e6f9f25e",
   "metadata": {},
   "source": [
    "Данные в таблице participants в порядке, типы данных соответствуют, пропуски и дубликаты не обнаружены.\n",
    "В таблице events также типы данных соответствуют, обнаружены пропуски в количестве 538264 в столбце details с дополнительными данными о событии и дубликаты в количестве 36318. Дубликаты мы далее удалим, а пропуски оставим,так как их достаточно много и они не повлияют на основное исследование. "
   ]
  },
  {
   "cell_type": "code",
   "execution_count": 8,
   "id": "f9d927a9",
   "metadata": {},
   "outputs": [
    {
     "name": "stdout",
     "output_type": "stream",
     "text": [
      "<class 'pandas.core.frame.DataFrame'>\n",
      "Int64Index: 750968 entries, 0 to 787285\n",
      "Data columns (total 4 columns):\n",
      " #   Column      Non-Null Count   Dtype         \n",
      "---  ------      --------------   -----         \n",
      " 0   user_id     750968 non-null  object        \n",
      " 1   event_dt    750968 non-null  datetime64[ns]\n",
      " 2   event_name  750968 non-null  object        \n",
      " 3   details     244905 non-null  object        \n",
      "dtypes: datetime64[ns](1), object(3)\n",
      "memory usage: 28.6+ MB\n"
     ]
    },
    {
     "data": {
      "text/plain": [
       "None"
      ]
     },
     "metadata": {},
     "output_type": "display_data"
    }
   ],
   "source": [
    "events = events.drop_duplicates()\n",
    "display(events.info())"
   ]
  },
  {
   "cell_type": "markdown",
   "id": "CnzA-efasUrk",
   "metadata": {
    "id": "CnzA-efasUrk"
   },
   "source": [
    "## 3. По таблице `ab_test_participants` оценим корректность проведения теста:\n",
    "\n",
    "   3\\.1 Выделим пользователей, участвующих в тесте, и проверим:\n",
    "\n",
    "   - соответствие требованиям технического задания,\n",
    "\n",
    "   - равномерность распределения пользователей по группам теста,\n",
    "\n",
    "   - отсутствие пересечений с конкурирующим тестом (нет пользователей, участвующих одновременно в двух тестовых группах)."
   ]
  },
  {
   "cell_type": "code",
   "execution_count": 9,
   "id": "aNa3zHrKslEN",
   "metadata": {
    "id": "aNa3zHrKslEN"
   },
   "outputs": [
    {
     "data": {
      "text/plain": [
       "'Уникальные тесты, представленные в данных:'"
      ]
     },
     "metadata": {},
     "output_type": "display_data"
    },
    {
     "data": {
      "text/plain": [
       "array(['interface_eu_test', 'recommender_system_test'], dtype=object)"
      ]
     },
     "metadata": {},
     "output_type": "display_data"
    }
   ],
   "source": [
    "# Выделим уникальные тесты, представленные в данных\n",
    "display(\"Уникальные тесты, представленные в данных:\")\n",
    "display(participants['ab_test'].unique())\n"
   ]
  },
  {
   "cell_type": "code",
   "execution_count": 10,
   "id": "9e13eba4",
   "metadata": {},
   "outputs": [
    {
     "data": {
      "text/plain": [
       "'Количество участников в interface_eu_test:'"
      ]
     },
     "metadata": {},
     "output_type": "display_data"
    },
    {
     "data": {
      "text/plain": [
       "10850"
      ]
     },
     "metadata": {},
     "output_type": "display_data"
    },
    {
     "data": {
      "text/plain": [
       "'Количество участников в recommender_system_test:'"
      ]
     },
     "metadata": {},
     "output_type": "display_data"
    },
    {
     "data": {
      "text/plain": [
       "3675"
      ]
     },
     "metadata": {},
     "output_type": "display_data"
    }
   ],
   "source": [
    "#Отфильтруем пользователей, которые принимали участие в interface_augmenting_test\n",
    "interface_eu_test_participants = participants[participants['ab_test'] == 'interface_eu_test']\n",
    "display(\"Количество участников в interface_eu_test:\")\n",
    "display(len(interface_eu_test_participants))\n",
    "\n",
    "#Отфильтруем пользователей, которые принимали участие в recommender_system_test\n",
    "recommender_system_test_participants = participants[participants['ab_test'] == 'recommender_system_test']\n",
    "display(\"Количество участников в recommender_system_test:\")\n",
    "display(len(recommender_system_test_participants))\n",
    "\n"
   ]
  },
  {
   "cell_type": "code",
   "execution_count": 11,
   "id": "5ad307a5",
   "metadata": {},
   "outputs": [
    {
     "data": {
      "text/plain": [
       "'Распределение пользователей по группам в interface_eu_test_participants:'"
      ]
     },
     "metadata": {},
     "output_type": "display_data"
    },
    {
     "data": {
      "text/plain": [
       "B    0.503871\n",
       "A    0.496129\n",
       "Name: group, dtype: float64"
      ]
     },
     "metadata": {},
     "output_type": "display_data"
    },
    {
     "data": {
      "text/plain": [
       "'Распределение пользователей по группам в recommender_system_test_participants:'"
      ]
     },
     "metadata": {},
     "output_type": "display_data"
    },
    {
     "data": {
      "text/plain": [
       "A    0.747483\n",
       "B    0.252517\n",
       "Name: group, dtype: float64"
      ]
     },
     "metadata": {},
     "output_type": "display_data"
    }
   ],
   "source": [
    "# Проверим равномерность распределения пользователей по группам теста\n",
    "display(\"Распределение пользователей по группам в interface_eu_test_participants:\")\n",
    "display(interface_eu_test_participants['group'].value_counts(normalize=True))\n",
    "\n",
    "display(\"Распределение пользователей по группам в recommender_system_test_participants:\")\n",
    "display(recommender_system_test_participants['group'].value_counts(normalize=True))"
   ]
  },
  {
   "cell_type": "code",
   "execution_count": 12,
   "id": "078e2fb3",
   "metadata": {},
   "outputs": [
    {
     "data": {
      "text/plain": [
       "'Количество пользователей, участвующих одновременно в двух тестовых группах'"
      ]
     },
     "metadata": {},
     "output_type": "display_data"
    },
    {
     "data": {
      "text/plain": [
       "887"
      ]
     },
     "metadata": {},
     "output_type": "display_data"
    }
   ],
   "source": [
    "# Найдем пользователей, участвующих одновременно в двух тестовых группах\n",
    "interface_test = participants[participants['ab_test'] == 'interface_eu_test']['user_id'].unique()\n",
    "recommender_test = participants[participants['ab_test'] == 'recommender_system_test']['user_id'].unique()\n",
    "\n",
    "intersection = list(set(interface_test) & set(recommender_test))\n",
    "display(\"Количество пользователей, участвующих одновременно в двух тестовых группах\")\n",
    "display(len(intersection)) "
   ]
  },
  {
   "cell_type": "code",
   "execution_count": 13,
   "id": "a8257fcc",
   "metadata": {},
   "outputs": [],
   "source": [
    "# Удалим этих пользователей из обеих групп\n",
    "participants = participants[~participants['user_id'].isin(intersection)] "
   ]
  },
  {
   "cell_type": "markdown",
   "id": "d0fa5152",
   "metadata": {},
   "source": [
    "Выяснили, что в данных представлены два вида тестовых групп: interface_eu_test и recommender_system_test с количеством участников 10850 и 3675 соответственно. Распределение пользователей в тестовой группе interface_eu_test_participants равномерное: A - 0.496129, B - 0.503871, в группе recommender_system_test пользователи распределяются неравномерно:A - 0.747483, B - 0.252517. Выявили и удалили 887 пользователей, участвующих одновременно в двух тестовых группах. \n"
   ]
  },
  {
   "cell_type": "markdown",
   "id": "GjulgSrlsqUU",
   "metadata": {
    "id": "GjulgSrlsqUU"
   },
   "source": [
    "3\\.2 Проанализируйте данные о пользовательской активности по таблице `ab_test_events`:\n",
    "\n",
    "- оставьте только события, связанные с участвующими в изучаемом тесте пользователями;"
   ]
  },
  {
   "cell_type": "code",
   "execution_count": 14,
   "id": "44562c62",
   "metadata": {},
   "outputs": [
    {
     "data": {
      "text/html": [
       "<div>\n",
       "<style scoped>\n",
       "    .dataframe tbody tr th:only-of-type {\n",
       "        vertical-align: middle;\n",
       "    }\n",
       "\n",
       "    .dataframe tbody tr th {\n",
       "        vertical-align: top;\n",
       "    }\n",
       "\n",
       "    .dataframe thead th {\n",
       "        text-align: right;\n",
       "    }\n",
       "</style>\n",
       "<table border=\"1\" class=\"dataframe\">\n",
       "  <thead>\n",
       "    <tr style=\"text-align: right;\">\n",
       "      <th></th>\n",
       "      <th>user_id</th>\n",
       "      <th>group</th>\n",
       "      <th>ab_test</th>\n",
       "      <th>device</th>\n",
       "      <th>event_dt</th>\n",
       "      <th>event_name</th>\n",
       "      <th>details</th>\n",
       "    </tr>\n",
       "  </thead>\n",
       "  <tbody>\n",
       "    <tr>\n",
       "      <th>0</th>\n",
       "      <td>0002CE61FF2C4011</td>\n",
       "      <td>B</td>\n",
       "      <td>interface_eu_test</td>\n",
       "      <td>Mac</td>\n",
       "      <td>2020-12-07 04:37:31</td>\n",
       "      <td>registration</td>\n",
       "      <td>-2.38</td>\n",
       "    </tr>\n",
       "    <tr>\n",
       "      <th>1</th>\n",
       "      <td>0002CE61FF2C4011</td>\n",
       "      <td>B</td>\n",
       "      <td>interface_eu_test</td>\n",
       "      <td>Mac</td>\n",
       "      <td>2020-12-07 04:37:49</td>\n",
       "      <td>login</td>\n",
       "      <td>NaN</td>\n",
       "    </tr>\n",
       "    <tr>\n",
       "      <th>2</th>\n",
       "      <td>0002CE61FF2C4011</td>\n",
       "      <td>B</td>\n",
       "      <td>interface_eu_test</td>\n",
       "      <td>Mac</td>\n",
       "      <td>2020-12-07 04:37:57</td>\n",
       "      <td>login</td>\n",
       "      <td>NaN</td>\n",
       "    </tr>\n",
       "    <tr>\n",
       "      <th>3</th>\n",
       "      <td>0002CE61FF2C4011</td>\n",
       "      <td>B</td>\n",
       "      <td>interface_eu_test</td>\n",
       "      <td>Mac</td>\n",
       "      <td>2020-12-07 04:38:54</td>\n",
       "      <td>login</td>\n",
       "      <td>NaN</td>\n",
       "    </tr>\n",
       "    <tr>\n",
       "      <th>4</th>\n",
       "      <td>0002CE61FF2C4011</td>\n",
       "      <td>B</td>\n",
       "      <td>interface_eu_test</td>\n",
       "      <td>Mac</td>\n",
       "      <td>2020-12-08 22:15:35</td>\n",
       "      <td>login</td>\n",
       "      <td>NaN</td>\n",
       "    </tr>\n",
       "  </tbody>\n",
       "</table>\n",
       "</div>"
      ],
      "text/plain": [
       "            user_id group            ab_test device            event_dt  \\\n",
       "0  0002CE61FF2C4011     B  interface_eu_test    Mac 2020-12-07 04:37:31   \n",
       "1  0002CE61FF2C4011     B  interface_eu_test    Mac 2020-12-07 04:37:49   \n",
       "2  0002CE61FF2C4011     B  interface_eu_test    Mac 2020-12-07 04:37:57   \n",
       "3  0002CE61FF2C4011     B  interface_eu_test    Mac 2020-12-07 04:38:54   \n",
       "4  0002CE61FF2C4011     B  interface_eu_test    Mac 2020-12-08 22:15:35   \n",
       "\n",
       "     event_name details  \n",
       "0  registration   -2.38  \n",
       "1         login     NaN  \n",
       "2         login     NaN  \n",
       "3         login     NaN  \n",
       "4         login     NaN  "
      ]
     },
     "metadata": {},
     "output_type": "display_data"
    },
    {
     "data": {
      "text/plain": [
       "'Уникальные значения столбца ab_test в объединенной таблице:'"
      ]
     },
     "metadata": {},
     "output_type": "display_data"
    },
    {
     "data": {
      "text/plain": [
       "array(['interface_eu_test'], dtype=object)"
      ]
     },
     "metadata": {},
     "output_type": "display_data"
    }
   ],
   "source": [
    "# Фильтруем датафрейм по типу теста\n",
    "filtered_participants = participants[participants['ab_test'] =='interface_eu_test']\n",
    "# Обьединим с таблицей с событиями\n",
    "df_test = pd.merge(filtered_participants, events, on='user_id', how='left')\n",
    "display(df_test.head())\n",
    "#Проверим, что в столбце ab_test только одно значение interface_eu_test\n",
    "display(\"Уникальные значения столбца ab_test в объединенной таблице:\")\n",
    "display(df_test['ab_test'].unique())"
   ]
  },
  {
   "cell_type": "markdown",
   "id": "6aef91db",
   "metadata": {},
   "source": [
    "Создали таблицу df_test, где оставили только события, связанные с участвующими в изучаемом тесте interface_eu_test пользователями."
   ]
  },
  {
   "cell_type": "markdown",
   "id": "fBZ4DC2xswZJ",
   "metadata": {
    "id": "fBZ4DC2xswZJ"
   },
   "source": [
    "- определите горизонт анализа: рассчитайте время (лайфтайм) совершения события пользователем после регистрации и оставьте только те события, которые были выполнены в течение первых семи дней с момента регистрации;"
   ]
  },
  {
   "cell_type": "code",
   "execution_count": 15,
   "id": "sES4-dKts0Yb",
   "metadata": {
    "id": "sES4-dKts0Yb",
    "scrolled": false
   },
   "outputs": [
    {
     "data": {
      "text/plain": [
       "'Первые 5 строк merged_data:'"
      ]
     },
     "metadata": {},
     "output_type": "display_data"
    },
    {
     "data": {
      "text/html": [
       "<div>\n",
       "<style scoped>\n",
       "    .dataframe tbody tr th:only-of-type {\n",
       "        vertical-align: middle;\n",
       "    }\n",
       "\n",
       "    .dataframe tbody tr th {\n",
       "        vertical-align: top;\n",
       "    }\n",
       "\n",
       "    .dataframe thead th {\n",
       "        text-align: right;\n",
       "    }\n",
       "</style>\n",
       "<table border=\"1\" class=\"dataframe\">\n",
       "  <thead>\n",
       "    <tr style=\"text-align: right;\">\n",
       "      <th></th>\n",
       "      <th>user_id</th>\n",
       "      <th>group</th>\n",
       "      <th>ab_test</th>\n",
       "      <th>device</th>\n",
       "      <th>event_dt</th>\n",
       "      <th>event_name</th>\n",
       "      <th>details</th>\n",
       "      <th>registration_dt</th>\n",
       "      <th>lifetime</th>\n",
       "    </tr>\n",
       "  </thead>\n",
       "  <tbody>\n",
       "    <tr>\n",
       "      <th>0</th>\n",
       "      <td>0002CE61FF2C4011</td>\n",
       "      <td>B</td>\n",
       "      <td>interface_eu_test</td>\n",
       "      <td>Mac</td>\n",
       "      <td>2020-12-07 04:37:31</td>\n",
       "      <td>registration</td>\n",
       "      <td>-2.38</td>\n",
       "      <td>2020-12-07 04:37:31</td>\n",
       "      <td>0</td>\n",
       "    </tr>\n",
       "    <tr>\n",
       "      <th>1</th>\n",
       "      <td>0002CE61FF2C4011</td>\n",
       "      <td>B</td>\n",
       "      <td>interface_eu_test</td>\n",
       "      <td>Mac</td>\n",
       "      <td>2020-12-07 04:37:49</td>\n",
       "      <td>login</td>\n",
       "      <td>NaN</td>\n",
       "      <td>2020-12-07 04:37:31</td>\n",
       "      <td>0</td>\n",
       "    </tr>\n",
       "    <tr>\n",
       "      <th>2</th>\n",
       "      <td>0002CE61FF2C4011</td>\n",
       "      <td>B</td>\n",
       "      <td>interface_eu_test</td>\n",
       "      <td>Mac</td>\n",
       "      <td>2020-12-07 04:37:57</td>\n",
       "      <td>login</td>\n",
       "      <td>NaN</td>\n",
       "      <td>2020-12-07 04:37:31</td>\n",
       "      <td>0</td>\n",
       "    </tr>\n",
       "    <tr>\n",
       "      <th>3</th>\n",
       "      <td>0002CE61FF2C4011</td>\n",
       "      <td>B</td>\n",
       "      <td>interface_eu_test</td>\n",
       "      <td>Mac</td>\n",
       "      <td>2020-12-07 04:38:54</td>\n",
       "      <td>login</td>\n",
       "      <td>NaN</td>\n",
       "      <td>2020-12-07 04:37:31</td>\n",
       "      <td>0</td>\n",
       "    </tr>\n",
       "    <tr>\n",
       "      <th>4</th>\n",
       "      <td>0002CE61FF2C4011</td>\n",
       "      <td>B</td>\n",
       "      <td>interface_eu_test</td>\n",
       "      <td>Mac</td>\n",
       "      <td>2020-12-08 22:15:35</td>\n",
       "      <td>login</td>\n",
       "      <td>NaN</td>\n",
       "      <td>2020-12-07 04:37:31</td>\n",
       "      <td>1</td>\n",
       "    </tr>\n",
       "  </tbody>\n",
       "</table>\n",
       "</div>"
      ],
      "text/plain": [
       "            user_id group            ab_test device            event_dt  \\\n",
       "0  0002CE61FF2C4011     B  interface_eu_test    Mac 2020-12-07 04:37:31   \n",
       "1  0002CE61FF2C4011     B  interface_eu_test    Mac 2020-12-07 04:37:49   \n",
       "2  0002CE61FF2C4011     B  interface_eu_test    Mac 2020-12-07 04:37:57   \n",
       "3  0002CE61FF2C4011     B  interface_eu_test    Mac 2020-12-07 04:38:54   \n",
       "4  0002CE61FF2C4011     B  interface_eu_test    Mac 2020-12-08 22:15:35   \n",
       "\n",
       "     event_name details     registration_dt  lifetime  \n",
       "0  registration   -2.38 2020-12-07 04:37:31         0  \n",
       "1         login     NaN 2020-12-07 04:37:31         0  \n",
       "2         login     NaN 2020-12-07 04:37:31         0  \n",
       "3         login     NaN 2020-12-07 04:37:31         0  \n",
       "4         login     NaN 2020-12-07 04:37:31         1  "
      ]
     },
     "metadata": {},
     "output_type": "display_data"
    },
    {
     "data": {
      "text/plain": [
       "'Пропуски в registration_dt:'"
      ]
     },
     "metadata": {},
     "output_type": "display_data"
    },
    {
     "data": {
      "text/plain": [
       "0"
      ]
     },
     "metadata": {},
     "output_type": "display_data"
    },
    {
     "data": {
      "text/plain": [
       "'Размер исходной таблицы событий (interface_eu_test): 68074'"
      ]
     },
     "metadata": {},
     "output_type": "display_data"
    },
    {
     "data": {
      "text/plain": [
       "'Размер отфильтрованной таблицы событий (interface_eu_test, lifetime < 7 дней): 58692'"
      ]
     },
     "metadata": {},
     "output_type": "display_data"
    }
   ],
   "source": [
    "# Фильтруем события регистрации и получим даты первой регистрации\n",
    "registrations = df_test[df_test['event_name'] == 'registration'].groupby('user_id')['event_dt'].min().reset_index()\n",
    "registrations = registrations.rename(columns={'event_dt': 'registration_dt'})\n",
    "\n",
    "# Объединим с исходными данными\n",
    "merged_data = pd.merge(df_test, registrations, on='user_id', how='left')\n",
    "\n",
    "# Рассчитаем время жизни\n",
    "merged_data['lifetime'] = (merged_data['event_dt'] - merged_data['registration_dt']).dt.days\n",
    "\n",
    "# Фильтруем по времени жизни (первые 7 дней)\n",
    "filtered_lifetime_events = merged_data[merged_data['lifetime'] < 7]\n",
    "\n",
    "# Выводим результаты\n",
    "display(\"Первые 5 строк merged_data:\")\n",
    "display(merged_data.head())\n",
    "display(\"Пропуски в registration_dt:\", merged_data['registration_dt'].isnull().sum())\n",
    "display(f\"Размер исходной таблицы событий ({'interface_eu_test'}): {len(df_test)}\")\n",
    "display(f\"Размер отфильтрованной таблицы событий ({'interface_eu_test'}, lifetime < 7 дней): {len(filtered_lifetime_events)}\")\n"
   ]
  },
  {
   "cell_type": "markdown",
   "id": "2bf7a1fd",
   "metadata": {},
   "source": [
    " Здесь рассчитали время жизни события, совершенного пользователем после регистрации и оставили только те события, которые были выполнены в течение первых семи дней с момента регистрации. До фильтрации в таблице было 68074 событий, после осталось 58692."
   ]
  },
  {
   "cell_type": "markdown",
   "id": "7cf1df48",
   "metadata": {},
   "source": [
    "Оцените достаточность выборки для получения статистически значимых результатов A/B-теста. Заданные параметры:\n",
    "\n",
    "- базовый показатель конверсии — 30%,\n",
    "\n",
    "- мощность теста — 80%,\n",
    "\n",
    "- достоверность теста — 95%."
   ]
  },
  {
   "cell_type": "markdown",
   "id": "2bfcc919",
   "metadata": {},
   "source": [
    "Для оценки размера выборки А/В теста применим калькулятор Эвана Миллера. Введем наши показатели\n",
    "- Baseline Conversion Rate, или базовый уровень конверсии — 30%,\n",
    "- Minimum Detectable Effect, или минимальный детектируемый эффект - 3%,\n",
    "- Statistical power 1 - β, или мощность — 80%,\n",
    "- Significance level α, или уровень значимости - 5%\n",
    "\n",
    "После ввода данных калькулятор рассчитал для каждой из двух групп необходимый размер выборки Sample size - 3692, который нужно набрать для получения статистически значимого результата. "
   ]
  },
  {
   "cell_type": "markdown",
   "id": "SadyUDgZs0t3",
   "metadata": {
    "id": "SadyUDgZs0t3"
   },
   "source": [
    "- рассчитайте для каждой группы количество посетителей, сделавших покупку, и общее количество посетителей."
   ]
  },
  {
   "cell_type": "code",
   "execution_count": 16,
   "id": "7ph853Xks4sy",
   "metadata": {
    "id": "7ph853Xks4sy"
   },
   "outputs": [
    {
     "data": {
      "text/html": [
       "<div>\n",
       "<style scoped>\n",
       "    .dataframe tbody tr th:only-of-type {\n",
       "        vertical-align: middle;\n",
       "    }\n",
       "\n",
       "    .dataframe tbody tr th {\n",
       "        vertical-align: top;\n",
       "    }\n",
       "\n",
       "    .dataframe thead th {\n",
       "        text-align: right;\n",
       "    }\n",
       "</style>\n",
       "<table border=\"1\" class=\"dataframe\">\n",
       "  <thead>\n",
       "    <tr style=\"text-align: right;\">\n",
       "      <th></th>\n",
       "      <th>purchasers</th>\n",
       "      <th>total_visitors</th>\n",
       "      <th>conversion_rate</th>\n",
       "    </tr>\n",
       "    <tr>\n",
       "      <th>group</th>\n",
       "      <th></th>\n",
       "      <th></th>\n",
       "      <th></th>\n",
       "    </tr>\n",
       "  </thead>\n",
       "  <tbody>\n",
       "    <tr>\n",
       "      <th>A</th>\n",
       "      <td>1377</td>\n",
       "      <td>4952</td>\n",
       "      <td>0.278069</td>\n",
       "    </tr>\n",
       "    <tr>\n",
       "      <th>B</th>\n",
       "      <td>1480</td>\n",
       "      <td>5011</td>\n",
       "      <td>0.295350</td>\n",
       "    </tr>\n",
       "  </tbody>\n",
       "</table>\n",
       "</div>"
      ],
      "text/plain": [
       "       purchasers  total_visitors  conversion_rate\n",
       "group                                             \n",
       "A            1377            4952         0.278069\n",
       "B            1480            5011         0.295350"
      ]
     },
     "metadata": {},
     "output_type": "display_data"
    },
    {
     "data": {
      "text/plain": [
       "'Разница в конверсии между группами (B - A): 0.0173'"
      ]
     },
     "metadata": {},
     "output_type": "display_data"
    }
   ],
   "source": [
    "# Фильтруем события, оставляя только покупки\n",
    "purchases = filtered_lifetime_events[filtered_lifetime_events['event_name'] == 'purchase']\n",
    "\n",
    "# Рассчитываем количество уникальных покупателей в каждой группе(успех)\n",
    "purchasers = purchases.groupby('group')['user_id'].nunique()\n",
    "\n",
    "# Рассчитываем общее количество уникальных посетителей в каждой группе\n",
    "total_visitors = filtered_lifetime_events.groupby('group')['user_id'].nunique()\n",
    "\n",
    "# Объединяем результаты в один DataFrame\n",
    "result = pd.DataFrame({'purchasers': purchasers, 'total_visitors': total_visitors})\n",
    "\n",
    "# Рассчитываем конверсию в покупку для каждой группы\n",
    "result['conversion_rate'] = result['purchasers'] / result['total_visitors']\n",
    "\n",
    "display(result)\n",
    "\n",
    "# Получаем значения конверсии для каждой группы\n",
    "conversion_A = result.loc['A', 'conversion_rate'] if 'A' in result.index else 0\n",
    "conversion_B = result.loc['B', 'conversion_rate'] if 'B' in result.index else 0\n",
    "\n",
    "# Рассчитываем разницу в конверсии между группами\n",
    "difference = conversion_B - conversion_A\n",
    "\n",
    "display(f\"Разница в конверсии между группами (B - A): {difference:.4f}\")\n",
    "\n"
   ]
  },
  {
   "cell_type": "markdown",
   "id": "sh1JpGvAs5E3",
   "metadata": {
    "id": "sh1JpGvAs5E3"
   },
   "source": [
    "- сделайте предварительный общий вывод об изменении пользовательской активности в тестовой группе по сравнению с контрольной."
   ]
  },
  {
   "cell_type": "markdown",
   "id": "fd54fc7b",
   "metadata": {},
   "source": [
    "Предварительный вывод: Конверсия в покупку в тестовой группе B выше, чем в контрольной группе A на 1.7%. Это указывает на положительное влияние изменений в тестовой группе, но ожидаемого увеличения конверсии в 3% не случилось.  Необходимый размер выборки (Sample size - 3692), который нужно набрать для получения статистически значимого результата соответствует требованиям анализа."
   ]
  },
  {
   "cell_type": "markdown",
   "id": "IKZ1Oo3Ws919",
   "metadata": {
    "id": "IKZ1Oo3Ws919"
   },
   "source": [
    "## 4. Проведем оценку результатов A/B-тестирования:"
   ]
  },
  {
   "cell_type": "markdown",
   "id": "dcUdBSmvtC-E",
   "metadata": {
    "id": "dcUdBSmvtC-E"
   },
   "source": [
    "- Проверим изменение конверсии подходящим статистическим тестом, учитывая все этапы проверки гипотез."
   ]
  },
  {
   "cell_type": "markdown",
   "id": "07c7ac90",
   "metadata": {},
   "source": [
    " Формулировка гипотез\n",
    "H0: Конверсия в покупку в группе B не отличается от конверсии в группе A\n",
    "H1: Конверсия в покупку в группе B больше, чем конверсия в группе A"
   ]
  },
  {
   "cell_type": "code",
   "execution_count": 17,
   "id": "l_KOziBQtL3t",
   "metadata": {
    "id": "l_KOziBQtL3t"
   },
   "outputs": [
    {
     "data": {
      "text/plain": [
       "'Z-статистика: 1.91'"
      ]
     },
     "metadata": {},
     "output_type": "display_data"
    },
    {
     "data": {
      "text/plain": [
       "'P-value: 0.028'"
      ]
     },
     "metadata": {},
     "output_type": "display_data"
    },
    {
     "data": {
      "text/plain": [
       "'Отвергаем нулевую гипотезу: Есть статистически значимые доказательства того, что конверсия в покупку в группе B больше, чем в группе A.'"
      ]
     },
     "metadata": {},
     "output_type": "display_data"
    }
   ],
   "source": [
    "import numpy as np\n",
    "from statsmodels.stats.proportion import proportions_ztest\n",
    "\n",
    "# Подготовим данные для z-теста\n",
    "successes = np.array([result.loc['B', 'purchasers'], result.loc['A', 'purchasers']])  # Количество успехов (покупок)\n",
    "trials = np.array([result.loc['B', 'total_visitors'], result.loc['A', 'total_visitors']])  # Общее количество испытаний (посетителей)\n",
    "\n",
    "# Проведем z-тест\n",
    "alpha = 0.05  # Уровень значимости\n",
    "z_stat, p_value = proportions_ztest(successes, trials, alternative='larger')  # Односторонний z-тест (H1: B > A)\n",
    "\n",
    "display(f\"Z-статистика: {z_stat:.2f}\")\n",
    "display(f\"P-value: {p_value:.3f}\")\n",
    "\n",
    "if p_value < alpha:\n",
    "    display(\"Отвергаем нулевую гипотезу: Есть статистически значимые доказательства того, что конверсия в покупку в группе B больше, чем в группе A.\")\n",
    "else:\n",
    "    display(\"Не можем отвергнуть нулевую гипотезу: Нет статистически значимых доказательств того, что конверсия в покупку в группе B больше, чем в группе A.\")"
   ]
  },
  {
   "cell_type": "markdown",
   "id": "9jkyKOjgtGoc",
   "metadata": {
    "id": "9jkyKOjgtGoc"
   },
   "source": [
    "- Опишите выводы по проведённой оценке результатов A/B-тестирования. Что можно сказать про результаты A/B-тестирования? Был ли достигнут ожидаемый эффект в изменении конверсии?"
   ]
  },
  {
   "cell_type": "markdown",
   "id": "95c13711",
   "metadata": {},
   "source": [
    "# Выводы\n",
    "- В данных представлены два вида тестовых групп: interface_eu_test и recommender_system_test с количеством участников 10850 и 3675 соответственно. \n",
    "- Распределение пользователей в тестовой группе interface_eu_test_participants равномерное: A - 0.496129, B - 0.503871, в группе recommender_system_test пользователи распределяются неравномерно:A - 0.747483, B - 0.252517. \n",
    "- Были удалены 887 пользователей, участвовавших в нескольких тестах.\n",
    "- Горизонт анализа: 7 дней после регистрации. Количество событий до фильтрации по времени жизни: 68074 Количество событий после фильтрации по времени жизни: 58692\n",
    "- Необходимый размер выборки (рассчитанный): 3692 пользователя на группу,что соответствует предоставленным данным.\n",
    "- Конверсия в группе B (тестовая) выше, чем в группе A (контрольная) на 1.7%.\n",
    "- Использован z-тест для пропорций для сравнения конверсий между группами. Z-статистика: 1.91, P-value: 0.028. P-value (0.028) меньше, чем установленный уровень значимости (0.05), что позволяет нам отвергнуть нулевую гипотезу.\n",
    "\n",
    "\n",
    "Результаты A/B-тестирования показывают статистически значимое увеличение конверсии в покупку в тестовой группе B по сравнению с контрольной группой A. Это означает, что изменения в интерфейсе, представленные в тестовой группе, оказали положительное влияние на поведение пользователей и увеличили вероятность совершения покупки.\n",
    "Увеличение конверсии на 1.7% является статистически значимым, но относительно небольшим. Ожидаемого увеличения конверсии на 3% не было достигнуто.\n"
   ]
  },
  {
   "cell_type": "code",
   "execution_count": null,
   "id": "2227f31f",
   "metadata": {},
   "outputs": [],
   "source": []
  }
 ],
 "metadata": {
  "ExecuteTimeLog": [
   {
    "duration": 486,
    "start_time": "2025-05-07T05:02:50.404Z"
   },
   {
    "duration": 42,
    "start_time": "2025-05-07T05:03:03.769Z"
   },
   {
    "duration": 29,
    "start_time": "2025-05-07T05:17:37.055Z"
   },
   {
    "duration": 33,
    "start_time": "2025-05-07T05:19:12.585Z"
   },
   {
    "duration": 32,
    "start_time": "2025-05-07T05:19:32.381Z"
   },
   {
    "duration": 42,
    "start_time": "2025-05-07T05:19:52.585Z"
   },
   {
    "duration": 39,
    "start_time": "2025-05-07T05:20:06.544Z"
   },
   {
    "duration": 40,
    "start_time": "2025-05-07T05:24:40.205Z"
   },
   {
    "duration": 8,
    "start_time": "2025-05-07T05:30:17.405Z"
   },
   {
    "duration": 7,
    "start_time": "2025-05-07T05:30:55.717Z"
   },
   {
    "duration": 453,
    "start_time": "2025-05-12T04:29:01.214Z"
   },
   {
    "duration": 7,
    "start_time": "2025-05-12T04:29:01.668Z"
   },
   {
    "duration": 1604,
    "start_time": "2025-05-12T04:29:01.677Z"
   },
   {
    "duration": 4,
    "start_time": "2025-05-12T04:44:12.395Z"
   },
   {
    "duration": 7,
    "start_time": "2025-05-12T04:47:47.311Z"
   },
   {
    "duration": 85,
    "start_time": "2025-05-12T04:51:02.279Z"
   },
   {
    "duration": 5101,
    "start_time": "2025-05-12T04:53:57.035Z"
   },
   {
    "duration": 16,
    "start_time": "2025-05-12T04:54:08.596Z"
   },
   {
    "duration": 74,
    "start_time": "2025-05-12T04:56:33.934Z"
   },
   {
    "duration": 10,
    "start_time": "2025-05-12T04:57:00.654Z"
   },
   {
    "duration": 4215,
    "start_time": "2025-05-12T05:15:50.197Z"
   },
   {
    "duration": 4394,
    "start_time": "2025-05-12T05:18:17.848Z"
   },
   {
    "duration": 84,
    "start_time": "2025-05-12T05:21:32.508Z"
   },
   {
    "duration": 6375,
    "start_time": "2025-05-12T05:21:52.236Z"
   },
   {
    "duration": 6267,
    "start_time": "2025-05-12T05:22:26.217Z"
   },
   {
    "duration": 377,
    "start_time": "2025-05-12T05:43:24.698Z"
   },
   {
    "duration": 369,
    "start_time": "2025-05-12T05:44:08.419Z"
   },
   {
    "duration": 373,
    "start_time": "2025-05-12T05:44:23.327Z"
   },
   {
    "duration": 672,
    "start_time": "2025-05-12T05:44:37.016Z"
   },
   {
    "duration": 365,
    "start_time": "2025-05-12T05:45:11.621Z"
   },
   {
    "duration": 357,
    "start_time": "2025-05-12T05:46:48.740Z"
   },
   {
    "duration": 6,
    "start_time": "2025-05-12T05:58:57.361Z"
   },
   {
    "duration": 7,
    "start_time": "2025-05-12T06:26:45.275Z"
   },
   {
    "duration": 16,
    "start_time": "2025-05-12T06:31:58.814Z"
   },
   {
    "duration": 12,
    "start_time": "2025-05-12T11:44:26.162Z"
   },
   {
    "duration": 12,
    "start_time": "2025-05-12T12:08:13.642Z"
   },
   {
    "duration": 2115,
    "start_time": "2025-05-12T13:11:16.400Z"
   },
   {
    "duration": 1590,
    "start_time": "2025-05-12T13:12:10.031Z"
   },
   {
    "duration": 1416,
    "start_time": "2025-05-12T13:12:42.032Z"
   },
   {
    "duration": 1421,
    "start_time": "2025-05-12T13:21:01.662Z"
   },
   {
    "duration": 1932,
    "start_time": "2025-05-12T13:22:33.345Z"
   },
   {
    "duration": 2005,
    "start_time": "2025-05-12T13:25:19.503Z"
   },
   {
    "duration": 2119,
    "start_time": "2025-05-12T13:29:54.934Z"
   },
   {
    "duration": 2289,
    "start_time": "2025-05-12T13:30:24.462Z"
   },
   {
    "duration": 2205,
    "start_time": "2025-05-12T13:30:47.222Z"
   },
   {
    "duration": 86,
    "start_time": "2025-05-12T13:31:07.502Z"
   },
   {
    "duration": 2257,
    "start_time": "2025-05-12T13:31:30.434Z"
   },
   {
    "duration": 2238,
    "start_time": "2025-05-12T13:32:38.982Z"
   },
   {
    "duration": 439,
    "start_time": "2025-05-12T14:07:32.709Z"
   },
   {
    "duration": 4,
    "start_time": "2025-05-12T15:27:52.037Z"
   },
   {
    "duration": 7,
    "start_time": "2025-05-12T15:30:47.016Z"
   },
   {
    "duration": 13,
    "start_time": "2025-05-12T16:04:50.150Z"
   },
   {
    "duration": 16,
    "start_time": "2025-05-12T16:40:28.055Z"
   },
   {
    "duration": 17,
    "start_time": "2025-05-12T16:41:59.014Z"
   },
   {
    "duration": 9,
    "start_time": "2025-05-12T16:45:47.494Z"
   },
   {
    "duration": 8,
    "start_time": "2025-05-12T16:46:55.815Z"
   },
   {
    "duration": 8,
    "start_time": "2025-05-12T16:47:09.815Z"
   },
   {
    "duration": 20,
    "start_time": "2025-05-12T16:55:26.155Z"
   },
   {
    "duration": 7,
    "start_time": "2025-05-12T16:56:24.095Z"
   },
   {
    "duration": 10,
    "start_time": "2025-05-12T16:58:33.314Z"
   },
   {
    "duration": 8,
    "start_time": "2025-05-12T17:01:48.913Z"
   },
   {
    "duration": 13,
    "start_time": "2025-05-12T17:02:45.112Z"
   },
   {
    "duration": 11,
    "start_time": "2025-05-12T17:06:46.342Z"
   },
   {
    "duration": 19,
    "start_time": "2025-05-12T17:07:36.550Z"
   },
   {
    "duration": 13,
    "start_time": "2025-05-12T17:09:14.829Z"
   },
   {
    "duration": 12,
    "start_time": "2025-05-12T17:10:26.709Z"
   },
   {
    "duration": 6,
    "start_time": "2025-05-12T17:10:59.788Z"
   },
   {
    "duration": 13,
    "start_time": "2025-05-12T17:17:44.020Z"
   },
   {
    "duration": 105,
    "start_time": "2025-05-12T17:54:00.252Z"
   },
   {
    "duration": 503,
    "start_time": "2025-05-13T09:24:10.099Z"
   },
   {
    "duration": 4,
    "start_time": "2025-05-13T09:24:10.605Z"
   },
   {
    "duration": 10,
    "start_time": "2025-05-13T09:24:10.611Z"
   },
   {
    "duration": 16,
    "start_time": "2025-05-13T09:24:10.623Z"
   },
   {
    "duration": 1345,
    "start_time": "2025-05-13T09:24:10.641Z"
   },
   {
    "duration": 12,
    "start_time": "2025-05-13T09:24:11.988Z"
   },
   {
    "duration": 2199,
    "start_time": "2025-05-13T09:24:12.002Z"
   },
   {
    "duration": 530,
    "start_time": "2025-05-13T09:24:14.202Z"
   },
   {
    "duration": 7,
    "start_time": "2025-05-13T09:24:14.735Z"
   },
   {
    "duration": 48,
    "start_time": "2025-05-13T09:24:14.743Z"
   },
   {
    "duration": 40,
    "start_time": "2025-05-13T09:24:14.793Z"
   },
   {
    "duration": 154,
    "start_time": "2025-05-13T09:24:14.834Z"
   },
   {
    "duration": 0,
    "start_time": "2025-05-13T09:24:14.991Z"
   },
   {
    "duration": 0,
    "start_time": "2025-05-13T09:24:14.992Z"
   },
   {
    "duration": 0,
    "start_time": "2025-05-13T09:24:14.994Z"
   },
   {
    "duration": 105,
    "start_time": "2025-05-13T09:24:48.455Z"
   },
   {
    "duration": 105,
    "start_time": "2025-05-13T09:27:18.176Z"
   },
   {
    "duration": 122,
    "start_time": "2025-05-13T09:46:44.294Z"
   },
   {
    "duration": 122,
    "start_time": "2025-05-13T09:47:03.915Z"
   },
   {
    "duration": 474,
    "start_time": "2025-05-13T09:51:36.943Z"
   },
   {
    "duration": 5,
    "start_time": "2025-05-13T09:51:37.419Z"
   },
   {
    "duration": 24,
    "start_time": "2025-05-13T09:51:37.425Z"
   },
   {
    "duration": 18,
    "start_time": "2025-05-13T09:51:37.452Z"
   },
   {
    "duration": 1280,
    "start_time": "2025-05-13T09:51:37.472Z"
   },
   {
    "duration": 11,
    "start_time": "2025-05-13T09:51:38.754Z"
   },
   {
    "duration": 2234,
    "start_time": "2025-05-13T09:51:38.767Z"
   },
   {
    "duration": 495,
    "start_time": "2025-05-13T09:51:41.003Z"
   },
   {
    "duration": 6,
    "start_time": "2025-05-13T09:51:41.500Z"
   },
   {
    "duration": 29,
    "start_time": "2025-05-13T09:51:41.508Z"
   },
   {
    "duration": 20,
    "start_time": "2025-05-13T09:51:41.539Z"
   },
   {
    "duration": 160,
    "start_time": "2025-05-13T09:51:41.561Z"
   },
   {
    "duration": 0,
    "start_time": "2025-05-13T09:51:41.723Z"
   },
   {
    "duration": 0,
    "start_time": "2025-05-13T09:51:41.724Z"
   },
   {
    "duration": 0,
    "start_time": "2025-05-13T09:51:41.726Z"
   },
   {
    "duration": 120,
    "start_time": "2025-05-13T09:51:54.903Z"
   },
   {
    "duration": 129,
    "start_time": "2025-05-13T09:54:39.375Z"
   },
   {
    "duration": 124,
    "start_time": "2025-05-13T09:56:46.274Z"
   },
   {
    "duration": 14,
    "start_time": "2025-05-13T10:05:12.383Z"
   },
   {
    "duration": 118,
    "start_time": "2025-05-13T10:06:36.055Z"
   },
   {
    "duration": 11,
    "start_time": "2025-05-13T10:09:01.275Z"
   },
   {
    "duration": 10,
    "start_time": "2025-05-13T10:11:54.614Z"
   },
   {
    "duration": 7,
    "start_time": "2025-05-13T10:12:02.415Z"
   },
   {
    "duration": 12,
    "start_time": "2025-05-13T10:12:05.470Z"
   },
   {
    "duration": 8,
    "start_time": "2025-05-13T10:14:37.374Z"
   },
   {
    "duration": 11,
    "start_time": "2025-05-13T10:14:43.954Z"
   },
   {
    "duration": 8,
    "start_time": "2025-05-13T10:15:11.522Z"
   },
   {
    "duration": 14,
    "start_time": "2025-05-13T10:15:14.814Z"
   },
   {
    "duration": 16,
    "start_time": "2025-05-13T10:17:18.755Z"
   },
   {
    "duration": 15,
    "start_time": "2025-05-13T10:17:31.066Z"
   },
   {
    "duration": 114,
    "start_time": "2025-05-13T10:19:02.806Z"
   },
   {
    "duration": 110,
    "start_time": "2025-05-13T10:21:32.267Z"
   },
   {
    "duration": 1479,
    "start_time": "2025-05-13T10:41:58.434Z"
   },
   {
    "duration": 13,
    "start_time": "2025-05-13T10:42:35.433Z"
   },
   {
    "duration": 250,
    "start_time": "2025-05-13T10:45:51.294Z"
   },
   {
    "duration": 251,
    "start_time": "2025-05-13T10:47:05.715Z"
   },
   {
    "duration": 233,
    "start_time": "2025-05-13T10:59:23.843Z"
   },
   {
    "duration": 252,
    "start_time": "2025-05-13T10:59:43.457Z"
   },
   {
    "duration": 375,
    "start_time": "2025-05-13T16:15:53.515Z"
   },
   {
    "duration": 1655,
    "start_time": "2025-05-13T16:24:09.566Z"
   },
   {
    "duration": 421,
    "start_time": "2025-05-14T03:28:11.688Z"
   },
   {
    "duration": 4,
    "start_time": "2025-05-14T03:28:12.111Z"
   },
   {
    "duration": 70,
    "start_time": "2025-05-14T03:28:12.116Z"
   },
   {
    "duration": 16,
    "start_time": "2025-05-14T03:28:12.188Z"
   },
   {
    "duration": 1362,
    "start_time": "2025-05-14T03:28:12.206Z"
   },
   {
    "duration": 9,
    "start_time": "2025-05-14T03:28:13.570Z"
   },
   {
    "duration": 2321,
    "start_time": "2025-05-14T03:28:13.581Z"
   },
   {
    "duration": 480,
    "start_time": "2025-05-14T03:28:15.904Z"
   },
   {
    "duration": 8,
    "start_time": "2025-05-14T03:28:16.386Z"
   },
   {
    "duration": 19,
    "start_time": "2025-05-14T03:28:16.395Z"
   },
   {
    "duration": 15,
    "start_time": "2025-05-14T03:28:16.436Z"
   },
   {
    "duration": 73,
    "start_time": "2025-05-14T03:28:16.453Z"
   },
   {
    "duration": 13,
    "start_time": "2025-05-14T03:28:16.528Z"
   },
   {
    "duration": 202,
    "start_time": "2025-05-14T03:28:16.544Z"
   },
   {
    "duration": 1747,
    "start_time": "2025-05-14T03:28:16.748Z"
   },
   {
    "duration": 1333,
    "start_time": "2025-05-14T03:39:13.512Z"
   },
   {
    "duration": 64,
    "start_time": "2025-05-14T03:43:55.489Z"
   },
   {
    "duration": 66,
    "start_time": "2025-05-14T03:44:41.789Z"
   },
   {
    "duration": 57,
    "start_time": "2025-05-14T03:45:39.721Z"
   },
   {
    "duration": 29,
    "start_time": "2025-05-14T05:06:54.523Z"
   },
   {
    "duration": 4,
    "start_time": "2025-05-14T05:08:43.775Z"
   },
   {
    "duration": 7,
    "start_time": "2025-05-14T05:09:06.616Z"
   },
   {
    "duration": 9,
    "start_time": "2025-05-14T05:12:57.003Z"
   },
   {
    "duration": 30,
    "start_time": "2025-05-14T05:15:21.023Z"
   },
   {
    "duration": 11,
    "start_time": "2025-05-14T05:26:11.284Z"
   },
   {
    "duration": 20,
    "start_time": "2025-05-14T05:26:54.503Z"
   },
   {
    "duration": 7,
    "start_time": "2025-05-14T05:28:57.663Z"
   },
   {
    "duration": 6,
    "start_time": "2025-05-14T05:36:46.424Z"
   },
   {
    "duration": 7,
    "start_time": "2025-05-14T05:45:59.526Z"
   },
   {
    "duration": 6,
    "start_time": "2025-05-14T05:46:17.592Z"
   },
   {
    "duration": 15,
    "start_time": "2025-05-14T05:55:51.544Z"
   },
   {
    "duration": 32,
    "start_time": "2025-05-14T05:59:13.683Z"
   },
   {
    "duration": 35,
    "start_time": "2025-05-14T06:00:34.765Z"
   },
   {
    "duration": 35,
    "start_time": "2025-05-14T06:04:13.663Z"
   },
   {
    "duration": 35,
    "start_time": "2025-05-14T06:04:50.807Z"
   },
   {
    "duration": 1282,
    "start_time": "2025-05-14T06:17:24.883Z"
   },
   {
    "duration": 27,
    "start_time": "2025-05-14T06:20:07.764Z"
   },
   {
    "duration": 35,
    "start_time": "2025-05-14T06:21:18.825Z"
   },
   {
    "duration": 36,
    "start_time": "2025-05-14T06:21:49.952Z"
   },
   {
    "duration": 1362,
    "start_time": "2025-05-14T06:24:28.364Z"
   },
   {
    "duration": 27,
    "start_time": "2025-05-14T06:29:01.164Z"
   },
   {
    "duration": 34,
    "start_time": "2025-05-14T06:33:28.185Z"
   },
   {
    "duration": 6,
    "start_time": "2025-05-14T06:41:34.104Z"
   },
   {
    "duration": 43,
    "start_time": "2025-05-14T06:55:09.244Z"
   },
   {
    "duration": 1336,
    "start_time": "2025-05-14T06:56:06.545Z"
   },
   {
    "duration": 1283,
    "start_time": "2025-05-14T07:36:41.443Z"
   },
   {
    "duration": 1320,
    "start_time": "2025-05-14T07:37:42.785Z"
   },
   {
    "duration": 496,
    "start_time": "2025-05-14T07:38:12.209Z"
   },
   {
    "duration": 3,
    "start_time": "2025-05-14T07:38:12.707Z"
   },
   {
    "duration": 6,
    "start_time": "2025-05-14T07:38:12.712Z"
   },
   {
    "duration": 13,
    "start_time": "2025-05-14T07:38:12.720Z"
   },
   {
    "duration": 1203,
    "start_time": "2025-05-14T07:38:12.737Z"
   },
   {
    "duration": 8,
    "start_time": "2025-05-14T07:38:13.942Z"
   },
   {
    "duration": 2196,
    "start_time": "2025-05-14T07:38:13.952Z"
   },
   {
    "duration": 488,
    "start_time": "2025-05-14T07:38:16.150Z"
   },
   {
    "duration": 6,
    "start_time": "2025-05-14T07:38:16.640Z"
   },
   {
    "duration": 64,
    "start_time": "2025-05-14T07:38:16.647Z"
   },
   {
    "duration": 26,
    "start_time": "2025-05-14T07:38:16.713Z"
   },
   {
    "duration": 20,
    "start_time": "2025-05-14T07:38:16.740Z"
   },
   {
    "duration": 11,
    "start_time": "2025-05-14T07:38:16.762Z"
   },
   {
    "duration": 204,
    "start_time": "2025-05-14T07:38:16.775Z"
   },
   {
    "duration": 68,
    "start_time": "2025-05-14T07:38:16.981Z"
   },
   {
    "duration": 1711,
    "start_time": "2025-05-14T07:38:17.051Z"
   },
   {
    "duration": 0,
    "start_time": "2025-05-14T07:38:18.765Z"
   },
   {
    "duration": 1284,
    "start_time": "2025-05-14T07:39:18.929Z"
   },
   {
    "duration": 1311,
    "start_time": "2025-05-14T07:40:32.876Z"
   },
   {
    "duration": 1323,
    "start_time": "2025-05-14T07:40:57.068Z"
   },
   {
    "duration": 1225,
    "start_time": "2025-05-14T07:41:11.309Z"
   },
   {
    "duration": 27,
    "start_time": "2025-05-14T07:41:45.957Z"
   },
   {
    "duration": 28,
    "start_time": "2025-05-14T07:42:21.920Z"
   },
   {
    "duration": 14,
    "start_time": "2025-05-14T07:42:26.268Z"
   },
   {
    "duration": 62,
    "start_time": "2025-05-14T11:23:30.335Z"
   },
   {
    "duration": 64,
    "start_time": "2025-05-14T11:24:32.574Z"
   },
   {
    "duration": 78,
    "start_time": "2025-05-14T11:25:34.193Z"
   },
   {
    "duration": 66,
    "start_time": "2025-05-14T11:25:59.612Z"
   },
   {
    "duration": 68,
    "start_time": "2025-05-14T11:26:14.873Z"
   },
   {
    "duration": 72,
    "start_time": "2025-05-14T11:27:11.136Z"
   },
   {
    "duration": 106,
    "start_time": "2025-05-14T11:30:01.095Z"
   },
   {
    "duration": 65,
    "start_time": "2025-05-14T11:30:22.833Z"
   },
   {
    "duration": 30,
    "start_time": "2025-05-14T11:37:19.526Z"
   },
   {
    "duration": 8,
    "start_time": "2025-05-14T11:44:25.582Z"
   },
   {
    "duration": 9,
    "start_time": "2025-05-14T12:07:05.734Z"
   },
   {
    "duration": 455,
    "start_time": "2025-05-14T12:24:39.333Z"
   },
   {
    "duration": 3,
    "start_time": "2025-05-14T12:24:39.790Z"
   },
   {
    "duration": 16,
    "start_time": "2025-05-14T12:24:39.795Z"
   },
   {
    "duration": 16,
    "start_time": "2025-05-14T12:24:39.812Z"
   },
   {
    "duration": 1400,
    "start_time": "2025-05-14T12:24:39.830Z"
   },
   {
    "duration": 9,
    "start_time": "2025-05-14T12:24:41.236Z"
   },
   {
    "duration": 2235,
    "start_time": "2025-05-14T12:24:41.246Z"
   },
   {
    "duration": 463,
    "start_time": "2025-05-14T12:24:43.483Z"
   },
   {
    "duration": 6,
    "start_time": "2025-05-14T12:24:43.947Z"
   },
   {
    "duration": 65,
    "start_time": "2025-05-14T12:24:43.955Z"
   },
   {
    "duration": 11,
    "start_time": "2025-05-14T12:24:44.022Z"
   },
   {
    "duration": 22,
    "start_time": "2025-05-14T12:24:44.034Z"
   },
   {
    "duration": 6,
    "start_time": "2025-05-14T12:24:44.057Z"
   },
   {
    "duration": 191,
    "start_time": "2025-05-14T12:24:44.064Z"
   },
   {
    "duration": 80,
    "start_time": "2025-05-14T12:24:44.256Z"
   },
   {
    "duration": 29,
    "start_time": "2025-05-14T12:24:44.338Z"
   },
   {
    "duration": 19,
    "start_time": "2025-05-14T12:24:44.368Z"
   }
  ],
  "colab": {
   "provenance": [],
   "toc_visible": true
  },
  "kernelspec": {
   "display_name": "Python 3 (ipykernel)",
   "language": "python",
   "name": "python3"
  },
  "language_info": {
   "codemirror_mode": {
    "name": "ipython",
    "version": 3
   },
   "file_extension": ".py",
   "mimetype": "text/x-python",
   "name": "python",
   "nbconvert_exporter": "python",
   "pygments_lexer": "ipython3",
   "version": "3.9.5"
  },
  "toc": {
   "base_numbering": 1,
   "nav_menu": {},
   "number_sections": true,
   "sideBar": true,
   "skip_h1_title": true,
   "title_cell": "Table of Contents",
   "title_sidebar": "Contents",
   "toc_cell": false,
   "toc_position": {
    "height": "calc(100% - 180px)",
    "left": "10px",
    "top": "150px",
    "width": "201px"
   },
   "toc_section_display": true,
   "toc_window_display": true
  }
 },
 "nbformat": 4,
 "nbformat_minor": 5
}
