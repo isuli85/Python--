{
 "cells": [
  {
   "cell_type": "markdown",
   "metadata": {
    "id": "4mJbK1knrJgz"
   },
   "source": [
    "# Проект: Исследование стартапов\n",
    "- Автор: Мухаметзянова А.Г.\n",
    "- Дата: 05.03.2025"
   ]
  },
  {
   "cell_type": "markdown",
   "metadata": {
    "id": "P6j0r3worJg0"
   },
   "source": [
    "## Введение"
   ]
  },
  {
   "cell_type": "markdown",
   "metadata": {
    "id": "8lQtbsIUyFG6"
   },
   "source": [
    "Финансовая компания, которая предоставляет льготные займы стартапам, хочет войти на инвестиционный рынок с прицелом на покупку, развитие и последующую перепродажу перспективных стартапов. Для разработки модели бизнеса нужна информация. Чтобы выработать общее понимание, какие данные могут быть полезны, будем проводить исследование на исторических данных."
   ]
  },
  {
   "cell_type": "markdown",
   "metadata": {},
   "source": [
    "### Цель проекта\n",
    "Подготовить датасет и проверить, что данные в нём готовы к анализу, а также ответить на вопросы заказчика как о предобработке, так и о значении данных для бизнеса.\n",
    "Нам предстоит принять решения:\n",
    "- по каким столбцам можно объединять данные из разных таблиц;\n",
    "- можно ли доверять данным о сотрудниках стартапов и их образовании;\n",
    "- что значат покупки за 0 или за 1 доллар;\n",
    "- какая цена в зависимости от категории стартапов и количества раундов финансирования перед его покупкой;\n",
    "- как рассчитать и отобразить численные показатели и динамику.\n",
    "Надеемся в процессе работы получится выявить показатели и признаки, которые указывают на повышенную вероятность успешной сделки по покупке компании.\n"
   ]
  },
  {
   "cell_type": "markdown",
   "metadata": {},
   "source": [
    "### Описание данных\n",
    "Таблица **acquisition**.\n",
    "Содержит информацию о покупках одними компаниями других компаний:\n",
    "- **id** — идентификатор покупки.\n",
    "- **acquiring_company_id** — идентификатор покупающей компании.\n",
    "- **acquired_company_id** — идентификатор покупаемой компании.\n",
    "- **term_code** — варианты расчёта.\n",
    "- **price_amount** — сумма сделки.\n",
    "- **acquired_at** — дата сделки.\n",
    "\n",
    "Таблица **company_and_rounds**.\n",
    "Содержит информацию о компаниях и раундах финансирования:\n",
    "- **company ID** — идентификатор компании.\n",
    "- **name** — название компании.\n",
    "- **category code** — категория области деятельности компании.\n",
    "- **status** — статус компании.\n",
    "- **founded at** — дата инвестирования.\n",
    "- **closed at** — дата закрытия компании.\n",
    "- **domain** — официальный сайт компании.\n",
    "- **network username** — ник компании в сети.\n",
    "- **country code** — код страны компании.\n",
    "- **investment rounds** — число инвестиционных раундов.\n",
    "- **funding rounds** — число раундов финансирования.\n",
    "- **funding total** — сумма финансирования.\n",
    "- **milestones** — вехи финансирования.\n",
    "- **funding round id** — идентификатор этапа финансирования.\n",
    "- **company id** — идентификатор компании.\n",
    "- **funded at** — дата финансирования.\n",
    "- **funding round type** — тип финансирования.\n",
    "- **raised amount** — сумма финансирования.\n",
    "- **pre money valuation** — предварительная денежная оценка.\n",
    "- **participants** — число участников.\n",
    "- **is first round** — является ли раунд первым.\n",
    "- **is last round** — является раунд последним.\n",
    "\n",
    "Таблица **education**.\n",
    "Содержит информацию об образовании сотрудника:\n",
    "- **id** — идентификатор записи об образовании.\n",
    "- **person_id** — идентификатор работника.\n",
    "- **instituition** — название учебного заведения.\n",
    "- **graduated_at** — дата получения образования.\n",
    "\n",
    "Таблица **people**.\n",
    "Содержит информацию о сотрудниках:\n",
    "- **id** — идентификатор сотрудника.\n",
    "- **first_name** — имя сотрудника.\n",
    "- **last_name** — фамилия сотрудника.\n",
    "- **company_id** — идентификатор компании.\n",
    "- **network_username** — ник в социальных сетях.\n",
    "\n",
    "Таблица **degrees**.\n",
    "Содержит информацию о типе образования сотрудника:\n",
    "- **id** — идентификатор записи.\n",
    "- **object_id** — идентификатор сотрудника.\n",
    "- **degree_type** — тип образования.\n",
    "- **subject** — специальность.\n",
    "\n",
    "Таблица **fund**.\n",
    "Содержит информацию о фондах:\n",
    "- **id** — идентификатор фонда.\n",
    "- **name** — название фонда.\n",
    "- **category_code** — категория области деятельности компании.\n",
    "- **founded_at** — дата создания фонда.\n",
    "- **domain** — сайт фонда.\n",
    "- **network_username** — ник фонда в сети.\n",
    "- **country_code** — код страны фонда.\n",
    "- **investment_rounds** — число инвестиционных раундов.\n",
    "- **invested_companies** — число профинансированных компаний.\n",
    "- **milestones** — вехи финансирования.\n",
    "\n",
    "Таблица **investment**.\n",
    "Содержит информацию о раундах инвестирования:\n",
    "- **id** — идентификатор этапа инвестирования.\n",
    "- **funding_round_id** — идентификатор раунда инвестирования.\n",
    "- **company_id** — индентификатор компании.\n",
    "- **funding_round_type** — тип финансирования.\n",
    "- **fund_id** — идентификатор фонда.\n"
   ]
  },
  {
   "cell_type": "markdown",
   "metadata": {},
   "source": [
    "### Задачи проекта\n",
    "**Шаг 1. Знакомство с данными: загрузка и первичная предобработка**\n",
    "\n",
    "1.1. Вывод общей информации, исправление названия столбцов\n",
    "\n",
    "1.2. Смена типов и анализ пропусков\n",
    "\n",
    "**Шаг 2. Предобработка данных, предварительное исследование**\n",
    "\n",
    "2.1. Раунды финансирования по годам\n",
    "\n",
    "2.2. Люди и их образование\n",
    "\n",
    "2.3. Объединять или не объединять — вот в чём вопрос\n",
    "\n",
    "2.4. Проблемный датасет и причина возникновения пропусков\n",
    "\n",
    "**Шаг 3. Исследовательский анализ объединённых таблиц**\n",
    "\n",
    "3.1. Объединение данных\n",
    "\n",
    "3.2. Анализ выбросов\n",
    "\n",
    "3.3. Куплены забесплатно?\n",
    "\n",
    "3.4. Цены стартапов по категориям\n",
    "\n",
    "3.5. Сколько раундов продержится стартап перед покупкой\n",
    "\n",
    "**Шаг 4. Итоговый вывод и рекомендации**"
   ]
  },
  {
   "cell_type": "markdown",
   "metadata": {
    "id": "xqr6uttCrJg0"
   },
   "source": [
    "\n",
    "## Шаг 1. Знакомство с данными: загрузка и первичная предобработка\n",
    "\n",
    "Названия файлов:\n",
    "* acquisition.csv\n",
    "* company_and_rounds.csv\n",
    "* people.csv\n",
    "* education.csv\n",
    "* degrees.csv\n",
    "\n",
    "Опциональные датасеты:\n",
    "* fund.csv\n",
    "* investment.csv\n",
    "\n",
    "\n",
    "Они находятся в папке datasets, если вы выполняете работу на платформе. В случае, если вы делаете работу локально, доступ к файлам в папке можно получить по адресу `https://code.s3.yandex.net/datasets/` + имя файла.\n",
    "\n",
    "### 1.1. Вывод общей информации, исправление названия столбцов\n",
    "\n",
    "- Загрузите все данные по проекту.\n",
    "- Проверьте названия столбцов.\n",
    "- Выведите информацию, которая необходима вам для принятия решений о предобработке, для каждого из датасетов."
   ]
  },
  {
   "cell_type": "code",
   "execution_count": 1,
   "metadata": {
    "id": "2Tm4Pk__Felf"
   },
   "outputs": [],
   "source": [
    "# Импортируем библиотеки\n",
    "import pandas as pd\n",
    "import warnings\n",
    "warnings.filterwarnings('ignore')\n",
    "# Загружаем библиотеки для визуализации данных\n",
    "import matplotlib.pyplot as plt\n",
    "import seaborn as sns\n",
    "\n",
    "!pip install matplotlib-venn -q\n",
    "from matplotlib_venn import venn2, venn3 \n",
    "import matplotlib.pyplot as plt\n"
   ]
  },
  {
   "cell_type": "code",
   "execution_count": 2,
   "metadata": {
    "id": "oNqJ2qpRFebv"
   },
   "outputs": [],
   "source": [
    "# Выгружаем данные в переменные \n",
    "company_and_rounds_df = pd.read_csv('https://code.s3.yandex.net//datasets/company_and_rounds.csv')\n",
    "acquisition_df = pd.read_csv('https://code.s3.yandex.net//datasets/acquisition.csv')\n",
    "people_df = pd.read_csv('https://code.s3.yandex.net//datasets/people.csv')\n",
    "education_df = pd.read_csv('https://code.s3.yandex.net//datasets/education.csv')\n",
    "degrees_df = pd.read_csv('https://code.s3.yandex.net//datasets/degrees.csv')\n",
    "fund_df = pd.read_csv('https://code.s3.yandex.net//datasets/fund.csv')\n",
    "investment_df = pd.read_csv('https://code.s3.yandex.net//datasets/investment.csv')"
   ]
  },
  {
   "cell_type": "code",
   "execution_count": 3,
   "metadata": {
    "scrolled": false
   },
   "outputs": [
    {
     "data": {
      "text/html": [
       "<div>\n",
       "<style scoped>\n",
       "    .dataframe tbody tr th:only-of-type {\n",
       "        vertical-align: middle;\n",
       "    }\n",
       "\n",
       "    .dataframe tbody tr th {\n",
       "        vertical-align: top;\n",
       "    }\n",
       "\n",
       "    .dataframe thead th {\n",
       "        text-align: right;\n",
       "    }\n",
       "</style>\n",
       "<table border=\"1\" class=\"dataframe\">\n",
       "  <thead>\n",
       "    <tr style=\"text-align: right;\">\n",
       "      <th></th>\n",
       "      <th>company  ID</th>\n",
       "      <th>name</th>\n",
       "      <th>category  code</th>\n",
       "      <th>status</th>\n",
       "      <th>founded  at</th>\n",
       "      <th>closed  at</th>\n",
       "      <th>domain</th>\n",
       "      <th>network  username</th>\n",
       "      <th>country  code</th>\n",
       "      <th>investment  rounds</th>\n",
       "      <th>...</th>\n",
       "      <th>milestones</th>\n",
       "      <th>funding  round  id</th>\n",
       "      <th>company  id</th>\n",
       "      <th>funded  at</th>\n",
       "      <th>funding  round  type</th>\n",
       "      <th>raised  amount</th>\n",
       "      <th>pre  money  valuation</th>\n",
       "      <th>participants</th>\n",
       "      <th>is  first  round</th>\n",
       "      <th>is  last  round</th>\n",
       "    </tr>\n",
       "  </thead>\n",
       "  <tbody>\n",
       "    <tr>\n",
       "      <th>0</th>\n",
       "      <td>1.0</td>\n",
       "      <td>Wetpaint</td>\n",
       "      <td>web</td>\n",
       "      <td>operating</td>\n",
       "      <td>2005-10-17</td>\n",
       "      <td>NaN</td>\n",
       "      <td>wetpaint-inc.com</td>\n",
       "      <td>BachelrWetpaint</td>\n",
       "      <td>USA</td>\n",
       "      <td>0.0</td>\n",
       "      <td>...</td>\n",
       "      <td>5.0</td>\n",
       "      <td>888.0</td>\n",
       "      <td>1.0</td>\n",
       "      <td>2005-10-01</td>\n",
       "      <td>series-a</td>\n",
       "      <td>5250000.0</td>\n",
       "      <td>0.0</td>\n",
       "      <td>2.0</td>\n",
       "      <td>0.0</td>\n",
       "      <td>1.0</td>\n",
       "    </tr>\n",
       "    <tr>\n",
       "      <th>1</th>\n",
       "      <td>1.0</td>\n",
       "      <td>Wetpaint</td>\n",
       "      <td>web</td>\n",
       "      <td>operating</td>\n",
       "      <td>2005-10-17</td>\n",
       "      <td>NaN</td>\n",
       "      <td>wetpaint-inc.com</td>\n",
       "      <td>BachelrWetpaint</td>\n",
       "      <td>USA</td>\n",
       "      <td>0.0</td>\n",
       "      <td>...</td>\n",
       "      <td>5.0</td>\n",
       "      <td>889.0</td>\n",
       "      <td>1.0</td>\n",
       "      <td>2007-01-01</td>\n",
       "      <td>series-b</td>\n",
       "      <td>9500000.0</td>\n",
       "      <td>0.0</td>\n",
       "      <td>3.0</td>\n",
       "      <td>0.0</td>\n",
       "      <td>0.0</td>\n",
       "    </tr>\n",
       "    <tr>\n",
       "      <th>2</th>\n",
       "      <td>1.0</td>\n",
       "      <td>Wetpaint</td>\n",
       "      <td>web</td>\n",
       "      <td>operating</td>\n",
       "      <td>2005-10-17</td>\n",
       "      <td>NaN</td>\n",
       "      <td>wetpaint-inc.com</td>\n",
       "      <td>BachelrWetpaint</td>\n",
       "      <td>USA</td>\n",
       "      <td>0.0</td>\n",
       "      <td>...</td>\n",
       "      <td>5.0</td>\n",
       "      <td>2312.0</td>\n",
       "      <td>1.0</td>\n",
       "      <td>2008-05-19</td>\n",
       "      <td>series-c+</td>\n",
       "      <td>25000000.0</td>\n",
       "      <td>0.0</td>\n",
       "      <td>4.0</td>\n",
       "      <td>1.0</td>\n",
       "      <td>0.0</td>\n",
       "    </tr>\n",
       "    <tr>\n",
       "      <th>3</th>\n",
       "      <td>10.0</td>\n",
       "      <td>Flektor</td>\n",
       "      <td>games_video</td>\n",
       "      <td>acquired</td>\n",
       "      <td>NaN</td>\n",
       "      <td>NaN</td>\n",
       "      <td>flektor.com</td>\n",
       "      <td>NaN</td>\n",
       "      <td>USA</td>\n",
       "      <td>0.0</td>\n",
       "      <td>...</td>\n",
       "      <td>0.0</td>\n",
       "      <td>NaN</td>\n",
       "      <td>NaN</td>\n",
       "      <td>NaN</td>\n",
       "      <td>NaN</td>\n",
       "      <td>NaN</td>\n",
       "      <td>NaN</td>\n",
       "      <td>NaN</td>\n",
       "      <td>NaN</td>\n",
       "      <td>NaN</td>\n",
       "    </tr>\n",
       "    <tr>\n",
       "      <th>4</th>\n",
       "      <td>100.0</td>\n",
       "      <td>There</td>\n",
       "      <td>games_video</td>\n",
       "      <td>acquired</td>\n",
       "      <td>NaN</td>\n",
       "      <td>NaN</td>\n",
       "      <td>there.com</td>\n",
       "      <td>NaN</td>\n",
       "      <td>USA</td>\n",
       "      <td>0.0</td>\n",
       "      <td>...</td>\n",
       "      <td>4.0</td>\n",
       "      <td>NaN</td>\n",
       "      <td>NaN</td>\n",
       "      <td>NaN</td>\n",
       "      <td>NaN</td>\n",
       "      <td>NaN</td>\n",
       "      <td>NaN</td>\n",
       "      <td>NaN</td>\n",
       "      <td>NaN</td>\n",
       "      <td>NaN</td>\n",
       "    </tr>\n",
       "  </tbody>\n",
       "</table>\n",
       "<p>5 rows × 22 columns</p>\n",
       "</div>"
      ],
      "text/plain": [
       "   company  ID      name category  code     status founded  at closed  at  \\\n",
       "0          1.0  Wetpaint            web  operating  2005-10-17        NaN   \n",
       "1          1.0  Wetpaint            web  operating  2005-10-17        NaN   \n",
       "2          1.0  Wetpaint            web  operating  2005-10-17        NaN   \n",
       "3         10.0   Flektor    games_video   acquired         NaN        NaN   \n",
       "4        100.0     There    games_video   acquired         NaN        NaN   \n",
       "\n",
       "             domain network  username country  code  investment  rounds  ...  \\\n",
       "0  wetpaint-inc.com   BachelrWetpaint           USA                 0.0  ...   \n",
       "1  wetpaint-inc.com   BachelrWetpaint           USA                 0.0  ...   \n",
       "2  wetpaint-inc.com   BachelrWetpaint           USA                 0.0  ...   \n",
       "3       flektor.com               NaN           USA                 0.0  ...   \n",
       "4         there.com               NaN           USA                 0.0  ...   \n",
       "\n",
       "   milestones  funding  round  id  company  id  funded  at  \\\n",
       "0         5.0               888.0          1.0  2005-10-01   \n",
       "1         5.0               889.0          1.0  2007-01-01   \n",
       "2         5.0              2312.0          1.0  2008-05-19   \n",
       "3         0.0                 NaN          NaN         NaN   \n",
       "4         4.0                 NaN          NaN         NaN   \n",
       "\n",
       "   funding  round  type raised  amount pre  money  valuation  participants  \\\n",
       "0              series-a      5250000.0                   0.0           2.0   \n",
       "1              series-b      9500000.0                   0.0           3.0   \n",
       "2             series-c+     25000000.0                   0.0           4.0   \n",
       "3                   NaN            NaN                   NaN           NaN   \n",
       "4                   NaN            NaN                   NaN           NaN   \n",
       "\n",
       "   is  first  round  is  last  round  \n",
       "0               0.0              1.0  \n",
       "1               0.0              0.0  \n",
       "2               1.0              0.0  \n",
       "3               NaN              NaN  \n",
       "4               NaN              NaN  \n",
       "\n",
       "[5 rows x 22 columns]"
      ]
     },
     "execution_count": 3,
     "metadata": {},
     "output_type": "execute_result"
    }
   ],
   "source": [
    "# Выводим первые строки датафрейма \n",
    "company_and_rounds_df.head()"
   ]
  },
  {
   "cell_type": "code",
   "execution_count": 4,
   "metadata": {},
   "outputs": [
    {
     "name": "stdout",
     "output_type": "stream",
     "text": [
      "<class 'pandas.core.frame.DataFrame'>\n",
      "RangeIndex: 217774 entries, 0 to 217773\n",
      "Data columns (total 22 columns):\n",
      " #   Column                 Non-Null Count   Dtype  \n",
      "---  ------                 --------------   -----  \n",
      " 0   company  ID            217472 non-null  float64\n",
      " 1   name                   217472 non-null  object \n",
      " 2   category  code         143886 non-null  object \n",
      " 3   status                 217472 non-null  object \n",
      " 4   founded  at            109956 non-null  object \n",
      " 5   closed  at             3449 non-null    object \n",
      " 6   domain                 147159 non-null  object \n",
      " 7   network  username      95534 non-null   object \n",
      " 8   country  code          108607 non-null  object \n",
      " 9   investment  rounds     217472 non-null  float64\n",
      " 10  funding  rounds        217472 non-null  float64\n",
      " 11  funding  total         217472 non-null  float64\n",
      " 12  milestones             217472 non-null  float64\n",
      " 13  funding  round  id     52928 non-null   float64\n",
      " 14  company  id            52928 non-null   float64\n",
      " 15  funded  at             52680 non-null   object \n",
      " 16  funding  round  type   52928 non-null   object \n",
      " 17  raised  amount         52928 non-null   float64\n",
      " 18  pre  money  valuation  52928 non-null   float64\n",
      " 19  participants           52928 non-null   float64\n",
      " 20  is  first  round       52928 non-null   float64\n",
      " 21  is  last  round        52928 non-null   float64\n",
      "dtypes: float64(12), object(10)\n",
      "memory usage: 36.6+ MB\n"
     ]
    }
   ],
   "source": [
    "# Выведем информацию о датафрейме\n",
    "company_and_rounds_df.info()"
   ]
  },
  {
   "cell_type": "markdown",
   "metadata": {},
   "source": [
    "В датафрейме company_and_rounds_df представлены данные в 217774 строк и 22 столбца. Во многих столбцах отсутствуют данные, скорее всего часть образовалась из-за присоединения двух таблиц. Два столбца company  ID и company  id, это не дублирующиеся столбцы, а данные двух таблиц, первая из них несет информацию о компаниях, вторая о раундах. Столбцы founded  at,closed  at,funded at содержат неверный тип данных, нужно будет перевести тип в datetime. Названия столбцов нужно привести в единый стиль."
   ]
  },
  {
   "cell_type": "code",
   "execution_count": 5,
   "metadata": {},
   "outputs": [
    {
     "data": {
      "text/plain": [
       "Index(['company_ID', 'name', 'category_code', 'status', 'founded_at',\n",
       "       'closed_at', 'domain', 'network_username', 'country_code',\n",
       "       'investment_rounds', 'funding_rounds', 'funding_total', 'milestones',\n",
       "       'funding_round_id', 'company_id', 'funded_at', 'funding_round_type',\n",
       "       'raised_amount', 'pre_money_valuation', 'participants',\n",
       "       'is_first_round', 'is_last_round'],\n",
       "      dtype='object')"
      ]
     },
     "execution_count": 5,
     "metadata": {},
     "output_type": "execute_result"
    }
   ],
   "source": [
    "#Приведем столбцы к единому стилю\n",
    "company_and_rounds_df.columns = company_and_rounds_df.columns.str.replace(\"  \",\"_\")\n",
    "company_and_rounds_df.columns"
   ]
  },
  {
   "cell_type": "code",
   "execution_count": 6,
   "metadata": {},
   "outputs": [
    {
     "data": {
      "text/html": [
       "<div>\n",
       "<style scoped>\n",
       "    .dataframe tbody tr th:only-of-type {\n",
       "        vertical-align: middle;\n",
       "    }\n",
       "\n",
       "    .dataframe tbody tr th {\n",
       "        vertical-align: top;\n",
       "    }\n",
       "\n",
       "    .dataframe thead th {\n",
       "        text-align: right;\n",
       "    }\n",
       "</style>\n",
       "<table border=\"1\" class=\"dataframe\">\n",
       "  <thead>\n",
       "    <tr style=\"text-align: right;\">\n",
       "      <th></th>\n",
       "      <th>id</th>\n",
       "      <th>acquiring_company_id</th>\n",
       "      <th>acquired_company_id</th>\n",
       "      <th>term_code</th>\n",
       "      <th>price_amount</th>\n",
       "      <th>acquired_at</th>\n",
       "    </tr>\n",
       "  </thead>\n",
       "  <tbody>\n",
       "    <tr>\n",
       "      <th>0</th>\n",
       "      <td>1</td>\n",
       "      <td>11</td>\n",
       "      <td>10</td>\n",
       "      <td>NaN</td>\n",
       "      <td>20000000</td>\n",
       "      <td>2007-05-30</td>\n",
       "    </tr>\n",
       "    <tr>\n",
       "      <th>1</th>\n",
       "      <td>7</td>\n",
       "      <td>59</td>\n",
       "      <td>72</td>\n",
       "      <td>cash</td>\n",
       "      <td>60000000</td>\n",
       "      <td>2007-07-01</td>\n",
       "    </tr>\n",
       "    <tr>\n",
       "      <th>2</th>\n",
       "      <td>8</td>\n",
       "      <td>24</td>\n",
       "      <td>132</td>\n",
       "      <td>cash</td>\n",
       "      <td>280000000</td>\n",
       "      <td>2007-05-01</td>\n",
       "    </tr>\n",
       "    <tr>\n",
       "      <th>3</th>\n",
       "      <td>9</td>\n",
       "      <td>59</td>\n",
       "      <td>155</td>\n",
       "      <td>cash</td>\n",
       "      <td>100000000</td>\n",
       "      <td>2007-06-01</td>\n",
       "    </tr>\n",
       "    <tr>\n",
       "      <th>4</th>\n",
       "      <td>10</td>\n",
       "      <td>212</td>\n",
       "      <td>215</td>\n",
       "      <td>cash</td>\n",
       "      <td>25000000</td>\n",
       "      <td>2007-07-01</td>\n",
       "    </tr>\n",
       "  </tbody>\n",
       "</table>\n",
       "</div>"
      ],
      "text/plain": [
       "   id  acquiring_company_id  acquired_company_id term_code  price_amount  \\\n",
       "0   1                    11                   10       NaN      20000000   \n",
       "1   7                    59                   72      cash      60000000   \n",
       "2   8                    24                  132      cash     280000000   \n",
       "3   9                    59                  155      cash     100000000   \n",
       "4  10                   212                  215      cash      25000000   \n",
       "\n",
       "  acquired_at  \n",
       "0  2007-05-30  \n",
       "1  2007-07-01  \n",
       "2  2007-05-01  \n",
       "3  2007-06-01  \n",
       "4  2007-07-01  "
      ]
     },
     "execution_count": 6,
     "metadata": {},
     "output_type": "execute_result"
    }
   ],
   "source": [
    "# Выводим первые строки датафрейма \n",
    "acquisition_df.head()"
   ]
  },
  {
   "cell_type": "code",
   "execution_count": 7,
   "metadata": {},
   "outputs": [
    {
     "name": "stdout",
     "output_type": "stream",
     "text": [
      "<class 'pandas.core.frame.DataFrame'>\n",
      "RangeIndex: 9407 entries, 0 to 9406\n",
      "Data columns (total 6 columns):\n",
      " #   Column                Non-Null Count  Dtype \n",
      "---  ------                --------------  ----- \n",
      " 0   id                    9407 non-null   int64 \n",
      " 1   acquiring_company_id  9407 non-null   int64 \n",
      " 2   acquired_company_id   9407 non-null   int64 \n",
      " 3   term_code             1831 non-null   object\n",
      " 4   price_amount          9407 non-null   int64 \n",
      " 5   acquired_at           9378 non-null   object\n",
      "dtypes: int64(4), object(2)\n",
      "memory usage: 441.1+ KB\n"
     ]
    }
   ],
   "source": [
    "# Выводим информацию о датафрейме\n",
    "acquisition_df.info()"
   ]
  },
  {
   "cell_type": "markdown",
   "metadata": {},
   "source": [
    "В датафрейме acquisition_df приведены данные в 9407строк и в 6 столбцов. В столбце acquired_at тип данных не соответствует, нежно привести к datetime. В столбце term_code и acquired_at отсутствуют данные скорее всего из за нехватки информации.  "
   ]
  },
  {
   "cell_type": "code",
   "execution_count": 8,
   "metadata": {},
   "outputs": [
    {
     "data": {
      "text/html": [
       "<div>\n",
       "<style scoped>\n",
       "    .dataframe tbody tr th:only-of-type {\n",
       "        vertical-align: middle;\n",
       "    }\n",
       "\n",
       "    .dataframe tbody tr th {\n",
       "        vertical-align: top;\n",
       "    }\n",
       "\n",
       "    .dataframe thead th {\n",
       "        text-align: right;\n",
       "    }\n",
       "</style>\n",
       "<table border=\"1\" class=\"dataframe\">\n",
       "  <thead>\n",
       "    <tr style=\"text-align: right;\">\n",
       "      <th></th>\n",
       "      <th>id</th>\n",
       "      <th>first_name</th>\n",
       "      <th>last_name</th>\n",
       "      <th>company_id</th>\n",
       "      <th>network_username</th>\n",
       "    </tr>\n",
       "  </thead>\n",
       "  <tbody>\n",
       "    <tr>\n",
       "      <th>0</th>\n",
       "      <td>10</td>\n",
       "      <td>Mark</td>\n",
       "      <td>Zuckerberg</td>\n",
       "      <td>5.0</td>\n",
       "      <td>NaN</td>\n",
       "    </tr>\n",
       "    <tr>\n",
       "      <th>1</th>\n",
       "      <td>100</td>\n",
       "      <td>Peter</td>\n",
       "      <td>Lester</td>\n",
       "      <td>27.0</td>\n",
       "      <td>NaN</td>\n",
       "    </tr>\n",
       "    <tr>\n",
       "      <th>2</th>\n",
       "      <td>1000</td>\n",
       "      <td>Dr. Steven</td>\n",
       "      <td>E. Saunders</td>\n",
       "      <td>292.0</td>\n",
       "      <td>NaN</td>\n",
       "    </tr>\n",
       "    <tr>\n",
       "      <th>3</th>\n",
       "      <td>10000</td>\n",
       "      <td>Neil</td>\n",
       "      <td>Capel</td>\n",
       "      <td>2526.0</td>\n",
       "      <td>NaN</td>\n",
       "    </tr>\n",
       "    <tr>\n",
       "      <th>4</th>\n",
       "      <td>100000</td>\n",
       "      <td>Sue</td>\n",
       "      <td>Pilsch</td>\n",
       "      <td>NaN</td>\n",
       "      <td>NaN</td>\n",
       "    </tr>\n",
       "  </tbody>\n",
       "</table>\n",
       "</div>"
      ],
      "text/plain": [
       "       id  first_name    last_name  company_id network_username\n",
       "0      10        Mark   Zuckerberg         5.0              NaN\n",
       "1     100       Peter       Lester        27.0              NaN\n",
       "2    1000  Dr. Steven  E. Saunders       292.0              NaN\n",
       "3   10000        Neil        Capel      2526.0              NaN\n",
       "4  100000         Sue       Pilsch         NaN              NaN"
      ]
     },
     "execution_count": 8,
     "metadata": {},
     "output_type": "execute_result"
    }
   ],
   "source": [
    "# Выводим первые строки датафрейма \n",
    "people_df.head()"
   ]
  },
  {
   "cell_type": "code",
   "execution_count": 9,
   "metadata": {},
   "outputs": [
    {
     "name": "stdout",
     "output_type": "stream",
     "text": [
      "<class 'pandas.core.frame.DataFrame'>\n",
      "RangeIndex: 226709 entries, 0 to 226708\n",
      "Data columns (total 5 columns):\n",
      " #   Column            Non-Null Count   Dtype  \n",
      "---  ------            --------------   -----  \n",
      " 0   id                226709 non-null  int64  \n",
      " 1   first_name        226704 non-null  object \n",
      " 2   last_name         226708 non-null  object \n",
      " 3   company_id        34615 non-null   float64\n",
      " 4   network_username  38867 non-null   object \n",
      "dtypes: float64(1), int64(1), object(3)\n",
      "memory usage: 8.6+ MB\n"
     ]
    }
   ],
   "source": [
    "# Выводим информацию о датафрейме\n",
    "people_df.info()"
   ]
  },
  {
   "cell_type": "markdown",
   "metadata": {},
   "source": [
    "Вдатафрейме people_df представлены данные в 226709 строк и 5 столбцов. Типы данных соответствуют предоставленной информации. Также отсутствуют данные в некоторых столбцах с именем, идентификатором компании и ником в социальных сетях. Это неслучайные пропуски, связанные с данными которых нет в наборе."
   ]
  },
  {
   "cell_type": "code",
   "execution_count": 10,
   "metadata": {},
   "outputs": [
    {
     "data": {
      "text/html": [
       "<div>\n",
       "<style scoped>\n",
       "    .dataframe tbody tr th:only-of-type {\n",
       "        vertical-align: middle;\n",
       "    }\n",
       "\n",
       "    .dataframe tbody tr th {\n",
       "        vertical-align: top;\n",
       "    }\n",
       "\n",
       "    .dataframe thead th {\n",
       "        text-align: right;\n",
       "    }\n",
       "</style>\n",
       "<table border=\"1\" class=\"dataframe\">\n",
       "  <thead>\n",
       "    <tr style=\"text-align: right;\">\n",
       "      <th></th>\n",
       "      <th>id</th>\n",
       "      <th>person_id</th>\n",
       "      <th>instituition</th>\n",
       "      <th>graduated_at</th>\n",
       "    </tr>\n",
       "  </thead>\n",
       "  <tbody>\n",
       "    <tr>\n",
       "      <th>0</th>\n",
       "      <td>1</td>\n",
       "      <td>6117</td>\n",
       "      <td>NaN</td>\n",
       "      <td>NaN</td>\n",
       "    </tr>\n",
       "    <tr>\n",
       "      <th>1</th>\n",
       "      <td>2</td>\n",
       "      <td>6136</td>\n",
       "      <td>Washington University, St. Louis</td>\n",
       "      <td>1990-01-01</td>\n",
       "    </tr>\n",
       "    <tr>\n",
       "      <th>2</th>\n",
       "      <td>3</td>\n",
       "      <td>6136</td>\n",
       "      <td>Boston University</td>\n",
       "      <td>1992-01-01</td>\n",
       "    </tr>\n",
       "    <tr>\n",
       "      <th>3</th>\n",
       "      <td>4</td>\n",
       "      <td>6005</td>\n",
       "      <td>University of Greenwich</td>\n",
       "      <td>2006-01-01</td>\n",
       "    </tr>\n",
       "    <tr>\n",
       "      <th>4</th>\n",
       "      <td>5</td>\n",
       "      <td>5832</td>\n",
       "      <td>Rice University</td>\n",
       "      <td>NaN</td>\n",
       "    </tr>\n",
       "  </tbody>\n",
       "</table>\n",
       "</div>"
      ],
      "text/plain": [
       "   id  person_id                      instituition graduated_at\n",
       "0   1       6117                               NaN          NaN\n",
       "1   2       6136  Washington University, St. Louis   1990-01-01\n",
       "2   3       6136                 Boston University   1992-01-01\n",
       "3   4       6005           University of Greenwich   2006-01-01\n",
       "4   5       5832                   Rice University          NaN"
      ]
     },
     "execution_count": 10,
     "metadata": {},
     "output_type": "execute_result"
    }
   ],
   "source": [
    "# Выводим первые строки датафрейма \n",
    "education_df.head()"
   ]
  },
  {
   "cell_type": "code",
   "execution_count": 11,
   "metadata": {},
   "outputs": [
    {
     "name": "stdout",
     "output_type": "stream",
     "text": [
      "<class 'pandas.core.frame.DataFrame'>\n",
      "RangeIndex: 109610 entries, 0 to 109609\n",
      "Data columns (total 4 columns):\n",
      " #   Column        Non-Null Count   Dtype \n",
      "---  ------        --------------   ----- \n",
      " 0   id            109610 non-null  int64 \n",
      " 1   person_id     109610 non-null  int64 \n",
      " 2   instituition  109555 non-null  object\n",
      " 3   graduated_at  58054 non-null   object\n",
      "dtypes: int64(2), object(2)\n",
      "memory usage: 3.3+ MB\n"
     ]
    }
   ],
   "source": [
    "# Выводим информацию о датафрейме\n",
    "education_df.info()"
   ]
  },
  {
   "cell_type": "markdown",
   "metadata": {},
   "source": [
    " В таблице education_df представлены данные в 109610 строк, 4 столбца. Тип данных столбца graduated_at не соответствует, нужно привести к datetime. В столбцах instituition и graduated_at пропуски в связи с отсутствием информации."
   ]
  },
  {
   "cell_type": "code",
   "execution_count": 12,
   "metadata": {},
   "outputs": [
    {
     "data": {
      "text/html": [
       "<div>\n",
       "<style scoped>\n",
       "    .dataframe tbody tr th:only-of-type {\n",
       "        vertical-align: middle;\n",
       "    }\n",
       "\n",
       "    .dataframe tbody tr th {\n",
       "        vertical-align: top;\n",
       "    }\n",
       "\n",
       "    .dataframe thead th {\n",
       "        text-align: right;\n",
       "    }\n",
       "</style>\n",
       "<table border=\"1\" class=\"dataframe\">\n",
       "  <thead>\n",
       "    <tr style=\"text-align: right;\">\n",
       "      <th></th>\n",
       "      <th>id</th>\n",
       "      <th>object_id</th>\n",
       "      <th>degree_type</th>\n",
       "      <th>subject</th>\n",
       "    </tr>\n",
       "  </thead>\n",
       "  <tbody>\n",
       "    <tr>\n",
       "      <th>0</th>\n",
       "      <td>1</td>\n",
       "      <td>p:6117</td>\n",
       "      <td>MBA</td>\n",
       "      <td>NaN</td>\n",
       "    </tr>\n",
       "    <tr>\n",
       "      <th>1</th>\n",
       "      <td>2</td>\n",
       "      <td>p:6136</td>\n",
       "      <td>BA</td>\n",
       "      <td>English, French</td>\n",
       "    </tr>\n",
       "    <tr>\n",
       "      <th>2</th>\n",
       "      <td>3</td>\n",
       "      <td>p:6136</td>\n",
       "      <td>MS</td>\n",
       "      <td>Mass Communication</td>\n",
       "    </tr>\n",
       "    <tr>\n",
       "      <th>3</th>\n",
       "      <td>4</td>\n",
       "      <td>p:6005</td>\n",
       "      <td>MS</td>\n",
       "      <td>Internet Technology</td>\n",
       "    </tr>\n",
       "    <tr>\n",
       "      <th>4</th>\n",
       "      <td>5</td>\n",
       "      <td>p:5832</td>\n",
       "      <td>BCS</td>\n",
       "      <td>Computer Science, Psychology</td>\n",
       "    </tr>\n",
       "  </tbody>\n",
       "</table>\n",
       "</div>"
      ],
      "text/plain": [
       "   id object_id degree_type                       subject\n",
       "0   1    p:6117         MBA                           NaN\n",
       "1   2    p:6136          BA               English, French\n",
       "2   3    p:6136          MS            Mass Communication\n",
       "3   4    p:6005          MS           Internet Technology\n",
       "4   5    p:5832         BCS  Computer Science, Psychology"
      ]
     },
     "execution_count": 12,
     "metadata": {},
     "output_type": "execute_result"
    }
   ],
   "source": [
    "# Выводим первые строки датафрейма \n",
    "degrees_df.head()"
   ]
  },
  {
   "cell_type": "code",
   "execution_count": 13,
   "metadata": {},
   "outputs": [
    {
     "name": "stdout",
     "output_type": "stream",
     "text": [
      "<class 'pandas.core.frame.DataFrame'>\n",
      "RangeIndex: 109610 entries, 0 to 109609\n",
      "Data columns (total 4 columns):\n",
      " #   Column       Non-Null Count   Dtype \n",
      "---  ------       --------------   ----- \n",
      " 0   id           109610 non-null  int64 \n",
      " 1   object_id    109610 non-null  object\n",
      " 2   degree_type  98392 non-null   object\n",
      " 3   subject      81298 non-null   object\n",
      "dtypes: int64(1), object(3)\n",
      "memory usage: 3.3+ MB\n"
     ]
    }
   ],
   "source": [
    "# Выводим информацию о датафрейме\n",
    "degrees_df.info()"
   ]
  },
  {
   "cell_type": "markdown",
   "metadata": {},
   "source": [
    "В датафрейме degrees_df предоставлена информация в 109610 строк и 4 столбца. Типы данных соответствуют. В некоторых столбцах имеются пропуски связанные с отсутствием информации. "
   ]
  },
  {
   "cell_type": "markdown",
   "metadata": {},
   "source": [
    "Последующие два датафрейма fund_df и investment_df скорее всего нам не понадобятся, но мы взглянем на данные.  "
   ]
  },
  {
   "cell_type": "code",
   "execution_count": 14,
   "metadata": {},
   "outputs": [
    {
     "data": {
      "text/html": [
       "<div>\n",
       "<style scoped>\n",
       "    .dataframe tbody tr th:only-of-type {\n",
       "        vertical-align: middle;\n",
       "    }\n",
       "\n",
       "    .dataframe tbody tr th {\n",
       "        vertical-align: top;\n",
       "    }\n",
       "\n",
       "    .dataframe thead th {\n",
       "        text-align: right;\n",
       "    }\n",
       "</style>\n",
       "<table border=\"1\" class=\"dataframe\">\n",
       "  <thead>\n",
       "    <tr style=\"text-align: right;\">\n",
       "      <th></th>\n",
       "      <th>id</th>\n",
       "      <th>name</th>\n",
       "      <th>founded_at</th>\n",
       "      <th>domain</th>\n",
       "      <th>network_username</th>\n",
       "      <th>country_code</th>\n",
       "      <th>investment_rounds</th>\n",
       "      <th>invested_companies</th>\n",
       "      <th>milestones</th>\n",
       "    </tr>\n",
       "  </thead>\n",
       "  <tbody>\n",
       "    <tr>\n",
       "      <th>0</th>\n",
       "      <td>13131</td>\n",
       "      <td>NaN</td>\n",
       "      <td>NaN</td>\n",
       "      <td>NaN</td>\n",
       "      <td>NaN</td>\n",
       "      <td>NaN</td>\n",
       "      <td>0</td>\n",
       "      <td>0</td>\n",
       "      <td>0</td>\n",
       "    </tr>\n",
       "    <tr>\n",
       "      <th>1</th>\n",
       "      <td>1</td>\n",
       "      <td>Greylock Partners</td>\n",
       "      <td>1965-01-01</td>\n",
       "      <td>greylock.com</td>\n",
       "      <td>greylockvc</td>\n",
       "      <td>USA</td>\n",
       "      <td>307</td>\n",
       "      <td>196</td>\n",
       "      <td>0</td>\n",
       "    </tr>\n",
       "    <tr>\n",
       "      <th>2</th>\n",
       "      <td>10</td>\n",
       "      <td>Mission Ventures</td>\n",
       "      <td>1996-01-01</td>\n",
       "      <td>missionventures.com</td>\n",
       "      <td>NaN</td>\n",
       "      <td>USA</td>\n",
       "      <td>58</td>\n",
       "      <td>33</td>\n",
       "      <td>0</td>\n",
       "    </tr>\n",
       "    <tr>\n",
       "      <th>3</th>\n",
       "      <td>100</td>\n",
       "      <td>Kapor Enterprises, Inc.</td>\n",
       "      <td>NaN</td>\n",
       "      <td>kei.com</td>\n",
       "      <td>NaN</td>\n",
       "      <td>USA</td>\n",
       "      <td>2</td>\n",
       "      <td>1</td>\n",
       "      <td>0</td>\n",
       "    </tr>\n",
       "    <tr>\n",
       "      <th>4</th>\n",
       "      <td>1000</td>\n",
       "      <td>Speed Ventures</td>\n",
       "      <td>NaN</td>\n",
       "      <td>NaN</td>\n",
       "      <td>NaN</td>\n",
       "      <td>NaN</td>\n",
       "      <td>0</td>\n",
       "      <td>0</td>\n",
       "      <td>1</td>\n",
       "    </tr>\n",
       "  </tbody>\n",
       "</table>\n",
       "</div>"
      ],
      "text/plain": [
       "      id                     name  founded_at               domain  \\\n",
       "0  13131                      NaN         NaN                  NaN   \n",
       "1      1        Greylock Partners  1965-01-01         greylock.com   \n",
       "2     10         Mission Ventures  1996-01-01  missionventures.com   \n",
       "3    100  Kapor Enterprises, Inc.         NaN              kei.com   \n",
       "4   1000           Speed Ventures         NaN                  NaN   \n",
       "\n",
       "  network_username country_code  investment_rounds  invested_companies  \\\n",
       "0              NaN          NaN                  0                   0   \n",
       "1       greylockvc          USA                307                 196   \n",
       "2              NaN          USA                 58                  33   \n",
       "3              NaN          USA                  2                   1   \n",
       "4              NaN          NaN                  0                   0   \n",
       "\n",
       "   milestones  \n",
       "0           0  \n",
       "1           0  \n",
       "2           0  \n",
       "3           0  \n",
       "4           1  "
      ]
     },
     "execution_count": 14,
     "metadata": {},
     "output_type": "execute_result"
    }
   ],
   "source": [
    "# Выводим первые строки датафрейма \n",
    "fund_df.head()"
   ]
  },
  {
   "cell_type": "code",
   "execution_count": 15,
   "metadata": {},
   "outputs": [
    {
     "name": "stdout",
     "output_type": "stream",
     "text": [
      "<class 'pandas.core.frame.DataFrame'>\n",
      "RangeIndex: 11652 entries, 0 to 11651\n",
      "Data columns (total 9 columns):\n",
      " #   Column              Non-Null Count  Dtype \n",
      "---  ------              --------------  ----- \n",
      " 0   id                  11652 non-null  int64 \n",
      " 1   name                11650 non-null  object\n",
      " 2   founded_at          4605 non-null   object\n",
      " 3   domain              7362 non-null   object\n",
      " 4   network_username    2149 non-null   object\n",
      " 5   country_code        7053 non-null   object\n",
      " 6   investment_rounds   11652 non-null  int64 \n",
      " 7   invested_companies  11652 non-null  int64 \n",
      " 8   milestones          11652 non-null  int64 \n",
      "dtypes: int64(4), object(5)\n",
      "memory usage: 819.4+ KB\n"
     ]
    }
   ],
   "source": [
    "# Выводим информацию о датафрейме\n",
    "fund_df.info()"
   ]
  },
  {
   "cell_type": "code",
   "execution_count": 16,
   "metadata": {},
   "outputs": [
    {
     "data": {
      "text/html": [
       "<div>\n",
       "<style scoped>\n",
       "    .dataframe tbody tr th:only-of-type {\n",
       "        vertical-align: middle;\n",
       "    }\n",
       "\n",
       "    .dataframe tbody tr th {\n",
       "        vertical-align: top;\n",
       "    }\n",
       "\n",
       "    .dataframe thead th {\n",
       "        text-align: right;\n",
       "    }\n",
       "</style>\n",
       "<table border=\"1\" class=\"dataframe\">\n",
       "  <thead>\n",
       "    <tr style=\"text-align: right;\">\n",
       "      <th></th>\n",
       "      <th>id</th>\n",
       "      <th>funding_round_id</th>\n",
       "      <th>company_id</th>\n",
       "      <th>fund_id</th>\n",
       "    </tr>\n",
       "  </thead>\n",
       "  <tbody>\n",
       "    <tr>\n",
       "      <th>0</th>\n",
       "      <td>1</td>\n",
       "      <td>1</td>\n",
       "      <td>4</td>\n",
       "      <td>1</td>\n",
       "    </tr>\n",
       "    <tr>\n",
       "      <th>1</th>\n",
       "      <td>2</td>\n",
       "      <td>1</td>\n",
       "      <td>4</td>\n",
       "      <td>2</td>\n",
       "    </tr>\n",
       "    <tr>\n",
       "      <th>2</th>\n",
       "      <td>3</td>\n",
       "      <td>3</td>\n",
       "      <td>5</td>\n",
       "      <td>4</td>\n",
       "    </tr>\n",
       "    <tr>\n",
       "      <th>3</th>\n",
       "      <td>4</td>\n",
       "      <td>4</td>\n",
       "      <td>5</td>\n",
       "      <td>1</td>\n",
       "    </tr>\n",
       "    <tr>\n",
       "      <th>4</th>\n",
       "      <td>5</td>\n",
       "      <td>4</td>\n",
       "      <td>5</td>\n",
       "      <td>5</td>\n",
       "    </tr>\n",
       "  </tbody>\n",
       "</table>\n",
       "</div>"
      ],
      "text/plain": [
       "   id  funding_round_id  company_id  fund_id\n",
       "0   1                 1           4        1\n",
       "1   2                 1           4        2\n",
       "2   3                 3           5        4\n",
       "3   4                 4           5        1\n",
       "4   5                 4           5        5"
      ]
     },
     "execution_count": 16,
     "metadata": {},
     "output_type": "execute_result"
    }
   ],
   "source": [
    "# Выводим первые строки датафрейма \n",
    "investment_df.head()"
   ]
  },
  {
   "cell_type": "code",
   "execution_count": 17,
   "metadata": {},
   "outputs": [
    {
     "name": "stdout",
     "output_type": "stream",
     "text": [
      "<class 'pandas.core.frame.DataFrame'>\n",
      "RangeIndex: 61403 entries, 0 to 61402\n",
      "Data columns (total 4 columns):\n",
      " #   Column            Non-Null Count  Dtype\n",
      "---  ------            --------------  -----\n",
      " 0   id                61403 non-null  int64\n",
      " 1   funding_round_id  61403 non-null  int64\n",
      " 2   company_id        61403 non-null  int64\n",
      " 3   fund_id           61403 non-null  int64\n",
      "dtypes: int64(4)\n",
      "memory usage: 1.9 MB\n"
     ]
    }
   ],
   "source": [
    "# Выводим информацию о датафрейме\n",
    "investment_df.info()"
   ]
  },
  {
   "cell_type": "markdown",
   "metadata": {},
   "source": [
    "По проделанной работе сделаем вывод, что датафрейм company_and_rounds_df содержит две таблицы, и их для дальнейшего анализа нужно будет разьединить. В данных достаточно много пропусков, далее нужно будет сделать вывод что с ними делать. Также нужно будет привести отмеченные выше столбцы к нужному типу. На этом этапе мы убедились, что все столбцы приведены к единому стилю и готовы к работе. "
   ]
  },
  {
   "cell_type": "markdown",
   "metadata": {
    "id": "mg2gEwh0rJg0"
   },
   "source": [
    "### 1.2. Смена типов и анализ пропусков\n",
    "\n",
    "- Обработайте типы данных в столбцах, которые хранят значения даты и времени, если это необходимо.\n",
    "- Оцените полноту данных — сделайте предварительный вывод, достаточно ли данных для решения задач проекта."
   ]
  },
  {
   "cell_type": "code",
   "execution_count": 18,
   "metadata": {
    "id": "46VskrGyFeJ-"
   },
   "outputs": [
    {
     "name": "stdout",
     "output_type": "stream",
     "text": [
      "<class 'pandas.core.frame.DataFrame'>\n",
      "RangeIndex: 217774 entries, 0 to 217773\n",
      "Data columns (total 22 columns):\n",
      " #   Column               Non-Null Count   Dtype         \n",
      "---  ------               --------------   -----         \n",
      " 0   company_ID           217472 non-null  float64       \n",
      " 1   name                 217472 non-null  object        \n",
      " 2   category_code        143886 non-null  object        \n",
      " 3   status               217472 non-null  object        \n",
      " 4   founded_at           109956 non-null  datetime64[ns]\n",
      " 5   closed_at            3449 non-null    datetime64[ns]\n",
      " 6   domain               147159 non-null  object        \n",
      " 7   network_username     95534 non-null   object        \n",
      " 8   country_code         108607 non-null  object        \n",
      " 9   investment_rounds    217472 non-null  float64       \n",
      " 10  funding_rounds       217472 non-null  float64       \n",
      " 11  funding_total        217472 non-null  float64       \n",
      " 12  milestones           217472 non-null  float64       \n",
      " 13  funding_round_id     52928 non-null   float64       \n",
      " 14  company_id           52928 non-null   float64       \n",
      " 15  funded_at            52680 non-null   datetime64[ns]\n",
      " 16  funding_round_type   52928 non-null   object        \n",
      " 17  raised_amount        52928 non-null   float64       \n",
      " 18  pre_money_valuation  52928 non-null   float64       \n",
      " 19  participants         52928 non-null   float64       \n",
      " 20  is_first_round       52928 non-null   float64       \n",
      " 21  is_last_round        52928 non-null   float64       \n",
      "dtypes: datetime64[ns](3), float64(12), object(7)\n",
      "memory usage: 36.6+ MB\n"
     ]
    }
   ],
   "source": [
    "# Обработаем типы данных в датафрейме company_and_rounds_df\n",
    "company_and_rounds_df['founded_at']=pd.to_datetime(company_and_rounds_df['founded_at'],errors='coerce')\n",
    "company_and_rounds_df['closed_at']=pd.to_datetime(company_and_rounds_df['closed_at'],errors='coerce')\n",
    "company_and_rounds_df['funded_at']=pd.to_datetime(company_and_rounds_df['funded_at'],errors='coerce')\n",
    "company_and_rounds_df.info()\n"
   ]
  },
  {
   "cell_type": "code",
   "execution_count": 19,
   "metadata": {
    "id": "DEg1tl8DFeBn"
   },
   "outputs": [
    {
     "name": "stdout",
     "output_type": "stream",
     "text": [
      "<class 'pandas.core.frame.DataFrame'>\n",
      "RangeIndex: 9407 entries, 0 to 9406\n",
      "Data columns (total 6 columns):\n",
      " #   Column                Non-Null Count  Dtype         \n",
      "---  ------                --------------  -----         \n",
      " 0   id                    9407 non-null   int64         \n",
      " 1   acquiring_company_id  9407 non-null   int64         \n",
      " 2   acquired_company_id   9407 non-null   int64         \n",
      " 3   term_code             1831 non-null   object        \n",
      " 4   price_amount          9407 non-null   int64         \n",
      " 5   acquired_at           9378 non-null   datetime64[ns]\n",
      "dtypes: datetime64[ns](1), int64(4), object(1)\n",
      "memory usage: 441.1+ KB\n"
     ]
    }
   ],
   "source": [
    "# Обработаем типы данных в датафрейме acquisition_df\n",
    "acquisition_df['acquired_at']=pd.to_datetime(acquisition_df['acquired_at'],errors='coerce')\n",
    "acquisition_df.info()"
   ]
  },
  {
   "cell_type": "code",
   "execution_count": 20,
   "metadata": {},
   "outputs": [
    {
     "name": "stdout",
     "output_type": "stream",
     "text": [
      "<class 'pandas.core.frame.DataFrame'>\n",
      "RangeIndex: 9407 entries, 0 to 9406\n",
      "Data columns (total 6 columns):\n",
      " #   Column                Non-Null Count  Dtype         \n",
      "---  ------                --------------  -----         \n",
      " 0   id                    9407 non-null   int64         \n",
      " 1   acquiring_company_id  9407 non-null   int64         \n",
      " 2   acquired_company_id   9407 non-null   int64         \n",
      " 3   term_code             1831 non-null   object        \n",
      " 4   price_amount          9407 non-null   int64         \n",
      " 5   acquired_at           9378 non-null   datetime64[ns]\n",
      "dtypes: datetime64[ns](1), int64(4), object(1)\n",
      "memory usage: 441.1+ KB\n"
     ]
    }
   ],
   "source": [
    "# Обработаем типы данных в датафрейме acquisition_df\n",
    "education_df['graduated_at']=pd.to_datetime(education_df['graduated_at'],errors='coerce')\n",
    "acquisition_df.info()"
   ]
  },
  {
   "cell_type": "code",
   "execution_count": 21,
   "metadata": {},
   "outputs": [
    {
     "data": {
      "text/plain": [
       "closed_at              214325\n",
       "funded_at              165094\n",
       "is_last_round          164846\n",
       "is_first_round         164846\n",
       "participants           164846\n",
       "pre_money_valuation    164846\n",
       "raised_amount          164846\n",
       "funding_round_type     164846\n",
       "funding_round_id       164846\n",
       "company_id             164846\n",
       "network_username       122240\n",
       "country_code           109167\n",
       "founded_at             107818\n",
       "category_code           73888\n",
       "domain                  70615\n",
       "company_ID                302\n",
       "milestones                302\n",
       "name                      302\n",
       "funding_rounds            302\n",
       "investment_rounds         302\n",
       "status                    302\n",
       "funding_total             302\n",
       "dtype: int64"
      ]
     },
     "execution_count": 21,
     "metadata": {},
     "output_type": "execute_result"
    }
   ],
   "source": [
    "#Посчитаем количество пропусков в абсолютном значении:\n",
    "company_and_rounds_df.isna().sum().sort_values(ascending = False)"
   ]
  },
  {
   "cell_type": "code",
   "execution_count": 22,
   "metadata": {},
   "outputs": [
    {
     "data": {
      "text/plain": [
       "closed_at              0.984162\n",
       "funded_at              0.758098\n",
       "is_last_round          0.756959\n",
       "is_first_round         0.756959\n",
       "participants           0.756959\n",
       "pre_money_valuation    0.756959\n",
       "raised_amount          0.756959\n",
       "funding_round_type     0.756959\n",
       "funding_round_id       0.756959\n",
       "company_id             0.756959\n",
       "network_username       0.561316\n",
       "country_code           0.501286\n",
       "founded_at             0.495091\n",
       "category_code          0.339288\n",
       "domain                 0.324258\n",
       "company_ID             0.001387\n",
       "milestones             0.001387\n",
       "name                   0.001387\n",
       "funding_rounds         0.001387\n",
       "investment_rounds      0.001387\n",
       "status                 0.001387\n",
       "funding_total          0.001387\n",
       "dtype: float64"
      ]
     },
     "execution_count": 22,
     "metadata": {},
     "output_type": "execute_result"
    }
   ],
   "source": [
    "#Посчитаем количество пропусков в относительном значении:\n",
    "(company_and_rounds_df.isna().sum() / len(company_and_rounds_df)).sort_values(ascending = False)"
   ]
  },
  {
   "cell_type": "code",
   "execution_count": 23,
   "metadata": {},
   "outputs": [
    {
     "data": {
      "text/plain": [
       "term_code               7576\n",
       "acquired_at               29\n",
       "id                         0\n",
       "acquiring_company_id       0\n",
       "acquired_company_id        0\n",
       "price_amount               0\n",
       "dtype: int64"
      ]
     },
     "execution_count": 23,
     "metadata": {},
     "output_type": "execute_result"
    }
   ],
   "source": [
    "#Посчитаем количество пропусков в абсолютном значении:\n",
    "acquisition_df.isna().sum().sort_values(ascending = False)"
   ]
  },
  {
   "cell_type": "code",
   "execution_count": 24,
   "metadata": {},
   "outputs": [
    {
     "data": {
      "text/plain": [
       "term_code               0.805358\n",
       "acquired_at             0.003083\n",
       "id                      0.000000\n",
       "acquiring_company_id    0.000000\n",
       "acquired_company_id     0.000000\n",
       "price_amount            0.000000\n",
       "dtype: float64"
      ]
     },
     "execution_count": 24,
     "metadata": {},
     "output_type": "execute_result"
    }
   ],
   "source": [
    "#Посчитаем количество пропусков в относительном значении:\n",
    "(acquisition_df.isna().sum() / len(acquisition_df)).sort_values(ascending = False)"
   ]
  },
  {
   "cell_type": "code",
   "execution_count": 25,
   "metadata": {},
   "outputs": [
    {
     "data": {
      "text/plain": [
       "company_id          192094\n",
       "network_username    187842\n",
       "first_name               5\n",
       "last_name                1\n",
       "id                       0\n",
       "dtype: int64"
      ]
     },
     "execution_count": 25,
     "metadata": {},
     "output_type": "execute_result"
    }
   ],
   "source": [
    "#Посчитаем количество пропусков в абсолютном значении:\n",
    "people_df.isna().sum().sort_values(ascending = False)"
   ]
  },
  {
   "cell_type": "code",
   "execution_count": 26,
   "metadata": {},
   "outputs": [
    {
     "data": {
      "text/plain": [
       "company_id          0.847315\n",
       "network_username    0.828560\n",
       "first_name          0.000022\n",
       "last_name           0.000004\n",
       "id                  0.000000\n",
       "dtype: float64"
      ]
     },
     "execution_count": 26,
     "metadata": {},
     "output_type": "execute_result"
    }
   ],
   "source": [
    "#Посчитаем количество пропусков в относительном значении:\n",
    "(people_df.isna().sum() / len(people_df)).sort_values(ascending = False)"
   ]
  },
  {
   "cell_type": "code",
   "execution_count": 27,
   "metadata": {},
   "outputs": [
    {
     "data": {
      "text/plain": [
       "graduated_at    51556\n",
       "instituition       55\n",
       "id                  0\n",
       "person_id           0\n",
       "dtype: int64"
      ]
     },
     "execution_count": 27,
     "metadata": {},
     "output_type": "execute_result"
    }
   ],
   "source": [
    "#Посчитаем количество пропусков в абсолютном значении:\n",
    "education_df.isna().sum().sort_values(ascending = False)"
   ]
  },
  {
   "cell_type": "code",
   "execution_count": 28,
   "metadata": {},
   "outputs": [
    {
     "data": {
      "text/plain": [
       "graduated_at    0.470359\n",
       "instituition    0.000502\n",
       "id              0.000000\n",
       "person_id       0.000000\n",
       "dtype: float64"
      ]
     },
     "execution_count": 28,
     "metadata": {},
     "output_type": "execute_result"
    }
   ],
   "source": [
    "#Посчитаем количество пропусков в относительном значении:\n",
    "(education_df.isna().sum() / len(education_df)).sort_values(ascending = False)"
   ]
  },
  {
   "cell_type": "code",
   "execution_count": 29,
   "metadata": {},
   "outputs": [
    {
     "data": {
      "text/plain": [
       "subject        28312\n",
       "degree_type    11218\n",
       "id                 0\n",
       "object_id          0\n",
       "dtype: int64"
      ]
     },
     "execution_count": 29,
     "metadata": {},
     "output_type": "execute_result"
    }
   ],
   "source": [
    "#Посчитаем количество пропусков в абсолютном значении:\n",
    "degrees_df.isna().sum().sort_values(ascending = False)"
   ]
  },
  {
   "cell_type": "code",
   "execution_count": 30,
   "metadata": {},
   "outputs": [
    {
     "data": {
      "text/plain": [
       "subject        0.258298\n",
       "degree_type    0.102345\n",
       "id             0.000000\n",
       "object_id      0.000000\n",
       "dtype: float64"
      ]
     },
     "execution_count": 30,
     "metadata": {},
     "output_type": "execute_result"
    }
   ],
   "source": [
    "#Посчитаем количество пропусков в относительном значении:\n",
    "(degrees_df.isna().sum() / len(degrees_df)).sort_values(ascending = False)"
   ]
  },
  {
   "cell_type": "markdown",
   "metadata": {},
   "source": [
    "В данном этапе была сделана работа по приведению данных к соответствующему типу и оценка пропусков в абсолютном и относительном значении.На этом этапе можем сделать вывод, что пропусков очень много, мы их удалять не будем, чтобы не было потери данных и дальнейший расчет был точным."
   ]
  },
  {
   "cell_type": "markdown",
   "metadata": {
    "id": "u60cHsn6rJg1"
   },
   "source": [
    "## Шаг 2. Предобработка данных, предварительное исследование"
   ]
  },
  {
   "cell_type": "markdown",
   "metadata": {
    "id": "g2bHIIjcrJg1"
   },
   "source": [
    "\n",
    "### 2.1. Раунды финансирования по годам\n",
    "\n",
    "Задание необходимо выполнить без объединения и дополнительной предобработки на основе датасета `company_and_rounds.csv`.\n",
    "\n",
    "- Составьте сводную таблицу по годам, в которой на основании столбца `raised_amount` для каждого года указан:\n",
    "    - типичный размер средств, выделяемый в рамках одного раунда;\n",
    "    - общее количество раундов финансирования за этот год.\n",
    "    \n",
    "- Оставьте в таблице информацию только для тех лет, для которых есть информация о более чем 50 раундах финансирования.\n",
    "- На основе получившейся таблицы постройте график, который будет отражать динамику типичного размера средств, которые стартапы получали в рамках одного раунда финансирования.\n",
    "\n",
    "На основе полученных данных ответьте на вопросы:\n",
    "\n",
    "- В каком году типичный размер собранных в рамках одного раунда средств был максимален?\n",
    "- Какая тенденция по количеству раундов и выделяемых в рамках каждого раунда средств наблюдалась в 2013 году?"
   ]
  },
  {
   "cell_type": "code",
   "execution_count": 31,
   "metadata": {
    "id": "Cf5IjfOQrJg1",
    "vscode": {
     "languageId": "plaintext"
    }
   },
   "outputs": [],
   "source": [
    "# Выделим год из даты в необработанном датафрейме company_and_rounds_df и запишем в новый столбец\n",
    "company_and_rounds_df['year']= company_and_rounds_df['funded_at'].dt.strftime('%Y')"
   ]
  },
  {
   "cell_type": "code",
   "execution_count": 32,
   "metadata": {
    "id": "8Fbz6KmzFdYP"
   },
   "outputs": [
    {
     "data": {
      "text/html": [
       "<div>\n",
       "<style scoped>\n",
       "    .dataframe tbody tr th:only-of-type {\n",
       "        vertical-align: middle;\n",
       "    }\n",
       "\n",
       "    .dataframe tbody tr th {\n",
       "        vertical-align: top;\n",
       "    }\n",
       "\n",
       "    .dataframe thead th {\n",
       "        text-align: right;\n",
       "    }\n",
       "</style>\n",
       "<table border=\"1\" class=\"dataframe\">\n",
       "  <thead>\n",
       "    <tr style=\"text-align: right;\">\n",
       "      <th></th>\n",
       "      <th>median_raised_amount</th>\n",
       "      <th>count_raised_amount</th>\n",
       "    </tr>\n",
       "    <tr>\n",
       "      <th>year</th>\n",
       "      <th></th>\n",
       "      <th></th>\n",
       "    </tr>\n",
       "  </thead>\n",
       "  <tbody>\n",
       "    <tr>\n",
       "      <th>1999</th>\n",
       "      <td>3000000.0</td>\n",
       "      <td>60</td>\n",
       "    </tr>\n",
       "    <tr>\n",
       "      <th>2000</th>\n",
       "      <td>5866800.0</td>\n",
       "      <td>104</td>\n",
       "    </tr>\n",
       "    <tr>\n",
       "      <th>2001</th>\n",
       "      <td>5481060.0</td>\n",
       "      <td>74</td>\n",
       "    </tr>\n",
       "    <tr>\n",
       "      <th>2002</th>\n",
       "      <td>5000000.0</td>\n",
       "      <td>96</td>\n",
       "    </tr>\n",
       "    <tr>\n",
       "      <th>2003</th>\n",
       "      <td>4500000.0</td>\n",
       "      <td>133</td>\n",
       "    </tr>\n",
       "    <tr>\n",
       "      <th>2004</th>\n",
       "      <td>6000000.0</td>\n",
       "      <td>252</td>\n",
       "    </tr>\n",
       "    <tr>\n",
       "      <th>2005</th>\n",
       "      <td>6000000.0</td>\n",
       "      <td>1550</td>\n",
       "    </tr>\n",
       "    <tr>\n",
       "      <th>2006</th>\n",
       "      <td>5325000.0</td>\n",
       "      <td>2290</td>\n",
       "    </tr>\n",
       "    <tr>\n",
       "      <th>2007</th>\n",
       "      <td>4880000.0</td>\n",
       "      <td>2927</td>\n",
       "    </tr>\n",
       "    <tr>\n",
       "      <th>2008</th>\n",
       "      <td>4368150.0</td>\n",
       "      <td>3326</td>\n",
       "    </tr>\n",
       "    <tr>\n",
       "      <th>2009</th>\n",
       "      <td>2887740.0</td>\n",
       "      <td>3576</td>\n",
       "    </tr>\n",
       "    <tr>\n",
       "      <th>2010</th>\n",
       "      <td>2150000.0</td>\n",
       "      <td>5566</td>\n",
       "    </tr>\n",
       "    <tr>\n",
       "      <th>2011</th>\n",
       "      <td>1591330.0</td>\n",
       "      <td>8191</td>\n",
       "    </tr>\n",
       "    <tr>\n",
       "      <th>2012</th>\n",
       "      <td>1400000.0</td>\n",
       "      <td>8834</td>\n",
       "    </tr>\n",
       "    <tr>\n",
       "      <th>2013</th>\n",
       "      <td>1625500.0</td>\n",
       "      <td>9792</td>\n",
       "    </tr>\n",
       "  </tbody>\n",
       "</table>\n",
       "</div>"
      ],
      "text/plain": [
       "      median_raised_amount  count_raised_amount\n",
       "year                                           \n",
       "1999             3000000.0                   60\n",
       "2000             5866800.0                  104\n",
       "2001             5481060.0                   74\n",
       "2002             5000000.0                   96\n",
       "2003             4500000.0                  133\n",
       "2004             6000000.0                  252\n",
       "2005             6000000.0                 1550\n",
       "2006             5325000.0                 2290\n",
       "2007             4880000.0                 2927\n",
       "2008             4368150.0                 3326\n",
       "2009             2887740.0                 3576\n",
       "2010             2150000.0                 5566\n",
       "2011             1591330.0                 8191\n",
       "2012             1400000.0                 8834\n",
       "2013             1625500.0                 9792"
      ]
     },
     "metadata": {},
     "output_type": "display_data"
    }
   ],
   "source": [
    "df=company_and_rounds_df[company_and_rounds_df['raised_amount']>0]\\\n",
    "                        .groupby('year').agg(median_raised_amount=('raised_amount','median'),\n",
    "                                            count_raised_amount=('raised_amount','count')) \n",
    "# Фильтрация по количеству раундов\n",
    "df = df.query('count_raised_amount > 50').copy()\n",
    "display(df)"
   ]
  },
  {
   "cell_type": "code",
   "execution_count": 33,
   "metadata": {
    "id": "Z92DzKMMFdKW"
   },
   "outputs": [
    {
     "data": {
      "image/png": "[encoded data removed]",
      "text/plain": [
       "<Figure size 720x720 with 2 Axes>"
      ]
     },
     "metadata": {
      "needs_background": "light"
     },
     "output_type": "display_data"
    }
   ],
   "source": [
    "# Построение графиков\n",
    "fig, ax = plt.subplots(figsize=(10, 10))\n",
    "\n",
    "# График медианного размера средств\n",
    "ax.bar(df.index, df['median_raised_amount'], label='Медианный размер средств', color='blue', alpha=0.6)\n",
    "ax.set_ylabel('Медианный размер средств')\n",
    "ax.set_xlabel('Год')\n",
    "ax.set_title('Динамика типичного размера средств в рамках одного раунда')\n",
    "\n",
    "# Добавление второго y-axes для количества раундов\n",
    "ax2 = ax.twinx()\n",
    "ax2.plot(df.index, df['count_raised_amount'], label='Количество раундов', color='red', marker='o')\n",
    "ax2.set_ylabel('Количество раундов')\n",
    "\n",
    "# Легенда\n",
    "ax.legend(loc='upper left')\n",
    "ax2.legend(loc='upper right')\n",
    "\n",
    "plt.show()\n"
   ]
  },
  {
   "cell_type": "markdown",
   "metadata": {},
   "source": [
    "В 2004 и 2005 году типичный размер собранных в рамках одного раунда средств был максимален(6000000.0).\n",
    "В 2013 году типичный размер средств 1625500.0, общее количество раундов 9792, то есть наблюдается снижение финансирования и повышение количества раундов."
   ]
  },
  {
   "cell_type": "markdown",
   "metadata": {
    "id": "45if1en1rJg2"
   },
   "source": [
    "\n",
    "### 2.2. Люди и их образование\n",
    "\n",
    "Заказчик хочет понять, зависит ли полнота сведений о сотрудниках (например, об их образовании) от размера компаний.\n",
    "\n",
    "- Оцените, насколько информация об образовании сотрудников полна. Используя датасеты `people.csv` и `education.csv`, разделите все компании на несколько групп по количеству сотрудников и оцените среднюю долю сотрудников без информации об образовании в каждой из групп. Обоснуйте выбранные границы групп.\n",
    "- Оцените, возможно ли для выполнения задания присоединить к этим таблицам ещё и таблицу `degrees.csv`."
   ]
  },
  {
   "cell_type": "markdown",
   "metadata": {
    "id": "psPO7C4MrJg2",
    "vscode": {
     "languageId": "plaintext"
    }
   },
   "source": [
    "Обьединим датасеты и разделим компании на группы по количеству сотрудников. "
   ]
  },
  {
   "cell_type": "code",
   "execution_count": 34,
   "metadata": {
    "id": "BThTjpLqFcsm"
   },
   "outputs": [],
   "source": [
    "# Объединим данных по идентификатору сотрудника\n",
    "merged_df = pd.merge(people_df, education_df, left_on='id',right_on='person_id',how='left')"
   ]
  },
  {
   "cell_type": "code",
   "execution_count": 35,
   "metadata": {},
   "outputs": [],
   "source": [
    "# Проверка, есть ли информация об образовании\n",
    "merged_df['has_education'] = merged_df['instituition'].notna()"
   ]
  },
  {
   "cell_type": "code",
   "execution_count": 36,
   "metadata": {},
   "outputs": [
    {
     "data": {
      "text/html": [
       "<div>\n",
       "<style scoped>\n",
       "    .dataframe tbody tr th:only-of-type {\n",
       "        vertical-align: middle;\n",
       "    }\n",
       "\n",
       "    .dataframe tbody tr th {\n",
       "        vertical-align: top;\n",
       "    }\n",
       "\n",
       "    .dataframe thead th {\n",
       "        text-align: right;\n",
       "    }\n",
       "</style>\n",
       "<table border=\"1\" class=\"dataframe\">\n",
       "  <thead>\n",
       "    <tr style=\"text-align: right;\">\n",
       "      <th></th>\n",
       "      <th>company_id</th>\n",
       "      <th>employee_count</th>\n",
       "      <th>without_education_count</th>\n",
       "    </tr>\n",
       "  </thead>\n",
       "  <tbody>\n",
       "    <tr>\n",
       "      <th>0</th>\n",
       "      <td>1.0</td>\n",
       "      <td>3</td>\n",
       "      <td>1</td>\n",
       "    </tr>\n",
       "    <tr>\n",
       "      <th>1</th>\n",
       "      <td>2.0</td>\n",
       "      <td>1</td>\n",
       "      <td>0</td>\n",
       "    </tr>\n",
       "    <tr>\n",
       "      <th>2</th>\n",
       "      <td>3.0</td>\n",
       "      <td>5</td>\n",
       "      <td>1</td>\n",
       "    </tr>\n",
       "    <tr>\n",
       "      <th>3</th>\n",
       "      <td>4.0</td>\n",
       "      <td>18</td>\n",
       "      <td>1</td>\n",
       "    </tr>\n",
       "    <tr>\n",
       "      <th>4</th>\n",
       "      <td>5.0</td>\n",
       "      <td>84</td>\n",
       "      <td>16</td>\n",
       "    </tr>\n",
       "    <tr>\n",
       "      <th>...</th>\n",
       "      <td>...</td>\n",
       "      <td>...</td>\n",
       "      <td>...</td>\n",
       "    </tr>\n",
       "    <tr>\n",
       "      <th>22917</th>\n",
       "      <td>285897.0</td>\n",
       "      <td>2</td>\n",
       "      <td>0</td>\n",
       "    </tr>\n",
       "    <tr>\n",
       "      <th>22918</th>\n",
       "      <td>285953.0</td>\n",
       "      <td>1</td>\n",
       "      <td>1</td>\n",
       "    </tr>\n",
       "    <tr>\n",
       "      <th>22919</th>\n",
       "      <td>285972.0</td>\n",
       "      <td>2</td>\n",
       "      <td>1</td>\n",
       "    </tr>\n",
       "    <tr>\n",
       "      <th>22920</th>\n",
       "      <td>285996.0</td>\n",
       "      <td>1</td>\n",
       "      <td>0</td>\n",
       "    </tr>\n",
       "    <tr>\n",
       "      <th>22921</th>\n",
       "      <td>286091.0</td>\n",
       "      <td>7</td>\n",
       "      <td>2</td>\n",
       "    </tr>\n",
       "  </tbody>\n",
       "</table>\n",
       "<p>22922 rows × 3 columns</p>\n",
       "</div>"
      ],
      "text/plain": [
       "       company_id  employee_count  without_education_count\n",
       "0             1.0               3                        1\n",
       "1             2.0               1                        0\n",
       "2             3.0               5                        1\n",
       "3             4.0              18                        1\n",
       "4             5.0              84                       16\n",
       "...           ...             ...                      ...\n",
       "22917    285897.0               2                        0\n",
       "22918    285953.0               1                        1\n",
       "22919    285972.0               2                        1\n",
       "22920    285996.0               1                        0\n",
       "22921    286091.0               7                        2\n",
       "\n",
       "[22922 rows x 3 columns]"
      ]
     },
     "execution_count": 36,
     "metadata": {},
     "output_type": "execute_result"
    }
   ],
   "source": [
    "# Подсчет количества сотрудников в каждой компании\n",
    "company_group = merged_df.groupby('company_id').agg(\n",
    "    employee_count=('company_id', 'count'),\n",
    "    without_education_count=('has_education', lambda x: (~x).sum())\n",
    ").reset_index()\n",
    "# Проведем фильтрацию, так как при рассчитывании доли нельзя делить на 0\n",
    "company_group = company_group.query('employee_count > 0').copy()\n",
    "company_group"
   ]
  },
  {
   "cell_type": "code",
   "execution_count": 37,
   "metadata": {},
   "outputs": [
    {
     "data": {
      "text/plain": [
       "<AxesSubplot:xlabel='employee_count', ylabel='count'>"
      ]
     },
     "execution_count": 37,
     "metadata": {},
     "output_type": "execute_result"
    },
    {
     "data": {
      "image/png": "[encoded data removed]",
      "text/plain": [
       "<Figure size 432x288 with 1 Axes>"
      ]
     },
     "metadata": {
      "needs_background": "light"
     },
     "output_type": "display_data"
    }
   ],
   "source": [
    "# Посмотрим распределение количества сотрудников на графике\n",
    "sns.countplot(x='employee_count', data=company_group)"
   ]
  },
  {
   "cell_type": "markdown",
   "metadata": {},
   "source": [
    "По графику видно, что число компаний с одним сотрудником больше всех остальных. Это можно обьяснить тем, что стартовые компании в начале своего пути содержат малое количество сотрудников. С учетом этого разделим компании на следующие группы: 'Малая'- 1-2 сотрудника, 'Средняя'- 2-10, 'Крупная'- 20-50, 'Очень крупная' - более 50."
   ]
  },
  {
   "cell_type": "code",
   "execution_count": 38,
   "metadata": {},
   "outputs": [
    {
     "name": "stdout",
     "output_type": "stream",
     "text": [
      "\n",
      "Средняя доля сотрудников без информации об образовании по группам:\n",
      "      size_group  average_share_without_education\n",
      "0          Малая                         0.592862\n",
      "1        Средняя                         0.243082\n",
      "2        Крупная                         0.214276\n",
      "3  Очень крупная                         0.183592\n"
     ]
    }
   ],
   "source": [
    "# Рассчитываем долю сотрудников без информации об образовании\n",
    "company_group['share_without_education'] = company_group['without_education_count']/company_group['employee_count']\n",
    "\n",
    "# Определим границы для группировки по количеству сотрудников\n",
    "bins = [1, 2, 20, 50, float('inf')]\n",
    "labels = ['Малая', 'Средняя', 'Крупная', 'Очень крупная']\n",
    "company_group['size_group'] = pd.cut(company_group['employee_count'], bins=bins, labels=labels, right=False)\n",
    "\n",
    "# Подсчет средней доли сотрудников без информации об образовании для каждой группы\n",
    "grouped_results = company_group.groupby('size_group').agg(\n",
    "    average_share_without_education=('share_without_education', 'mean')\n",
    ").reset_index()\n",
    "\n",
    "# Вывод результатов\n",
    "print(\"\\nСредняя доля сотрудников без информации об образовании по группам:\")\n",
    "print(grouped_results)\n"
   ]
  },
  {
   "cell_type": "code",
   "execution_count": 39,
   "metadata": {},
   "outputs": [
    {
     "data": {
      "image/png": "[encoded data removed]",
      "text/plain": [
       "<Figure size 720x432 with 1 Axes>"
      ]
     },
     "metadata": {
      "needs_background": "light"
     },
     "output_type": "display_data"
    }
   ],
   "source": [
    "# Визуализация\n",
    "plt.figure(figsize=(10, 6))\n",
    "sns.barplot(x='size_group', y='average_share_without_education', data=grouped_results)\n",
    "plt.title('Средняя доля сотрудников без информации об образовании по группам')\n",
    "plt.xlabel('Размер компании')\n",
    "plt.ylabel('Средняя доля без образования')\n",
    "plt.xticks(rotation=45)\n",
    "plt.tight_layout()\n",
    "plt.show()"
   ]
  },
  {
   "cell_type": "markdown",
   "metadata": {},
   "source": [
    "Почти у 60% сотрудников отсутстует информация об образовании в малых компаниях.Чем крупнее компания, тем больше информации о сотрудниках."
   ]
  },
  {
   "cell_type": "markdown",
   "metadata": {
    "id": "4FC98Pd-FcmG"
   },
   "source": [
    " Возможно ли для выполнения задания присоединить к этим таблицам ещё и таблицу degrees.csv? Да, возможно, так как все три таблицы содержат идентификатор сотрудника ( people[id] , education[person_id] , degrees[object_id] ) С помощью данной таблицы мы сможем узнать еще и тип образования и специальность сотрудника. В рамках данной задачи нет в этом необходимости."
   ]
  },
  {
   "cell_type": "markdown",
   "metadata": {
    "id": "Lz7qjM32xglW"
   },
   "source": [
    "### 2.3. Объединять или не объединять — вот в чём вопрос\n",
    "\n",
    "Некоторые названия столбцов встречаются в датасетах чаще других. В результате предварительной проверки датасетов было выяснено, что столбец `company_id` подходит для объединения данных.\n",
    "\n",
    "- Установите, подходит ли для объединения данных столбец `network_username`, который встречается в нескольких датасетах. Нам необходимо понимать, дублируется ли для разных датасетов информация в столбцах с таким названием, и если да — то насколько часто.\n",
    "- Оцените, можно ли использовать столбцы с именем `network_username` для объединения данных."
   ]
  },
  {
   "cell_type": "code",
   "execution_count": 40,
   "metadata": {
    "id": "zyI3rt0rxg1O"
   },
   "outputs": [
    {
     "data": {
      "text/plain": [
       "'Уникальные usernames в company_and_rounds_df: 79571'"
      ]
     },
     "metadata": {},
     "output_type": "display_data"
    },
    {
     "data": {
      "text/plain": [
       "'Уникальные usernames в people_df: 38421'"
      ]
     },
     "metadata": {},
     "output_type": "display_data"
    },
    {
     "data": {
      "text/plain": [
       "'Уникальные usernames в fund_df: 2098'"
      ]
     },
     "metadata": {},
     "output_type": "display_data"
    },
    {
     "data": {
      "text/plain": [
       "'Количество дубликатов в company_and_rounds_df: 146612'"
      ]
     },
     "metadata": {},
     "output_type": "display_data"
    },
    {
     "data": {
      "text/plain": [
       "'Количество дубликатов в people_df: 188713'"
      ]
     },
     "metadata": {},
     "output_type": "display_data"
    },
    {
     "data": {
      "text/plain": [
       "'Количество дубликатов в fund_df: 9597'"
      ]
     },
     "metadata": {},
     "output_type": "display_data"
    },
    {
     "data": {
      "text/plain": [
       "'Количество общих usernames: 2200'"
      ]
     },
     "metadata": {},
     "output_type": "display_data"
    },
    {
     "data": {
      "text/plain": [
       "'Количество общих usernames: 38422'"
      ]
     },
     "metadata": {},
     "output_type": "display_data"
    },
    {
     "data": {
      "text/plain": [
       "'Количество общих usernames: 71'"
      ]
     },
     "metadata": {},
     "output_type": "display_data"
    },
    {
     "data": {
      "text/plain": [
       "'\\nЧастота дублирования usernames в company_and_rounds_df:'"
      ]
     },
     "metadata": {},
     "output_type": "display_data"
    },
    {
     "data": {
      "text/plain": [
       "Goodman_UK       20\n",
       "IndiaMART        17\n",
       "tyropayments     15\n",
       "mobivery         15\n",
       "AviirLabs        14\n",
       "                 ..\n",
       "ibottaapp         1\n",
       "xenoone           1\n",
       "civicinsight      1\n",
       "findmycarrots     1\n",
       "justbukit         1\n",
       "Name: network_username, Length: 79571, dtype: int64"
      ]
     },
     "metadata": {},
     "output_type": "display_data"
    },
    {
     "data": {
      "text/plain": [
       "'\\nЧастота дублирования usernames в people_df:'"
      ]
     },
     "metadata": {},
     "output_type": "display_data"
    },
    {
     "data": {
      "text/plain": [
       "iWatchLife        6\n",
       "chrislogan        5\n",
       "ConnectAndSell    4\n",
       "firstscribe       4\n",
       "xorduna           3\n",
       "                 ..\n",
       "Summit_Rider      1\n",
       "gregbayer         1\n",
       "maxgutman         1\n",
       "JZ47              1\n",
       "jcreuze           1\n",
       "Name: network_username, Length: 38421, dtype: int64"
      ]
     },
     "metadata": {},
     "output_type": "display_data"
    },
    {
     "data": {
      "text/plain": [
       "'\\nЧастота дублирования usernames в fund_df:'"
      ]
     },
     "metadata": {},
     "output_type": "display_data"
    },
    {
     "data": {
      "text/plain": [
       "Goodman_UK       20\n",
       "IndiaMART        17\n",
       "tyropayments     15\n",
       "mobivery         15\n",
       "AviirLabs        14\n",
       "                 ..\n",
       "ibottaapp         1\n",
       "xenoone           1\n",
       "civicinsight      1\n",
       "findmycarrots     1\n",
       "justbukit         1\n",
       "Name: network_username, Length: 79571, dtype: int64"
      ]
     },
     "metadata": {},
     "output_type": "display_data"
    }
   ],
   "source": [
    "# Найдем уникальные значения.Это поможет понять,\n",
    "# сколько уникальных имен пользователей существует в каждом датасете и есть ли пересечения.\n",
    "unique_users_car = company_and_rounds_df['network_username'].nunique()\n",
    "unique_users_people = people_df['network_username'].nunique()\n",
    "unique_users_fund = fund_df['network_username'].nunique()\n",
    "\n",
    "display(f\"Уникальные usernames в company_and_rounds_df: {unique_users_car}\")\n",
    "display(f\"Уникальные usernames в people_df: {unique_users_people}\")\n",
    "display(f\"Уникальные usernames в fund_df: {unique_users_fund}\")\n",
    "\n",
    "\n",
    "# Проверим дубликаты в каждом датасете\n",
    "duplicates_car = company_and_rounds_df['network_username'].duplicated(keep=False).sum()\n",
    "duplicates_people = people_df['network_username'].duplicated(keep=False).sum()\n",
    "duplicates_fund = fund_df['network_username'].duplicated(keep=False).sum()\n",
    "\n",
    "display(f\"Количество дубликатов в company_and_rounds_df: {duplicates_car}\")\n",
    "display(f\"Количество дубликатов в people_df: {duplicates_people}\")\n",
    "display(f\"Количество дубликатов в fund_df: {duplicates_fund}\")\n",
    "\n",
    "# Определим пересечения\n",
    "intersection1 = set(company_and_rounds_df['network_username']).intersection(set(people_df['network_username']))\n",
    "display(f\"Количество общих usernames: {len(intersection1)}\")\n",
    "intersection2 = set(people_df['network_username']).intersection(set(people_df['network_username']))\n",
    "display(f\"Количество общих usernames: {len(intersection2)}\")\n",
    "intersection3 = set(fund_df['network_username']).intersection(set(company_and_rounds_df['network_username']))\n",
    "display(f\"Количество общих usernames: {len(intersection3)}\")\n",
    "\n",
    "\n",
    "# Посчитаем частоту дублирования\n",
    "frequency_car = company_and_rounds_df['network_username'].value_counts()\n",
    "frequency_people = people_df['network_username'].value_counts()\n",
    "frequency_fund = fund_df['network_username'].value_counts()\n",
    "\n",
    "display(\"\\nЧастота дублирования usernames в company_and_rounds_df:\")\n",
    "display(frequency_car)\n",
    "\n",
    "display(\"\\nЧастота дублирования usernames в people_df:\")\n",
    "display(frequency_people)\n",
    "\n",
    "display(\"\\nЧастота дублирования usernames в fund_df:\")\n",
    "display(frequency_car)"
   ]
  },
  {
   "cell_type": "markdown",
   "metadata": {
    "id": "RxOS5rwmFcNW"
   },
   "source": [
    " После проведенной работы можно сделать вывод, что столбец network_username содержит множество дубликатов или уникальных значений, которые не пересекаются между датасетами, это может привести к проблемам при объединении."
   ]
  },
  {
   "cell_type": "code",
   "execution_count": 41,
   "metadata": {},
   "outputs": [
    {
     "data": {
      "image/png": "[encoded data removed]",
      "text/plain": [
       "<Figure size 432x288 with 1 Axes>"
      ]
     },
     "metadata": {},
     "output_type": "display_data"
    }
   ],
   "source": [
    "# Строим диаграмму Венна\n",
    "venn3([set(company_and_rounds_df['network_username']), set(people_df['network_username']), set(fund_df['network_username'])], set_labels=('Company Users','People Users','Fund Users'))\n",
    "\n",
    "# Отображаем график\n",
    "plt.title(\"Пересечение пользователей Company Users, People Users и Fund Users\")\n",
    "plt.show()    "
   ]
  },
  {
   "cell_type": "markdown",
   "metadata": {
    "id": "EHcODomVrJg1"
   },
   "source": [
    "\n",
    "### 2.4. Проблемный датасет и причина возникновения пропусков\n",
    "\n",
    "Во время собственного анализа данных у заказчика больше всего вопросов возникло к датасету `company_and_rounds.csv`. В нём много пропусков как раз в информации о раундах, которая заказчику важна.\n",
    "\n",
    "- Любым удобным способом приведите данные в вид, который позволит в дальнейшем проводить анализ в разрезе отдельных компаний. Обратите внимание на структуру датасета, порядок и названия столбцов, проанализируйте значения.\n",
    "\n",
    "По гипотезе заказчика данные по компаниям из этой таблицы раньше хранились иначе, более удобным для исследования образом.\n",
    "\n",
    "- Максимальным образом сохраняя данные, сохранив их связность и исключив возможные возникающие при этом ошибки, подготовьте данные так, чтобы удобно было отобрать компании по параметрам и рассчитать показатели из расчёта на одну компанию без промежуточных агрегаций."
   ]
  },
  {
   "cell_type": "markdown",
   "metadata": {},
   "source": [
    "Причина возникновения большого количества пропусков в том, что в датафрейме company_and_rounds_df соединены две таблицы. Разделим их на два датафрейма: с информацией о компаниях и с информацией о раундах финансирования."
   ]
  },
  {
   "cell_type": "code",
   "execution_count": 42,
   "metadata": {},
   "outputs": [
    {
     "data": {
      "text/plain": [
       "Index(['company_ID', 'name', 'category_code', 'status', 'founded_at',\n",
       "       'closed_at', 'domain', 'network_username', 'country_code',\n",
       "       'investment_rounds', 'funding_rounds', 'funding_total', 'milestones',\n",
       "       'funding_round_id', 'company_id', 'funded_at', 'funding_round_type',\n",
       "       'raised_amount', 'pre_money_valuation', 'participants',\n",
       "       'is_first_round', 'is_last_round', 'year'],\n",
       "      dtype='object')"
      ]
     },
     "execution_count": 42,
     "metadata": {},
     "output_type": "execute_result"
    }
   ],
   "source": [
    "# Выведем столбцы датафрейма\n",
    "company_and_rounds_df.columns"
   ]
  },
  {
   "cell_type": "code",
   "execution_count": 43,
   "metadata": {
    "id": "oSk7xqu_FbaN"
   },
   "outputs": [
    {
     "name": "stdout",
     "output_type": "stream",
     "text": [
      "<class 'pandas.core.frame.DataFrame'>\n",
      "RangeIndex: 217774 entries, 0 to 217773\n",
      "Data columns (total 13 columns):\n",
      " #   Column             Non-Null Count   Dtype         \n",
      "---  ------             --------------   -----         \n",
      " 0   company_ID         217472 non-null  float64       \n",
      " 1   name               217472 non-null  object        \n",
      " 2   category_code      143886 non-null  object        \n",
      " 3   status             217472 non-null  object        \n",
      " 4   founded_at         109956 non-null  datetime64[ns]\n",
      " 5   closed_at          3449 non-null    datetime64[ns]\n",
      " 6   domain             147159 non-null  object        \n",
      " 7   network_username   95534 non-null   object        \n",
      " 8   country_code       108607 non-null  object        \n",
      " 9   investment_rounds  217472 non-null  float64       \n",
      " 10  funding_rounds     217472 non-null  float64       \n",
      " 11  funding_total      217472 non-null  float64       \n",
      " 12  milestones         217472 non-null  float64       \n",
      "dtypes: datetime64[ns](2), float64(5), object(6)\n",
      "memory usage: 21.6+ MB\n"
     ]
    }
   ],
   "source": [
    "# Создаем датафрейм company из левой части таблицы\n",
    "company = company_and_rounds_df.iloc[:,0:13]\n",
    "company.info()"
   ]
  },
  {
   "cell_type": "code",
   "execution_count": 44,
   "metadata": {
    "id": "9BY9lTUcFbJ-"
   },
   "outputs": [
    {
     "name": "stdout",
     "output_type": "stream",
     "text": [
      "<class 'pandas.core.frame.DataFrame'>\n",
      "RangeIndex: 217774 entries, 0 to 217773\n",
      "Data columns (total 9 columns):\n",
      " #   Column               Non-Null Count  Dtype         \n",
      "---  ------               --------------  -----         \n",
      " 0   funding_round_id     52928 non-null  float64       \n",
      " 1   company_id           52928 non-null  float64       \n",
      " 2   funded_at            52680 non-null  datetime64[ns]\n",
      " 3   funding_round_type   52928 non-null  object        \n",
      " 4   raised_amount        52928 non-null  float64       \n",
      " 5   pre_money_valuation  52928 non-null  float64       \n",
      " 6   participants         52928 non-null  float64       \n",
      " 7   is_first_round       52928 non-null  float64       \n",
      " 8   is_last_round        52928 non-null  float64       \n",
      "dtypes: datetime64[ns](1), float64(7), object(1)\n",
      "memory usage: 15.0+ MB\n"
     ]
    }
   ],
   "source": [
    "# Создаем датафрейм rounds из левой части таблицы\n",
    "rounds = company_and_rounds_df.iloc[:,13:22]\n",
    "rounds.info()"
   ]
  },
  {
   "cell_type": "code",
   "execution_count": 45,
   "metadata": {
    "id": "tJ6Sl6MKrJg1",
    "vscode": {
     "languageId": "plaintext"
    }
   },
   "outputs": [
    {
     "data": {
      "text/plain": [
       "21220"
      ]
     },
     "execution_count": 45,
     "metadata": {},
     "output_type": "execute_result"
    }
   ],
   "source": [
    "# Проверим датафрейм company на дубликаты\n",
    "company.duplicated().sum()"
   ]
  },
  {
   "cell_type": "code",
   "execution_count": 46,
   "metadata": {},
   "outputs": [],
   "source": [
    "# Удалим дубликаты в датафрейме company\n",
    "company = company.drop_duplicates()"
   ]
  },
  {
   "cell_type": "code",
   "execution_count": 47,
   "metadata": {},
   "outputs": [
    {
     "data": {
      "text/plain": [
       "164845"
      ]
     },
     "execution_count": 47,
     "metadata": {},
     "output_type": "execute_result"
    }
   ],
   "source": [
    "# Проверим датафрейм rounds на дубликаты\n",
    "rounds.duplicated().sum()"
   ]
  },
  {
   "cell_type": "code",
   "execution_count": 48,
   "metadata": {},
   "outputs": [],
   "source": [
    "# Удалим дубликаты в датафрейме rounds\n",
    "rounds = rounds.drop_duplicates()"
   ]
  },
  {
   "cell_type": "code",
   "execution_count": 49,
   "metadata": {},
   "outputs": [],
   "source": [
    "# Отсортируем датафреймы по возрастанию идентификатора компании и сбросим индексы.\n",
    "company_df=company.sort_values(by='company_ID').reset_index(drop=True)\n",
    "rounds_df=rounds.sort_values(by='company_id').reset_index(drop=True)"
   ]
  },
  {
   "cell_type": "code",
   "execution_count": 50,
   "metadata": {},
   "outputs": [
    {
     "name": "stdout",
     "output_type": "stream",
     "text": [
      "<class 'pandas.core.frame.DataFrame'>\n",
      "RangeIndex: 196554 entries, 0 to 196553\n",
      "Data columns (total 13 columns):\n",
      " #   Column             Non-Null Count   Dtype         \n",
      "---  ------             --------------   -----         \n",
      " 0   company_ID         196553 non-null  float64       \n",
      " 1   name               196553 non-null  object        \n",
      " 2   category_code      123186 non-null  object        \n",
      " 3   status             196553 non-null  object        \n",
      " 4   founded_at         91227 non-null   datetime64[ns]\n",
      " 5   closed_at          2620 non-null    datetime64[ns]\n",
      " 6   domain             126545 non-null  object        \n",
      " 7   network_username   80591 non-null   object        \n",
      " 8   country_code       87990 non-null   object        \n",
      " 9   investment_rounds  196553 non-null  float64       \n",
      " 10  funding_rounds     196553 non-null  float64       \n",
      " 11  funding_total      196553 non-null  float64       \n",
      " 12  milestones         196553 non-null  float64       \n",
      "dtypes: datetime64[ns](2), float64(5), object(6)\n",
      "memory usage: 19.5+ MB\n"
     ]
    }
   ],
   "source": [
    "# Выведем информацию  после удаления дубликатов\n",
    "company_df.info()"
   ]
  },
  {
   "cell_type": "code",
   "execution_count": 51,
   "metadata": {},
   "outputs": [
    {
     "name": "stdout",
     "output_type": "stream",
     "text": [
      "<class 'pandas.core.frame.DataFrame'>\n",
      "RangeIndex: 52929 entries, 0 to 52928\n",
      "Data columns (total 9 columns):\n",
      " #   Column               Non-Null Count  Dtype         \n",
      "---  ------               --------------  -----         \n",
      " 0   funding_round_id     52928 non-null  float64       \n",
      " 1   company_id           52928 non-null  float64       \n",
      " 2   funded_at            52680 non-null  datetime64[ns]\n",
      " 3   funding_round_type   52928 non-null  object        \n",
      " 4   raised_amount        52928 non-null  float64       \n",
      " 5   pre_money_valuation  52928 non-null  float64       \n",
      " 6   participants         52928 non-null  float64       \n",
      " 7   is_first_round       52928 non-null  float64       \n",
      " 8   is_last_round        52928 non-null  float64       \n",
      "dtypes: datetime64[ns](1), float64(7), object(1)\n",
      "memory usage: 3.6+ MB\n"
     ]
    }
   ],
   "source": [
    "rounds_df.info()"
   ]
  },
  {
   "cell_type": "markdown",
   "metadata": {},
   "source": [
    "По проделанной работе можно сделать вывод, что получилось вернуть сложный датафрейм в первоначальное состояние и очистить от дубликатов. Данные готовы к анализу."
   ]
  },
  {
   "cell_type": "markdown",
   "metadata": {
    "id": "bmVYhphNrJg2"
   },
   "source": [
    "\n",
    "## Шаг 3. Исследовательский анализ объединённых таблиц\n",
    "\n",
    "> Приступите к шагу 3 после проверки ревьюера.\n",
    "\n",
    "<big>Студентам нужно чётко сказать - проверять дальше или не проверять.</big>"
   ]
  },
  {
   "cell_type": "markdown",
   "metadata": {
    "id": "3Di6tCT3rJg2"
   },
   "source": [
    "\n",
    "### 3.1. Объединение данных\n",
    "\n",
    "Объедините данные для ответа на вопросы заказчика, которые касаются интересующих его компаний. Заказчика прежде всего интересуют те компании, которые меняли или готовы менять владельцев. Получение инвестиций или финансирования, по мнению заказчика, означает интерес к покупке или продаже компании.\n",
    "\n",
    "В качестве основы для объединённой таблицы возьмите данные из обработанного датасета `company_and_rounds.csv` — выберите только те компании, у которых указаны значения `funding_rounds` или `investment_rounds` больше нуля, или те, у которых в колонке `status` указано `acquired`. В результирующей таблице должно получиться порядка 40 тысяч компаний.\n",
    "\n",
    "Проверьте полноту и корректность получившейся таблицы. Далее работайте только с этими данными."
   ]
  },
  {
   "cell_type": "code",
   "execution_count": 52,
   "metadata": {
    "id": "kuV1b5MXFg3_"
   },
   "outputs": [],
   "source": [
    "# Выберем только те компании, у которых указаны значения funding_rounds\n",
    "# или investment_rounds больше нуля, или те, у которых в колонке status указано acquired\n",
    "new_company_df=company_df[((company_df['funding_rounds']>0)|\n",
    "                   (company_df['investment_rounds']>0))|\n",
    "                   (company_df['status']=='acquired')]"
   ]
  },
  {
   "cell_type": "code",
   "execution_count": 53,
   "metadata": {},
   "outputs": [
    {
     "name": "stdout",
     "output_type": "stream",
     "text": [
      "<class 'pandas.core.frame.DataFrame'>\n",
      "Int64Index: 40890 entries, 0 to 40889\n",
      "Data columns (total 19 columns):\n",
      " #   Column                Non-Null Count  Dtype         \n",
      "---  ------                --------------  -----         \n",
      " 0   company_ID            40890 non-null  float64       \n",
      " 1   name                  40890 non-null  object        \n",
      " 2   category_code         35436 non-null  object        \n",
      " 3   status                40890 non-null  object        \n",
      " 4   founded_at            27911 non-null  datetime64[ns]\n",
      " 5   closed_at             2128 non-null   datetime64[ns]\n",
      " 6   domain                35883 non-null  object        \n",
      " 7   network_username      20938 non-null  object        \n",
      " 8   country_code          34858 non-null  object        \n",
      " 9   investment_rounds     40890 non-null  float64       \n",
      " 10  funding_rounds        40890 non-null  float64       \n",
      " 11  funding_total         40890 non-null  float64       \n",
      " 12  milestones            40890 non-null  float64       \n",
      " 13  id                    9390 non-null   float64       \n",
      " 14  acquiring_company_id  9390 non-null   float64       \n",
      " 15  acquired_company_id   9390 non-null   float64       \n",
      " 16  term_code             1830 non-null   object        \n",
      " 17  price_amount          9390 non-null   float64       \n",
      " 18  acquired_at           9361 non-null   datetime64[ns]\n",
      "dtypes: datetime64[ns](3), float64(9), object(7)\n",
      "memory usage: 6.2+ MB\n"
     ]
    }
   ],
   "source": [
    "# Обьединим новый датафрейм с информацией о покупках\n",
    "connect_df = pd.merge(new_company_df, acquisition_df, left_on='company_ID',right_on='acquired_company_id',how='left')\n",
    "connect_df.info()"
   ]
  },
  {
   "cell_type": "markdown",
   "metadata": {
    "id": "93v3fEX5FgtP"
   },
   "source": [
    "В данном пункте мы отобрали только те компании, у которых указаны значения funding_rounds или investment_rounds больше нуля, или те, у которых в колонке status указано acquired. В результирующей таблице получилось 40747 тысяч компаний. После мы к таблице о компаниях присоедини таблицу об содержфщей информацию о покупках одними компаниями других компаний."
   ]
  },
  {
   "cell_type": "markdown",
   "metadata": {
    "id": "DFHINkV3rJg2"
   },
   "source": [
    "\n",
    "### 3.2. Анализ выбросов\n",
    "\n",
    "Заказчика интересует обычный для рассматриваемого периода размер средств, который предоставлялся компаниям.\n",
    "\n",
    "- По предобработанному столбцу `funding_total` графическим способом оцените, какой размер общего финансирования для одной компании будет типичным, а какой — выбивающимся.\n",
    "- В процессе расчёта значений обратите внимание, например, на показатели, возвращаемые методом `.describe()`, — объясните их. Применимы ли к таким данным обычные способы нахождения типичных значений?"
   ]
  },
  {
   "cell_type": "code",
   "execution_count": 54,
   "metadata": {
    "id": "8jm75fKXrJg2",
    "vscode": {
     "languageId": "plaintext"
    }
   },
   "outputs": [
    {
     "data": {
      "text/plain": [
       "count          40,890.00\n",
       "mean       10,135,585.95\n",
       "std        56,412,886.91\n",
       "min                 0.00\n",
       "25%                 0.00\n",
       "50%           600,000.00\n",
       "75%         5,631,320.00\n",
       "max     5,700,000,000.00\n",
       "Name: funding_total, dtype: float64"
      ]
     },
     "execution_count": 54,
     "metadata": {},
     "output_type": "execute_result"
    }
   ],
   "source": [
    "# Выведем статистические показатели, цифры формата float выводим с разделителем групп разрядов\n",
    "pd.set_option('display.float_format','{:,.2f}'.format)\n",
    "connect_df['funding_total'].describe()\n",
    "\n"
   ]
  },
  {
   "cell_type": "markdown",
   "metadata": {},
   "source": [
    "По показателям видим, что очень большой размах данных. Также по минимальным значениям можно сделать вывод, что есть покупки за 0 рублей. Это может указывать на то, что некоторые стартапы не получили финансирования вообще. Среднее значение и медиана сильно разнятся, это тоже говорит о наличии выбросов."
   ]
  },
  {
   "cell_type": "code",
   "execution_count": 55,
   "metadata": {
    "id": "S1jrfr7rFhcw"
   },
   "outputs": [
    {
     "data": {
      "image/png": "[encoded data removed]",
      "text/plain": [
       "<Figure size 720x432 with 1 Axes>"
      ]
     },
     "metadata": {
      "needs_background": "light"
     },
     "output_type": "display_data"
    }
   ],
   "source": [
    "# Визуализируем распределение данных\n",
    "plt.figure(figsize=(10, 6))\n",
    "sns.boxplot(x=connect_df['funding_total'])\n",
    "plt.title(\"Распределение общего финансирования\")\n",
    "plt.xlabel(\"Общее финансирование\")\n",
    "plt.show()\n"
   ]
  },
  {
   "cell_type": "markdown",
   "metadata": {},
   "source": [
    "По графику видим очень большие выбросы. Посмотрим на данные без выбросов."
   ]
  },
  {
   "cell_type": "code",
   "execution_count": 56,
   "metadata": {},
   "outputs": [
    {
     "data": {
      "image/png": "[encoded data removed]",
      "text/plain": [
       "<Figure size 720x432 with 1 Axes>"
      ]
     },
     "metadata": {
      "needs_background": "light"
     },
     "output_type": "display_data"
    }
   ],
   "source": [
    "# Визуализируем распределение общего финансирования\n",
    "plt.figure(figsize=(10, 6))\n",
    "sns.boxplot(x=connect_df['funding_total'], showfliers=False)\n",
    "plt.title(\"Распределение общего финансирования\")\n",
    "plt.xlabel(\"Общее финансирование\")\n",
    "plt.show()\n"
   ]
  },
  {
   "cell_type": "markdown",
   "metadata": {},
   "source": [
    "Ящик расположен несимметрично, данные неравномерны. Типичное значение расположено от 0 до 6 млн долларов."
   ]
  },
  {
   "cell_type": "code",
   "execution_count": 57,
   "metadata": {},
   "outputs": [
    {
     "data": {
      "image/png": "[encoded data removed]",
      "text/plain": [
       "<Figure size 720x432 with 1 Axes>"
      ]
     },
     "metadata": {
      "needs_background": "light"
     },
     "output_type": "display_data"
    }
   ],
   "source": [
    "# Гистограмма распределения\n",
    "plt.figure(figsize=(10, 6))\n",
    "sns.histplot(connect_df['funding_total'], bins=10, kde=True)\n",
    "plt.title(\"Гистограмма общего финансирования\")\n",
    "plt.xlabel(\"Общее финансирование\")\n",
    "plt.ylabel(\"Частота\")\n",
    "plt.show()"
   ]
  },
  {
   "cell_type": "markdown",
   "metadata": {},
   "source": [
    "В результате анализа мы можем сделать вывод о том, что  в случае наличия выбросов использование медианы и квартилей для оценки типичных значений в данных о финансировании компаний является более надежным подходом."
   ]
  },
  {
   "cell_type": "markdown",
   "metadata": {
    "id": "JqkRAQrIrJg2"
   },
   "source": [
    "\n",
    "### 3.3. Куплены забесплатно?\n",
    "\n",
    "- Исследуйте компании, которые были проданы за ноль или за один доллар, и при этом известно, что у них был ненулевой общий объём финансирования.\n",
    "\n",
    "- Рассчитайте аналитически верхнюю и нижнюю границу выбросов для столбца `funding_total` и укажите, каким процентилям границы соответствуют."
   ]
  },
  {
   "cell_type": "code",
   "execution_count": 58,
   "metadata": {
    "id": "wJHXCBwwrJg2",
    "vscode": {
     "languageId": "plaintext"
    }
   },
   "outputs": [
    {
     "data": {
      "text/plain": [
       "'\\nРезультаты:'"
      ]
     },
     "metadata": {},
     "output_type": "display_data"
    },
    {
     "data": {
      "text/plain": [
       "'Нижняя граница выбросов: -18250000.0 (25-й процентиль: 2000000.0)'"
      ]
     },
     "metadata": {},
     "output_type": "display_data"
    },
    {
     "data": {
      "text/plain": [
       "'Верхняя граница выбросов: 35750000.0 (75-й процентиль: 15500000.0)'"
      ]
     },
     "metadata": {},
     "output_type": "display_data"
    },
    {
     "data": {
      "text/plain": [
       "'Нижняя граница выбросов соответствует: 0-ому процентилю'"
      ]
     },
     "metadata": {},
     "output_type": "display_data"
    },
    {
     "data": {
      "text/plain": [
       "'Верхняя граница выбросов соответствует: 91-ому процентилю'"
      ]
     },
     "metadata": {},
     "output_type": "display_data"
    }
   ],
   "source": [
    "# Фильтрация компаний, которые были проданы за 0 или 1 доллар и имеют ненулевой общий объем финансирования\n",
    "filtered_companies = connect_df[(connect_df['price_amount'].isin([0, 1])) & (connect_df['funding_total'] > 0)]\n",
    "\n",
    "# Заменяем все отрицательные значения в столбце funding_total на 0\n",
    "filtered_companies['funding_total'] = filtered_companies['funding_total'].clip(lower=0)\n",
    "\n",
    "# Рассчет верхней и нижней границы выбросов для столбца funding_total\n",
    "Q1 = filtered_companies['funding_total'].quantile(0.25)\n",
    "Q3 = filtered_companies['funding_total'].quantile(0.75)\n",
    "IQR = Q3 - Q1\n",
    "\n",
    "# Нижняя и верхняя границы выбросов\n",
    "lower_bound = Q1 - 1.5 * IQR\n",
    "upper_bound = Q3 + 1.5 * IQR\n",
    "\n",
    "# Определение процентилей\n",
    "lower_percentile = round(filtered_companies['funding_total'].le(lower_bound).mean() * 100)\n",
    "upper_percentile = round(filtered_companies['funding_total'].le(upper_bound).mean() * 100)\n",
    "\n",
    "\n",
    "display(\"\\nРезультаты:\")\n",
    "display(f\"Нижняя граница выбросов: {lower_bound} (25-й процентиль: {Q1})\")\n",
    "display(f\"Верхняя граница выбросов: {upper_bound} (75-й процентиль: {Q3})\")\n",
    "\n",
    "display(f\"Нижняя граница выбросов соответствует: {lower_percentile}-ому процентилю\")\n",
    "display(f\"Верхняя граница выбросов соответствует: {upper_percentile}-ому процентилю\")\n",
    "    "
   ]
  },
  {
   "cell_type": "markdown",
   "metadata": {
    "id": "9IDTHfYQFhuX"
   },
   "source": [
    " Мминимальное значение в нашем наборе данных — это 0. Это может быть связано с тем, что некоторые компании не получили финансирования вообще. Значения, которые превышают верхнюю границу выбросов, могут считаться аномальными и требуют дальнейшего анализа. Это может быть связано с тем, что некоторые стартапы получили очень высокое финансирование, что делает их особенно интересными для инвесторов, но также и рискованными.\n"
   ]
  },
  {
   "cell_type": "markdown",
   "metadata": {
    "id": "mEiWpROjrJg2"
   },
   "source": [
    "\n",
    "### 3.4. Цены стартапов по категориям\n",
    "\n",
    "Категории стартапов с типично высокими ценами покупки стартапов и значительным разбросом цен могут быть привлекательными для крупных инвесторов, которые готовы к высоким рискам ради потенциально больших доходов. Среди категорий стартапов выделите категории стартапов, характеризующиеся:\n",
    "\n",
    "- типично высокими ценами;\n",
    "- и наибольшим разбросом цен за стартап.\n",
    "\n",
    "Объясните, почему решили составить топ именно из такого числа категорий и почему рассчитывали именно так."
   ]
  },
  {
   "cell_type": "code",
   "execution_count": 59,
   "metadata": {
    "id": "jQ09dYUWrJg2",
    "vscode": {
     "languageId": "plaintext"
    }
   },
   "outputs": [
    {
     "data": {
      "text/html": [
       "<div>\n",
       "<style scoped>\n",
       "    .dataframe tbody tr th:only-of-type {\n",
       "        vertical-align: middle;\n",
       "    }\n",
       "\n",
       "    .dataframe tbody tr th {\n",
       "        vertical-align: top;\n",
       "    }\n",
       "\n",
       "    .dataframe thead th {\n",
       "        text-align: right;\n",
       "    }\n",
       "</style>\n",
       "<table border=\"1\" class=\"dataframe\">\n",
       "  <thead>\n",
       "    <tr style=\"text-align: right;\">\n",
       "      <th></th>\n",
       "      <th>median</th>\n",
       "      <th>std</th>\n",
       "      <th>count</th>\n",
       "    </tr>\n",
       "    <tr>\n",
       "      <th>category_code</th>\n",
       "      <th></th>\n",
       "      <th></th>\n",
       "      <th></th>\n",
       "    </tr>\n",
       "  </thead>\n",
       "  <tbody>\n",
       "    <tr>\n",
       "      <th>manufacturing</th>\n",
       "      <td>72,000,000.00</td>\n",
       "      <td>969,657,968.02</td>\n",
       "      <td>29</td>\n",
       "    </tr>\n",
       "    <tr>\n",
       "      <th>real_estate</th>\n",
       "      <td>50,000,000.00</td>\n",
       "      <td>2,505,122,913.06</td>\n",
       "      <td>7</td>\n",
       "    </tr>\n",
       "    <tr>\n",
       "      <th>automotive</th>\n",
       "      <td>43,000,000.00</td>\n",
       "      <td>2,297,757,559.01</td>\n",
       "      <td>5</td>\n",
       "    </tr>\n",
       "    <tr>\n",
       "      <th>biotech</th>\n",
       "      <td>13,200,000.00</td>\n",
       "      <td>1,540,373,521.41</td>\n",
       "      <td>454</td>\n",
       "    </tr>\n",
       "    <tr>\n",
       "      <th>hospitality</th>\n",
       "      <td>12,500,000.00</td>\n",
       "      <td>651,449,440.58</td>\n",
       "      <td>11</td>\n",
       "    </tr>\n",
       "  </tbody>\n",
       "</table>\n",
       "</div>"
      ],
      "text/plain": [
       "                     median              std  count\n",
       "category_code                                      \n",
       "manufacturing 72,000,000.00   969,657,968.02     29\n",
       "real_estate   50,000,000.00 2,505,122,913.06      7\n",
       "automotive    43,000,000.00 2,297,757,559.01      5\n",
       "biotech       13,200,000.00 1,540,373,521.41    454\n",
       "hospitality   12,500,000.00   651,449,440.58     11"
      ]
     },
     "execution_count": 59,
     "metadata": {},
     "output_type": "execute_result"
    }
   ],
   "source": [
    "# Cруппируем стартапы по категориям и рассчитаем средние цены покупки, разброс и количество\n",
    "# При этом отберем категории, количество компаний которых превышает 5 \n",
    "category_stats = (connect_df.groupby('category_code')['price_amount']\n",
    "                 .agg(['median','std','count'])\n",
    "                 .query('count>=5')\n",
    "                 .sort_values(by='median',ascending=False))\n",
    "# Выведем топ-5 категорий по медианному финансированию\n",
    "category_stats.head(5)"
   ]
  },
  {
   "cell_type": "markdown",
   "metadata": {
    "id": "eF1aULm5FjfY"
   },
   "source": [
    "Выбор 5 топ категорий позволяет нам сосредоточиться на верхней части данных. Это позволяет выделить категории, которые имеют значительно высокие цены по сравнению с остальными.\n",
    "- Мы ищем категории со средними ценами, которые находятся в топ-5, чтобы выделить только те, которые действительно могут быть интересны крупным инвесторам.\n",
    "\n",
    "- Стандартное отклонение помогает понять, насколько сильно варьируются цены в рамках каждой категории. Высокий разброс может указывать на наличие как очень дорогих, так и более дешевых стартапов в одной категории, что может быть привлекательным для инвесторов, готовых к риску.\n",
    "\n",
    "- Эти категории могут быть интересны для крупных инвесторов, поскольку они могут иметь потенциал для значительного роста и прибыли, несмотря на высокий риск, связанный с возможными колебаниями в ценах.\n"
   ]
  },
  {
   "cell_type": "markdown",
   "metadata": {
    "id": "ADOfyVY_rJg3"
   },
   "source": [
    "\n",
    "### 3.5. Сколько раундов продержится стартап перед покупкой\n",
    "\n",
    "- Необходимо проанализировать столбец `funding_rounds`. Исследуйте значения столбца. Заказчика интересует типичное значение количества раундов для каждого возможного статуса стартапа.\n",
    "- Постройте график, который отображает, сколько в среднем раундов финансирования проходило для стартапов из каждой группы. Сделайте выводы."
   ]
  },
  {
   "cell_type": "code",
   "execution_count": 60,
   "metadata": {
    "id": "hgXMPC4WrJg3",
    "vscode": {
     "languageId": "plaintext"
    }
   },
   "outputs": [
    {
     "data": {
      "text/plain": [
       "'Среднее количество раундов финансирования по статусу стартапа:'"
      ]
     },
     "metadata": {},
     "output_type": "display_data"
    },
    {
     "data": {
      "text/html": [
       "<div>\n",
       "<style scoped>\n",
       "    .dataframe tbody tr th:only-of-type {\n",
       "        vertical-align: middle;\n",
       "    }\n",
       "\n",
       "    .dataframe tbody tr th {\n",
       "        vertical-align: top;\n",
       "    }\n",
       "\n",
       "    .dataframe thead th {\n",
       "        text-align: right;\n",
       "    }\n",
       "</style>\n",
       "<table border=\"1\" class=\"dataframe\">\n",
       "  <thead>\n",
       "    <tr style=\"text-align: right;\">\n",
       "      <th></th>\n",
       "      <th>status</th>\n",
       "      <th>funding_rounds</th>\n",
       "    </tr>\n",
       "  </thead>\n",
       "  <tbody>\n",
       "    <tr>\n",
       "      <th>0</th>\n",
       "      <td>acquired</td>\n",
       "      <td>0.53</td>\n",
       "    </tr>\n",
       "    <tr>\n",
       "      <th>1</th>\n",
       "      <td>closed</td>\n",
       "      <td>1.38</td>\n",
       "    </tr>\n",
       "    <tr>\n",
       "      <th>2</th>\n",
       "      <td>ipo</td>\n",
       "      <td>1.93</td>\n",
       "    </tr>\n",
       "    <tr>\n",
       "      <th>3</th>\n",
       "      <td>operating</td>\n",
       "      <td>1.52</td>\n",
       "    </tr>\n",
       "  </tbody>\n",
       "</table>\n",
       "</div>"
      ],
      "text/plain": [
       "      status  funding_rounds\n",
       "0   acquired            0.53\n",
       "1     closed            1.38\n",
       "2        ipo            1.93\n",
       "3  operating            1.52"
      ]
     },
     "metadata": {},
     "output_type": "display_data"
    }
   ],
   "source": [
    "# Группировка по статусу стартапа и расчет среднего количества раундов финансирования\n",
    "average_rounds = connect_df.groupby('status')['funding_rounds'].mean().reset_index()\n",
    "\n",
    "# Печать результатов\n",
    "display(\"Среднее количество раундов финансирования по статусу стартапа:\")\n",
    "display(average_rounds)\n"
   ]
  },
  {
   "cell_type": "code",
   "execution_count": 61,
   "metadata": {
    "id": "pV3e7kw5Fj1Y"
   },
   "outputs": [
    {
     "data": {
      "image/png": "[encoded data removed]",
      "text/plain": [
       "<Figure size 720x432 with 1 Axes>"
      ]
     },
     "metadata": {
      "needs_background": "light"
     },
     "output_type": "display_data"
    }
   ],
   "source": [
    "# Построение графика\n",
    "plt.figure(figsize=(10, 6))\n",
    "sns.barplot(x='status', y='funding_rounds', data=average_rounds)\n",
    "plt.title('Среднее количество раундов финансирования по статусу стартапа')\n",
    "plt.xlabel('Статус стартапа')\n",
    "plt.ylabel('Среднее количество раундов финансирования')\n",
    "plt.xticks(rotation=45)\n",
    "plt.tight_layout()\n",
    "plt.show()"
   ]
  },
  {
   "cell_type": "markdown",
   "metadata": {},
   "source": [
    "После выполнения анализа и визуализации мы сможем сделать выводы о том, как статус стартапа влияет на количество раундов финансирования:\n",
    "\n",
    "- Стартапы, которые вышли на ipo и действующие стартапы имеют большее среднее количество раундов финансирования, так как они продолжают привлекать инвестиции.\n",
    "- Закрытые стартапы также показывают меньшее количество раундов, так как они могли не привлечь достаточное количество инвестиций для продолжения работы.\n",
    "- Приобретенные стартапы могут иметь меньшее среднее количество раундов, так как их финансирование могло быть завершено после приобретения."
   ]
  },
  {
   "cell_type": "markdown",
   "metadata": {
    "id": "VAFEZ2HBrJg3"
   },
   "source": [
    "\n",
    "## Шаг 4. Итоговый вывод и рекомендации\n",
    "\n",
    "Подводя итоги, опишем, что было сделано в проекте.\n",
    "- Загрузили все данные по проекту.Проверили названия столбцов. Вывели информацию, которая необходима вам для принятия решений о предобработке, для каждого из датасетов. Обнаружили большое количество пропусков, несоответствие типов данных. Пропуски решили оставить без изменений, дабы избежать искажения анализа. \n",
    "- Обработали типы данных в столбцах, которые хранят значения даты и времени.\n",
    "- Составили сводную таблицу по годам, в которой на основании столбца raised_amount для каждого года указан:\n",
    "    - типичный размер средств, выделяемый в рамках одного раунда;\n",
    "    - общее количество раундов финансирования за этот год.\n",
    "    \n",
    "    Ответили на вопрос заказщика и выяснили, что в 2004 и 2005 году типичный размер собранных в рамках одного раунда средств был максимален(6000000.0). В 2013 году типичный размер средств составил 1625500.0, общее количество раундов 9792. Наблюдается снижение финансирования за раунд, суммарно инвестирование увеличивается. Можно так охарактеризовать тенденции: очень много стало мелких стартапов, которые активно финансируется, вот поэтому с одной стороны рост раундов, и рост суммарных инвестиций, а с другой стороны снижение raised_amount.\n",
    "- Используя датасеты people.csv и education.csv, разделили все компании на несколько групп по количеству сотрудников и оценили среднюю долю сотрудников без информации об образовании в каждой из групп. Почти у 60% сотрудников отсутстует информация об образовании в малых компаниях. Чем крупнее компания, тем больше информации о сотрудниках.\n",
    "- Установили, что столбец network_username, который встречается в нескольких датасетах, из-за значений, которые не пересекаются между датасетами, неподходит для объединения.\n",
    "- Выяснили, что причина возникновения большого количества пропусков в том, что в датафрейме company_and_rounds_df соединены две таблицы, разделили их. В датасете привели данные в вид, который позволил в дальнейшем проводить анализ в разрезе отдельных компаний.\n",
    "- Оценили какой размер общего финансирования для одной компании будет типичным, а какой — выбивающимся. Типичное значение расположено от 0 до 6 млн долларов. Остальные значения можно считать выбивающимися.\n",
    "- Исследовали компании, которые были проданы за ноль или за один доллар, и при этом у них был ненулевой общий объём финансирования. Это может быть связано с тем, что некоторые компании не получили финансирования вообще. Значения, которые превышают верхнюю границу выбросов, могут считаться аномальными и требуют дальнейшего анализа. Это может быть связано с тем, что некоторые стартапы получили очень высокое финансирование, что делает их особенно интересными для инвесторов, но также и рискованными.\n",
    "- Рассчитали аналитически верхнюю и нижнюю границу выбросов для столбца funding_total и указали, каким процентилям границы соответствуют.\n",
    "- Среди категорий стартапов выделили топ-5 категории стартапов, характеризующиеся типично высокими ценами и наибольшим разбросом цен за стартап.Это следующие категории:\n",
    "    - manufacturing\t72,000,000.00;    969,657,968.02\t\n",
    "    - real_estate\t50,000,000.00;\t2,505,122,913.06\t\n",
    "    - automotive\t43,000,000.00;\t2,297,757,559.01\t\n",
    "    - biotech\t    13,200,000.00;  1,540,373,521.41\t\n",
    "    - hospitality\t12,500,000.00;\t  651,449,440.58\t\n",
    "- Исследовали типичное значение количества раундов для каждого возможного статуса стартапа.Выяснили как статус стартапа влияет на количество раундов финансирования:\n",
    "    - Стартапы, которые вышли на ipo и действующие стартапы имеют большее среднее количество раундов финансирования, так как они продолжают привлекать инвестиции.\n",
    "    - Закрытые стартапы также показывают меньшее количество раундов, так как они могли не привлечь достаточное количество инвестиций для продолжения работы.\n",
    "    - Приобретенные стартапы могут иметь меньшее среднее количество раундов, так как их финансирование могло быть завершено после приобретения.\n"
   ]
  },
  {
   "cell_type": "markdown",
   "metadata": {},
   "source": [
    "На основании проведенного анализа и полученных результатов, можно сформулировать следующие рекомендации для заказчика\n",
    "\n",
    "1. Обращение к малым компаниям:\n",
    "  - Учитывая, что почти 60% сотрудников в малых компаниях не имеют информации об образовании, рекомендуется рассмотреть возможность улучшения процессов сбора и хранения данных о сотрудниках. Это может помочь в дальнейшем анализе и принятии более обоснованных решений на основе данных о квалификации работников.\n",
    "2. Инвестиции в стартапы с высоким потенциалом:\n",
    "  - Топ-5 категорий стартапов, характеризующиеся высокими ценами и значительным разбросом, представляют собой отличные возможности для инвестиций. Рекомендуется сосредоточиться на этих категориях (manufacturing, real_estate, automotive, biotech, hospitality), так как они могут предложить высокий потенциал возврата инвестиций, несмотря на риски.\n",
    "3. Анализ стартапов с аномальным финансированием:\n",
    "  - Стартапы, которые были проданы за 0 или 1 доллар, но имели ненулевой общий объем финансирования, требуют дополнительного анализа. Это может помочь выявить причины таких сделок и определить, как эти компании могли получить финансирование. Понимание этих факторов поможет избежать ошибок в будущих инвестиционных решениях.\n",
    "4. Мониторинг трендов в финансировании:\n",
    "  - Обратите внимание на тенденцию к увеличению количества мелких стартапов и росту общего финансирования. Это может указывать на изменение инвестиционных стратегий. Рекомендуется следить за изменениями в количестве раундов финансирования и типичным размером средств, чтобы адаптировать свои инвестиционные стратегии.\n",
    "\n",
    "\n",
    "\n",
    "\n"
   ]
  },
  {
   "cell_type": "code",
   "execution_count": null,
   "metadata": {},
   "outputs": [],
   "source": []
  }
 ],
 "metadata": {
  "ExecuteTimeLog": [
   {
    "duration": 82,
    "start_time": "2025-03-03T15:23:18.215Z"
   },
   {
    "duration": 5031,
    "start_time": "2025-03-03T15:24:00.587Z"
   },
   {
    "duration": 3640,
    "start_time": "2025-03-03T15:24:12.288Z"
   },
   {
    "duration": 2018,
    "start_time": "2025-03-03T15:37:00.829Z"
   },
   {
    "duration": 2006,
    "start_time": "2025-03-03T15:39:32.728Z"
   },
   {
    "duration": 2308,
    "start_time": "2025-03-03T15:40:27.289Z"
   },
   {
    "duration": 28,
    "start_time": "2025-03-03T15:42:14.000Z"
   },
   {
    "duration": 94,
    "start_time": "2025-03-03T15:42:40.748Z"
   },
   {
    "duration": 25,
    "start_time": "2025-03-03T15:43:17.767Z"
   },
   {
    "duration": 93,
    "start_time": "2025-03-03T15:43:26.828Z"
   },
   {
    "duration": 3664,
    "start_time": "2025-03-03T15:50:44.347Z"
   },
   {
    "duration": 1799,
    "start_time": "2025-03-03T15:50:48.014Z"
   },
   {
    "duration": 26,
    "start_time": "2025-03-03T15:50:49.814Z"
   },
   {
    "duration": 7,
    "start_time": "2025-03-03T15:50:49.841Z"
   },
   {
    "duration": 20,
    "start_time": "2025-03-03T15:50:49.850Z"
   },
   {
    "duration": 7,
    "start_time": "2025-03-03T15:50:49.871Z"
   },
   {
    "duration": 22,
    "start_time": "2025-03-03T15:50:49.880Z"
   },
   {
    "duration": 249,
    "start_time": "2025-03-03T15:50:49.904Z"
   },
   {
    "duration": 72,
    "start_time": "2025-03-03T15:50:50.155Z"
   },
   {
    "duration": 108,
    "start_time": "2025-03-03T15:50:50.229Z"
   },
   {
    "duration": 3702,
    "start_time": "2025-03-03T15:56:53.123Z"
   },
   {
    "duration": 2168,
    "start_time": "2025-03-03T15:56:56.827Z"
   },
   {
    "duration": 30,
    "start_time": "2025-03-03T15:56:58.997Z"
   },
   {
    "duration": 55,
    "start_time": "2025-03-03T15:56:59.028Z"
   },
   {
    "duration": 14,
    "start_time": "2025-03-03T15:56:59.084Z"
   },
   {
    "duration": 8,
    "start_time": "2025-03-03T15:56:59.100Z"
   },
   {
    "duration": 15,
    "start_time": "2025-03-03T15:56:59.110Z"
   },
   {
    "duration": 20,
    "start_time": "2025-03-03T15:56:59.126Z"
   },
   {
    "duration": 7,
    "start_time": "2025-03-03T15:56:59.147Z"
   },
   {
    "duration": 110,
    "start_time": "2025-03-03T15:56:59.155Z"
   },
   {
    "duration": 11,
    "start_time": "2025-03-03T15:56:59.266Z"
   },
   {
    "duration": 59,
    "start_time": "2025-03-03T15:56:59.279Z"
   },
   {
    "duration": 19,
    "start_time": "2025-03-03T15:56:59.340Z"
   },
   {
    "duration": 26,
    "start_time": "2025-03-03T15:56:59.361Z"
   },
   {
    "duration": 141,
    "start_time": "2025-03-03T15:56:59.389Z"
   },
   {
    "duration": 31,
    "start_time": "2025-03-03T15:56:59.532Z"
   },
   {
    "duration": 4766,
    "start_time": "2025-03-04T04:32:21.982Z"
   },
   {
    "duration": 2719,
    "start_time": "2025-03-04T04:32:26.751Z"
   },
   {
    "duration": 27,
    "start_time": "2025-03-04T04:32:29.472Z"
   },
   {
    "duration": 8,
    "start_time": "2025-03-04T04:32:29.502Z"
   },
   {
    "duration": 8,
    "start_time": "2025-03-04T04:32:29.513Z"
   },
   {
    "duration": 8,
    "start_time": "2025-03-04T04:32:29.522Z"
   },
   {
    "duration": 41,
    "start_time": "2025-03-04T04:32:29.532Z"
   },
   {
    "duration": 10,
    "start_time": "2025-03-04T04:32:29.574Z"
   },
   {
    "duration": 7,
    "start_time": "2025-03-04T04:32:29.585Z"
   },
   {
    "duration": 115,
    "start_time": "2025-03-04T04:32:29.593Z"
   },
   {
    "duration": 11,
    "start_time": "2025-03-04T04:32:29.710Z"
   },
   {
    "duration": 59,
    "start_time": "2025-03-04T04:32:29.722Z"
   },
   {
    "duration": 20,
    "start_time": "2025-03-04T04:32:29.783Z"
   },
   {
    "duration": 25,
    "start_time": "2025-03-04T04:32:29.806Z"
   },
   {
    "duration": 42,
    "start_time": "2025-03-04T04:32:29.832Z"
   },
   {
    "duration": 9,
    "start_time": "2025-03-04T04:32:29.876Z"
   },
   {
    "duration": 96,
    "start_time": "2025-03-04T05:57:35.684Z"
   },
   {
    "duration": 23,
    "start_time": "2025-03-04T06:11:29.723Z"
   },
   {
    "duration": 8,
    "start_time": "2025-03-04T06:12:43.250Z"
   },
   {
    "duration": 95,
    "start_time": "2025-03-04T06:15:53.722Z"
   },
   {
    "duration": 11,
    "start_time": "2025-03-04T06:16:33.027Z"
   },
   {
    "duration": 42,
    "start_time": "2025-03-04T06:24:58.177Z"
   },
   {
    "duration": 30,
    "start_time": "2025-03-04T06:31:57.260Z"
   },
   {
    "duration": 27,
    "start_time": "2025-03-04T06:35:24.672Z"
   },
   {
    "duration": 12,
    "start_time": "2025-03-04T06:44:41.112Z"
   },
   {
    "duration": 114,
    "start_time": "2025-03-04T07:11:34.234Z"
   },
   {
    "duration": 10,
    "start_time": "2025-03-04T07:12:12.088Z"
   },
   {
    "duration": 6,
    "start_time": "2025-03-04T07:12:19.788Z"
   },
   {
    "duration": 5,
    "start_time": "2025-03-04T07:12:31.405Z"
   },
   {
    "duration": 5,
    "start_time": "2025-03-04T07:12:51.536Z"
   },
   {
    "duration": 5,
    "start_time": "2025-03-04T07:13:31.170Z"
   },
   {
    "duration": 9,
    "start_time": "2025-03-04T07:19:52.862Z"
   },
   {
    "duration": 5,
    "start_time": "2025-03-04T07:20:16.749Z"
   },
   {
    "duration": 6,
    "start_time": "2025-03-04T07:20:22.944Z"
   },
   {
    "duration": 3824,
    "start_time": "2025-03-04T07:20:46.956Z"
   },
   {
    "duration": 3249,
    "start_time": "2025-03-04T07:20:50.782Z"
   },
   {
    "duration": 39,
    "start_time": "2025-03-04T07:20:54.033Z"
   },
   {
    "duration": 114,
    "start_time": "2025-03-04T07:20:54.074Z"
   },
   {
    "duration": 5,
    "start_time": "2025-03-04T07:20:54.190Z"
   },
   {
    "duration": 11,
    "start_time": "2025-03-04T07:20:54.197Z"
   },
   {
    "duration": 10,
    "start_time": "2025-03-04T07:20:54.209Z"
   },
   {
    "duration": 10,
    "start_time": "2025-03-04T07:20:54.221Z"
   },
   {
    "duration": 65,
    "start_time": "2025-03-04T07:20:54.233Z"
   },
   {
    "duration": 8,
    "start_time": "2025-03-04T07:20:54.299Z"
   },
   {
    "duration": 70,
    "start_time": "2025-03-04T07:20:54.308Z"
   },
   {
    "duration": 7,
    "start_time": "2025-03-04T07:20:54.380Z"
   },
   {
    "duration": 32,
    "start_time": "2025-03-04T07:20:54.388Z"
   },
   {
    "duration": 10,
    "start_time": "2025-03-04T07:20:54.422Z"
   },
   {
    "duration": 46,
    "start_time": "2025-03-04T07:20:54.434Z"
   },
   {
    "duration": 8,
    "start_time": "2025-03-04T07:20:54.481Z"
   },
   {
    "duration": 13,
    "start_time": "2025-03-04T07:20:54.491Z"
   },
   {
    "duration": 6,
    "start_time": "2025-03-04T07:21:31.289Z"
   },
   {
    "duration": 6,
    "start_time": "2025-03-04T07:22:51.521Z"
   },
   {
    "duration": 121,
    "start_time": "2025-03-04T07:43:28.720Z"
   },
   {
    "duration": 17,
    "start_time": "2025-03-04T07:44:16.521Z"
   },
   {
    "duration": 16,
    "start_time": "2025-03-04T07:46:01.316Z"
   },
   {
    "duration": 19,
    "start_time": "2025-03-04T07:48:43.054Z"
   },
   {
    "duration": 5,
    "start_time": "2025-03-04T07:53:28.682Z"
   },
   {
    "duration": 6,
    "start_time": "2025-03-04T07:53:35.477Z"
   },
   {
    "duration": 17,
    "start_time": "2025-03-04T07:57:30.768Z"
   },
   {
    "duration": 19,
    "start_time": "2025-03-04T07:59:53.766Z"
   },
   {
    "duration": 18,
    "start_time": "2025-03-04T07:59:56.807Z"
   },
   {
    "duration": 3680,
    "start_time": "2025-03-04T08:00:06.912Z"
   },
   {
    "duration": 2800,
    "start_time": "2025-03-04T08:00:10.594Z"
   },
   {
    "duration": 30,
    "start_time": "2025-03-04T08:00:13.396Z"
   },
   {
    "duration": 101,
    "start_time": "2025-03-04T08:00:13.428Z"
   },
   {
    "duration": 6,
    "start_time": "2025-03-04T08:00:13.532Z"
   },
   {
    "duration": 23,
    "start_time": "2025-03-04T08:00:13.540Z"
   },
   {
    "duration": 73,
    "start_time": "2025-03-04T08:00:13.564Z"
   },
   {
    "duration": 53,
    "start_time": "2025-03-04T08:00:13.639Z"
   },
   {
    "duration": 41,
    "start_time": "2025-03-04T08:00:13.694Z"
   },
   {
    "duration": 8,
    "start_time": "2025-03-04T08:00:13.737Z"
   },
   {
    "duration": 28,
    "start_time": "2025-03-04T08:00:13.746Z"
   },
   {
    "duration": 9,
    "start_time": "2025-03-04T08:00:13.776Z"
   },
   {
    "duration": 127,
    "start_time": "2025-03-04T08:00:13.786Z"
   },
   {
    "duration": 11,
    "start_time": "2025-03-04T08:00:13.916Z"
   },
   {
    "duration": 14,
    "start_time": "2025-03-04T08:00:13.929Z"
   },
   {
    "duration": 7,
    "start_time": "2025-03-04T08:00:13.944Z"
   },
   {
    "duration": 13,
    "start_time": "2025-03-04T08:00:13.953Z"
   },
   {
    "duration": 127,
    "start_time": "2025-03-04T08:00:13.968Z"
   },
   {
    "duration": 1041,
    "start_time": "2025-03-04T08:02:21.967Z"
   },
   {
    "duration": 160,
    "start_time": "2025-03-04T08:03:13.855Z"
   },
   {
    "duration": 14,
    "start_time": "2025-03-04T08:04:27.030Z"
   },
   {
    "duration": 102,
    "start_time": "2025-03-04T08:04:50.016Z"
   },
   {
    "duration": 191,
    "start_time": "2025-03-04T08:05:58.718Z"
   },
   {
    "duration": 15,
    "start_time": "2025-03-04T09:04:43.902Z"
   },
   {
    "duration": 25,
    "start_time": "2025-03-04T09:06:58.322Z"
   },
   {
    "duration": 115,
    "start_time": "2025-03-04T09:25:22.930Z"
   },
   {
    "duration": 70,
    "start_time": "2025-03-04T09:25:39.475Z"
   },
   {
    "duration": 8,
    "start_time": "2025-03-04T09:41:34.003Z"
   },
   {
    "duration": 8,
    "start_time": "2025-03-04T09:41:43.907Z"
   },
   {
    "duration": 38,
    "start_time": "2025-03-04T09:46:34.326Z"
   },
   {
    "duration": 35,
    "start_time": "2025-03-04T09:46:40.153Z"
   },
   {
    "duration": 13,
    "start_time": "2025-03-04T09:46:45.422Z"
   },
   {
    "duration": 12,
    "start_time": "2025-03-04T09:46:54.307Z"
   },
   {
    "duration": 20,
    "start_time": "2025-03-04T09:47:00.597Z"
   },
   {
    "duration": 21,
    "start_time": "2025-03-04T09:47:05.587Z"
   },
   {
    "duration": 212,
    "start_time": "2025-03-04T10:01:43.107Z"
   },
   {
    "duration": 315,
    "start_time": "2025-03-04T10:02:55.050Z"
   },
   {
    "duration": 210,
    "start_time": "2025-03-04T10:04:45.285Z"
   },
   {
    "duration": 80,
    "start_time": "2025-03-04T10:48:24.981Z"
   },
   {
    "duration": 34,
    "start_time": "2025-03-04T10:51:14.968Z"
   },
   {
    "duration": 36,
    "start_time": "2025-03-04T10:56:14.547Z"
   },
   {
    "duration": 10,
    "start_time": "2025-03-04T11:02:06.869Z"
   },
   {
    "duration": 3648,
    "start_time": "2025-03-04T14:18:16.095Z"
   },
   {
    "duration": 2410,
    "start_time": "2025-03-04T14:18:19.745Z"
   },
   {
    "duration": 30,
    "start_time": "2025-03-04T14:18:22.157Z"
   },
   {
    "duration": 110,
    "start_time": "2025-03-04T14:18:22.188Z"
   },
   {
    "duration": 4,
    "start_time": "2025-03-04T14:18:22.300Z"
   },
   {
    "duration": 8,
    "start_time": "2025-03-04T14:18:22.306Z"
   },
   {
    "duration": 10,
    "start_time": "2025-03-04T14:18:22.316Z"
   },
   {
    "duration": 8,
    "start_time": "2025-03-04T14:18:22.327Z"
   },
   {
    "duration": 40,
    "start_time": "2025-03-04T14:18:22.358Z"
   },
   {
    "duration": 7,
    "start_time": "2025-03-04T14:18:22.400Z"
   },
   {
    "duration": 19,
    "start_time": "2025-03-04T14:18:22.409Z"
   },
   {
    "duration": 33,
    "start_time": "2025-03-04T14:18:22.430Z"
   },
   {
    "duration": 28,
    "start_time": "2025-03-04T14:18:22.465Z"
   },
   {
    "duration": 9,
    "start_time": "2025-03-04T14:18:22.496Z"
   },
   {
    "duration": 12,
    "start_time": "2025-03-04T14:18:22.506Z"
   },
   {
    "duration": 7,
    "start_time": "2025-03-04T14:18:22.519Z"
   },
   {
    "duration": 34,
    "start_time": "2025-03-04T14:18:22.527Z"
   },
   {
    "duration": 315,
    "start_time": "2025-03-04T14:18:22.563Z"
   },
   {
    "duration": 13,
    "start_time": "2025-03-04T14:18:22.880Z"
   },
   {
    "duration": 46,
    "start_time": "2025-03-04T14:18:22.895Z"
   },
   {
    "duration": 70,
    "start_time": "2025-03-04T14:18:22.942Z"
   },
   {
    "duration": 76,
    "start_time": "2025-03-04T14:18:23.013Z"
   },
   {
    "duration": 7,
    "start_time": "2025-03-04T14:18:23.090Z"
   },
   {
    "duration": 62,
    "start_time": "2025-03-04T14:18:23.098Z"
   },
   {
    "duration": 35,
    "start_time": "2025-03-04T14:18:23.161Z"
   },
   {
    "duration": 40,
    "start_time": "2025-03-04T14:18:23.198Z"
   },
   {
    "duration": 21,
    "start_time": "2025-03-04T14:18:23.240Z"
   },
   {
    "duration": 13,
    "start_time": "2025-03-04T14:18:23.263Z"
   },
   {
    "duration": 24,
    "start_time": "2025-03-04T14:18:23.278Z"
   },
   {
    "duration": 21,
    "start_time": "2025-03-04T14:18:23.303Z"
   },
   {
    "duration": 235,
    "start_time": "2025-03-04T14:18:23.326Z"
   },
   {
    "duration": 96,
    "start_time": "2025-03-04T14:18:23.563Z"
   },
   {
    "duration": 114,
    "start_time": "2025-03-04T14:18:23.661Z"
   },
   {
    "duration": 10,
    "start_time": "2025-03-04T14:25:23.212Z"
   },
   {
    "duration": 41,
    "start_time": "2025-03-04T14:26:28.185Z"
   },
   {
    "duration": 27,
    "start_time": "2025-03-04T14:31:56.818Z"
   },
   {
    "duration": 301,
    "start_time": "2025-03-04T14:32:14.031Z"
   },
   {
    "duration": 140,
    "start_time": "2025-03-04T14:34:47.767Z"
   },
   {
    "duration": 285,
    "start_time": "2025-03-04T14:35:29.591Z"
   },
   {
    "duration": 34,
    "start_time": "2025-03-04T14:36:20.099Z"
   },
   {
    "duration": 299,
    "start_time": "2025-03-04T14:36:50.834Z"
   },
   {
    "duration": 102,
    "start_time": "2025-03-04T16:29:08.952Z"
   },
   {
    "duration": 99,
    "start_time": "2025-03-04T16:29:24.316Z"
   },
   {
    "duration": 2006,
    "start_time": "2025-03-04T16:32:05.327Z"
   },
   {
    "duration": 26,
    "start_time": "2025-03-04T16:32:38.443Z"
   },
   {
    "duration": 15,
    "start_time": "2025-03-04T16:32:42.867Z"
   },
   {
    "duration": 32,
    "start_time": "2025-03-04T16:33:05.262Z"
   },
   {
    "duration": 16,
    "start_time": "2025-03-04T16:33:39.757Z"
   },
   {
    "duration": 1891,
    "start_time": "2025-03-04T16:36:46.967Z"
   },
   {
    "duration": 1971,
    "start_time": "2025-03-04T16:37:03.563Z"
   },
   {
    "duration": 1887,
    "start_time": "2025-03-04T16:39:08.984Z"
   },
   {
    "duration": 1890,
    "start_time": "2025-03-04T16:39:29.697Z"
   },
   {
    "duration": 4,
    "start_time": "2025-03-04T16:43:11.354Z"
   },
   {
    "duration": 7,
    "start_time": "2025-03-04T16:43:33.540Z"
   },
   {
    "duration": 7,
    "start_time": "2025-03-04T16:45:07.923Z"
   },
   {
    "duration": 11,
    "start_time": "2025-03-04T16:45:20.212Z"
   },
   {
    "duration": 16,
    "start_time": "2025-03-04T16:46:34.867Z"
   },
   {
    "duration": 319,
    "start_time": "2025-03-04T16:52:26.327Z"
   },
   {
    "duration": 313,
    "start_time": "2025-03-04T16:53:02.102Z"
   },
   {
    "duration": 17,
    "start_time": "2025-03-04T16:57:09.925Z"
   },
   {
    "duration": 13,
    "start_time": "2025-03-04T17:02:11.131Z"
   },
   {
    "duration": 69,
    "start_time": "2025-03-04T17:02:48.069Z"
   },
   {
    "duration": 67,
    "start_time": "2025-03-04T17:02:57.800Z"
   },
   {
    "duration": 18,
    "start_time": "2025-03-04T17:05:13.280Z"
   },
   {
    "duration": 1933,
    "start_time": "2025-03-04T17:11:29.262Z"
   },
   {
    "duration": 18,
    "start_time": "2025-03-04T17:11:48.475Z"
   },
   {
    "duration": 265,
    "start_time": "2025-03-04T17:11:54.635Z"
   },
   {
    "duration": 1908,
    "start_time": "2025-03-04T17:13:44.156Z"
   },
   {
    "duration": 1886,
    "start_time": "2025-03-04T17:14:37.314Z"
   },
   {
    "duration": 4431,
    "start_time": "2025-03-05T04:49:19.463Z"
   },
   {
    "duration": 2223,
    "start_time": "2025-03-05T04:49:23.897Z"
   },
   {
    "duration": 26,
    "start_time": "2025-03-05T04:49:26.122Z"
   },
   {
    "duration": 105,
    "start_time": "2025-03-05T04:49:26.150Z"
   },
   {
    "duration": 5,
    "start_time": "2025-03-05T04:49:26.256Z"
   },
   {
    "duration": 12,
    "start_time": "2025-03-05T04:49:26.262Z"
   },
   {
    "duration": 10,
    "start_time": "2025-03-05T04:49:26.275Z"
   },
   {
    "duration": 7,
    "start_time": "2025-03-05T04:49:26.286Z"
   },
   {
    "duration": 60,
    "start_time": "2025-03-05T04:49:26.295Z"
   },
   {
    "duration": 7,
    "start_time": "2025-03-05T04:49:26.358Z"
   },
   {
    "duration": 87,
    "start_time": "2025-03-05T04:49:26.366Z"
   },
   {
    "duration": 6,
    "start_time": "2025-03-05T04:49:26.455Z"
   },
   {
    "duration": 29,
    "start_time": "2025-03-05T04:49:26.463Z"
   },
   {
    "duration": 8,
    "start_time": "2025-03-05T04:49:26.494Z"
   },
   {
    "duration": 13,
    "start_time": "2025-03-05T04:49:26.504Z"
   },
   {
    "duration": 13,
    "start_time": "2025-03-05T04:49:26.518Z"
   },
   {
    "duration": 16,
    "start_time": "2025-03-05T04:49:26.533Z"
   },
   {
    "duration": 217,
    "start_time": "2025-03-05T04:49:26.551Z"
   },
   {
    "duration": 18,
    "start_time": "2025-03-05T04:49:26.769Z"
   },
   {
    "duration": 125,
    "start_time": "2025-03-05T04:49:26.789Z"
   },
   {
    "duration": 84,
    "start_time": "2025-03-05T04:49:26.916Z"
   },
   {
    "duration": 87,
    "start_time": "2025-03-05T04:49:27.002Z"
   },
   {
    "duration": 7,
    "start_time": "2025-03-05T04:49:27.090Z"
   },
   {
    "duration": 7,
    "start_time": "2025-03-05T04:49:27.099Z"
   },
   {
    "duration": 62,
    "start_time": "2025-03-05T04:49:27.107Z"
   },
   {
    "duration": 34,
    "start_time": "2025-03-05T04:49:27.170Z"
   },
   {
    "duration": 10,
    "start_time": "2025-03-05T04:49:27.205Z"
   },
   {
    "duration": 30,
    "start_time": "2025-03-05T04:49:27.218Z"
   },
   {
    "duration": 17,
    "start_time": "2025-03-05T04:49:27.250Z"
   },
   {
    "duration": 36,
    "start_time": "2025-03-05T04:49:27.269Z"
   },
   {
    "duration": 219,
    "start_time": "2025-03-05T04:49:27.306Z"
   },
   {
    "duration": 87,
    "start_time": "2025-03-05T04:49:27.527Z"
   },
   {
    "duration": 321,
    "start_time": "2025-03-05T04:49:27.616Z"
   },
   {
    "duration": 95,
    "start_time": "2025-03-05T04:49:27.938Z"
   },
   {
    "duration": 20,
    "start_time": "2025-03-05T04:49:28.035Z"
   },
   {
    "duration": 1834,
    "start_time": "2025-03-05T04:49:28.057Z"
   },
   {
    "duration": 15,
    "start_time": "2025-03-05T04:49:29.893Z"
   },
   {
    "duration": 323,
    "start_time": "2025-03-05T04:49:29.909Z"
   },
   {
    "duration": 182,
    "start_time": "2025-03-05T05:03:40.838Z"
   },
   {
    "duration": 188,
    "start_time": "2025-03-05T05:12:05.431Z"
   },
   {
    "duration": 168,
    "start_time": "2025-03-05T05:20:47.228Z"
   },
   {
    "duration": 76,
    "start_time": "2025-03-05T05:33:43.169Z"
   },
   {
    "duration": 221,
    "start_time": "2025-03-05T05:38:03.918Z"
   },
   {
    "duration": 225,
    "start_time": "2025-03-05T05:39:03.610Z"
   },
   {
    "duration": 223,
    "start_time": "2025-03-05T05:40:36.585Z"
   },
   {
    "duration": 281,
    "start_time": "2025-03-05T05:41:53.070Z"
   },
   {
    "duration": 274,
    "start_time": "2025-03-05T05:42:22.145Z"
   },
   {
    "duration": 242,
    "start_time": "2025-03-05T09:10:53.071Z"
   },
   {
    "duration": 3483,
    "start_time": "2025-03-05T09:11:32.412Z"
   },
   {
    "duration": 2130,
    "start_time": "2025-03-05T09:11:35.898Z"
   },
   {
    "duration": 28,
    "start_time": "2025-03-05T09:11:38.030Z"
   },
   {
    "duration": 250,
    "start_time": "2025-03-05T09:11:38.060Z"
   },
   {
    "duration": 7,
    "start_time": "2025-03-05T09:11:38.312Z"
   },
   {
    "duration": 26,
    "start_time": "2025-03-05T09:11:38.321Z"
   },
   {
    "duration": 15,
    "start_time": "2025-03-05T09:11:38.348Z"
   },
   {
    "duration": 10,
    "start_time": "2025-03-05T09:11:38.365Z"
   },
   {
    "duration": 43,
    "start_time": "2025-03-05T09:11:38.376Z"
   },
   {
    "duration": 8,
    "start_time": "2025-03-05T09:11:38.421Z"
   },
   {
    "duration": 32,
    "start_time": "2025-03-05T09:11:38.430Z"
   },
   {
    "duration": 38,
    "start_time": "2025-03-05T09:11:38.464Z"
   },
   {
    "duration": 91,
    "start_time": "2025-03-05T09:11:38.504Z"
   },
   {
    "duration": 11,
    "start_time": "2025-03-05T09:11:38.597Z"
   },
   {
    "duration": 13,
    "start_time": "2025-03-05T09:11:38.610Z"
   },
   {
    "duration": 59,
    "start_time": "2025-03-05T09:11:38.625Z"
   },
   {
    "duration": 46,
    "start_time": "2025-03-05T09:11:38.686Z"
   },
   {
    "duration": 228,
    "start_time": "2025-03-05T09:11:38.733Z"
   },
   {
    "duration": 14,
    "start_time": "2025-03-05T09:11:38.963Z"
   },
   {
    "duration": 25,
    "start_time": "2025-03-05T09:11:38.980Z"
   },
   {
    "duration": 90,
    "start_time": "2025-03-05T09:11:39.006Z"
   },
   {
    "duration": 77,
    "start_time": "2025-03-05T09:11:39.098Z"
   },
   {
    "duration": 7,
    "start_time": "2025-03-05T09:11:39.177Z"
   },
   {
    "duration": 26,
    "start_time": "2025-03-05T09:11:39.186Z"
   },
   {
    "duration": 50,
    "start_time": "2025-03-05T09:11:39.214Z"
   },
   {
    "duration": 34,
    "start_time": "2025-03-05T09:11:39.265Z"
   },
   {
    "duration": 37,
    "start_time": "2025-03-05T09:11:39.300Z"
   },
   {
    "duration": 47,
    "start_time": "2025-03-05T09:11:39.339Z"
   },
   {
    "duration": 53,
    "start_time": "2025-03-05T09:11:39.387Z"
   },
   {
    "duration": 57,
    "start_time": "2025-03-05T09:11:39.442Z"
   },
   {
    "duration": 313,
    "start_time": "2025-03-05T09:11:39.501Z"
   },
   {
    "duration": 80,
    "start_time": "2025-03-05T09:11:39.815Z"
   },
   {
    "duration": 324,
    "start_time": "2025-03-05T09:11:39.896Z"
   },
   {
    "duration": 92,
    "start_time": "2025-03-05T09:11:40.222Z"
   },
   {
    "duration": 14,
    "start_time": "2025-03-05T09:11:40.316Z"
   },
   {
    "duration": 1786,
    "start_time": "2025-03-05T09:11:40.332Z"
   },
   {
    "duration": 16,
    "start_time": "2025-03-05T09:11:42.120Z"
   },
   {
    "duration": 380,
    "start_time": "2025-03-05T09:11:42.148Z"
   },
   {
    "duration": 285,
    "start_time": "2025-03-05T09:11:42.530Z"
   },
   {
    "duration": 4,
    "start_time": "2025-03-05T09:26:09.191Z"
   },
   {
    "duration": 98,
    "start_time": "2025-03-05T09:27:00.266Z"
   },
   {
    "duration": 10,
    "start_time": "2025-03-05T09:29:43.704Z"
   },
   {
    "duration": 10,
    "start_time": "2025-03-05T09:29:45.109Z"
   },
   {
    "duration": 9,
    "start_time": "2025-03-05T09:30:37.619Z"
   },
   {
    "duration": 84,
    "start_time": "2025-03-05T09:32:46.121Z"
   },
   {
    "duration": 4,
    "start_time": "2025-03-05T09:37:33.703Z"
   },
   {
    "duration": 44,
    "start_time": "2025-03-05T09:39:43.871Z"
   },
   {
    "duration": 267,
    "start_time": "2025-03-05T09:45:28.992Z"
   },
   {
    "duration": 268,
    "start_time": "2025-03-05T09:48:04.456Z"
   },
   {
    "duration": 248,
    "start_time": "2025-03-05T09:48:08.064Z"
   },
   {
    "duration": 62,
    "start_time": "2025-03-05T09:49:07.895Z"
   },
   {
    "duration": 30,
    "start_time": "2025-03-05T09:49:11.439Z"
   },
   {
    "duration": 31,
    "start_time": "2025-03-05T09:49:43.145Z"
   },
   {
    "duration": 25,
    "start_time": "2025-03-05T09:54:22.151Z"
   },
   {
    "duration": 27,
    "start_time": "2025-03-05T09:54:55.826Z"
   },
   {
    "duration": 210,
    "start_time": "2025-03-05T09:55:17.852Z"
   },
   {
    "duration": 228,
    "start_time": "2025-03-05T09:55:19.835Z"
   },
   {
    "duration": 47,
    "start_time": "2025-03-05T09:55:20.982Z"
   },
   {
    "duration": 52,
    "start_time": "2025-03-05T09:56:00.701Z"
   },
   {
    "duration": 56,
    "start_time": "2025-03-05T10:02:09.329Z"
   },
   {
    "duration": 13,
    "start_time": "2025-03-05T10:02:43.259Z"
   },
   {
    "duration": 9716,
    "start_time": "2025-03-05T11:30:43.189Z"
   },
   {
    "duration": 2583,
    "start_time": "2025-03-05T11:30:52.907Z"
   },
   {
    "duration": 31,
    "start_time": "2025-03-05T11:30:55.492Z"
   },
   {
    "duration": 123,
    "start_time": "2025-03-05T11:30:55.525Z"
   },
   {
    "duration": 6,
    "start_time": "2025-03-05T11:30:55.650Z"
   },
   {
    "duration": 22,
    "start_time": "2025-03-05T11:30:55.658Z"
   },
   {
    "duration": 37,
    "start_time": "2025-03-05T11:30:55.683Z"
   },
   {
    "duration": 24,
    "start_time": "2025-03-05T11:30:55.722Z"
   },
   {
    "duration": 52,
    "start_time": "2025-03-05T11:30:55.748Z"
   },
   {
    "duration": 7,
    "start_time": "2025-03-05T11:30:55.804Z"
   },
   {
    "duration": 27,
    "start_time": "2025-03-05T11:30:55.813Z"
   },
   {
    "duration": 81,
    "start_time": "2025-03-05T11:30:55.842Z"
   },
   {
    "duration": 29,
    "start_time": "2025-03-05T11:30:55.925Z"
   },
   {
    "duration": 11,
    "start_time": "2025-03-05T11:30:55.956Z"
   },
   {
    "duration": 47,
    "start_time": "2025-03-05T11:30:55.968Z"
   },
   {
    "duration": 14,
    "start_time": "2025-03-05T11:30:56.017Z"
   },
   {
    "duration": 20,
    "start_time": "2025-03-05T11:30:56.033Z"
   },
   {
    "duration": 240,
    "start_time": "2025-03-05T11:30:56.055Z"
   },
   {
    "duration": 19,
    "start_time": "2025-03-05T11:30:56.297Z"
   },
   {
    "duration": 25,
    "start_time": "2025-03-05T11:30:56.317Z"
   },
   {
    "duration": 93,
    "start_time": "2025-03-05T11:30:56.344Z"
   },
   {
    "duration": 88,
    "start_time": "2025-03-05T11:30:56.439Z"
   },
   {
    "duration": 7,
    "start_time": "2025-03-05T11:30:56.529Z"
   },
   {
    "duration": 8,
    "start_time": "2025-03-05T11:30:56.538Z"
   },
   {
    "duration": 59,
    "start_time": "2025-03-05T11:30:56.547Z"
   },
   {
    "duration": 37,
    "start_time": "2025-03-05T11:30:56.607Z"
   },
   {
    "duration": 37,
    "start_time": "2025-03-05T11:30:56.645Z"
   },
   {
    "duration": 13,
    "start_time": "2025-03-05T11:30:56.685Z"
   },
   {
    "duration": 21,
    "start_time": "2025-03-05T11:30:56.699Z"
   },
   {
    "duration": 27,
    "start_time": "2025-03-05T11:30:56.721Z"
   },
   {
    "duration": 234,
    "start_time": "2025-03-05T11:30:56.750Z"
   },
   {
    "duration": 107,
    "start_time": "2025-03-05T11:30:56.986Z"
   },
   {
    "duration": 423,
    "start_time": "2025-03-05T11:30:57.095Z"
   },
   {
    "duration": 110,
    "start_time": "2025-03-05T11:30:57.520Z"
   },
   {
    "duration": 18,
    "start_time": "2025-03-05T11:30:57.631Z"
   },
   {
    "duration": 2031,
    "start_time": "2025-03-05T11:31:07.250Z"
   },
   {
    "duration": 1998,
    "start_time": "2025-03-05T11:31:16.338Z"
   },
   {
    "duration": 23,
    "start_time": "2025-03-05T11:31:27.793Z"
   },
   {
    "duration": 2087,
    "start_time": "2025-03-05T11:31:44.602Z"
   },
   {
    "duration": 23,
    "start_time": "2025-03-05T11:35:16.449Z"
   },
   {
    "duration": 4495,
    "start_time": "2025-03-05T11:44:48.749Z"
   },
   {
    "duration": 2916,
    "start_time": "2025-03-05T11:44:53.246Z"
   },
   {
    "duration": 31,
    "start_time": "2025-03-05T11:44:56.164Z"
   },
   {
    "duration": 113,
    "start_time": "2025-03-05T11:44:56.197Z"
   },
   {
    "duration": 7,
    "start_time": "2025-03-05T11:44:56.312Z"
   },
   {
    "duration": 10,
    "start_time": "2025-03-05T11:44:56.321Z"
   },
   {
    "duration": 22,
    "start_time": "2025-03-05T11:44:56.332Z"
   },
   {
    "duration": 26,
    "start_time": "2025-03-05T11:44:56.356Z"
   },
   {
    "duration": 49,
    "start_time": "2025-03-05T11:44:56.384Z"
   },
   {
    "duration": 7,
    "start_time": "2025-03-05T11:44:56.437Z"
   },
   {
    "duration": 47,
    "start_time": "2025-03-05T11:44:56.446Z"
   },
   {
    "duration": 12,
    "start_time": "2025-03-05T11:44:56.495Z"
   },
   {
    "duration": 71,
    "start_time": "2025-03-05T11:44:56.509Z"
   },
   {
    "duration": 10,
    "start_time": "2025-03-05T11:44:56.582Z"
   },
   {
    "duration": 14,
    "start_time": "2025-03-05T11:44:56.593Z"
   },
   {
    "duration": 10,
    "start_time": "2025-03-05T11:44:56.608Z"
   },
   {
    "duration": 26,
    "start_time": "2025-03-05T11:44:56.619Z"
   },
   {
    "duration": 269,
    "start_time": "2025-03-05T11:44:56.647Z"
   },
   {
    "duration": 16,
    "start_time": "2025-03-05T11:44:56.917Z"
   },
   {
    "duration": 40,
    "start_time": "2025-03-05T11:44:56.935Z"
   },
   {
    "duration": 109,
    "start_time": "2025-03-05T11:44:56.977Z"
   },
   {
    "duration": 132,
    "start_time": "2025-03-05T11:44:57.087Z"
   },
   {
    "duration": 8,
    "start_time": "2025-03-05T11:44:57.220Z"
   },
   {
    "duration": 9,
    "start_time": "2025-03-05T11:44:57.230Z"
   },
   {
    "duration": 66,
    "start_time": "2025-03-05T11:44:57.240Z"
   },
   {
    "duration": 40,
    "start_time": "2025-03-05T11:44:57.308Z"
   },
   {
    "duration": 35,
    "start_time": "2025-03-05T11:44:57.350Z"
   },
   {
    "duration": 12,
    "start_time": "2025-03-05T11:44:57.389Z"
   },
   {
    "duration": 22,
    "start_time": "2025-03-05T11:44:57.402Z"
   },
   {
    "duration": 59,
    "start_time": "2025-03-05T11:44:57.427Z"
   },
   {
    "duration": 230,
    "start_time": "2025-03-05T11:44:57.487Z"
   },
   {
    "duration": 88,
    "start_time": "2025-03-05T11:44:57.719Z"
   },
   {
    "duration": 368,
    "start_time": "2025-03-05T11:44:57.809Z"
   },
   {
    "duration": 104,
    "start_time": "2025-03-05T11:44:58.179Z"
   },
   {
    "duration": 18,
    "start_time": "2025-03-05T11:44:58.285Z"
   },
   {
    "duration": 1971,
    "start_time": "2025-03-05T11:44:58.305Z"
   },
   {
    "duration": 17,
    "start_time": "2025-03-05T11:45:00.278Z"
   },
   {
    "duration": 378,
    "start_time": "2025-03-05T11:45:00.297Z"
   },
   {
    "duration": 319,
    "start_time": "2025-03-05T11:45:00.677Z"
   },
   {
    "duration": 4,
    "start_time": "2025-03-05T11:45:00.998Z"
   },
   {
    "duration": 115,
    "start_time": "2025-03-05T11:45:01.004Z"
   },
   {
    "duration": 36,
    "start_time": "2025-03-05T11:45:01.121Z"
   },
   {
    "duration": 346,
    "start_time": "2025-03-05T11:45:01.159Z"
   },
   {
    "duration": 289,
    "start_time": "2025-03-05T11:45:01.507Z"
   },
   {
    "duration": 63,
    "start_time": "2025-03-05T11:45:01.798Z"
   },
   {
    "duration": 64,
    "start_time": "2025-03-05T11:45:01.863Z"
   },
   {
    "duration": 76,
    "start_time": "2025-03-05T11:45:01.929Z"
   },
   {
    "duration": 15,
    "start_time": "2025-03-05T11:45:02.007Z"
   },
   {
    "duration": 50,
    "start_time": "2025-03-06T07:10:08.918Z"
   },
   {
    "duration": 1332,
    "start_time": "2025-03-06T07:10:35.896Z"
   },
   {
    "duration": 1951,
    "start_time": "2025-03-06T07:10:37.230Z"
   },
   {
    "duration": 27,
    "start_time": "2025-03-06T07:10:39.183Z"
   },
   {
    "duration": 139,
    "start_time": "2025-03-06T07:10:39.211Z"
   },
   {
    "duration": 5,
    "start_time": "2025-03-06T07:10:39.358Z"
   },
   {
    "duration": 88,
    "start_time": "2025-03-06T07:10:39.364Z"
   },
   {
    "duration": 10,
    "start_time": "2025-03-06T07:10:39.453Z"
   },
   {
    "duration": 8,
    "start_time": "2025-03-06T07:10:39.465Z"
   },
   {
    "duration": 37,
    "start_time": "2025-03-06T07:10:39.474Z"
   },
   {
    "duration": 7,
    "start_time": "2025-03-06T07:10:39.513Z"
   },
   {
    "duration": 43,
    "start_time": "2025-03-06T07:10:39.521Z"
   },
   {
    "duration": 8,
    "start_time": "2025-03-06T07:10:39.566Z"
   },
   {
    "duration": 26,
    "start_time": "2025-03-06T07:10:39.575Z"
   },
   {
    "duration": 10,
    "start_time": "2025-03-06T07:10:39.604Z"
   },
   {
    "duration": 13,
    "start_time": "2025-03-06T07:10:39.615Z"
   },
   {
    "duration": 32,
    "start_time": "2025-03-06T07:10:39.630Z"
   },
   {
    "duration": 10,
    "start_time": "2025-03-06T07:10:39.664Z"
   },
   {
    "duration": 242,
    "start_time": "2025-03-06T07:10:39.676Z"
   },
   {
    "duration": 16,
    "start_time": "2025-03-06T07:10:39.920Z"
   },
   {
    "duration": 44,
    "start_time": "2025-03-06T07:10:39.937Z"
   },
   {
    "duration": 100,
    "start_time": "2025-03-06T07:10:39.983Z"
   },
   {
    "duration": 91,
    "start_time": "2025-03-06T07:10:40.085Z"
   },
   {
    "duration": 7,
    "start_time": "2025-03-06T07:10:40.178Z"
   },
   {
    "duration": 12,
    "start_time": "2025-03-06T07:10:40.186Z"
   },
   {
    "duration": 64,
    "start_time": "2025-03-06T07:10:40.200Z"
   },
   {
    "duration": 84,
    "start_time": "2025-03-06T07:10:40.266Z"
   },
   {
    "duration": 12,
    "start_time": "2025-03-06T07:10:40.352Z"
   },
   {
    "duration": 101,
    "start_time": "2025-03-06T07:10:40.366Z"
   },
   {
    "duration": 20,
    "start_time": "2025-03-06T07:10:40.469Z"
   },
   {
    "duration": 21,
    "start_time": "2025-03-06T07:10:40.491Z"
   },
   {
    "duration": 232,
    "start_time": "2025-03-06T07:10:40.514Z"
   },
   {
    "duration": 80,
    "start_time": "2025-03-06T07:10:40.747Z"
   },
   {
    "duration": 338,
    "start_time": "2025-03-06T07:10:40.829Z"
   },
   {
    "duration": 98,
    "start_time": "2025-03-06T07:10:41.169Z"
   },
   {
    "duration": 33,
    "start_time": "2025-03-06T07:10:41.268Z"
   },
   {
    "duration": 1964,
    "start_time": "2025-03-06T07:10:41.302Z"
   },
   {
    "duration": 16,
    "start_time": "2025-03-06T07:10:43.268Z"
   },
   {
    "duration": 327,
    "start_time": "2025-03-06T07:10:43.286Z"
   },
   {
    "duration": 318,
    "start_time": "2025-03-06T07:10:43.615Z"
   },
   {
    "duration": 4,
    "start_time": "2025-03-06T07:10:43.935Z"
   },
   {
    "duration": 87,
    "start_time": "2025-03-06T07:10:43.959Z"
   },
   {
    "duration": 43,
    "start_time": "2025-03-06T07:10:44.057Z"
   },
   {
    "duration": 283,
    "start_time": "2025-03-06T07:10:44.102Z"
   },
   {
    "duration": 271,
    "start_time": "2025-03-06T07:10:44.387Z"
   },
   {
    "duration": 58,
    "start_time": "2025-03-06T07:10:44.659Z"
   },
   {
    "duration": 68,
    "start_time": "2025-03-06T07:10:44.719Z"
   },
   {
    "duration": 69,
    "start_time": "2025-03-06T07:10:44.788Z"
   },
   {
    "duration": 13,
    "start_time": "2025-03-06T07:10:44.859Z"
   },
   {
    "duration": 1957,
    "start_time": "2025-03-06T07:14:45.658Z"
   },
   {
    "duration": 1916,
    "start_time": "2025-03-06T07:15:14.306Z"
   },
   {
    "duration": 174,
    "start_time": "2025-03-06T07:19:11.297Z"
   },
   {
    "duration": 14,
    "start_time": "2025-03-06T07:20:25.037Z"
   },
   {
    "duration": 12,
    "start_time": "2025-03-06T07:20:35.318Z"
   },
   {
    "duration": 168,
    "start_time": "2025-03-06T07:23:28.897Z"
   },
   {
    "duration": 314,
    "start_time": "2025-03-06T07:23:57.908Z"
   },
   {
    "duration": 129,
    "start_time": "2025-03-06T07:24:09.177Z"
   },
   {
    "duration": 739,
    "start_time": "2025-03-06T07:24:18.405Z"
   },
   {
    "duration": 191,
    "start_time": "2025-03-06T07:24:41.099Z"
   },
   {
    "duration": 890,
    "start_time": "2025-03-06T07:24:53.037Z"
   },
   {
    "duration": 780,
    "start_time": "2025-03-06T07:25:16.237Z"
   },
   {
    "duration": 424,
    "start_time": "2025-03-06T07:25:37.836Z"
   },
   {
    "duration": 752,
    "start_time": "2025-03-06T07:30:53.017Z"
   },
   {
    "duration": 729,
    "start_time": "2025-03-06T07:31:23.777Z"
   },
   {
    "duration": 756,
    "start_time": "2025-03-06T07:31:49.177Z"
   },
   {
    "duration": 17,
    "start_time": "2025-03-06T07:42:50.622Z"
   },
   {
    "duration": 281,
    "start_time": "2025-03-06T07:42:58.062Z"
   },
   {
    "duration": 14,
    "start_time": "2025-03-06T08:07:25.446Z"
   },
   {
    "duration": 16,
    "start_time": "2025-03-06T08:08:06.353Z"
   },
   {
    "duration": 17,
    "start_time": "2025-03-06T08:18:36.635Z"
   },
   {
    "duration": 15,
    "start_time": "2025-03-06T08:21:54.555Z"
   },
   {
    "duration": 285,
    "start_time": "2025-03-06T08:22:01.995Z"
   },
   {
    "duration": 17,
    "start_time": "2025-03-06T08:23:15.526Z"
   },
   {
    "duration": 264,
    "start_time": "2025-03-06T08:23:20.355Z"
   },
   {
    "duration": 1084,
    "start_time": "2025-03-06T08:39:46.523Z"
   },
   {
    "duration": 48,
    "start_time": "2025-03-06T08:41:12.025Z"
   },
   {
    "duration": 50,
    "start_time": "2025-03-06T08:41:25.393Z"
   },
   {
    "duration": 130,
    "start_time": "2025-03-06T08:48:00.545Z"
   },
   {
    "duration": 4,
    "start_time": "2025-03-06T08:51:22.906Z"
   },
   {
    "duration": 9,
    "start_time": "2025-03-06T08:51:28.566Z"
   },
   {
    "duration": 9,
    "start_time": "2025-03-06T08:52:07.206Z"
   },
   {
    "duration": 9,
    "start_time": "2025-03-06T08:52:10.547Z"
   },
   {
    "duration": 9,
    "start_time": "2025-03-06T08:52:27.344Z"
   },
   {
    "duration": 9,
    "start_time": "2025-03-06T08:52:52.415Z"
   },
   {
    "duration": 9,
    "start_time": "2025-03-06T08:53:25.530Z"
   },
   {
    "duration": 1230,
    "start_time": "2025-03-06T08:54:46.960Z"
   },
   {
    "duration": 2026,
    "start_time": "2025-03-06T08:54:48.192Z"
   },
   {
    "duration": 27,
    "start_time": "2025-03-06T08:54:50.220Z"
   },
   {
    "duration": 101,
    "start_time": "2025-03-06T08:54:50.248Z"
   },
   {
    "duration": 47,
    "start_time": "2025-03-06T08:54:50.358Z"
   },
   {
    "duration": 5,
    "start_time": "2025-03-06T08:54:50.407Z"
   },
   {
    "duration": 54,
    "start_time": "2025-03-06T08:54:50.413Z"
   },
   {
    "duration": 12,
    "start_time": "2025-03-06T08:54:50.469Z"
   },
   {
    "duration": 16,
    "start_time": "2025-03-06T08:54:50.482Z"
   },
   {
    "duration": 40,
    "start_time": "2025-03-06T08:54:50.499Z"
   },
   {
    "duration": 20,
    "start_time": "2025-03-06T08:54:50.541Z"
   },
   {
    "duration": 54,
    "start_time": "2025-03-06T08:54:50.562Z"
   },
   {
    "duration": 13,
    "start_time": "2025-03-06T08:54:50.618Z"
   },
   {
    "duration": 26,
    "start_time": "2025-03-06T08:54:50.634Z"
   },
   {
    "duration": 138,
    "start_time": "2025-03-06T08:54:50.661Z"
   },
   {
    "duration": 18,
    "start_time": "2025-03-06T08:54:50.801Z"
   },
   {
    "duration": 12,
    "start_time": "2025-03-06T08:54:50.821Z"
   },
   {
    "duration": 8,
    "start_time": "2025-03-06T08:54:50.835Z"
   },
   {
    "duration": 199,
    "start_time": "2025-03-06T08:54:50.845Z"
   },
   {
    "duration": 19,
    "start_time": "2025-03-06T08:54:51.046Z"
   },
   {
    "duration": 36,
    "start_time": "2025-03-06T08:54:51.067Z"
   },
   {
    "duration": 99,
    "start_time": "2025-03-06T08:54:51.105Z"
   },
   {
    "duration": 80,
    "start_time": "2025-03-06T08:54:51.206Z"
   },
   {
    "duration": 6,
    "start_time": "2025-03-06T08:54:51.288Z"
   },
   {
    "duration": 20,
    "start_time": "2025-03-06T08:54:51.296Z"
   },
   {
    "duration": 43,
    "start_time": "2025-03-06T08:54:51.317Z"
   },
   {
    "duration": 36,
    "start_time": "2025-03-06T08:54:51.362Z"
   },
   {
    "duration": 13,
    "start_time": "2025-03-06T08:54:51.400Z"
   },
   {
    "duration": 13,
    "start_time": "2025-03-06T08:54:51.415Z"
   },
   {
    "duration": 46,
    "start_time": "2025-03-06T08:54:51.430Z"
   },
   {
    "duration": 98,
    "start_time": "2025-03-06T08:54:51.478Z"
   },
   {
    "duration": 222,
    "start_time": "2025-03-06T08:54:51.578Z"
   },
   {
    "duration": 79,
    "start_time": "2025-03-06T08:54:51.802Z"
   },
   {
    "duration": 331,
    "start_time": "2025-03-06T08:54:51.883Z"
   },
   {
    "duration": 91,
    "start_time": "2025-03-06T08:54:52.216Z"
   },
   {
    "duration": 15,
    "start_time": "2025-03-06T08:54:52.309Z"
   },
   {
    "duration": 1854,
    "start_time": "2025-03-06T08:54:52.326Z"
   },
   {
    "duration": 697,
    "start_time": "2025-03-06T08:54:54.182Z"
   },
   {
    "duration": 17,
    "start_time": "2025-03-06T08:54:54.880Z"
   },
   {
    "duration": 322,
    "start_time": "2025-03-06T08:54:54.899Z"
   },
   {
    "duration": 291,
    "start_time": "2025-03-06T08:54:55.225Z"
   },
   {
    "duration": 3,
    "start_time": "2025-03-06T08:54:55.518Z"
   },
   {
    "duration": 109,
    "start_time": "2025-03-06T08:54:55.523Z"
   },
   {
    "duration": 43,
    "start_time": "2025-03-06T08:54:55.633Z"
   },
   {
    "duration": 305,
    "start_time": "2025-03-06T08:54:55.678Z"
   },
   {
    "duration": 275,
    "start_time": "2025-03-06T08:54:55.984Z"
   },
   {
    "duration": 57,
    "start_time": "2025-03-06T08:54:56.260Z"
   },
   {
    "duration": 65,
    "start_time": "2025-03-06T08:54:56.318Z"
   },
   {
    "duration": 59,
    "start_time": "2025-03-06T08:54:56.385Z"
   },
   {
    "duration": 35,
    "start_time": "2025-03-06T08:54:56.445Z"
   },
   {
    "duration": 23,
    "start_time": "2025-03-06T08:55:29.974Z"
   },
   {
    "duration": 22,
    "start_time": "2025-03-06T08:56:05.869Z"
   },
   {
    "duration": 107,
    "start_time": "2025-03-06T08:57:12.346Z"
   },
   {
    "duration": 79,
    "start_time": "2025-03-06T09:00:56.770Z"
   },
   {
    "duration": 120,
    "start_time": "2025-03-06T09:01:05.980Z"
   },
   {
    "duration": 251,
    "start_time": "2025-03-06T09:23:10.960Z"
   },
   {
    "duration": 199,
    "start_time": "2025-03-06T09:25:24.342Z"
   },
   {
    "duration": 105,
    "start_time": "2025-03-06T09:26:11.332Z"
   },
   {
    "duration": 1211,
    "start_time": "2025-03-06T09:26:30.186Z"
   },
   {
    "duration": 2053,
    "start_time": "2025-03-06T09:26:31.400Z"
   },
   {
    "duration": 28,
    "start_time": "2025-03-06T09:26:33.455Z"
   },
   {
    "duration": 115,
    "start_time": "2025-03-06T09:26:33.484Z"
   },
   {
    "duration": 6,
    "start_time": "2025-03-06T09:26:33.601Z"
   },
   {
    "duration": 58,
    "start_time": "2025-03-06T09:26:33.609Z"
   },
   {
    "duration": 15,
    "start_time": "2025-03-06T09:26:33.669Z"
   },
   {
    "duration": 19,
    "start_time": "2025-03-06T09:26:33.686Z"
   },
   {
    "duration": 135,
    "start_time": "2025-03-06T09:26:33.706Z"
   },
   {
    "duration": 14,
    "start_time": "2025-03-06T09:26:33.843Z"
   },
   {
    "duration": 23,
    "start_time": "2025-03-06T09:26:33.859Z"
   },
   {
    "duration": 8,
    "start_time": "2025-03-06T09:26:33.883Z"
   },
   {
    "duration": 48,
    "start_time": "2025-03-06T09:26:33.893Z"
   },
   {
    "duration": 16,
    "start_time": "2025-03-06T09:26:33.944Z"
   },
   {
    "duration": 21,
    "start_time": "2025-03-06T09:26:33.962Z"
   },
   {
    "duration": 6,
    "start_time": "2025-03-06T09:26:33.985Z"
   },
   {
    "duration": 10,
    "start_time": "2025-03-06T09:26:33.993Z"
   },
   {
    "duration": 254,
    "start_time": "2025-03-06T09:26:34.005Z"
   },
   {
    "duration": 15,
    "start_time": "2025-03-06T09:26:34.261Z"
   },
   {
    "duration": 24,
    "start_time": "2025-03-06T09:26:34.278Z"
   },
   {
    "duration": 107,
    "start_time": "2025-03-06T09:26:34.304Z"
   },
   {
    "duration": 95,
    "start_time": "2025-03-06T09:26:34.412Z"
   },
   {
    "duration": 6,
    "start_time": "2025-03-06T09:26:34.509Z"
   },
   {
    "duration": 57,
    "start_time": "2025-03-06T09:26:34.517Z"
   },
   {
    "duration": 38,
    "start_time": "2025-03-06T09:26:34.575Z"
   },
   {
    "duration": 37,
    "start_time": "2025-03-06T09:26:34.614Z"
   },
   {
    "duration": 22,
    "start_time": "2025-03-06T09:26:34.653Z"
   },
   {
    "duration": 38,
    "start_time": "2025-03-06T09:26:34.677Z"
   },
   {
    "duration": 20,
    "start_time": "2025-03-06T09:26:34.717Z"
   },
   {
    "duration": 21,
    "start_time": "2025-03-06T09:26:34.739Z"
   },
   {
    "duration": 232,
    "start_time": "2025-03-06T09:26:34.762Z"
   },
   {
    "duration": 82,
    "start_time": "2025-03-06T09:26:34.996Z"
   },
   {
    "duration": 346,
    "start_time": "2025-03-06T09:26:35.079Z"
   },
   {
    "duration": 94,
    "start_time": "2025-03-06T09:26:35.426Z"
   },
   {
    "duration": 15,
    "start_time": "2025-03-06T09:26:35.522Z"
   },
   {
    "duration": 1881,
    "start_time": "2025-03-06T09:26:35.539Z"
   },
   {
    "duration": 704,
    "start_time": "2025-03-06T09:26:37.422Z"
   },
   {
    "duration": 16,
    "start_time": "2025-03-06T09:26:38.128Z"
   },
   {
    "duration": 291,
    "start_time": "2025-03-06T09:26:38.145Z"
   },
   {
    "duration": 272,
    "start_time": "2025-03-06T09:26:38.438Z"
   },
   {
    "duration": 92,
    "start_time": "2025-03-06T09:26:38.714Z"
   },
   {
    "duration": 0,
    "start_time": "2025-03-06T09:26:38.808Z"
   },
   {
    "duration": 0,
    "start_time": "2025-03-06T09:26:38.809Z"
   },
   {
    "duration": 0,
    "start_time": "2025-03-06T09:26:38.810Z"
   },
   {
    "duration": 0,
    "start_time": "2025-03-06T09:26:38.811Z"
   },
   {
    "duration": 0,
    "start_time": "2025-03-06T09:26:38.812Z"
   },
   {
    "duration": 1,
    "start_time": "2025-03-06T09:26:38.812Z"
   },
   {
    "duration": 0,
    "start_time": "2025-03-06T09:26:38.814Z"
   },
   {
    "duration": 0,
    "start_time": "2025-03-06T09:26:38.815Z"
   },
   {
    "duration": 0,
    "start_time": "2025-03-06T09:26:38.815Z"
   },
   {
    "duration": 8388,
    "start_time": "2025-03-06T09:29:43.794Z"
   },
   {
    "duration": 3693,
    "start_time": "2025-03-06T09:29:58.443Z"
   },
   {
    "duration": 1936,
    "start_time": "2025-03-06T09:30:02.138Z"
   },
   {
    "duration": 28,
    "start_time": "2025-03-06T09:30:04.076Z"
   },
   {
    "duration": 109,
    "start_time": "2025-03-06T09:30:04.106Z"
   },
   {
    "duration": 5,
    "start_time": "2025-03-06T09:30:04.217Z"
   },
   {
    "duration": 9,
    "start_time": "2025-03-06T09:30:04.224Z"
   },
   {
    "duration": 26,
    "start_time": "2025-03-06T09:30:04.235Z"
   },
   {
    "duration": 9,
    "start_time": "2025-03-06T09:30:04.263Z"
   },
   {
    "duration": 51,
    "start_time": "2025-03-06T09:30:04.273Z"
   },
   {
    "duration": 7,
    "start_time": "2025-03-06T09:30:04.326Z"
   },
   {
    "duration": 40,
    "start_time": "2025-03-06T09:30:04.335Z"
   },
   {
    "duration": 7,
    "start_time": "2025-03-06T09:30:04.377Z"
   },
   {
    "duration": 26,
    "start_time": "2025-03-06T09:30:04.386Z"
   },
   {
    "duration": 10,
    "start_time": "2025-03-06T09:30:04.413Z"
   },
   {
    "duration": 34,
    "start_time": "2025-03-06T09:30:04.424Z"
   },
   {
    "duration": 7,
    "start_time": "2025-03-06T09:30:04.460Z"
   },
   {
    "duration": 14,
    "start_time": "2025-03-06T09:30:04.469Z"
   },
   {
    "duration": 261,
    "start_time": "2025-03-06T09:30:04.484Z"
   },
   {
    "duration": 19,
    "start_time": "2025-03-06T09:30:04.746Z"
   },
   {
    "duration": 24,
    "start_time": "2025-03-06T09:30:04.766Z"
   },
   {
    "duration": 88,
    "start_time": "2025-03-06T09:30:04.792Z"
   },
   {
    "duration": 102,
    "start_time": "2025-03-06T09:30:04.882Z"
   },
   {
    "duration": 6,
    "start_time": "2025-03-06T09:30:04.985Z"
   },
   {
    "duration": 15,
    "start_time": "2025-03-06T09:30:04.993Z"
   },
   {
    "duration": 51,
    "start_time": "2025-03-06T09:30:05.010Z"
   },
   {
    "duration": 37,
    "start_time": "2025-03-06T09:30:05.063Z"
   },
   {
    "duration": 15,
    "start_time": "2025-03-06T09:30:05.101Z"
   },
   {
    "duration": 11,
    "start_time": "2025-03-06T09:30:05.119Z"
   },
   {
    "duration": 60,
    "start_time": "2025-03-06T09:30:05.132Z"
   },
   {
    "duration": 41,
    "start_time": "2025-03-06T09:30:05.194Z"
   },
   {
    "duration": 215,
    "start_time": "2025-03-06T09:30:05.236Z"
   },
   {
    "duration": 76,
    "start_time": "2025-03-06T09:30:05.457Z"
   },
   {
    "duration": 334,
    "start_time": "2025-03-06T09:30:05.535Z"
   },
   {
    "duration": 97,
    "start_time": "2025-03-06T09:30:05.870Z"
   },
   {
    "duration": 17,
    "start_time": "2025-03-06T09:30:05.969Z"
   },
   {
    "duration": 1905,
    "start_time": "2025-03-06T09:30:05.987Z"
   },
   {
    "duration": 722,
    "start_time": "2025-03-06T09:30:07.894Z"
   },
   {
    "duration": 18,
    "start_time": "2025-03-06T09:30:08.618Z"
   },
   {
    "duration": 333,
    "start_time": "2025-03-06T09:30:08.637Z"
   },
   {
    "duration": 288,
    "start_time": "2025-03-06T09:30:08.972Z"
   },
   {
    "duration": 4,
    "start_time": "2025-03-06T09:30:09.262Z"
   },
   {
    "duration": 44,
    "start_time": "2025-03-06T09:30:09.268Z"
   },
   {
    "duration": 17,
    "start_time": "2025-03-06T09:30:09.313Z"
   },
   {
    "duration": 138,
    "start_time": "2025-03-06T09:30:09.332Z"
   },
   {
    "duration": 119,
    "start_time": "2025-03-06T09:30:09.471Z"
   },
   {
    "duration": 27,
    "start_time": "2025-03-06T09:30:09.592Z"
   },
   {
    "duration": 69,
    "start_time": "2025-03-06T09:30:09.620Z"
   },
   {
    "duration": 32,
    "start_time": "2025-03-06T09:30:09.690Z"
   },
   {
    "duration": 87,
    "start_time": "2025-03-06T09:30:09.723Z"
   },
   {
    "duration": 76,
    "start_time": "2025-03-06T09:30:46.834Z"
   },
   {
    "duration": 168,
    "start_time": "2025-03-06T09:40:12.246Z"
   },
   {
    "duration": 168,
    "start_time": "2025-03-06T09:40:52.719Z"
   },
   {
    "duration": 121,
    "start_time": "2025-03-06T09:56:00.086Z"
   },
   {
    "duration": 9,
    "start_time": "2025-03-06T09:56:30.642Z"
   },
   {
    "duration": 22,
    "start_time": "2025-03-06T09:57:50.142Z"
   },
   {
    "duration": 37,
    "start_time": "2025-03-06T09:58:08.302Z"
   },
   {
    "duration": 27,
    "start_time": "2025-03-06T09:58:55.947Z"
   },
   {
    "duration": 22,
    "start_time": "2025-03-06T09:59:37.947Z"
   },
   {
    "duration": 22,
    "start_time": "2025-03-06T09:59:56.759Z"
   },
   {
    "duration": 34,
    "start_time": "2025-03-06T10:00:14.538Z"
   },
   {
    "duration": 1233,
    "start_time": "2025-03-06T11:26:52.115Z"
   },
   {
    "duration": 3610,
    "start_time": "2025-03-06T11:27:31.195Z"
   },
   {
    "duration": 2475,
    "start_time": "2025-03-06T11:27:34.807Z"
   },
   {
    "duration": 29,
    "start_time": "2025-03-06T11:27:37.284Z"
   },
   {
    "duration": 184,
    "start_time": "2025-03-06T11:27:37.315Z"
   },
   {
    "duration": 5,
    "start_time": "2025-03-06T11:27:37.502Z"
   },
   {
    "duration": 9,
    "start_time": "2025-03-06T11:27:37.508Z"
   },
   {
    "duration": 14,
    "start_time": "2025-03-06T11:27:37.519Z"
   },
   {
    "duration": 24,
    "start_time": "2025-03-06T11:27:37.534Z"
   },
   {
    "duration": 41,
    "start_time": "2025-03-06T11:27:37.560Z"
   },
   {
    "duration": 7,
    "start_time": "2025-03-06T11:27:37.603Z"
   },
   {
    "duration": 46,
    "start_time": "2025-03-06T11:27:37.611Z"
   },
   {
    "duration": 8,
    "start_time": "2025-03-06T11:27:37.659Z"
   },
   {
    "duration": 41,
    "start_time": "2025-03-06T11:27:37.668Z"
   },
   {
    "duration": 10,
    "start_time": "2025-03-06T11:27:37.712Z"
   },
   {
    "duration": 23,
    "start_time": "2025-03-06T11:27:37.724Z"
   },
   {
    "duration": 12,
    "start_time": "2025-03-06T11:27:37.749Z"
   },
   {
    "duration": 12,
    "start_time": "2025-03-06T11:27:37.762Z"
   },
   {
    "duration": 248,
    "start_time": "2025-03-06T11:27:37.776Z"
   },
   {
    "duration": 15,
    "start_time": "2025-03-06T11:27:38.026Z"
   },
   {
    "duration": 37,
    "start_time": "2025-03-06T11:27:38.043Z"
   },
   {
    "duration": 84,
    "start_time": "2025-03-06T11:27:38.082Z"
   },
   {
    "duration": 88,
    "start_time": "2025-03-06T11:27:38.168Z"
   },
   {
    "duration": 7,
    "start_time": "2025-03-06T11:27:38.258Z"
   },
   {
    "duration": 7,
    "start_time": "2025-03-06T11:27:38.266Z"
   },
   {
    "duration": 41,
    "start_time": "2025-03-06T11:27:38.275Z"
   },
   {
    "duration": 62,
    "start_time": "2025-03-06T11:27:38.317Z"
   },
   {
    "duration": 13,
    "start_time": "2025-03-06T11:27:38.381Z"
   },
   {
    "duration": 15,
    "start_time": "2025-03-06T11:27:38.396Z"
   },
   {
    "duration": 22,
    "start_time": "2025-03-06T11:27:38.412Z"
   },
   {
    "duration": 22,
    "start_time": "2025-03-06T11:27:38.458Z"
   },
   {
    "duration": 227,
    "start_time": "2025-03-06T11:27:38.483Z"
   },
   {
    "duration": 85,
    "start_time": "2025-03-06T11:27:38.712Z"
   },
   {
    "duration": 334,
    "start_time": "2025-03-06T11:27:38.799Z"
   },
   {
    "duration": 94,
    "start_time": "2025-03-06T11:27:39.135Z"
   },
   {
    "duration": 62,
    "start_time": "2025-03-06T11:27:39.231Z"
   },
   {
    "duration": 1912,
    "start_time": "2025-03-06T11:27:39.295Z"
   },
   {
    "duration": 744,
    "start_time": "2025-03-06T11:27:41.209Z"
   },
   {
    "duration": 17,
    "start_time": "2025-03-06T11:27:41.955Z"
   },
   {
    "duration": 371,
    "start_time": "2025-03-06T11:27:41.974Z"
   },
   {
    "duration": 271,
    "start_time": "2025-03-06T11:27:42.357Z"
   },
   {
    "duration": 179,
    "start_time": "2025-03-06T11:27:42.632Z"
   },
   {
    "duration": 4,
    "start_time": "2025-03-06T11:27:42.813Z"
   },
   {
    "duration": 98,
    "start_time": "2025-03-06T11:27:42.818Z"
   },
   {
    "duration": 17,
    "start_time": "2025-03-06T11:27:42.918Z"
   },
   {
    "duration": 105,
    "start_time": "2025-03-06T11:27:42.937Z"
   },
   {
    "duration": 107,
    "start_time": "2025-03-06T11:27:43.044Z"
   },
   {
    "duration": 30,
    "start_time": "2025-03-06T11:27:43.152Z"
   },
   {
    "duration": 126,
    "start_time": "2025-03-06T11:27:43.183Z"
   },
   {
    "duration": 26,
    "start_time": "2025-03-06T11:27:43.311Z"
   },
   {
    "duration": 77,
    "start_time": "2025-03-06T11:27:43.339Z"
   },
   {
    "duration": 12,
    "start_time": "2025-03-06T11:27:43.417Z"
   },
   {
    "duration": 1264,
    "start_time": "2025-03-06T11:27:43.430Z"
   },
   {
    "duration": 38,
    "start_time": "2025-03-06T11:28:46.048Z"
   },
   {
    "duration": 104,
    "start_time": "2025-03-06T11:51:42.482Z"
   },
   {
    "duration": 130,
    "start_time": "2025-03-06T11:53:17.342Z"
   },
   {
    "duration": 52,
    "start_time": "2025-03-06T11:53:41.714Z"
   },
   {
    "duration": 31,
    "start_time": "2025-03-06T11:59:06.041Z"
   },
   {
    "duration": 31,
    "start_time": "2025-03-06T11:59:15.293Z"
   },
   {
    "duration": 23,
    "start_time": "2025-03-06T12:00:26.354Z"
   },
   {
    "duration": 36,
    "start_time": "2025-03-06T12:00:47.361Z"
   },
   {
    "duration": 40,
    "start_time": "2025-03-06T12:04:38.401Z"
   },
   {
    "duration": 3606,
    "start_time": "2025-03-06T12:10:15.044Z"
   },
   {
    "duration": 2464,
    "start_time": "2025-03-06T12:10:18.652Z"
   },
   {
    "duration": 29,
    "start_time": "2025-03-06T12:10:21.117Z"
   },
   {
    "duration": 102,
    "start_time": "2025-03-06T12:10:21.148Z"
   },
   {
    "duration": 7,
    "start_time": "2025-03-06T12:10:21.251Z"
   },
   {
    "duration": 63,
    "start_time": "2025-03-06T12:10:21.260Z"
   },
   {
    "duration": 72,
    "start_time": "2025-03-06T12:10:21.324Z"
   },
   {
    "duration": 16,
    "start_time": "2025-03-06T12:10:21.398Z"
   },
   {
    "duration": 44,
    "start_time": "2025-03-06T12:10:21.416Z"
   },
   {
    "duration": 50,
    "start_time": "2025-03-06T12:10:21.462Z"
   },
   {
    "duration": 45,
    "start_time": "2025-03-06T12:10:21.514Z"
   },
   {
    "duration": 10,
    "start_time": "2025-03-06T12:10:21.562Z"
   },
   {
    "duration": 36,
    "start_time": "2025-03-06T12:10:21.575Z"
   },
   {
    "duration": 11,
    "start_time": "2025-03-06T12:10:21.613Z"
   },
   {
    "duration": 44,
    "start_time": "2025-03-06T12:10:21.625Z"
   },
   {
    "duration": 7,
    "start_time": "2025-03-06T12:10:21.670Z"
   },
   {
    "duration": 13,
    "start_time": "2025-03-06T12:10:21.678Z"
   },
   {
    "duration": 242,
    "start_time": "2025-03-06T12:10:21.693Z"
   },
   {
    "duration": 27,
    "start_time": "2025-03-06T12:10:21.936Z"
   },
   {
    "duration": 153,
    "start_time": "2025-03-06T12:10:21.965Z"
   },
   {
    "duration": 79,
    "start_time": "2025-03-06T12:10:22.120Z"
   },
   {
    "duration": 76,
    "start_time": "2025-03-06T12:10:22.200Z"
   },
   {
    "duration": 6,
    "start_time": "2025-03-06T12:10:22.278Z"
   },
   {
    "duration": 7,
    "start_time": "2025-03-06T12:10:22.285Z"
   },
   {
    "duration": 34,
    "start_time": "2025-03-06T12:10:22.293Z"
   },
   {
    "duration": 62,
    "start_time": "2025-03-06T12:10:22.329Z"
   },
   {
    "duration": 12,
    "start_time": "2025-03-06T12:10:22.393Z"
   },
   {
    "duration": 24,
    "start_time": "2025-03-06T12:10:22.409Z"
   },
   {
    "duration": 33,
    "start_time": "2025-03-06T12:10:22.435Z"
   },
   {
    "duration": 21,
    "start_time": "2025-03-06T12:10:22.470Z"
   },
   {
    "duration": 222,
    "start_time": "2025-03-06T12:10:22.493Z"
   },
   {
    "duration": 84,
    "start_time": "2025-03-06T12:10:22.717Z"
   },
   {
    "duration": 315,
    "start_time": "2025-03-06T12:10:22.803Z"
   },
   {
    "duration": 98,
    "start_time": "2025-03-06T12:10:23.120Z"
   },
   {
    "duration": 14,
    "start_time": "2025-03-06T12:10:23.220Z"
   },
   {
    "duration": 2032,
    "start_time": "2025-03-06T12:10:23.236Z"
   },
   {
    "duration": 696,
    "start_time": "2025-03-06T12:10:25.270Z"
   },
   {
    "duration": 17,
    "start_time": "2025-03-06T12:10:25.967Z"
   },
   {
    "duration": 364,
    "start_time": "2025-03-06T12:10:25.985Z"
   },
   {
    "duration": 276,
    "start_time": "2025-03-06T12:10:26.357Z"
   },
   {
    "duration": 189,
    "start_time": "2025-03-06T12:10:26.635Z"
   },
   {
    "duration": 5,
    "start_time": "2025-03-06T12:10:26.826Z"
   },
   {
    "duration": 61,
    "start_time": "2025-03-06T12:10:26.832Z"
   },
   {
    "duration": 19,
    "start_time": "2025-03-06T12:10:26.895Z"
   },
   {
    "duration": 122,
    "start_time": "2025-03-06T12:10:26.916Z"
   },
   {
    "duration": 105,
    "start_time": "2025-03-06T12:10:27.040Z"
   },
   {
    "duration": 42,
    "start_time": "2025-03-06T12:10:27.147Z"
   },
   {
    "duration": 28,
    "start_time": "2025-03-06T12:10:27.191Z"
   },
   {
    "duration": 46,
    "start_time": "2025-03-06T12:10:27.221Z"
   },
   {
    "duration": 146,
    "start_time": "2025-03-06T12:10:27.269Z"
   },
   {
    "duration": 14,
    "start_time": "2025-03-06T12:10:27.417Z"
   },
   {
    "duration": 36,
    "start_time": "2025-03-06T12:10:27.432Z"
   },
   {
    "duration": 81,
    "start_time": "2025-03-06T12:10:27.470Z"
   },
   {
    "duration": 43,
    "start_time": "2025-03-06T12:10:27.553Z"
   },
   {
    "duration": 44,
    "start_time": "2025-03-06T12:14:50.155Z"
   },
   {
    "duration": 29,
    "start_time": "2025-03-06T12:15:05.702Z"
   },
   {
    "duration": 48,
    "start_time": "2025-03-06T12:18:16.402Z"
   },
   {
    "duration": 3690,
    "start_time": "2025-03-06T12:19:17.881Z"
   },
   {
    "duration": 1894,
    "start_time": "2025-03-06T12:19:21.574Z"
   },
   {
    "duration": 28,
    "start_time": "2025-03-06T12:19:23.470Z"
   },
   {
    "duration": 126,
    "start_time": "2025-03-06T12:19:23.500Z"
   },
   {
    "duration": 5,
    "start_time": "2025-03-06T12:19:23.629Z"
   },
   {
    "duration": 23,
    "start_time": "2025-03-06T12:19:23.636Z"
   },
   {
    "duration": 12,
    "start_time": "2025-03-06T12:19:23.661Z"
   },
   {
    "duration": 9,
    "start_time": "2025-03-06T12:19:23.675Z"
   },
   {
    "duration": 44,
    "start_time": "2025-03-06T12:19:23.686Z"
   },
   {
    "duration": 29,
    "start_time": "2025-03-06T12:19:23.732Z"
   },
   {
    "duration": 22,
    "start_time": "2025-03-06T12:19:23.763Z"
   },
   {
    "duration": 9,
    "start_time": "2025-03-06T12:19:23.787Z"
   },
   {
    "duration": 25,
    "start_time": "2025-03-06T12:19:23.798Z"
   },
   {
    "duration": 10,
    "start_time": "2025-03-06T12:19:23.859Z"
   },
   {
    "duration": 13,
    "start_time": "2025-03-06T12:19:23.871Z"
   },
   {
    "duration": 7,
    "start_time": "2025-03-06T12:19:23.885Z"
   },
   {
    "duration": 11,
    "start_time": "2025-03-06T12:19:23.894Z"
   },
   {
    "duration": 260,
    "start_time": "2025-03-06T12:19:23.907Z"
   },
   {
    "duration": 15,
    "start_time": "2025-03-06T12:19:24.169Z"
   },
   {
    "duration": 25,
    "start_time": "2025-03-06T12:19:24.185Z"
   },
   {
    "duration": 112,
    "start_time": "2025-03-06T12:19:24.212Z"
   },
   {
    "duration": 87,
    "start_time": "2025-03-06T12:19:24.327Z"
   },
   {
    "duration": 6,
    "start_time": "2025-03-06T12:19:24.416Z"
   },
   {
    "duration": 7,
    "start_time": "2025-03-06T12:19:24.423Z"
   },
   {
    "duration": 54,
    "start_time": "2025-03-06T12:19:24.431Z"
   },
   {
    "duration": 37,
    "start_time": "2025-03-06T12:19:24.487Z"
   },
   {
    "duration": 11,
    "start_time": "2025-03-06T12:19:24.526Z"
   },
   {
    "duration": 13,
    "start_time": "2025-03-06T12:19:24.557Z"
   },
   {
    "duration": 24,
    "start_time": "2025-03-06T12:19:24.571Z"
   },
   {
    "duration": 20,
    "start_time": "2025-03-06T12:19:24.597Z"
   },
   {
    "duration": 235,
    "start_time": "2025-03-06T12:19:24.618Z"
   },
   {
    "duration": 77,
    "start_time": "2025-03-06T12:19:24.858Z"
   },
   {
    "duration": 365,
    "start_time": "2025-03-06T12:19:24.936Z"
   },
   {
    "duration": 104,
    "start_time": "2025-03-06T12:19:25.303Z"
   },
   {
    "duration": 15,
    "start_time": "2025-03-06T12:19:25.409Z"
   },
   {
    "duration": 1954,
    "start_time": "2025-03-06T12:19:25.426Z"
   },
   {
    "duration": 736,
    "start_time": "2025-03-06T12:19:27.382Z"
   },
   {
    "duration": 19,
    "start_time": "2025-03-06T12:19:28.120Z"
   },
   {
    "duration": 366,
    "start_time": "2025-03-06T12:19:28.141Z"
   },
   {
    "duration": 327,
    "start_time": "2025-03-06T12:19:28.509Z"
   },
   {
    "duration": 228,
    "start_time": "2025-03-06T12:19:28.840Z"
   },
   {
    "duration": 5,
    "start_time": "2025-03-06T12:19:29.069Z"
   },
   {
    "duration": 97,
    "start_time": "2025-03-06T12:19:29.075Z"
   },
   {
    "duration": 31,
    "start_time": "2025-03-06T12:19:29.174Z"
   },
   {
    "duration": 283,
    "start_time": "2025-03-06T12:19:29.207Z"
   },
   {
    "duration": 272,
    "start_time": "2025-03-06T12:19:29.492Z"
   },
   {
    "duration": 58,
    "start_time": "2025-03-06T12:19:29.766Z"
   },
   {
    "duration": 67,
    "start_time": "2025-03-06T12:19:29.826Z"
   },
   {
    "duration": 49,
    "start_time": "2025-03-06T12:19:29.895Z"
   },
   {
    "duration": 72,
    "start_time": "2025-03-06T12:19:29.946Z"
   },
   {
    "duration": 58,
    "start_time": "2025-03-06T12:19:30.020Z"
   },
   {
    "duration": 129,
    "start_time": "2025-03-06T12:19:30.080Z"
   },
   {
    "duration": 44,
    "start_time": "2025-03-06T12:19:30.211Z"
   },
   {
    "duration": 124,
    "start_time": "2025-03-06T12:19:30.258Z"
   },
   {
    "duration": 3736,
    "start_time": "2025-03-06T12:21:38.502Z"
   },
   {
    "duration": 3467,
    "start_time": "2025-03-06T12:21:42.241Z"
   },
   {
    "duration": 28,
    "start_time": "2025-03-06T12:21:45.710Z"
   },
   {
    "duration": 100,
    "start_time": "2025-03-06T12:21:45.740Z"
   },
   {
    "duration": 6,
    "start_time": "2025-03-06T12:21:45.842Z"
   },
   {
    "duration": 9,
    "start_time": "2025-03-06T12:21:45.858Z"
   },
   {
    "duration": 23,
    "start_time": "2025-03-06T12:21:45.868Z"
   },
   {
    "duration": 23,
    "start_time": "2025-03-06T12:21:45.892Z"
   },
   {
    "duration": 50,
    "start_time": "2025-03-06T12:21:45.917Z"
   },
   {
    "duration": 7,
    "start_time": "2025-03-06T12:21:45.969Z"
   },
   {
    "duration": 40,
    "start_time": "2025-03-06T12:21:45.978Z"
   },
   {
    "duration": 8,
    "start_time": "2025-03-06T12:21:46.020Z"
   },
   {
    "duration": 39,
    "start_time": "2025-03-06T12:21:46.030Z"
   },
   {
    "duration": 85,
    "start_time": "2025-03-06T12:21:46.073Z"
   },
   {
    "duration": 31,
    "start_time": "2025-03-06T12:21:46.160Z"
   },
   {
    "duration": 9,
    "start_time": "2025-03-06T12:21:46.193Z"
   },
   {
    "duration": 53,
    "start_time": "2025-03-06T12:21:46.203Z"
   },
   {
    "duration": 273,
    "start_time": "2025-03-06T12:21:46.259Z"
   },
   {
    "duration": 31,
    "start_time": "2025-03-06T12:21:46.534Z"
   },
   {
    "duration": 43,
    "start_time": "2025-03-06T12:21:46.568Z"
   },
   {
    "duration": 94,
    "start_time": "2025-03-06T12:21:46.612Z"
   },
   {
    "duration": 87,
    "start_time": "2025-03-06T12:21:46.708Z"
   },
   {
    "duration": 7,
    "start_time": "2025-03-06T12:21:46.797Z"
   },
   {
    "duration": 8,
    "start_time": "2025-03-06T12:21:46.806Z"
   },
   {
    "duration": 59,
    "start_time": "2025-03-06T12:21:46.816Z"
   },
   {
    "duration": 36,
    "start_time": "2025-03-06T12:21:46.877Z"
   },
   {
    "duration": 19,
    "start_time": "2025-03-06T12:21:46.915Z"
   },
   {
    "duration": 19,
    "start_time": "2025-03-06T12:21:46.959Z"
   },
   {
    "duration": 91,
    "start_time": "2025-03-06T12:21:46.980Z"
   },
   {
    "duration": 24,
    "start_time": "2025-03-06T12:21:47.073Z"
   },
   {
    "duration": 231,
    "start_time": "2025-03-06T12:21:47.099Z"
   },
   {
    "duration": 85,
    "start_time": "2025-03-06T12:21:47.331Z"
   },
   {
    "duration": 357,
    "start_time": "2025-03-06T12:21:47.418Z"
   },
   {
    "duration": 102,
    "start_time": "2025-03-06T12:21:47.777Z"
   },
   {
    "duration": 15,
    "start_time": "2025-03-06T12:21:47.881Z"
   },
   {
    "duration": 1987,
    "start_time": "2025-03-06T12:21:47.898Z"
   },
   {
    "duration": 740,
    "start_time": "2025-03-06T12:21:49.887Z"
   },
   {
    "duration": 29,
    "start_time": "2025-03-06T12:21:50.629Z"
   },
   {
    "duration": 385,
    "start_time": "2025-03-06T12:21:50.659Z"
   },
   {
    "duration": 382,
    "start_time": "2025-03-06T12:21:51.046Z"
   },
   {
    "duration": 248,
    "start_time": "2025-03-06T12:21:51.433Z"
   },
   {
    "duration": 4,
    "start_time": "2025-03-06T12:21:51.682Z"
   },
   {
    "duration": 102,
    "start_time": "2025-03-06T12:21:51.688Z"
   },
   {
    "duration": 38,
    "start_time": "2025-03-06T12:21:51.792Z"
   },
   {
    "duration": 302,
    "start_time": "2025-03-06T12:21:51.832Z"
   },
   {
    "duration": 286,
    "start_time": "2025-03-06T12:21:52.135Z"
   },
   {
    "duration": 68,
    "start_time": "2025-03-06T12:21:52.423Z"
   },
   {
    "duration": 53,
    "start_time": "2025-03-06T12:21:52.492Z"
   },
   {
    "duration": 62,
    "start_time": "2025-03-06T12:21:52.546Z"
   },
   {
    "duration": 77,
    "start_time": "2025-03-06T12:21:52.610Z"
   },
   {
    "duration": 14,
    "start_time": "2025-03-06T12:21:52.688Z"
   },
   {
    "duration": 74,
    "start_time": "2025-03-06T12:21:52.704Z"
   },
   {
    "duration": 48,
    "start_time": "2025-03-06T12:21:52.780Z"
   },
   {
    "duration": 81,
    "start_time": "2025-03-06T12:21:52.829Z"
   },
   {
    "duration": 58,
    "start_time": "2025-03-06T12:41:53.462Z"
   },
   {
    "duration": 63,
    "start_time": "2025-03-06T13:23:17.156Z"
   },
   {
    "duration": 104,
    "start_time": "2025-03-06T13:27:29.704Z"
   },
   {
    "duration": 3677,
    "start_time": "2025-03-06T13:27:45.356Z"
   },
   {
    "duration": 2950,
    "start_time": "2025-03-06T13:27:49.037Z"
   },
   {
    "duration": 47,
    "start_time": "2025-03-06T13:27:51.990Z"
   },
   {
    "duration": 105,
    "start_time": "2025-03-06T13:27:52.040Z"
   },
   {
    "duration": 15,
    "start_time": "2025-03-06T13:27:52.147Z"
   },
   {
    "duration": 10,
    "start_time": "2025-03-06T13:27:52.164Z"
   },
   {
    "duration": 18,
    "start_time": "2025-03-06T13:27:52.176Z"
   },
   {
    "duration": 20,
    "start_time": "2025-03-06T13:27:52.196Z"
   },
   {
    "duration": 116,
    "start_time": "2025-03-06T13:27:52.218Z"
   },
   {
    "duration": 9,
    "start_time": "2025-03-06T13:27:52.338Z"
   },
   {
    "duration": 22,
    "start_time": "2025-03-06T13:27:52.349Z"
   },
   {
    "duration": 9,
    "start_time": "2025-03-06T13:27:52.373Z"
   },
   {
    "duration": 39,
    "start_time": "2025-03-06T13:27:52.386Z"
   },
   {
    "duration": 75,
    "start_time": "2025-03-06T13:27:52.427Z"
   },
   {
    "duration": 14,
    "start_time": "2025-03-06T13:27:52.504Z"
   },
   {
    "duration": 17,
    "start_time": "2025-03-06T13:27:52.520Z"
   },
   {
    "duration": 10,
    "start_time": "2025-03-06T13:27:52.539Z"
   },
   {
    "duration": 225,
    "start_time": "2025-03-06T13:27:52.551Z"
   },
   {
    "duration": 14,
    "start_time": "2025-03-06T13:27:52.778Z"
   },
   {
    "duration": 33,
    "start_time": "2025-03-06T13:27:52.794Z"
   },
   {
    "duration": 90,
    "start_time": "2025-03-06T13:27:52.829Z"
   },
   {
    "duration": 95,
    "start_time": "2025-03-06T13:27:52.921Z"
   },
   {
    "duration": 7,
    "start_time": "2025-03-06T13:27:53.018Z"
   },
   {
    "duration": 9,
    "start_time": "2025-03-06T13:27:53.027Z"
   },
   {
    "duration": 74,
    "start_time": "2025-03-06T13:27:53.039Z"
   },
   {
    "duration": 46,
    "start_time": "2025-03-06T13:27:53.115Z"
   },
   {
    "duration": 20,
    "start_time": "2025-03-06T13:27:53.164Z"
   },
   {
    "duration": 76,
    "start_time": "2025-03-06T13:27:53.190Z"
   },
   {
    "duration": 25,
    "start_time": "2025-03-06T13:27:53.267Z"
   },
   {
    "duration": 21,
    "start_time": "2025-03-06T13:27:53.294Z"
   },
   {
    "duration": 234,
    "start_time": "2025-03-06T13:27:53.317Z"
   },
   {
    "duration": 85,
    "start_time": "2025-03-06T13:27:53.553Z"
   },
   {
    "duration": 366,
    "start_time": "2025-03-06T13:27:53.640Z"
   },
   {
    "duration": 103,
    "start_time": "2025-03-06T13:27:54.008Z"
   },
   {
    "duration": 16,
    "start_time": "2025-03-06T13:27:54.113Z"
   },
   {
    "duration": 2014,
    "start_time": "2025-03-06T13:27:54.130Z"
   },
   {
    "duration": 743,
    "start_time": "2025-03-06T13:27:56.146Z"
   },
   {
    "duration": 17,
    "start_time": "2025-03-06T13:27:56.891Z"
   },
   {
    "duration": 351,
    "start_time": "2025-03-06T13:27:56.910Z"
   },
   {
    "duration": 331,
    "start_time": "2025-03-06T13:27:57.263Z"
   },
   {
    "duration": 223,
    "start_time": "2025-03-06T13:27:57.596Z"
   },
   {
    "duration": 5,
    "start_time": "2025-03-06T13:27:57.821Z"
   },
   {
    "duration": 103,
    "start_time": "2025-03-06T13:27:57.828Z"
   },
   {
    "duration": 50,
    "start_time": "2025-03-06T13:27:57.933Z"
   },
   {
    "duration": 301,
    "start_time": "2025-03-06T13:27:57.985Z"
   },
   {
    "duration": 298,
    "start_time": "2025-03-06T13:27:58.287Z"
   },
   {
    "duration": 60,
    "start_time": "2025-03-06T13:27:58.587Z"
   },
   {
    "duration": 54,
    "start_time": "2025-03-06T13:27:58.659Z"
   },
   {
    "duration": 63,
    "start_time": "2025-03-06T13:27:58.715Z"
   },
   {
    "duration": 64,
    "start_time": "2025-03-06T13:27:58.780Z"
   },
   {
    "duration": 16,
    "start_time": "2025-03-06T13:27:58.858Z"
   },
   {
    "duration": 48,
    "start_time": "2025-03-06T13:27:58.876Z"
   },
   {
    "duration": 91,
    "start_time": "2025-03-06T13:27:58.926Z"
   },
   {
    "duration": 99,
    "start_time": "2025-03-06T13:37:34.235Z"
   },
   {
    "duration": 11,
    "start_time": "2025-03-06T14:26:25.139Z"
   },
   {
    "duration": 1526,
    "start_time": "2025-03-06T14:28:20.237Z"
   },
   {
    "duration": 121,
    "start_time": "2025-03-06T14:28:40.049Z"
   },
   {
    "duration": 512,
    "start_time": "2025-03-06T14:29:50.997Z"
   },
   {
    "duration": 60,
    "start_time": "2025-03-06T14:32:24.929Z"
   },
   {
    "duration": 54,
    "start_time": "2025-03-06T14:33:17.190Z"
   },
   {
    "duration": 18,
    "start_time": "2025-03-06T14:49:26.752Z"
   },
   {
    "duration": 3603,
    "start_time": "2025-03-06T14:50:57.935Z"
   },
   {
    "duration": 3194,
    "start_time": "2025-03-06T14:51:01.540Z"
   },
   {
    "duration": 29,
    "start_time": "2025-03-06T14:51:04.736Z"
   },
   {
    "duration": 103,
    "start_time": "2025-03-06T14:51:04.767Z"
   },
   {
    "duration": 5,
    "start_time": "2025-03-06T14:51:04.872Z"
   },
   {
    "duration": 9,
    "start_time": "2025-03-06T14:51:04.878Z"
   },
   {
    "duration": 10,
    "start_time": "2025-03-06T14:51:04.888Z"
   },
   {
    "duration": 12,
    "start_time": "2025-03-06T14:51:04.900Z"
   },
   {
    "duration": 71,
    "start_time": "2025-03-06T14:51:04.914Z"
   },
   {
    "duration": 7,
    "start_time": "2025-03-06T14:51:04.987Z"
   },
   {
    "duration": 29,
    "start_time": "2025-03-06T14:51:04.995Z"
   },
   {
    "duration": 15,
    "start_time": "2025-03-06T14:51:05.026Z"
   },
   {
    "duration": 31,
    "start_time": "2025-03-06T14:51:05.042Z"
   },
   {
    "duration": 10,
    "start_time": "2025-03-06T14:51:05.076Z"
   },
   {
    "duration": 14,
    "start_time": "2025-03-06T14:51:05.087Z"
   },
   {
    "duration": 35,
    "start_time": "2025-03-06T14:51:05.102Z"
   },
   {
    "duration": 16,
    "start_time": "2025-03-06T14:51:05.139Z"
   },
   {
    "duration": 258,
    "start_time": "2025-03-06T14:51:05.157Z"
   },
   {
    "duration": 14,
    "start_time": "2025-03-06T14:51:05.417Z"
   },
   {
    "duration": 70,
    "start_time": "2025-03-06T14:51:05.432Z"
   },
   {
    "duration": 120,
    "start_time": "2025-03-06T14:51:05.504Z"
   },
   {
    "duration": 81,
    "start_time": "2025-03-06T14:51:05.625Z"
   },
   {
    "duration": 6,
    "start_time": "2025-03-06T14:51:05.708Z"
   },
   {
    "duration": 31,
    "start_time": "2025-03-06T14:51:05.716Z"
   },
   {
    "duration": 104,
    "start_time": "2025-03-06T14:51:05.748Z"
   },
   {
    "duration": 36,
    "start_time": "2025-03-06T14:51:05.854Z"
   },
   {
    "duration": 10,
    "start_time": "2025-03-06T14:51:05.892Z"
   },
   {
    "duration": 35,
    "start_time": "2025-03-06T14:51:05.903Z"
   },
   {
    "duration": 37,
    "start_time": "2025-03-06T14:51:05.940Z"
   },
   {
    "duration": 20,
    "start_time": "2025-03-06T14:51:05.979Z"
   },
   {
    "duration": 223,
    "start_time": "2025-03-06T14:51:06.001Z"
   },
   {
    "duration": 84,
    "start_time": "2025-03-06T14:51:06.225Z"
   },
   {
    "duration": 325,
    "start_time": "2025-03-06T14:51:06.310Z"
   },
   {
    "duration": 102,
    "start_time": "2025-03-06T14:51:06.636Z"
   },
   {
    "duration": 19,
    "start_time": "2025-03-06T14:51:06.740Z"
   },
   {
    "duration": 1874,
    "start_time": "2025-03-06T14:51:06.761Z"
   },
   {
    "duration": 721,
    "start_time": "2025-03-06T14:51:08.637Z"
   },
   {
    "duration": 17,
    "start_time": "2025-03-06T14:51:09.359Z"
   },
   {
    "duration": 348,
    "start_time": "2025-03-06T14:51:09.378Z"
   },
   {
    "duration": 311,
    "start_time": "2025-03-06T14:51:09.727Z"
   },
   {
    "duration": 221,
    "start_time": "2025-03-06T14:51:10.042Z"
   },
   {
    "duration": 4,
    "start_time": "2025-03-06T14:51:10.264Z"
   },
   {
    "duration": 102,
    "start_time": "2025-03-06T14:51:10.270Z"
   },
   {
    "duration": 31,
    "start_time": "2025-03-06T14:51:10.374Z"
   },
   {
    "duration": 279,
    "start_time": "2025-03-06T14:51:10.407Z"
   },
   {
    "duration": 272,
    "start_time": "2025-03-06T14:51:10.688Z"
   },
   {
    "duration": 65,
    "start_time": "2025-03-06T14:51:10.961Z"
   },
   {
    "duration": 68,
    "start_time": "2025-03-06T14:51:11.029Z"
   },
   {
    "duration": 66,
    "start_time": "2025-03-06T14:51:11.101Z"
   },
   {
    "duration": 64,
    "start_time": "2025-03-06T14:51:11.168Z"
   },
   {
    "duration": 25,
    "start_time": "2025-03-06T14:51:11.234Z"
   },
   {
    "duration": 45,
    "start_time": "2025-03-06T14:51:11.261Z"
   },
   {
    "duration": 70,
    "start_time": "2025-03-06T14:51:11.308Z"
   },
   {
    "duration": 9,
    "start_time": "2025-03-06T14:51:11.380Z"
   },
   {
    "duration": 137,
    "start_time": "2025-03-06T14:51:11.390Z"
   },
   {
    "duration": 588,
    "start_time": "2025-03-06T14:51:11.529Z"
   },
   {
    "duration": 202,
    "start_time": "2025-03-06T14:51:12.118Z"
   },
   {
    "duration": 122,
    "start_time": "2025-03-06T14:55:28.110Z"
   },
   {
    "duration": 15,
    "start_time": "2025-03-06T15:08:07.737Z"
   },
   {
    "duration": 13,
    "start_time": "2025-03-06T15:11:13.477Z"
   },
   {
    "duration": 19,
    "start_time": "2025-03-06T15:11:48.528Z"
   },
   {
    "duration": 10,
    "start_time": "2025-03-06T15:12:06.732Z"
   },
   {
    "duration": 8,
    "start_time": "2025-03-06T15:19:27.815Z"
   },
   {
    "duration": 8,
    "start_time": "2025-03-06T15:19:37.244Z"
   },
   {
    "duration": 3594,
    "start_time": "2025-03-06T15:19:53.942Z"
   },
   {
    "duration": 2438,
    "start_time": "2025-03-06T15:19:57.539Z"
   },
   {
    "duration": 28,
    "start_time": "2025-03-06T15:19:59.979Z"
   },
   {
    "duration": 110,
    "start_time": "2025-03-06T15:20:00.009Z"
   },
   {
    "duration": 5,
    "start_time": "2025-03-06T15:20:00.122Z"
   },
   {
    "duration": 26,
    "start_time": "2025-03-06T15:20:00.128Z"
   },
   {
    "duration": 26,
    "start_time": "2025-03-06T15:20:00.156Z"
   },
   {
    "duration": 8,
    "start_time": "2025-03-06T15:20:00.184Z"
   },
   {
    "duration": 133,
    "start_time": "2025-03-06T15:20:00.194Z"
   },
   {
    "duration": 7,
    "start_time": "2025-03-06T15:20:00.329Z"
   },
   {
    "duration": 41,
    "start_time": "2025-03-06T15:20:00.337Z"
   },
   {
    "duration": 13,
    "start_time": "2025-03-06T15:20:00.379Z"
   },
   {
    "duration": 39,
    "start_time": "2025-03-06T15:20:00.394Z"
   },
   {
    "duration": 18,
    "start_time": "2025-03-06T15:20:00.436Z"
   },
   {
    "duration": 13,
    "start_time": "2025-03-06T15:20:00.456Z"
   },
   {
    "duration": 7,
    "start_time": "2025-03-06T15:20:00.470Z"
   },
   {
    "duration": 9,
    "start_time": "2025-03-06T15:20:00.479Z"
   },
   {
    "duration": 220,
    "start_time": "2025-03-06T15:20:00.490Z"
   },
   {
    "duration": 14,
    "start_time": "2025-03-06T15:20:00.711Z"
   },
   {
    "duration": 103,
    "start_time": "2025-03-06T15:20:00.727Z"
   },
   {
    "duration": 71,
    "start_time": "2025-03-06T15:20:00.832Z"
   },
   {
    "duration": 82,
    "start_time": "2025-03-06T15:20:00.905Z"
   },
   {
    "duration": 7,
    "start_time": "2025-03-06T15:20:00.989Z"
   },
   {
    "duration": 12,
    "start_time": "2025-03-06T15:20:00.998Z"
   },
   {
    "duration": 51,
    "start_time": "2025-03-06T15:20:01.012Z"
   },
   {
    "duration": 37,
    "start_time": "2025-03-06T15:20:01.065Z"
   },
   {
    "duration": 17,
    "start_time": "2025-03-06T15:20:01.103Z"
   },
   {
    "duration": 25,
    "start_time": "2025-03-06T15:20:01.122Z"
   },
   {
    "duration": 33,
    "start_time": "2025-03-06T15:20:01.149Z"
   },
   {
    "duration": 20,
    "start_time": "2025-03-06T15:20:01.184Z"
   },
   {
    "duration": 228,
    "start_time": "2025-03-06T15:20:01.206Z"
   },
   {
    "duration": 104,
    "start_time": "2025-03-06T15:20:01.435Z"
   },
   {
    "duration": 340,
    "start_time": "2025-03-06T15:20:01.541Z"
   },
   {
    "duration": 97,
    "start_time": "2025-03-06T15:20:01.883Z"
   },
   {
    "duration": 15,
    "start_time": "2025-03-06T15:20:01.982Z"
   },
   {
    "duration": 1884,
    "start_time": "2025-03-06T15:20:01.998Z"
   },
   {
    "duration": 713,
    "start_time": "2025-03-06T15:20:03.883Z"
   },
   {
    "duration": 16,
    "start_time": "2025-03-06T15:20:04.598Z"
   },
   {
    "duration": 554,
    "start_time": "2025-03-06T15:20:04.615Z"
   },
   {
    "duration": 325,
    "start_time": "2025-03-06T15:20:05.172Z"
   },
   {
    "duration": 213,
    "start_time": "2025-03-06T15:20:05.501Z"
   },
   {
    "duration": 4,
    "start_time": "2025-03-06T15:20:05.716Z"
   },
   {
    "duration": 147,
    "start_time": "2025-03-06T15:20:05.721Z"
   },
   {
    "duration": 32,
    "start_time": "2025-03-06T15:20:05.869Z"
   },
   {
    "duration": 328,
    "start_time": "2025-03-06T15:20:05.902Z"
   },
   {
    "duration": 287,
    "start_time": "2025-03-06T15:20:06.231Z"
   },
   {
    "duration": 71,
    "start_time": "2025-03-06T15:20:06.519Z"
   },
   {
    "duration": 51,
    "start_time": "2025-03-06T15:20:06.592Z"
   },
   {
    "duration": 116,
    "start_time": "2025-03-06T15:20:06.645Z"
   },
   {
    "duration": 117,
    "start_time": "2025-03-06T15:20:06.763Z"
   },
   {
    "duration": 13,
    "start_time": "2025-03-06T15:20:06.882Z"
   },
   {
    "duration": 46,
    "start_time": "2025-03-06T15:20:06.897Z"
   },
   {
    "duration": 60,
    "start_time": "2025-03-06T15:20:06.958Z"
   },
   {
    "duration": 8,
    "start_time": "2025-03-06T15:20:07.020Z"
   },
   {
    "duration": 139,
    "start_time": "2025-03-06T15:20:07.030Z"
   },
   {
    "duration": 116,
    "start_time": "2025-03-06T15:20:07.171Z"
   },
   {
    "duration": 624,
    "start_time": "2025-03-06T15:20:07.288Z"
   },
   {
    "duration": 8,
    "start_time": "2025-03-06T15:20:20.566Z"
   },
   {
    "duration": 10,
    "start_time": "2025-03-06T15:20:35.105Z"
   },
   {
    "duration": 9,
    "start_time": "2025-03-06T15:20:49.970Z"
   },
   {
    "duration": 9,
    "start_time": "2025-03-06T15:21:21.025Z"
   },
   {
    "duration": 98,
    "start_time": "2025-03-06T15:21:53.185Z"
   },
   {
    "duration": 10,
    "start_time": "2025-03-06T15:22:13.513Z"
   },
   {
    "duration": 116,
    "start_time": "2025-03-06T15:22:26.638Z"
   },
   {
    "duration": 118,
    "start_time": "2025-03-06T15:22:41.225Z"
   },
   {
    "duration": 10,
    "start_time": "2025-03-06T15:23:45.833Z"
   },
   {
    "duration": 10,
    "start_time": "2025-03-06T15:24:19.724Z"
   },
   {
    "duration": 73,
    "start_time": "2025-03-06T15:36:18.123Z"
   },
   {
    "duration": 129,
    "start_time": "2025-03-06T15:36:31.543Z"
   },
   {
    "duration": 1086,
    "start_time": "2025-03-06T16:29:36.317Z"
   },
   {
    "duration": 15,
    "start_time": "2025-03-06T16:36:06.096Z"
   },
   {
    "duration": 25,
    "start_time": "2025-03-06T16:36:18.857Z"
   },
   {
    "duration": 10,
    "start_time": "2025-03-06T16:38:08.707Z"
   },
   {
    "duration": 12,
    "start_time": "2025-03-06T16:41:34.794Z"
   },
   {
    "duration": 13,
    "start_time": "2025-03-06T16:57:43.126Z"
   },
   {
    "duration": 9,
    "start_time": "2025-03-06T16:58:27.098Z"
   },
   {
    "duration": 319,
    "start_time": "2025-03-06T16:59:09.830Z"
   },
   {
    "duration": 17,
    "start_time": "2025-03-06T17:12:03.882Z"
   },
   {
    "duration": 17,
    "start_time": "2025-03-06T17:19:41.814Z"
   },
   {
    "duration": 10125,
    "start_time": "2025-03-07T04:43:36.056Z"
   },
   {
    "duration": 2634,
    "start_time": "2025-03-07T04:43:46.184Z"
   },
   {
    "duration": 28,
    "start_time": "2025-03-07T04:43:48.820Z"
   },
   {
    "duration": 96,
    "start_time": "2025-03-07T04:43:48.849Z"
   },
   {
    "duration": 5,
    "start_time": "2025-03-07T04:43:48.947Z"
   },
   {
    "duration": 18,
    "start_time": "2025-03-07T04:43:48.953Z"
   },
   {
    "duration": 12,
    "start_time": "2025-03-07T04:43:48.972Z"
   },
   {
    "duration": 8,
    "start_time": "2025-03-07T04:43:48.986Z"
   },
   {
    "duration": 48,
    "start_time": "2025-03-07T04:43:48.995Z"
   },
   {
    "duration": 7,
    "start_time": "2025-03-07T04:43:49.045Z"
   },
   {
    "duration": 31,
    "start_time": "2025-03-07T04:43:49.053Z"
   },
   {
    "duration": 13,
    "start_time": "2025-03-07T04:43:49.085Z"
   },
   {
    "duration": 25,
    "start_time": "2025-03-07T04:43:49.099Z"
   },
   {
    "duration": 9,
    "start_time": "2025-03-07T04:43:49.128Z"
   },
   {
    "duration": 37,
    "start_time": "2025-03-07T04:43:49.139Z"
   },
   {
    "duration": 6,
    "start_time": "2025-03-07T04:43:49.178Z"
   },
   {
    "duration": 28,
    "start_time": "2025-03-07T04:43:49.185Z"
   },
   {
    "duration": 212,
    "start_time": "2025-03-07T04:43:49.215Z"
   },
   {
    "duration": 15,
    "start_time": "2025-03-07T04:43:49.429Z"
   },
   {
    "duration": 38,
    "start_time": "2025-03-07T04:43:49.445Z"
   },
   {
    "duration": 83,
    "start_time": "2025-03-07T04:43:49.485Z"
   },
   {
    "duration": 72,
    "start_time": "2025-03-07T04:43:49.570Z"
   },
   {
    "duration": 6,
    "start_time": "2025-03-07T04:43:49.644Z"
   },
   {
    "duration": 7,
    "start_time": "2025-03-07T04:43:49.667Z"
   },
   {
    "duration": 42,
    "start_time": "2025-03-07T04:43:49.676Z"
   },
   {
    "duration": 47,
    "start_time": "2025-03-07T04:43:49.720Z"
   },
   {
    "duration": 11,
    "start_time": "2025-03-07T04:43:49.769Z"
   },
   {
    "duration": 13,
    "start_time": "2025-03-07T04:43:49.782Z"
   },
   {
    "duration": 22,
    "start_time": "2025-03-07T04:43:49.796Z"
   },
   {
    "duration": 50,
    "start_time": "2025-03-07T04:43:49.819Z"
   },
   {
    "duration": 215,
    "start_time": "2025-03-07T04:43:49.871Z"
   },
   {
    "duration": 94,
    "start_time": "2025-03-07T04:43:50.087Z"
   },
   {
    "duration": 321,
    "start_time": "2025-03-07T04:43:50.183Z"
   },
   {
    "duration": 107,
    "start_time": "2025-03-07T04:43:50.506Z"
   },
   {
    "duration": 16,
    "start_time": "2025-03-07T04:43:50.615Z"
   },
   {
    "duration": 1889,
    "start_time": "2025-03-07T04:43:50.632Z"
   },
   {
    "duration": 714,
    "start_time": "2025-03-07T04:43:52.523Z"
   },
   {
    "duration": 16,
    "start_time": "2025-03-07T04:43:53.238Z"
   },
   {
    "duration": 307,
    "start_time": "2025-03-07T04:43:53.266Z"
   },
   {
    "duration": 306,
    "start_time": "2025-03-07T04:43:53.575Z"
   },
   {
    "duration": 227,
    "start_time": "2025-03-07T04:43:53.886Z"
   },
   {
    "duration": 4,
    "start_time": "2025-03-07T04:43:54.115Z"
   },
   {
    "duration": 156,
    "start_time": "2025-03-07T04:43:54.120Z"
   },
   {
    "duration": 31,
    "start_time": "2025-03-07T04:43:54.278Z"
   },
   {
    "duration": 271,
    "start_time": "2025-03-07T04:43:54.310Z"
   },
   {
    "duration": 284,
    "start_time": "2025-03-07T04:43:54.582Z"
   },
   {
    "duration": 58,
    "start_time": "2025-03-07T04:43:54.868Z"
   },
   {
    "duration": 65,
    "start_time": "2025-03-07T04:43:54.928Z"
   },
   {
    "duration": 52,
    "start_time": "2025-03-07T04:43:54.995Z"
   },
   {
    "duration": 72,
    "start_time": "2025-03-07T04:43:55.049Z"
   },
   {
    "duration": 13,
    "start_time": "2025-03-07T04:43:55.122Z"
   },
   {
    "duration": 63,
    "start_time": "2025-03-07T04:43:55.136Z"
   },
   {
    "duration": 56,
    "start_time": "2025-03-07T04:43:55.200Z"
   },
   {
    "duration": 16,
    "start_time": "2025-03-07T04:43:55.258Z"
   },
   {
    "duration": 129,
    "start_time": "2025-03-07T04:43:55.275Z"
   },
   {
    "duration": 121,
    "start_time": "2025-03-07T04:43:55.405Z"
   },
   {
    "duration": 584,
    "start_time": "2025-03-07T04:43:55.527Z"
   },
   {
    "duration": 116,
    "start_time": "2025-03-07T04:43:56.112Z"
   },
   {
    "duration": 0,
    "start_time": "2025-03-07T04:43:56.229Z"
   },
   {
    "duration": 0,
    "start_time": "2025-03-07T04:43:56.231Z"
   },
   {
    "duration": 0,
    "start_time": "2025-03-07T04:43:56.232Z"
   },
   {
    "duration": 81,
    "start_time": "2025-03-07T05:22:54.403Z"
   },
   {
    "duration": 13,
    "start_time": "2025-03-07T05:23:09.023Z"
   },
   {
    "duration": 13,
    "start_time": "2025-03-07T05:23:52.867Z"
   },
   {
    "duration": 11,
    "start_time": "2025-03-07T05:24:19.723Z"
   },
   {
    "duration": 12,
    "start_time": "2025-03-07T07:36:11.496Z"
   },
   {
    "duration": 13,
    "start_time": "2025-03-07T07:36:26.321Z"
   },
   {
    "duration": 3565,
    "start_time": "2025-03-07T07:36:45.476Z"
   },
   {
    "duration": 2153,
    "start_time": "2025-03-07T07:36:49.043Z"
   },
   {
    "duration": 29,
    "start_time": "2025-03-07T07:36:51.197Z"
   },
   {
    "duration": 109,
    "start_time": "2025-03-07T07:36:51.227Z"
   },
   {
    "duration": 6,
    "start_time": "2025-03-07T07:36:51.338Z"
   },
   {
    "duration": 11,
    "start_time": "2025-03-07T07:36:51.345Z"
   },
   {
    "duration": 16,
    "start_time": "2025-03-07T07:36:51.366Z"
   },
   {
    "duration": 16,
    "start_time": "2025-03-07T07:36:51.384Z"
   },
   {
    "duration": 45,
    "start_time": "2025-03-07T07:36:51.401Z"
   },
   {
    "duration": 7,
    "start_time": "2025-03-07T07:36:51.448Z"
   },
   {
    "duration": 39,
    "start_time": "2025-03-07T07:36:51.456Z"
   },
   {
    "duration": 20,
    "start_time": "2025-03-07T07:36:51.497Z"
   },
   {
    "duration": 32,
    "start_time": "2025-03-07T07:36:51.519Z"
   },
   {
    "duration": 9,
    "start_time": "2025-03-07T07:36:51.555Z"
   },
   {
    "duration": 31,
    "start_time": "2025-03-07T07:36:51.566Z"
   },
   {
    "duration": 7,
    "start_time": "2025-03-07T07:36:51.599Z"
   },
   {
    "duration": 40,
    "start_time": "2025-03-07T07:36:51.608Z"
   },
   {
    "duration": 218,
    "start_time": "2025-03-07T07:36:51.649Z"
   },
   {
    "duration": 14,
    "start_time": "2025-03-07T07:36:51.868Z"
   },
   {
    "duration": 24,
    "start_time": "2025-03-07T07:36:51.883Z"
   },
   {
    "duration": 88,
    "start_time": "2025-03-07T07:36:51.909Z"
   },
   {
    "duration": 83,
    "start_time": "2025-03-07T07:36:51.999Z"
   },
   {
    "duration": 7,
    "start_time": "2025-03-07T07:36:52.084Z"
   },
   {
    "duration": 44,
    "start_time": "2025-03-07T07:36:52.092Z"
   },
   {
    "duration": 35,
    "start_time": "2025-03-07T07:36:52.138Z"
   },
   {
    "duration": 35,
    "start_time": "2025-03-07T07:36:52.175Z"
   },
   {
    "duration": 19,
    "start_time": "2025-03-07T07:36:52.211Z"
   },
   {
    "duration": 69,
    "start_time": "2025-03-07T07:36:52.231Z"
   },
   {
    "duration": 32,
    "start_time": "2025-03-07T07:36:52.302Z"
   },
   {
    "duration": 19,
    "start_time": "2025-03-07T07:36:52.335Z"
   },
   {
    "duration": 242,
    "start_time": "2025-03-07T07:36:52.355Z"
   },
   {
    "duration": 90,
    "start_time": "2025-03-07T07:36:52.599Z"
   },
   {
    "duration": 346,
    "start_time": "2025-03-07T07:36:52.691Z"
   },
   {
    "duration": 93,
    "start_time": "2025-03-07T07:36:53.038Z"
   },
   {
    "duration": 14,
    "start_time": "2025-03-07T07:36:53.132Z"
   },
   {
    "duration": 1970,
    "start_time": "2025-03-07T07:36:53.147Z"
   },
   {
    "duration": 770,
    "start_time": "2025-03-07T07:36:55.118Z"
   },
   {
    "duration": 15,
    "start_time": "2025-03-07T07:36:55.890Z"
   },
   {
    "duration": 361,
    "start_time": "2025-03-07T07:36:55.907Z"
   },
   {
    "duration": 307,
    "start_time": "2025-03-07T07:36:56.270Z"
   },
   {
    "duration": 202,
    "start_time": "2025-03-07T07:36:56.581Z"
   },
   {
    "duration": 5,
    "start_time": "2025-03-07T07:36:56.784Z"
   },
   {
    "duration": 103,
    "start_time": "2025-03-07T07:36:56.790Z"
   },
   {
    "duration": 31,
    "start_time": "2025-03-07T07:36:56.895Z"
   },
   {
    "duration": 293,
    "start_time": "2025-03-07T07:36:56.928Z"
   },
   {
    "duration": 269,
    "start_time": "2025-03-07T07:36:57.222Z"
   },
   {
    "duration": 59,
    "start_time": "2025-03-07T07:36:57.493Z"
   },
   {
    "duration": 61,
    "start_time": "2025-03-07T07:36:57.553Z"
   },
   {
    "duration": 59,
    "start_time": "2025-03-07T07:36:57.616Z"
   },
   {
    "duration": 65,
    "start_time": "2025-03-07T07:36:57.676Z"
   },
   {
    "duration": 26,
    "start_time": "2025-03-07T07:36:57.742Z"
   },
   {
    "duration": 46,
    "start_time": "2025-03-07T07:36:57.770Z"
   },
   {
    "duration": 73,
    "start_time": "2025-03-07T07:36:57.817Z"
   },
   {
    "duration": 9,
    "start_time": "2025-03-07T07:36:57.892Z"
   },
   {
    "duration": 130,
    "start_time": "2025-03-07T07:36:57.902Z"
   },
   {
    "duration": 121,
    "start_time": "2025-03-07T07:36:58.034Z"
   },
   {
    "duration": 570,
    "start_time": "2025-03-07T07:36:58.157Z"
   },
   {
    "duration": 20,
    "start_time": "2025-03-07T07:36:58.728Z"
   },
   {
    "duration": 31,
    "start_time": "2025-03-07T07:36:58.750Z"
   },
   {
    "duration": 8,
    "start_time": "2025-03-07T07:36:58.783Z"
   },
   {
    "duration": 277,
    "start_time": "2025-03-07T07:36:58.792Z"
   },
   {
    "duration": 12,
    "start_time": "2025-03-07T07:38:52.448Z"
   },
   {
    "duration": 13,
    "start_time": "2025-03-07T07:39:24.717Z"
   },
   {
    "duration": 13,
    "start_time": "2025-03-07T07:42:08.316Z"
   },
   {
    "duration": 13,
    "start_time": "2025-03-07T07:45:27.956Z"
   },
   {
    "duration": 17,
    "start_time": "2025-03-07T07:50:12.748Z"
   },
   {
    "duration": 12,
    "start_time": "2025-03-07T07:50:42.988Z"
   },
   {
    "duration": 3646,
    "start_time": "2025-03-07T10:01:05.313Z"
   },
   {
    "duration": 2505,
    "start_time": "2025-03-07T10:01:08.962Z"
   },
   {
    "duration": 28,
    "start_time": "2025-03-07T10:01:11.469Z"
   },
   {
    "duration": 120,
    "start_time": "2025-03-07T10:01:11.499Z"
   },
   {
    "duration": 5,
    "start_time": "2025-03-07T10:01:11.622Z"
   },
   {
    "duration": 59,
    "start_time": "2025-03-07T10:01:11.629Z"
   },
   {
    "duration": 17,
    "start_time": "2025-03-07T10:01:11.690Z"
   },
   {
    "duration": 10,
    "start_time": "2025-03-07T10:01:11.709Z"
   },
   {
    "duration": 49,
    "start_time": "2025-03-07T10:01:11.721Z"
   },
   {
    "duration": 9,
    "start_time": "2025-03-07T10:01:11.772Z"
   },
   {
    "duration": 87,
    "start_time": "2025-03-07T10:01:11.783Z"
   },
   {
    "duration": 8,
    "start_time": "2025-03-07T10:01:11.872Z"
   },
   {
    "duration": 25,
    "start_time": "2025-03-07T10:01:11.882Z"
   },
   {
    "duration": 10,
    "start_time": "2025-03-07T10:01:11.910Z"
   },
   {
    "duration": 12,
    "start_time": "2025-03-07T10:01:11.921Z"
   },
   {
    "duration": 35,
    "start_time": "2025-03-07T10:01:11.935Z"
   },
   {
    "duration": 10,
    "start_time": "2025-03-07T10:01:11.972Z"
   },
   {
    "duration": 256,
    "start_time": "2025-03-07T10:01:11.984Z"
   },
   {
    "duration": 14,
    "start_time": "2025-03-07T10:01:12.242Z"
   },
   {
    "duration": 25,
    "start_time": "2025-03-07T10:01:12.267Z"
   },
   {
    "duration": 89,
    "start_time": "2025-03-07T10:01:12.294Z"
   },
   {
    "duration": 87,
    "start_time": "2025-03-07T10:01:12.384Z"
   },
   {
    "duration": 6,
    "start_time": "2025-03-07T10:01:12.473Z"
   },
   {
    "duration": 21,
    "start_time": "2025-03-07T10:01:12.481Z"
   },
   {
    "duration": 44,
    "start_time": "2025-03-07T10:01:12.503Z"
   },
   {
    "duration": 46,
    "start_time": "2025-03-07T10:01:12.549Z"
   },
   {
    "duration": 13,
    "start_time": "2025-03-07T10:01:12.596Z"
   },
   {
    "duration": 14,
    "start_time": "2025-03-07T10:01:12.610Z"
   },
   {
    "duration": 41,
    "start_time": "2025-03-07T10:01:12.626Z"
   },
   {
    "duration": 20,
    "start_time": "2025-03-07T10:01:12.669Z"
   },
   {
    "duration": 260,
    "start_time": "2025-03-07T10:01:12.691Z"
   },
   {
    "duration": 87,
    "start_time": "2025-03-07T10:01:12.952Z"
   },
   {
    "duration": 316,
    "start_time": "2025-03-07T10:01:13.041Z"
   },
   {
    "duration": 88,
    "start_time": "2025-03-07T10:01:13.359Z"
   },
   {
    "duration": 23,
    "start_time": "2025-03-07T10:01:13.449Z"
   },
   {
    "duration": 1975,
    "start_time": "2025-03-07T10:01:13.473Z"
   },
   {
    "duration": 725,
    "start_time": "2025-03-07T10:01:15.449Z"
   },
   {
    "duration": 19,
    "start_time": "2025-03-07T10:01:16.175Z"
   },
   {
    "duration": 382,
    "start_time": "2025-03-07T10:01:16.196Z"
   },
   {
    "duration": 328,
    "start_time": "2025-03-07T10:01:16.580Z"
   },
   {
    "duration": 221,
    "start_time": "2025-03-07T10:01:16.912Z"
   },
   {
    "duration": 3,
    "start_time": "2025-03-07T10:01:17.135Z"
   },
   {
    "duration": 101,
    "start_time": "2025-03-07T10:01:17.140Z"
   },
   {
    "duration": 37,
    "start_time": "2025-03-07T10:01:17.242Z"
   },
   {
    "duration": 291,
    "start_time": "2025-03-07T10:01:17.281Z"
   },
   {
    "duration": 263,
    "start_time": "2025-03-07T10:01:17.573Z"
   },
   {
    "duration": 71,
    "start_time": "2025-03-07T10:01:17.837Z"
   },
   {
    "duration": 59,
    "start_time": "2025-03-07T10:01:17.909Z"
   },
   {
    "duration": 52,
    "start_time": "2025-03-07T10:01:17.970Z"
   },
   {
    "duration": 75,
    "start_time": "2025-03-07T10:01:18.024Z"
   },
   {
    "duration": 13,
    "start_time": "2025-03-07T10:01:18.101Z"
   },
   {
    "duration": 64,
    "start_time": "2025-03-07T10:01:18.115Z"
   },
   {
    "duration": 61,
    "start_time": "2025-03-07T10:01:18.180Z"
   },
   {
    "duration": 9,
    "start_time": "2025-03-07T10:01:18.243Z"
   },
   {
    "duration": 123,
    "start_time": "2025-03-07T10:01:18.267Z"
   },
   {
    "duration": 129,
    "start_time": "2025-03-07T10:01:18.391Z"
   },
   {
    "duration": 607,
    "start_time": "2025-03-07T10:01:18.522Z"
   },
   {
    "duration": 23,
    "start_time": "2025-03-07T10:01:19.131Z"
   },
   {
    "duration": 26,
    "start_time": "2025-03-07T10:01:19.156Z"
   },
   {
    "duration": 8,
    "start_time": "2025-03-07T10:01:19.183Z"
   },
   {
    "duration": 338,
    "start_time": "2025-03-07T10:01:19.193Z"
   },
   {
    "duration": 18,
    "start_time": "2025-03-07T10:15:30.137Z"
   },
   {
    "duration": 19,
    "start_time": "2025-03-07T10:15:50.365Z"
   },
   {
    "duration": 16,
    "start_time": "2025-03-07T10:16:08.766Z"
   },
   {
    "duration": 17,
    "start_time": "2025-03-07T10:16:26.942Z"
   },
   {
    "duration": 17,
    "start_time": "2025-03-07T10:42:10.737Z"
   },
   {
    "duration": 18,
    "start_time": "2025-03-07T10:42:48.213Z"
   },
   {
    "duration": 119,
    "start_time": "2025-03-07T10:43:33.076Z"
   },
   {
    "duration": 17,
    "start_time": "2025-03-07T10:43:45.683Z"
   },
   {
    "duration": 3743,
    "start_time": "2025-03-07T12:41:15.932Z"
   },
   {
    "duration": 2618,
    "start_time": "2025-03-07T12:41:19.678Z"
   },
   {
    "duration": 28,
    "start_time": "2025-03-07T12:41:22.297Z"
   },
   {
    "duration": 158,
    "start_time": "2025-03-07T12:41:22.327Z"
   },
   {
    "duration": 6,
    "start_time": "2025-03-07T12:41:22.486Z"
   },
   {
    "duration": 28,
    "start_time": "2025-03-07T12:41:22.494Z"
   },
   {
    "duration": 11,
    "start_time": "2025-03-07T12:41:22.524Z"
   },
   {
    "duration": 8,
    "start_time": "2025-03-07T12:41:22.536Z"
   },
   {
    "duration": 49,
    "start_time": "2025-03-07T12:41:22.546Z"
   },
   {
    "duration": 8,
    "start_time": "2025-03-07T12:41:22.597Z"
   },
   {
    "duration": 26,
    "start_time": "2025-03-07T12:41:22.607Z"
   },
   {
    "duration": 8,
    "start_time": "2025-03-07T12:41:22.635Z"
   },
   {
    "duration": 41,
    "start_time": "2025-03-07T12:41:22.645Z"
   },
   {
    "duration": 9,
    "start_time": "2025-03-07T12:41:22.688Z"
   },
   {
    "duration": 13,
    "start_time": "2025-03-07T12:41:22.699Z"
   },
   {
    "duration": 10,
    "start_time": "2025-03-07T12:41:22.714Z"
   },
   {
    "duration": 12,
    "start_time": "2025-03-07T12:41:22.726Z"
   },
   {
    "duration": 280,
    "start_time": "2025-03-07T12:41:22.739Z"
   },
   {
    "duration": 14,
    "start_time": "2025-03-07T12:41:23.020Z"
   },
   {
    "duration": 40,
    "start_time": "2025-03-07T12:41:23.036Z"
   },
   {
    "duration": 73,
    "start_time": "2025-03-07T12:41:23.078Z"
   },
   {
    "duration": 82,
    "start_time": "2025-03-07T12:41:23.152Z"
   },
   {
    "duration": 6,
    "start_time": "2025-03-07T12:41:23.236Z"
   },
   {
    "duration": 24,
    "start_time": "2025-03-07T12:41:23.243Z"
   },
   {
    "duration": 36,
    "start_time": "2025-03-07T12:41:23.269Z"
   },
   {
    "duration": 37,
    "start_time": "2025-03-07T12:41:23.307Z"
   },
   {
    "duration": 29,
    "start_time": "2025-03-07T12:41:23.346Z"
   },
   {
    "duration": 13,
    "start_time": "2025-03-07T12:41:23.379Z"
   },
   {
    "duration": 19,
    "start_time": "2025-03-07T12:41:23.393Z"
   },
   {
    "duration": 20,
    "start_time": "2025-03-07T12:41:23.414Z"
   },
   {
    "duration": 254,
    "start_time": "2025-03-07T12:41:23.435Z"
   },
   {
    "duration": 96,
    "start_time": "2025-03-07T12:41:23.690Z"
   },
   {
    "duration": 370,
    "start_time": "2025-03-07T12:41:23.787Z"
   },
   {
    "duration": 86,
    "start_time": "2025-03-07T12:41:24.159Z"
   },
   {
    "duration": 25,
    "start_time": "2025-03-07T12:41:24.246Z"
   },
   {
    "duration": 1947,
    "start_time": "2025-03-07T12:41:24.272Z"
   },
   {
    "duration": 727,
    "start_time": "2025-03-07T12:41:26.221Z"
   },
   {
    "duration": 24,
    "start_time": "2025-03-07T12:41:26.949Z"
   },
   {
    "duration": 345,
    "start_time": "2025-03-07T12:41:26.975Z"
   },
   {
    "duration": 357,
    "start_time": "2025-03-07T12:41:27.322Z"
   },
   {
    "duration": 213,
    "start_time": "2025-03-07T12:41:27.681Z"
   },
   {
    "duration": 4,
    "start_time": "2025-03-07T12:41:27.896Z"
   },
   {
    "duration": 101,
    "start_time": "2025-03-07T12:41:27.901Z"
   },
   {
    "duration": 34,
    "start_time": "2025-03-07T12:41:28.003Z"
   },
   {
    "duration": 318,
    "start_time": "2025-03-07T12:41:28.039Z"
   },
   {
    "duration": 269,
    "start_time": "2025-03-07T12:41:28.358Z"
   },
   {
    "duration": 64,
    "start_time": "2025-03-07T12:41:28.628Z"
   },
   {
    "duration": 52,
    "start_time": "2025-03-07T12:41:28.694Z"
   },
   {
    "duration": 62,
    "start_time": "2025-03-07T12:41:28.747Z"
   },
   {
    "duration": 72,
    "start_time": "2025-03-07T12:41:28.811Z"
   },
   {
    "duration": 14,
    "start_time": "2025-03-07T12:41:28.885Z"
   },
   {
    "duration": 43,
    "start_time": "2025-03-07T12:41:28.901Z"
   },
   {
    "duration": 77,
    "start_time": "2025-03-07T12:41:28.946Z"
   },
   {
    "duration": 10,
    "start_time": "2025-03-07T12:41:29.024Z"
   },
   {
    "duration": 132,
    "start_time": "2025-03-07T12:41:29.037Z"
   },
   {
    "duration": 127,
    "start_time": "2025-03-07T12:41:29.171Z"
   },
   {
    "duration": 628,
    "start_time": "2025-03-07T12:41:29.299Z"
   },
   {
    "duration": 25,
    "start_time": "2025-03-07T12:41:29.929Z"
   },
   {
    "duration": 17,
    "start_time": "2025-03-07T12:41:29.967Z"
   },
   {
    "duration": 11,
    "start_time": "2025-03-07T12:41:29.985Z"
   },
   {
    "duration": 339,
    "start_time": "2025-03-07T12:41:29.998Z"
   },
   {
    "duration": 27,
    "start_time": "2025-03-07T12:47:59.059Z"
   },
   {
    "duration": 64,
    "start_time": "2025-03-07T12:49:02.131Z"
   },
   {
    "duration": 137,
    "start_time": "2025-03-07T12:50:43.099Z"
   },
   {
    "duration": 3806,
    "start_time": "2025-03-07T13:00:20.097Z"
   },
   {
    "duration": 2926,
    "start_time": "2025-03-07T13:00:23.916Z"
   },
   {
    "duration": 30,
    "start_time": "2025-03-07T13:00:26.843Z"
   },
   {
    "duration": 126,
    "start_time": "2025-03-07T13:00:26.875Z"
   },
   {
    "duration": 6,
    "start_time": "2025-03-07T13:00:27.003Z"
   },
   {
    "duration": 35,
    "start_time": "2025-03-07T13:00:27.010Z"
   },
   {
    "duration": 33,
    "start_time": "2025-03-07T13:00:27.047Z"
   },
   {
    "duration": 33,
    "start_time": "2025-03-07T13:00:27.082Z"
   },
   {
    "duration": 81,
    "start_time": "2025-03-07T13:00:27.117Z"
   },
   {
    "duration": 8,
    "start_time": "2025-03-07T13:00:27.200Z"
   },
   {
    "duration": 35,
    "start_time": "2025-03-07T13:00:27.210Z"
   },
   {
    "duration": 25,
    "start_time": "2025-03-07T13:00:27.247Z"
   },
   {
    "duration": 33,
    "start_time": "2025-03-07T13:00:27.274Z"
   },
   {
    "duration": 22,
    "start_time": "2025-03-07T13:00:27.312Z"
   },
   {
    "duration": 32,
    "start_time": "2025-03-07T13:00:27.336Z"
   },
   {
    "duration": 7,
    "start_time": "2025-03-07T13:00:27.370Z"
   },
   {
    "duration": 11,
    "start_time": "2025-03-07T13:00:27.379Z"
   },
   {
    "duration": 258,
    "start_time": "2025-03-07T13:00:27.392Z"
   },
   {
    "duration": 22,
    "start_time": "2025-03-07T13:00:27.651Z"
   },
   {
    "duration": 36,
    "start_time": "2025-03-07T13:00:27.675Z"
   },
   {
    "duration": 83,
    "start_time": "2025-03-07T13:00:27.713Z"
   },
   {
    "duration": 85,
    "start_time": "2025-03-07T13:00:27.798Z"
   },
   {
    "duration": 7,
    "start_time": "2025-03-07T13:00:27.885Z"
   },
   {
    "duration": 27,
    "start_time": "2025-03-07T13:00:27.894Z"
   },
   {
    "duration": 86,
    "start_time": "2025-03-07T13:00:27.922Z"
   },
   {
    "duration": 60,
    "start_time": "2025-03-07T13:00:28.009Z"
   },
   {
    "duration": 12,
    "start_time": "2025-03-07T13:00:28.071Z"
   },
   {
    "duration": 95,
    "start_time": "2025-03-07T13:00:28.085Z"
   },
   {
    "duration": 25,
    "start_time": "2025-03-07T13:00:28.183Z"
   },
   {
    "duration": 23,
    "start_time": "2025-03-07T13:00:28.209Z"
   },
   {
    "duration": 273,
    "start_time": "2025-03-07T13:00:28.234Z"
   },
   {
    "duration": 113,
    "start_time": "2025-03-07T13:00:28.509Z"
   },
   {
    "duration": 362,
    "start_time": "2025-03-07T13:00:28.624Z"
   },
   {
    "duration": 98,
    "start_time": "2025-03-07T13:00:28.988Z"
   },
   {
    "duration": 18,
    "start_time": "2025-03-07T13:00:29.087Z"
   },
   {
    "duration": 2274,
    "start_time": "2025-03-07T13:00:29.107Z"
   },
   {
    "duration": 789,
    "start_time": "2025-03-07T13:00:31.382Z"
   },
   {
    "duration": 17,
    "start_time": "2025-03-07T13:00:32.173Z"
   },
   {
    "duration": 383,
    "start_time": "2025-03-07T13:00:32.192Z"
   },
   {
    "duration": 394,
    "start_time": "2025-03-07T13:00:32.578Z"
   },
   {
    "duration": 219,
    "start_time": "2025-03-07T13:00:32.977Z"
   },
   {
    "duration": 5,
    "start_time": "2025-03-07T13:00:33.198Z"
   },
   {
    "duration": 110,
    "start_time": "2025-03-07T13:00:33.205Z"
   },
   {
    "duration": 51,
    "start_time": "2025-03-07T13:00:33.317Z"
   },
   {
    "duration": 282,
    "start_time": "2025-03-07T13:00:33.369Z"
   },
   {
    "duration": 329,
    "start_time": "2025-03-07T13:00:33.653Z"
   },
   {
    "duration": 64,
    "start_time": "2025-03-07T13:00:33.984Z"
   },
   {
    "duration": 71,
    "start_time": "2025-03-07T13:00:34.050Z"
   },
   {
    "duration": 95,
    "start_time": "2025-03-07T13:00:34.123Z"
   },
   {
    "duration": 73,
    "start_time": "2025-03-07T13:00:34.220Z"
   },
   {
    "duration": 13,
    "start_time": "2025-03-07T13:00:34.295Z"
   },
   {
    "duration": 24,
    "start_time": "2025-03-07T13:00:34.310Z"
   },
   {
    "duration": 85,
    "start_time": "2025-03-07T13:00:34.336Z"
   },
   {
    "duration": 9,
    "start_time": "2025-03-07T13:00:34.423Z"
   },
   {
    "duration": 283,
    "start_time": "2025-03-07T13:00:34.433Z"
   },
   {
    "duration": 123,
    "start_time": "2025-03-07T13:00:34.718Z"
   },
   {
    "duration": 593,
    "start_time": "2025-03-07T13:00:34.842Z"
   },
   {
    "duration": 35,
    "start_time": "2025-03-07T13:00:35.437Z"
   },
   {
    "duration": 33,
    "start_time": "2025-03-07T13:00:35.474Z"
   },
   {
    "duration": 28,
    "start_time": "2025-03-07T13:00:35.508Z"
   },
   {
    "duration": 333,
    "start_time": "2025-03-07T13:00:35.538Z"
   }
  ],
  "colab": {
   "provenance": []
  },
  "kernelspec": {
   "display_name": "Python 3 (ipykernel)",
   "language": "python",
   "name": "python3"
  },
  "language_info": {
   "codemirror_mode": {
    "name": "ipython",
    "version": 3
   },
   "file_extension": ".py",
   "mimetype": "text/x-python",
   "name": "python",
   "nbconvert_exporter": "python",
   "pygments_lexer": "ipython3",
   "version": "3.9.5"
  },
  "toc": {
   "base_numbering": 1,
   "nav_menu": {},
   "number_sections": true,
   "sideBar": true,
   "skip_h1_title": true,
   "title_cell": "Table of Contents",
   "title_sidebar": "Contents",
   "toc_cell": false,
   "toc_position": {},
   "toc_section_display": true,
   "toc_window_display": false
  }
 },
 "nbformat": 4,
 "nbformat_minor": 1
}
